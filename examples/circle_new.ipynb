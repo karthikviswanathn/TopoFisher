{
 "cells": [
  {
   "cell_type": "code",
   "execution_count": 1,
   "id": "998032bf-b5b9-4305-9bb9-6593bf215d4f",
   "metadata": {},
   "outputs": [
    {
     "name": "stderr",
     "output_type": "stream",
     "text": [
      "2023-11-07 16:37:11.567100: I tensorflow/core/platform/cpu_feature_guard.cc:193] This TensorFlow binary is optimized with oneAPI Deep Neural Network Library (oneDNN) to use the following CPU instructions in performance-critical operations:  SSE4.1 SSE4.2 AVX AVX2 FMA\n",
      "To enable them in other operations, rebuild TensorFlow with the appropriate compiler flags.\n",
      "2023-11-07 16:37:15.020118: I tensorflow/core/platform/cpu_feature_guard.cc:193] This TensorFlow binary is optimized with oneAPI Deep Neural Network Library (oneDNN) to use the following CPU instructions in performance-critical operations:  SSE4.1 SSE4.2 AVX AVX2 FMA\n",
      "To enable them in other operations, rebuild TensorFlow with the appropriate compiler flags.\n"
     ]
    }
   ],
   "source": [
    "import tensorflow as tf\n",
    "import numpy as np\n",
    "import matplotlib.pyplot as plt\n",
    "import tqdm\n",
    "from tqdm import tqdm\n",
    "import matplotlib.colors as mcolors\n",
    "from copy import deepcopy\n",
    "from gudhi.representations import Landscape, PersistenceImage\n",
    "\n",
    "from topofisher.input_simulators.noisy_ring import CircleSimulator\n",
    "\n",
    "from topofisher.filtrations.numpy.alphaDTML import AlphaDTMLayer\n",
    "from topofisher.filtrations.numpy.default_filtrations import RipsFiltration\n",
    "\n",
    "from topofisher.vectorizations.numpy.custom_vectorizations import TOPK\n",
    "\n",
    "from topofisher.vectorizations.numpy.order_statistics import OrderStatistics\n",
    "from topofisher.vectorizations.numpy.vectorization_layer import VectorizationLayers\n",
    "from topofisher.vectorizations.numpy.shorthand_layers import PersistenceImages, PersistenceLandscapes\n",
    "\n",
    "from topofisher.fisher.Fisher import show_fm_and_bias, fisherFromVecs, fisherMOPED\n",
    "from topofisher.fisher.imnn import FisherLayer, IMNNLayer, MopedLayer, ExtraDimLayer\n",
    "from topofisher.fisher.plot_fisher_stats import plotContours2D, plotSummaryDerivativeHists, plot_derivative_convergence\n",
    "\n",
    "\n",
    "from topofisher.pipelines.circle import CirclePipeline\n",
    "from topofisher.pipelines.convergence_checks import fisher_estimates_wrt_step_size\n",
    "from topofisher.pipelines.utils import readFromFile, writeToFile"
   ]
  },
  {
   "cell_type": "markdown",
   "id": "abe97bc2-9c30-442b-bbce-77f8dceed26a",
   "metadata": {
    "tags": []
   },
   "source": [
    "## Importlib"
   ]
  },
  {
   "cell_type": "code",
   "execution_count": 134,
   "id": "57d76f7a-fc54-490f-895f-f0c77ea403d9",
   "metadata": {},
   "outputs": [],
   "source": [
    "import importlib\n",
    "import topofisher\n",
    "importlib.reload(topofisher.fisher.Fisher)\n",
    "importlib.reload(topofisher.fisher.imnn)\n",
    "importlib.reload(topofisher.vectorizations.numpy.order_statistics)\n",
    "importlib.reload(topofisher.filtrations.numpy.filtration_layers)\n",
    "importlib.reload(topofisher.filtrations.numpy.alphaDTML)\n",
    "importlib.reload(topofisher.input_simulators.noisy_ring)\n",
    "importlib.reload(topofisher.pipelines.pipeline)\n",
    "importlib.reload(topofisher.pipelines.circle)\n",
    "\n",
    "from topofisher.input_simulators.noisy_ring import CircleSimulator\n",
    "\n",
    "from topofisher.filtrations.numpy.alphaDTML import AlphaDTMLayer\n",
    "from topofisher.filtrations.numpy.default_filtrations import RipsFiltration, AlphaFiltration\n",
    "\n",
    "from topofisher.vectorizations.numpy.order_statistics import OrderStatistics\n",
    "from topofisher.vectorizations.numpy.custom_vectorizations import TOPK\n",
    "from topofisher.vectorizations.numpy.vectorization_layer import VectorizationLayers\n",
    "from topofisher.vectorizations.numpy.shorthand_layers import PersistenceImages, PersistenceLandscapes\n",
    "\n",
    "importlib.reload(topofisher.fisher.imnn)\n",
    "from topofisher.fisher.imnn import IMNNLayer, FisherLayer, MopedLayer, ExtraDimLayer\n",
    "from topofisher.fisher.plot_fisher_stats import plotContours2D, plotSummaryDerivativeHists, plot_derivative_convergence\n",
    "\n",
    "\n",
    "from topofisher.pipelines.circle import CirclePipeline"
   ]
  },
  {
   "cell_type": "markdown",
   "id": "c47c5cac-9e8b-4a87-910d-4407451c49e1",
   "metadata": {
    "tags": []
   },
   "source": [
    "## Rough"
   ]
  },
  {
   "cell_type": "markdown",
   "id": "62008252-77bb-4655-85be-679bbf8651e9",
   "metadata": {},
   "source": [
    "### AlphaComplex"
   ]
  },
  {
   "cell_type": "code",
   "execution_count": null,
   "id": "16917d3f-5de8-47a7-8de7-50215dc9033c",
   "metadata": {},
   "outputs": [],
   "source": [
    "vectorizations = [OrderStatistics(bdp_type = \"bd\", is_binned = True, num_bins = [25, 5]), \\\n",
    "                  OrderStatistics(bdp_type = \"bd\", is_binned = True, num_bins = [3, 3])]\n",
    "\n",
    "vecLayer = VectorizationLayers(vectorizations = vectorizations)\n",
    "fisherLayer = MopedLayer()\n",
    "circle_pipeline = CirclePipeline(ncirc= 200, nback = 20, bgmAvg = 1., n_s = 4000, n_d = 4000, \\\n",
    "                                 theta_fid = tf.constant([1., 0.2]), delta_theta = tf.constant([0.1, 0.02]),\\\n",
    "                                 filtLayer = AlphaFiltration(max_hom_dim = 2, hom_dim_list = [0, 1], show_tqdm = True),\n",
    "                                 vecLayer = vecLayer, fisherLayer = fisherLayer, find_derivative = [True, True])\n",
    "# circle_pipeline.run_pipeline()"
   ]
  },
  {
   "cell_type": "markdown",
   "id": "18a43186-df6b-4d8c-b5c7-f12be06910d1",
   "metadata": {},
   "source": [
    "#### Standard Fisher + Unbinned"
   ]
  },
  {
   "cell_type": "code",
   "execution_count": 108,
   "id": "f98862b4-02ac-4aaf-bde3-99ace4ea51bc",
   "metadata": {},
   "outputs": [
    {
     "name": "stdout",
     "output_type": "stream",
     "text": [
      "log FI =  15.43\n",
      "FM =  [1200.71 1049.1  1049.1  5094.95]\n",
      "Fractional bias =  [0.08 0.23]\n",
      "Constraints =  [0.03186765 0.01547031]\n"
     ]
    }
   ],
   "source": [
    "vectorizations = [OrderStatistics(bdp_type = \"d\", is_binned = False), \\\n",
    "                 OrderStatistics(bdp_type = \"bdp\", is_binned = False)\n",
    "                 ]\n",
    "\n",
    "vecLayer = VectorizationLayers(vectorizations = vectorizations, pds_idx_list = [0, 1])\n",
    "fisherLayer = FisherLayer()\n",
    "fish = circle_pipeline.vectorize_and_fisher(vecLayer, fisherLayer)\n",
    "show_fm_and_bias(fish)"
   ]
  },
  {
   "cell_type": "code",
   "execution_count": 145,
   "id": "f88767ce-e854-4fb5-afea-ee18cbffca12",
   "metadata": {},
   "outputs": [
    {
     "name": "stdout",
     "output_type": "stream",
     "text": [
      "log FI =  10.02\n",
      "FM =  [ 238.83  779.07  779.07 2635.6 ]\n",
      "Fractional bias =  [0.07 0.07]\n",
      "Constraints =  [0.34204796 0.10296642]\n"
     ]
    }
   ],
   "source": [
    "vectorizations = [OrderStatistics(bdp_type = \"d\", is_binned = False), \\\n",
    "                 #OrderStatistics(bdp_type = \"bdp\", is_binned = False)\n",
    "                 ]\n",
    "\n",
    "vecLayer = VectorizationLayers(vectorizations = vectorizations, pds_idx_list = [0])\n",
    "fisherLayer = MopedLayer(compression_frac = 0.8)\n",
    "fish = circle_pipeline.vectorize_and_fisher(vecLayer, fisherLayer)\n",
    "show_fm_and_bias(fish)"
   ]
  },
  {
   "cell_type": "code",
   "execution_count": 125,
   "id": "68153e84-c745-4ea8-93e5-b90292b057d1",
   "metadata": {},
   "outputs": [
    {
     "name": "stdout",
     "output_type": "stream",
     "text": [
      "log FI =  13.12\n",
      "FM =  [ 388.24  399.33  399.33 1691.47]\n",
      "Fractional bias =  [0. 0.]\n",
      "Constraints =  [0.05832493 0.02794279]\n"
     ]
    }
   ],
   "source": [
    "vectorizations = [#OrderStatistics(bdp_type = \"bdp\", is_binned = False), \\\n",
    "                 OrderStatistics(bdp_type = \"bp\", is_binned = False)\n",
    "                 ]\n",
    "\n",
    "vecLayer = VectorizationLayers(vectorizations = vectorizations, pds_idx_list = [1])\n",
    "fisherLayer = MopedLayer(compression_frac = 0.5)\n",
    "fish = circle_pipeline.vectorize_and_fisher(vecLayer, fisherLayer)\n",
    "show_fm_and_bias(fish)"
   ]
  },
  {
   "cell_type": "code",
   "execution_count": 133,
   "id": "eb12a6b0-620e-467f-920b-a89dd9d6aebf",
   "metadata": {},
   "outputs": [
    {
     "name": "stdout",
     "output_type": "stream",
     "text": [
      "log FI =  13.09\n",
      "FM =  [ 336.43  642.53  642.53 2668.62]\n",
      "Fractional bias =  [0. 0.]\n",
      "Constraints =  [0.07418023 0.02633853]\n"
     ]
    }
   ],
   "source": [
    "vectorizations = [#OrderStatistics(bdp_type = \"bdp\", is_binned = False), \\\n",
    "                 OrderStatistics(bdp_type = \"bp\", is_binned = True, num_bins = [2,1])\n",
    "                 ]\n",
    "\n",
    "vecLayer = VectorizationLayers(vectorizations = vectorizations, pds_idx_list = [1])\n",
    "# fisherLayer = MopedLayer(compression_frac = 0.5)\n",
    "fisherLayer = FisherLayer()\n",
    "fish = circle_pipeline.vectorize_and_fisher(vecLayer, fisherLayer)\n",
    "show_fm_and_bias(fish)"
   ]
  },
  {
   "cell_type": "code",
   "execution_count": 129,
   "id": "94636532-74a4-4a69-86ef-17d86259f23c",
   "metadata": {},
   "outputs": [
    {
     "name": "stdout",
     "output_type": "stream",
     "text": [
      "Plotting only the first 4 dimensions. Can't plot so many               histograms for aesthetic purposes.\n"
     ]
    },
    {
     "data": {
      "image/png": "[encoded data removed]",
      "text/plain": [
       "<Figure size 1100x300 with 4 Axes>"
      ]
     },
     "metadata": {},
     "output_type": "display_data"
    },
    {
     "data": {
      "image/png": "[encoded data removed]",
      "text/plain": [
       "<Figure size 2200x300 with 8 Axes>"
      ]
     },
     "metadata": {},
     "output_type": "display_data"
    }
   ],
   "source": [
    "plotSummaryDerivativeHists(fish)"
   ]
  },
  {
   "cell_type": "markdown",
   "id": "f134769c-b597-4ba8-ad57-313929d9695f",
   "metadata": {
    "tags": []
   },
   "source": [
    "### DTMRipsComplex"
   ]
  },
  {
   "cell_type": "code",
   "execution_count": 29,
   "id": "2badc610-29bc-4c94-9b3a-379afd3fd70b",
   "metadata": {},
   "outputs": [],
   "source": [
    "\n",
    "\n"
   ]
  },
  {
   "cell_type": "code",
   "execution_count": null,
   "id": "aba68672-3b9d-426e-9fac-b6b1a872ce08",
   "metadata": {},
   "outputs": [],
   "source": [
    "vectorizations = [TOPK(bdp_type = \"bd\", is_binned = False, topk = 109), TOPK(bdp_type = \"bd\", is_binned = True, topk = 11, num_bins = 5)]\n",
    "\n",
    "vecLayer = VectorizationLayers(vectorizations = vectorizations)\n",
    "fisherLayer = MopedLayer()\n",
    "circle_pipeline = CirclePipeline(ncirc = 100, nback = 10, bgmAvg = 1., n_s = 100, n_d = 100, \\\n",
    "                                 theta_fid = tf.constant([1., 0.2]), delta_theta = tf.constant([0.01, 0.002]),\\\n",
    "                                 filtLayer = DTMRipsFiltration(num_nn = 100, collapse_edges = True, max_hom_dim = 2, hom_dim_list = [0, 1], show_tqdm = True),\n",
    "                                 vecLayer = vecLayer, fisherLayer = None, find_derivative = [True, True])\n",
    "circle_pipeline.run_pipeline(seed_cov = 1, seed_ders = [2, 3])\n",
    "v1 = circle_pipeline.all_vecs"
   ]
  },
  {
   "cell_type": "code",
   "execution_count": 66,
   "id": "9fef9f2a-0b83-4025-8c28-4e4d4d650f62",
   "metadata": {},
   "outputs": [],
   "source": [
    "filtLayer = DTMRipsFiltration(num_nn = 100, collapse_edges = True, max_hom_dim = 2,\\\n",
    "                              hom_dim_list = [0, 1], show_tqdm = False)\n",
    "stsm = filtLayer.find_simplex_trees(circle_pipeline.all_pts[1][:10])\n",
    "stsp = filtLayer.find_simplex_trees(circle_pipeline.all_pts[2][:10])"
   ]
  },
  {
   "cell_type": "code",
   "execution_count": 67,
   "id": "accfea9d-9187-480a-b712-636902b453db",
   "metadata": {},
   "outputs": [],
   "source": [
    "ppsm = [item.persistence_pairs() for item in stsm]\n",
    "ppsp = [item.persistence_pairs() for item in stsp]"
   ]
  },
  {
   "cell_type": "code",
   "execution_count": 75,
   "id": "06bfc7a3-b44d-4089-bfe7-5cbbfcab2a71",
   "metadata": {},
   "outputs": [],
   "source": [
    "simplices_m = [item.get_simplices() for item in stsm]\n",
    "simplices_p = [item.get_simplices() for item in stsp]"
   ]
  },
  {
   "cell_type": "code",
   "execution_count": 74,
   "id": "226f7064-ab7f-4be1-895e-a512c36c2296",
   "metadata": {},
   "outputs": [
    {
     "name": "stdout",
     "output_type": "stream",
     "text": [
      "([51, 25], [52, 51, 32])\n",
      "([56, 27], [104, 77, 51])\n",
      "([73, 37], [96, 67, 19])\n",
      "([51, 25], [52, 32, 25])\n",
      "([56, 27], [104, 77, 49])\n",
      "([73, 37], [96, 73, 60])\n"
     ]
    }
   ],
   "source": [
    "idx = np.random.randint(10)\n",
    "for item in ppsm[idx]:\n",
    "    if item not in ppsp[idx]: print(item)\n",
    "    \n",
    "\n",
    "for item in ppsp[idx]:\n",
    "    if item not in ppsm[idx]: print(item)"
   ]
  },
  {
   "cell_type": "code",
   "execution_count": 82,
   "id": "adf46b7e-b0db-4a06-adf6-9c252f23e958",
   "metadata": {},
   "outputs": [
    {
     "name": "stdout",
     "output_type": "stream",
     "text": [
      "[0, 9]\n",
      "[24, 34, 99]\n",
      "[28, 92]\n",
      "[34, 77, 99]\n",
      "[34, 99]\n",
      "[24, 34, 77]\n",
      "[24, 77, 99]\n",
      "[24, 77]\n",
      "[92, 93]\n"
     ]
    }
   ],
   "source": [
    "idx = np.random.randint(10)\n",
    "\n",
    "slp = [item[0] for item in simplices_p[idx]]\n",
    "slm = [item[0] for item in simplices_m[idx]]\n",
    "for item in slp:\n",
    "    if item not in slm: print(item)\n",
    "for item in slm:\n",
    "    if item not in slp: print(item)"
   ]
  },
  {
   "cell_type": "code",
   "execution_count": 34,
   "id": "fbdf9f80-7877-4cf4-9064-f14166079450",
   "metadata": {},
   "outputs": [
    {
     "data": {
      "text/plain": [
       "array([[ 2.1339619e+03, -3.9488636e-02],\n",
       "       [-3.9488636e-02,  3.4725178e+03]], dtype=float32)"
      ]
     },
     "execution_count": 34,
     "metadata": {},
     "output_type": "execute_result"
    }
   ],
   "source": [
    "circle_pipeline.collect_benchmarks()\n",
    "circle_pipeline.benchmarks['TFM']"
   ]
  },
  {
   "cell_type": "code",
   "execution_count": null,
   "id": "b23ac523-9611-45dd-8b42-cff4ac70edcc",
   "metadata": {},
   "outputs": [],
   "source": []
  },
  {
   "cell_type": "code",
   "execution_count": 43,
   "id": "b243ece3-d6af-4368-8321-51ec1b7bf793",
   "metadata": {},
   "outputs": [
    {
     "data": {
      "text/plain": [
       "(109, 2)"
      ]
     },
     "execution_count": 43,
     "metadata": {},
     "output_type": "execute_result"
    }
   ],
   "source": [
    "circle_pipeline.all_persistence_diagrams[0][0][0].shape"
   ]
  },
  {
   "cell_type": "code",
   "execution_count": 45,
   "id": "0ab028ce-2cb6-4c69-8d2b-44212bd61289",
   "metadata": {},
   "outputs": [
    {
     "name": "stdout",
     "output_type": "stream",
     "text": [
      "log FI =  15.6\n",
      "FM =  [1943.89  216.04  216.04 3090.3 ]\n",
      "Fractional bias =  [0.03 0.28]\n",
      "Constraints =  [0.02276975 0.01805898]\n"
     ]
    }
   ],
   "source": [
    "vectorizations = [TOPK(bdp_type = \"bdp\", is_binned = False, topk = 109), TOPK(bdp_type = \"bdp\", is_binned = False, topk = 1)]\n",
    "vecLayer = VectorizationLayers(vectorizations = vectorizations)\n",
    "fisherLayer = FisherLayer()\n",
    "fish = circle_pipeline.vectorize_and_fisher(vecLayer, fisherLayer)\n",
    "show_fm_and_bias(fish)"
   ]
  },
  {
   "cell_type": "code",
   "execution_count": 46,
   "id": "a06af6c7-47b8-4fad-9111-9169ddb62186",
   "metadata": {},
   "outputs": [
    {
     "name": "stdout",
     "output_type": "stream",
     "text": [
      "log FI =  12.5\n",
      "FM =  [576.12  48.32  48.32 469.57]\n",
      "Fractional bias =  [0.   0.02]\n",
      "Constraints =  [0.04184317 0.04634812]\n"
     ]
    }
   ],
   "source": [
    "fisherLayer = MopedLayer()\n",
    "fish = circle_pipeline.vectorize_and_fisher(vecLayer, fisherLayer)\n",
    "show_fm_and_bias(fish)"
   ]
  },
  {
   "cell_type": "code",
   "execution_count": 31,
   "id": "45986fc4-3db8-42e7-ae51-3630d54ab9ed",
   "metadata": {},
   "outputs": [
    {
     "name": "stdout",
     "output_type": "stream",
     "text": [
      "log FI =  15.15\n",
      "FM =  [1849.82  249.72  249.72 2081.44]\n",
      "Fractional bias =  [0.   0.03]\n",
      "Constraints =  [0.02344128 0.02209852]\n"
     ]
    }
   ],
   "source": [
    "show_fm_and_bias(FisherLayer().computeFisher(circle_pipeline.all_vecs, circle_pipeline.delta_theta))"
   ]
  },
  {
   "cell_type": "code",
   "execution_count": 32,
   "id": "74b64186-377d-475b-9981-9829e70cd37d",
   "metadata": {},
   "outputs": [
    {
     "name": "stdout",
     "output_type": "stream",
     "text": [
      "log FI =  14.83\n",
      "FM =  [1745.09  171.21  171.21 1594.75]\n",
      "Fractional bias =  [0. 0.]\n",
      "Constraints =  [0.02406523 0.025174  ]\n"
     ]
    }
   ],
   "source": [
    "show_fm_and_bias(MopedLayer().computeFisher(circle_pipeline.all_vecs, circle_pipeline.delta_theta))"
   ]
  },
  {
   "cell_type": "markdown",
   "id": "d12f4a9f-315c-44b1-b812-7f1b6b92a18a",
   "metadata": {},
   "source": [
    "### Order statistics"
   ]
  },
  {
   "cell_type": "code",
   "execution_count": null,
   "id": "f7ba160f-be53-479f-96d9-3c5a77ba0ac8",
   "metadata": {},
   "outputs": [],
   "source": [
    "circle_pipeline = readFromFile(\"/Users/karthikviswanathan/Downloads/imph/circle_pipelines/pipeline_m_p9_ns_4K.pkl\")"
   ]
  },
  {
   "cell_type": "code",
   "execution_count": 61,
   "id": "b515f0bb-b648-4769-89aa-d86e752578bd",
   "metadata": {},
   "outputs": [
    {
     "name": "stderr",
     "output_type": "stream",
     "text": [
      "100%|██████████| 4000/4000 [00:23<00:00, 171.52it/s]\n",
      "100%|██████████| 4000/4000 [00:22<00:00, 175.97it/s]\n",
      "100%|██████████| 4000/4000 [00:24<00:00, 164.13it/s]\n",
      "100%|██████████| 4000/4000 [00:25<00:00, 159.64it/s]\n",
      "100%|██████████| 4000/4000 [00:25<00:00, 157.35it/s]\n"
     ]
    }
   ],
   "source": [
    "vectorizations = [OrderStatistics(bdp_type = \"bd\", is_binned = True, num_bins = [25, 5]), \\\n",
    "                  OrderStatistics(bdp_type = \"bd\", is_binned = True, num_bins = [3, 3])]\n",
    "\n",
    "vecLayer = VectorizationLayers(vectorizations = vectorizations)\n",
    "fisherLayer = MopedLayer()\n",
    "circle_pipeline = CirclePipeline(ncirc= 200, nback = 20, bgmAvg = 1., n_s = 4000, n_d = 4000, \\\n",
    "                                 theta_fid = tf.constant([1., 0.2]), delta_theta = tf.constant([0.1, 0.02]),\\\n",
    "                                 filtLayer = AlphaDTMLayer(m = 0.05, max_hom_dim = 2, hom_dim_list = [0, 1], show_tqdm = True),\n",
    "                                 vecLayer = vecLayer, fisherLayer = fisherLayer, find_derivative = [True, True])\n",
    "circle_pipeline.run_pipeline()"
   ]
  },
  {
   "cell_type": "markdown",
   "id": "f1b9fd4c-05a8-4dab-a1db-bc92a006ac11",
   "metadata": {},
   "source": [
    "#### Standard Fisher + Unbinned"
   ]
  },
  {
   "cell_type": "code",
   "execution_count": 65,
   "id": "9ac3fac5-1338-4d61-b8a5-1b6ce5aff8d1",
   "metadata": {},
   "outputs": [
    {
     "name": "stdout",
     "output_type": "stream",
     "text": [
      "log FI =  15.55\n",
      "FM =  [1323.78 1224.54 1224.54 5392.49]\n",
      "Fractional bias =  [0.08 0.2 ]\n",
      "Constraints =  [0.03092387 0.01532173]\n"
     ]
    }
   ],
   "source": [
    "vectorizations = [OrderStatistics(bdp_type = \"bdp\", is_binned = False), \\\n",
    "                 OrderStatistics(bdp_type = \"bdp\", is_binned = False)\n",
    "                 ]\n",
    "\n",
    "vecLayer = VectorizationLayers(vectorizations = vectorizations, pds_idx_list = [0, 1])\n",
    "fisherLayer = FisherLayer()\n",
    "fish = circle_pipeline.vectorize_and_fisher(vecLayer, fisherLayer)\n",
    "show_fm_and_bias(fish)"
   ]
  },
  {
   "cell_type": "code",
   "execution_count": 63,
   "id": "bbef62a6-5b38-469a-8004-c57a57858fee",
   "metadata": {},
   "outputs": [
    {
     "name": "stdout",
     "output_type": "stream",
     "text": [
      "log FI =  13.91\n",
      "FM =  [ 540.57 1290.59 1290.59 5108.85]\n",
      "Fractional bias =  [0.34 0.42]\n",
      "Constraints =  [0.06827157 0.02220774]\n"
     ]
    }
   ],
   "source": [
    "vectorizations = [OrderStatistics(bdp_type = \"bdp\", is_binned = False), \\\n",
    "                 #OrderStatistics(bdp_type = \"bdp\", is_binned = False)\n",
    "                 ]\n",
    "\n",
    "vecLayer = VectorizationLayers(vectorizations = vectorizations, pds_idx_list = [0])\n",
    "fisherLayer = FisherLayer()\n",
    "fish = circle_pipeline.vectorize_and_fisher(vecLayer, fisherLayer)\n",
    "show_fm_and_bias(fish)"
   ]
  },
  {
   "cell_type": "code",
   "execution_count": 64,
   "id": "b64290b3-1a43-4a14-a6aa-657a1cc1ee6a",
   "metadata": {},
   "outputs": [
    {
     "name": "stdout",
     "output_type": "stream",
     "text": [
      "log FI =  14.15\n",
      "FM =  [ 547.73  180.96  180.96 2601.58]\n",
      "Fractional bias =  [0.01 0.06]\n",
      "Constraints =  [0.04322785 0.01983489]\n"
     ]
    }
   ],
   "source": [
    "vectorizations = [#OrderStatistics(bdp_type = \"bdp\", is_binned = False), \\\n",
    "                 OrderStatistics(bdp_type = \"bdp\", is_binned = False)\n",
    "                 ]\n",
    "\n",
    "vecLayer = VectorizationLayers(vectorizations = vectorizations, pds_idx_list = [1])\n",
    "fisherLayer = FisherLayer()\n",
    "fish = circle_pipeline.vectorize_and_fisher(vecLayer, fisherLayer)\n",
    "show_fm_and_bias(fish)"
   ]
  },
  {
   "cell_type": "markdown",
   "id": "5912ce83-bc36-4d12-a756-986f98c2cba8",
   "metadata": {},
   "source": [
    "#### CompressedFisher"
   ]
  },
  {
   "cell_type": "code",
   "execution_count": 80,
   "id": "136890ec-c64e-4ea0-9477-52c5f357f5e1",
   "metadata": {},
   "outputs": [
    {
     "name": "stdout",
     "output_type": "stream",
     "text": [
      "log FI =  15.1\n",
      "FM =  [1230.58 1044.11 1044.11 3830.04]\n",
      "Fractional bias =  [0. 0.]\n",
      "Constraints =  [0.03251376 0.0184298 ]\n"
     ]
    }
   ],
   "source": [
    "vectorizations = [OrderStatistics(bdp_type = \"bdp\", is_binned = True, num_bins = [24, 5]), \\\n",
    "                  OrderStatistics(bdp_type = \"bdp\", is_binned = False)]\n",
    "\n",
    "vecLayer = VectorizationLayers(vectorizations = vectorizations)\n",
    "fisherLayer = MopedLayer(compression_frac = 0.8)\n",
    "fish = circle_pipeline.vectorize_and_fisher(vecLayer, fisherLayer)\n",
    "show_fm_and_bias(fish)"
   ]
  },
  {
   "cell_type": "code",
   "execution_count": 47,
   "id": "12fd129c-5898-44eb-8fbc-891391d2af23",
   "metadata": {},
   "outputs": [
    {
     "name": "stdout",
     "output_type": "stream",
     "text": [
      "log FI =  14.12\n",
      "FM =  [ 673.91  157.97  157.97 2042.54]\n",
      "Fractional bias =  [0. 0.]\n",
      "Constraints =  [0.03887503 0.02232993]\n"
     ]
    }
   ],
   "source": [
    "vectorizations = [\\\n",
    "                # OrderStatistics(bdp_type = \"bdp\", is_binned = True, num_bins = [24, 5]), \\\n",
    "                  OrderStatistics(bdp_type = \"bdp\", is_binned = False)\\\n",
    "                    ]\n",
    "\n",
    "vecLayer = VectorizationLayers(vectorizations = vectorizations, pds_idx_list = [1])\n",
    "fisherLayer = MopedLayer()\n",
    "fish = circle_pipeline.vectorize_and_fisher(vecLayer, fisherLayer)\n",
    "show_fm_and_bias(fish)"
   ]
  },
  {
   "cell_type": "code",
   "execution_count": 60,
   "id": "23487768-484f-4810-9789-dd1d7cd6295f",
   "metadata": {},
   "outputs": [
    {
     "name": "stdout",
     "output_type": "stream",
     "text": [
      "log FI =  12.51\n",
      "FM =  [ 433.79  862.14  862.14 2339.89]\n",
      "Fractional bias =  [0. 0.]\n",
      "Constraints =  [0.09279265 0.03995376]\n"
     ]
    }
   ],
   "source": [
    "vectorizations = [\\\n",
    "                 OrderStatistics(bdp_type = \"bdp\", is_binned = False ,   num_bins = [24, 5]), \\\n",
    "                 # OrderStatistics(bdp_type = \"bdp\", is_binned = False)\\\n",
    "                ]\n",
    "#vectorizations = [\\\n",
    " #                OrderStatistics(bdp_type = \"bdp\", is_binned = False)\n",
    "  #              ]\n",
    "vecLayer = VectorizationLayers(vectorizations = vectorizations, pds_idx_list = [0])\n",
    "# fisherLayer = FisherLayer()\n",
    "fisherLayer = MopedLayer()\n",
    "fish = circle_pipeline.vectorize_and_fisher(vecLayer, fisherLayer)\n",
    "show_fm_and_bias(fish)"
   ]
  },
  {
   "cell_type": "code",
   "execution_count": 35,
   "id": "100896cb-6926-446f-9c05-2bd792eb0326",
   "metadata": {},
   "outputs": [
    {
     "name": "stdout",
     "output_type": "stream",
     "text": [
      "log FI =  14.11\n",
      "FM =  [ 869.1   645.39  645.39 2029.72]\n",
      "Fractional bias =  [0. 0.]\n",
      "Constraints =  [0.03881088 0.02539629]\n"
     ]
    }
   ],
   "source": [
    "vectorizations = [OrderStatistics(bdp_type = \"bdp\", is_binned = False), \\\n",
    "                 OrderStatistics(bdp_type = \"bdp\", is_binned = False)\n",
    "                 ]\n",
    "\n",
    "vecLayer = VectorizationLayers(vectorizations = vectorizations, pds_idx_list = [0, 1])\n",
    "fisherLayer = MopedLayer()\n",
    "fish = circle_pipeline.vectorize_and_fisher(vecLayer, fisherLayer, False)\n",
    "show_fm_and_bias(fish)"
   ]
  },
  {
   "cell_type": "code",
   "execution_count": 30,
   "id": "28026e5d-8f77-4395-a3b6-2b62318716c4",
   "metadata": {},
   "outputs": [
    {
     "name": "stdout",
     "output_type": "stream",
     "text": [
      "log FI =  14.47\n",
      "FM =  [ 767.15 1439.59 1439.59 5198.29]\n",
      "Fractional bias =  [0.22 0.31]\n",
      "Constraints =  [0.05209477 0.02001265]\n"
     ]
    }
   ],
   "source": [
    "vectorizations = [OrderStatistics(bdp_type = \"bdp\", is_binned = False), \\\n",
    "                 # OrderStatistics(bdp_type = \"bd\", is_binned = False)\n",
    "                 ]\n",
    "\n",
    "vecLayer = VectorizationLayers(vectorizations = vectorizations, pds_idx_list = [0])\n",
    "fisherLayer = FisherLayer()\n",
    "fish = circle_pipeline.vectorize_and_fisher(vecLayer, fisherLayer, False)\n",
    "show_fm_and_bias(fish)"
   ]
  },
  {
   "cell_type": "code",
   "execution_count": 33,
   "id": "2d30323b-0239-4734-b4c5-703be595c4a6",
   "metadata": {},
   "outputs": [
    {
     "data": {
      "text/plain": [
       "25"
      ]
     },
     "execution_count": 33,
     "metadata": {},
     "output_type": "execute_result"
    }
   ],
   "source": [
    "vectorizations[0].topk"
   ]
  },
  {
   "cell_type": "code",
   "execution_count": 34,
   "id": "3ccd70c4-4666-434d-b305-11935b964432",
   "metadata": {},
   "outputs": [
    {
     "name": "stdout",
     "output_type": "stream",
     "text": [
      "log FI =  14.44\n",
      "FM =  [ 747.01  280.01  280.01 2606.51]\n",
      "Fractional bias =  [0.01 0.06]\n",
      "Constraints =  [0.03734751 0.01999381]\n"
     ]
    }
   ],
   "source": [
    "# circle_pipeline = readFromFile(\"/Users/karthikviswanathan/Downloads/imph/circle_pipelines/pipeline_m_p9_ns_4K.pkl\")\n",
    "vectorizations = [\n",
    "                 #OrderStatistics(bdp_type = \"bd\", is_binned = True, num_bins = [24, 5]), \\\n",
    "                 OrderStatistics(bdp_type = \"bdp\", is_binned = False)\n",
    "                 ]\n",
    "\n",
    "vecLayer = VectorizationLayers(vectorizations = vectorizations, pds_idx_list = [1])\n",
    "fisherLayer = FisherLayer()\n",
    "fish = circle_pipeline.vectorize_and_fisher(vecLayer, fisherLayer, False)\n",
    "show_fm_and_bias(fish)"
   ]
  },
  {
   "cell_type": "code",
   "execution_count": 52,
   "id": "7fbb274b-3193-467a-b70e-798cf9568917",
   "metadata": {},
   "outputs": [
    {
     "name": "stdout",
     "output_type": "stream",
     "text": [
      "log FI =  15.08\n",
      "FM =  [2722.09  -64.94  -64.94 1297.25]\n",
      "Fractional bias =  [0.   0.08]\n",
      "Constraints =  [0.01917821 0.02778094]\n"
     ]
    }
   ],
   "source": [
    "circle_pipeline = readFromFile(\"/Users/karthikviswanathan/Downloads/imph/circle_pipelines/pipeline_m_p9_ns_4K.pkl\")\n",
    "vectorizations = [\n",
    "                 #OrderStatistics(bdp_type = \"bd\", is_binned = True, num_bins = [24, 5]), \\\n",
    "                 OrderStatistics(bdp_type = \"bd\", is_binned = False)\n",
    "                 ]\n",
    "\n",
    "vecLayer = VectorizationLayers(vectorizations = vectorizations, pds_idx_list = [1])\n",
    "fisherLayer = FisherLayer()\n",
    "fish = circle_pipeline.vectorize_and_fisher(vecLayer, fisherLayer)\n",
    "show_fm_and_bias(fish)"
   ]
  },
  {
   "cell_type": "code",
   "execution_count": 46,
   "id": "beb7100b-efdc-4dc7-a697-9e6a097dbd1d",
   "metadata": {},
   "outputs": [
    {
     "name": "stdout",
     "output_type": "stream",
     "text": [
      "22 197 219.0\n",
      "26 26 54.0\n",
      "log FI =  16.91\n",
      "FM =  [4031.66  376.96  376.96 5519.52]\n",
      "Fractional bias =  [0.   0.02]\n",
      "Constraints =  [0.01579971 0.01350331]\n"
     ]
    }
   ],
   "source": [
    "circle_pipeline = readFromFile(\"/Users/karthikviswanathan/Downloads/imph/circle_pipelines/pipeline_m_p9_ns_4K.pkl\")\n",
    "vectorizations = [\n",
    "                 OrderStatistics(bdp_type = \"bd\", is_binned = True, num_bins = [24, 5]), \\\n",
    "                 OrderStatistics(bdp_type = \"bd\", is_binned = False)\n",
    "                 ]\n",
    "\n",
    "vecLayer = VectorizationLayers(vectorizations = vectorizations, pds_idx_list = [0, 1])\n",
    "fisherLayer = FisherLayer()\n",
    "fish = circle_pipeline.vectorize_and_fisher(vecLayer, fisherLayer)\n",
    "show_fm_and_bias(fish)"
   ]
  },
  {
   "cell_type": "markdown",
   "id": "4917bd87-1890-4899-8098-51fd10aacbab",
   "metadata": {
    "tags": []
   },
   "source": [
    "## Example usage"
   ]
  },
  {
   "cell_type": "code",
   "execution_count": 3,
   "id": "cbc6591d-f3dd-4a13-a4b8-4815e3fe12ca",
   "metadata": {},
   "outputs": [
    {
     "name": "stdout",
     "output_type": "stream",
     "text": [
      "log FI =  16.77\n",
      "FM =  [3830.37  539.6   539.6  5088.21]\n",
      "Fractional bias =  [0.   0.03]\n",
      "Constraints =  [0.01627976 0.01412493]\n"
     ]
    }
   ],
   "source": [
    "circle_pipeline = readFromFile(\"/Users/karthikviswanathan/Downloads/imph/circle_pipelines/pipeline_m_p9_ns_4K.pkl\")\n",
    "fisher = circle_pipeline.fisher\n",
    "show_fm_and_bias(fisher)"
   ]
  },
  {
   "cell_type": "code",
   "execution_count": 17,
   "id": "64395aa7-8625-44b7-8103-2aa4c4544a37",
   "metadata": {},
   "outputs": [
    {
     "name": "stderr",
     "output_type": "stream",
     "text": [
      "100%|██████████| 4000/4000 [00:32<00:00, 123.20it/s]\n",
      "100%|██████████| 1000/1000 [00:07<00:00, 128.76it/s]\n",
      "100%|██████████| 1000/1000 [00:07<00:00, 128.66it/s]\n",
      "100%|██████████| 1000/1000 [00:07<00:00, 128.79it/s]\n",
      "100%|██████████| 1000/1000 [00:07<00:00, 130.04it/s]\n"
     ]
    }
   ],
   "source": [
    "vectorizations = [TOPK(bdp_type = \"bd\", is_binned = True, topk = 219, num_bins = 25), TOPK(bdp_type = \"bd\", is_binned = True, topk = 29, num_bins = 5)]\n",
    "\n",
    "vecLayer = VectorizationLayers(vectorizations = vectorizations)\n",
    "fisherLayer = MopedLayer()\n",
    "circle_pipeline = CirclePipeline(ncirc= 200, nback = 20, bgmAvg = 1., n_s = 4000, n_d = 1000, \\\n",
    "                                 theta_fid = tf.constant([1., 0.2]), delta_theta = tf.constant([0.1, 0.02]),\\\n",
    "                                 filtLayer = AlphaDTMLayer(m = 0.9, max_hom_dim = 2, hom_dim_list = [0, 1], show_tqdm = True),\n",
    "                                 vecLayer = vecLayer, fisherLayer = fisherLayer, find_derivative = [True, True])\n",
    "circle_pipeline.run_pipeline()"
   ]
  },
  {
   "cell_type": "markdown",
   "id": "983b02f7-7791-43ba-85f9-49dc69985c53",
   "metadata": {
    "tags": []
   },
   "source": [
    "### Testing the Gaussian approximation"
   ]
  },
  {
   "cell_type": "code",
   "execution_count": 3,
   "id": "b61117a0-8f0e-48f9-8860-2f81ad7cbb71",
   "metadata": {},
   "outputs": [
    {
     "data": {
      "image/png": "[encoded data removed]",
      "text/plain": [
       "<Figure size 500x300 with 2 Axes>"
      ]
     },
     "metadata": {},
     "output_type": "display_data"
    },
    {
     "data": {
      "image/png": "[encoded data removed]",
      "text/plain": [
       "<Figure size 1000x300 with 4 Axes>"
      ]
     },
     "metadata": {},
     "output_type": "display_data"
    }
   ],
   "source": [
    "plotSummaryDerivativeHists(fisher)"
   ]
  },
  {
   "cell_type": "markdown",
   "id": "28713539-f39d-4797-854d-0eac88586853",
   "metadata": {
    "tags": []
   },
   "source": [
    "### Testing the derivative convergence"
   ]
  },
  {
   "cell_type": "code",
   "execution_count": 4,
   "id": "973a8188-3fab-4337-a0ac-8efd380569fe",
   "metadata": {},
   "outputs": [
    {
     "data": {
      "image/png": "[encoded data removed]",
      "text/plain": [
       "<Figure size 640x480 with 1 Axes>"
      ]
     },
     "metadata": {},
     "output_type": "display_data"
    }
   ],
   "source": [
    "plot_derivative_convergence(fisher.summaries, fisher.delta_theta)"
   ]
  },
  {
   "cell_type": "markdown",
   "id": "07542ffc-baec-4a8b-b397-432802058277",
   "metadata": {
    "tags": []
   },
   "source": [
    "### Checking the choice of step size"
   ]
  },
  {
   "cell_type": "code",
   "execution_count": null,
   "id": "88623d96-5d9b-42ef-ab20-f777b60f932c",
   "metadata": {},
   "outputs": [],
   "source": [
    "importlib.reload(topofisher.pipelines.convergence_checks)\n",
    "from topofisher.pipelines.convergence_checks import fisher_estimates_wrt_step_size\n",
    "fisher_estimates_wrt_step_size(circle_pipeline, param_idx = 0, step_list = tf.linspace(0.01, 0.2, 5), \\\n",
    "                               seed_cov = circle_pipeline.seed_cov, seed_ders = circle_pipeline.seed_ders)"
   ]
  },
  {
   "cell_type": "code",
   "execution_count": 8,
   "id": "9dfa3e8c-1ba9-4d7a-ab7e-35a0a90021f7",
   "metadata": {},
   "outputs": [],
   "source": [
    "circle_pipeline = readFromFile(\"pipeline_m_p9_ns_4K.pkl\")\n",
    "from gudhi.point_cloud.knn import KNearestNeighbors\n",
    "knn = KNearestNeighbors(150, return_index = False, \\\n",
    "                    return_distance = True, \\\n",
    "                    enable_autodiff = True)\n",
    "all_pts = circle_pipeline.all_pts\n",
    "ans = knn.fit_transform(all_pts[0][0])"
   ]
  },
  {
   "cell_type": "code",
   "execution_count": 14,
   "id": "2deab302-3567-49b6-8231-a50db0aea3ac",
   "metadata": {},
   "outputs": [
    {
     "data": {
      "text/plain": [
       "True"
      ]
     },
     "execution_count": 14,
     "metadata": {},
     "output_type": "execute_result"
    }
   ],
   "source": [
    "a = ans[0]\n",
    "np.all(a[:-1] <= a[1:])"
   ]
  },
  {
   "cell_type": "markdown",
   "id": "7f71deb8-fc6d-4695-8d3e-c2be70bf8c21",
   "metadata": {
    "tags": []
   },
   "source": [
    "## Persistence Images"
   ]
  },
  {
   "cell_type": "code",
   "execution_count": 31,
   "id": "af9e49d6-9ac8-42e4-ba2b-65367bed8d2e",
   "metadata": {},
   "outputs": [],
   "source": [
    "importlib.reload(topofisher.fisher.imnn)\n",
    "from topofisher.fisher.imnn import IMNNLayer, FisherLayer, MopedLayer, ExtraDimLayer"
   ]
  },
  {
   "cell_type": "code",
   "execution_count": null,
   "id": "f3a55041-7229-478f-a0ab-0bcbe9355796",
   "metadata": {},
   "outputs": [],
   "source": [
    "circle_pipeline_pi"
   ]
  },
  {
   "cell_type": "code",
   "execution_count": 53,
   "id": "415f92dd-11ae-4d36-98e9-a0710b20a23a",
   "metadata": {},
   "outputs": [
    {
     "name": "stderr",
     "output_type": "stream",
     "text": [
      "100%|██████████| 10000/10000 [01:27<00:00, 114.83it/s]\n",
      "100%|██████████| 10000/10000 [01:26<00:00, 115.74it/s]\n",
      "100%|██████████| 10000/10000 [01:26<00:00, 116.03it/s]\n",
      "100%|██████████| 10000/10000 [01:26<00:00, 115.81it/s]\n",
      "100%|██████████| 10000/10000 [01:27<00:00, 114.62it/s]\n"
     ]
    }
   ],
   "source": [
    "res = 24\n",
    "pi_vec_layer = PersistenceImages(resolutions = [[res, res], [res, res]], bandwidths = [3e-2, 5e-2])\n",
    "circle_pipeline_pi = CirclePipeline(ncirc= 200, nback = 20, bgmAvg = 1., n_s = 10000, n_d = 10000, \\\n",
    "                                 theta_fid = tf.constant([1., 0.2]), delta_theta = tf.constant([0.01, 0.002]),\\\n",
    "                                 filtLayer = AlphaDTMLayer(m = 0.9, max_hom_dim = 2, hom_dim_list = [0, 1], show_tqdm = True),\n",
    "                                 vecLayer = pi_vec_layer, fisherLayer = None, find_derivative = [True, True])\n",
    "circle_pipeline_pi.run_pipeline()"
   ]
  },
  {
   "cell_type": "code",
   "execution_count": 55,
   "id": "5c924028-cad0-4d2d-8269-f9cdb72fb3a2",
   "metadata": {},
   "outputs": [],
   "source": [
    "circle_pipeline_pi.vecLayer = None\n",
    "writeToFile(circle_pipeline_pi, \"pipeline_m_p9_ns_10K_dtheta_p01.pkl\")"
   ]
  },
  {
   "cell_type": "code",
   "execution_count": 56,
   "id": "eed54e4a-4287-4ece-ac43-2ef9eafe2d72",
   "metadata": {},
   "outputs": [],
   "source": [
    "model = tf.keras.Sequential(\n",
    "    [\n",
    "        ExtraDimLayer(tf.keras.layers.Conv2D(8, (3,3), padding='same', activation = \"relu\", input_shape=(res, res, 2))),\n",
    "        ExtraDimLayer(tf.keras.layers.MaxPooling2D((2, 2), strides=2)),\n",
    "        ExtraDimLayer(tf.keras.layers.Flatten()),\n",
    "        tf.keras.layers.Dense(16, activation=\"relu\"),\n",
    "        tf.keras.layers.Dense(2)\n",
    "    ]\n",
    ")"
   ]
  },
  {
   "cell_type": "code",
   "execution_count": 57,
   "id": "42944d08-c10d-4c5c-a0cd-15e73d409e83",
   "metadata": {},
   "outputs": [
    {
     "name": "stdout",
     "output_type": "stream",
     "text": [
      "Epoch 1/15\n",
      "8/8 [==============================] - 4s 404ms/step - loss: -13.8231 - val_loss: -15.5818\n",
      "Epoch 2/15\n",
      "8/8 [==============================] - 3s 377ms/step - loss: -15.9251 - val_loss: -16.0440\n",
      "Epoch 3/15\n",
      "8/8 [==============================] - 3s 361ms/step - loss: -16.2975 - val_loss: -16.2109\n",
      "Epoch 4/15\n",
      "8/8 [==============================] - 3s 354ms/step - loss: -16.4965 - val_loss: -16.3377\n",
      "Epoch 5/15\n",
      "8/8 [==============================] - 3s 369ms/step - loss: -16.6109 - val_loss: -16.4126\n",
      "Epoch 6/15\n",
      "8/8 [==============================] - 3s 360ms/step - loss: -16.6993 - val_loss: -16.4511\n",
      "Epoch 7/15\n",
      "8/8 [==============================] - 3s 371ms/step - loss: -16.7614 - val_loss: -16.4777\n",
      "Epoch 8/15\n",
      "8/8 [==============================] - 3s 374ms/step - loss: -16.8100 - val_loss: -16.5015\n",
      "Epoch 9/15\n",
      "8/8 [==============================] - 3s 369ms/step - loss: -16.8440 - val_loss: -16.5220\n",
      "Epoch 10/15\n",
      "8/8 [==============================] - 3s 402ms/step - loss: -16.8879 - val_loss: -16.5189\n",
      "Epoch 11/15\n",
      "8/8 [==============================] - 3s 372ms/step - loss: -16.9114 - val_loss: -16.5196\n",
      "Epoch 12/15\n",
      "8/8 [==============================] - 3s 377ms/step - loss: -16.9399 - val_loss: -16.5150\n"
     ]
    }
   ],
   "source": [
    "pi_imnn_layer = IMNNLayer(model, verbose = 1, epochs = 15, data_splits = [0.4, 0.2, 0.4], \\\n",
    "                            callbacks = [tf.keras.callbacks.EarlyStopping(patience = 3)])\n",
    "\n",
    "fisher = pi_imnn_layer.computeFisher(circle_pipeline_pi.all_vecs, circle_pipeline_pi.delta_theta)"
   ]
  },
  {
   "cell_type": "code",
   "execution_count": 77,
   "id": "21af85dc-095a-4da8-a176-c54cc54d0389",
   "metadata": {},
   "outputs": [
    {
     "name": "stdout",
     "output_type": "stream",
     "text": [
      "FM =  [3720.42  172.77  172.77 4577.06]\n",
      "Fractional bias =  [0.13 0.17]\n"
     ]
    },
    {
     "data": {
      "text/plain": [
       "(<tf.Tensor: shape=(2, 2), dtype=float32, numpy=\n",
       " array([[128.81935 ,  70.606995],\n",
       "        [ 70.606995,  95.8849  ]], dtype=float32)>,\n",
       " <tf.Tensor: shape=(2, 2), dtype=float32, numpy=\n",
       " array([[-514.7542  , -590.5668  ],\n",
       "        [ 489.0966  , -126.315895]], dtype=float32)>,\n",
       " <tf.Tensor: shape=(2,), dtype=float32, numpy=array([0.01 , 0.002], dtype=float32)>)"
      ]
     },
     "execution_count": 77,
     "metadata": {},
     "output_type": "execute_result"
    }
   ],
   "source": [
    "fisher = pi_imnn_layer.computeFisher(tf.stack(circle_pipeline_pi.all_vecs)[:, 6000:], circle_pipeline_pi.delta_theta)\n",
    "show_fm_and_bias(fisher)\n",
    "fisher.C, fisher.ders, fisher.delta_theta"
   ]
  },
  {
   "cell_type": "code",
   "execution_count": null,
   "id": "be10ba18-e327-404e-aeee-cced189ac517",
   "metadata": {},
   "outputs": [],
   "source": [
    "fisher_old = circle_pipeline.vectorize_and_fisher(pi_vec_layer, pi_imnn_layer)"
   ]
  },
  {
   "cell_type": "code",
   "execution_count": 76,
   "id": "78000f92-9ba5-4fbb-98d8-30691fbe8ee2",
   "metadata": {},
   "outputs": [
    {
     "name": "stdout",
     "output_type": "stream",
     "text": [
      "FM =  [3144.65  147.04  147.04 4665.55]\n",
      "Fractional bias =  [0.05 0.08]\n"
     ]
    },
    {
     "data": {
      "text/plain": [
       "(<tf.Tensor: shape=(2, 2), dtype=float32, numpy=\n",
       " array([[130.53767,  73.29368],\n",
       "        [ 73.29368,  98.14373]], dtype=float32)>,\n",
       " <tf.Tensor: shape=(2, 2), dtype=float32, numpy=\n",
       " array([[-481.5877 , -549.61414],\n",
       "        [ 491.81873, -124.21921]], dtype=float32)>,\n",
       " <tf.Tensor: shape=(2,), dtype=float32, numpy=array([0.1 , 0.02], dtype=float32)>)"
      ]
     },
     "execution_count": 76,
     "metadata": {},
     "output_type": "execute_result"
    }
   ],
   "source": [
    "show_fm_and_bias(fisher_old)\n",
    "fisher_old.C, fisher_old.ders, fisher_old.delta_theta"
   ]
  },
  {
   "cell_type": "code",
   "execution_count": 75,
   "id": "26737092-78af-4158-bf5a-6c1fb5b8c687",
   "metadata": {},
   "outputs": [
    {
     "data": {
      "text/plain": [
       "<tf.Tensor: shape=(5, 2), dtype=float32, numpy=\n",
       "array([[ -0.25446254,  -0.33604443],\n",
       "       [ 21.521133  ,  20.402428  ],\n",
       "       [-21.490107  , -28.65337   ],\n",
       "       [ -4.3911715 ,   1.3794776 ],\n",
       "       [  4.4670067 ,  -0.85227305]], dtype=float32)>"
      ]
     },
     "execution_count": 75,
     "metadata": {},
     "output_type": "execute_result"
    }
   ],
   "source": [
    "tf.math.reduce_mean(fisher_old.summaries - fisher.summaries, axis = 1) "
   ]
  },
  {
   "cell_type": "markdown",
   "id": "29dae08d-5db5-457f-b83e-0147207d3b5a",
   "metadata": {
    "tags": []
   },
   "source": [
    "#### Convergence tests"
   ]
  },
  {
   "cell_type": "code",
   "execution_count": 72,
   "id": "4a1faded-56a7-499c-84f8-d9d63297e340",
   "metadata": {},
   "outputs": [
    {
     "data": {
      "image/png": "[encoded data removed]",
      "text/plain": [
       "<Figure size 500x300 with 2 Axes>"
      ]
     },
     "metadata": {},
     "output_type": "display_data"
    },
    {
     "data": {
      "image/png": "[encoded data removed]",
      "text/plain": [
       "<Figure size 1000x300 with 4 Axes>"
      ]
     },
     "metadata": {},
     "output_type": "display_data"
    }
   ],
   "source": [
    "plotSummaryDerivativeHists(fisher_old)"
   ]
  },
  {
   "cell_type": "code",
   "execution_count": 71,
   "id": "975b044b-6fe2-42fc-94a6-93ed7f39c9c8",
   "metadata": {},
   "outputs": [
    {
     "data": {
      "image/png": "[encoded data removed]",
      "text/plain": [
       "<Figure size 500x300 with 2 Axes>"
      ]
     },
     "metadata": {},
     "output_type": "display_data"
    },
    {
     "data": {
      "image/png": "[encoded data removed]",
      "text/plain": [
       "<Figure size 1000x300 with 4 Axes>"
      ]
     },
     "metadata": {},
     "output_type": "display_data"
    }
   ],
   "source": [
    "plotSummaryDerivativeHists(fisher)"
   ]
  },
  {
   "cell_type": "markdown",
   "id": "09d4be24-c344-4aa9-b492-ed325cabc686",
   "metadata": {
    "tags": []
   },
   "source": [
    "### After weighting"
   ]
  },
  {
   "cell_type": "code",
   "execution_count": 35,
   "id": "31bf7887-09b6-4dcd-ac7b-6f7b44364614",
   "metadata": {},
   "outputs": [],
   "source": [
    "from gudhi.representations import Landscape, PersistenceImage"
   ]
  },
  {
   "cell_type": "code",
   "execution_count": 90,
   "id": "5b9a41e1-e91c-4350-8dc2-e68aa2f2c45b",
   "metadata": {},
   "outputs": [],
   "source": [
    "res = 12\n",
    "vectorizations = [PersistenceImage(bandwidth = 3e-2, resolution = [res, res], weight=lambda x: x[1]**2), \\\n",
    "                  PersistenceImage(bandwidth = 5e-2, resolution = [res, res], weight=lambda x: x[1]**2)]\n",
    "pi_weighted_vec_layer = VectorizationLayers(vectorizations = vectorizations, pds_idx_list = [0, 1])\n",
    "all_vecs_temp = []; \n",
    "for pds in circle_pipeline_pi.all_persistence_diagrams:\n",
    "    vecs = pi_weighted_vec_layer.vectorize_persistence_diagrams(pds)\n",
    "    all_vecs_temp.append(vecs)"
   ]
  },
  {
   "cell_type": "code",
   "execution_count": null,
   "id": "508fad07-7b0d-4339-b1b1-47fdb1868767",
   "metadata": {},
   "outputs": [],
   "source": [
    "all_vecs = [pi_vec_layer.reshape_vec_to_images(item) for item in all_vecs_temp]\n",
    "all_vecs = tf.stack(all_vecs)"
   ]
  },
  {
   "cell_type": "code",
   "execution_count": 39,
   "id": "9d2e9b20-50fe-4d14-bd6e-25a797a2b5a5",
   "metadata": {},
   "outputs": [
    {
     "data": {
      "text/plain": [
       "TensorShape([5, 4000, 24, 24, 2])"
      ]
     },
     "execution_count": 39,
     "metadata": {},
     "output_type": "execute_result"
    }
   ],
   "source": [
    "all_vecs.shape"
   ]
  },
  {
   "cell_type": "code",
   "execution_count": null,
   "id": "4920d2d6-2cf1-45c3-ab68-1926b431117a",
   "metadata": {},
   "outputs": [],
   "source": [
    "model = tf.keras.Sequential(\n",
    "    [\n",
    "        ExtraDimLayer(tf.keras.layers.Conv2D(8, (3,3), padding='same', activation = \"relu\", input_shape=(res, res, 2))),\n",
    "        ExtraDimLayer(tf.keras.layers.MaxPooling2D((2, 2), strides = 2)),\n",
    "        ExtraDimLayer(tf.keras.layers.Flatten()),\n",
    "        tf.keras.layers.Dense(12, activation=\"relu\"),\n",
    "        tf.keras.layers.Dense(2)\n",
    "    ]\n",
    ")\n",
    "pi_weighted_imnn_layer = IMNNLayer(model, verbose = 1, epochs = 20, data_splits = [0.4, 0.2, 0.4], \\\n",
    "                            callbacks = [tf.keras.callbacks.EarlyStopping(patience = 3)])\n",
    "\n",
    "fisher = pi_weighted_imnn_layer.computeFisher(all_vecs, circle_pipeline_pi.delta_theta)"
   ]
  },
  {
   "cell_type": "code",
   "execution_count": 61,
   "id": "9aa56123-1785-4021-9d59-d7cba9bc0dd2",
   "metadata": {},
   "outputs": [
    {
     "name": "stdout",
     "output_type": "stream",
     "text": [
      "FM =  [3496.92   41.04   41.04 4043.23]\n",
      "Fractional bias =  [0.18 0.29]\n"
     ]
    }
   ],
   "source": [
    "show_fm_and_bias(fisher)"
   ]
  },
  {
   "cell_type": "markdown",
   "id": "0b39b178-189c-4345-90b5-9a2fb2a62a16",
   "metadata": {
    "tags": []
   },
   "source": [
    "#### Convergence tests"
   ]
  },
  {
   "cell_type": "code",
   "execution_count": 63,
   "id": "07c30300-5974-4087-a864-9e2ee1d3c08e",
   "metadata": {},
   "outputs": [
    {
     "data": {
      "image/png": "[encoded data removed]",
      "text/plain": [
       "<Figure size 500x300 with 2 Axes>"
      ]
     },
     "metadata": {},
     "output_type": "display_data"
    },
    {
     "data": {
      "image/png": "[encoded data removed]",
      "text/plain": [
       "<Figure size 1000x300 with 4 Axes>"
      ]
     },
     "metadata": {},
     "output_type": "display_data"
    }
   ],
   "source": [
    "plotSummaryDerivativeHists(fisher)"
   ]
  },
  {
   "cell_type": "code",
   "execution_count": null,
   "id": "b3af3a43-1906-4ec0-be32-f8dc95f21f70",
   "metadata": {},
   "outputs": [],
   "source": [
    "res = 24\n",
    "vectorizations = [PersistenceImage(bandwidth = 3e-2, resolution = [res, res], weight=lambda x: x[1]**2), \\\n",
    "                  PersistenceImage(bandwidth = 5e-2, resolution = [res, res], weight=lambda x: x[1]**2)]\n",
    "pi_weighted_vec_layer = VectorizationLayers(vectorizations = vectorizations)\n",
    "all_vecs_temp = []\n",
    "for pds in circle_pipeline.all_persistence_diagrams:\n",
    "    vecs = pi_weighted_vec_layer.vectorize_persistence_diagrams(pds)\n",
    "    all_vecs_temp.append(vecs)\n",
    "all_vecs = [pi_vec_layer.reshape_vec_to_images(item) for item in all_vecs_temp]\n",
    "all_vecs = tf.stack(all_vecs)\n"
   ]
  },
  {
   "cell_type": "code",
   "execution_count": 67,
   "id": "6c2febc5-c08c-4249-a524-822c85e26d57",
   "metadata": {},
   "outputs": [
    {
     "name": "stdout",
     "output_type": "stream",
     "text": [
      "Epoch 1/20\n",
      "4/4 [==============================] - 3s 354ms/step - loss: -10.2307 - val_loss: -14.3987\n",
      "Epoch 2/20\n",
      "4/4 [==============================] - 1s 276ms/step - loss: -14.7884 - val_loss: -15.2007\n",
      "Epoch 3/20\n",
      "4/4 [==============================] - 1s 272ms/step - loss: -15.4002 - val_loss: -15.5058\n",
      "Epoch 4/20\n",
      "4/4 [==============================] - 1s 283ms/step - loss: -15.7188 - val_loss: -15.7332\n",
      "Epoch 5/20\n",
      "4/4 [==============================] - 1s 273ms/step - loss: -15.9542 - val_loss: -15.8973\n",
      "Epoch 6/20\n",
      "4/4 [==============================] - 1s 279ms/step - loss: -16.1145 - val_loss: -16.0078\n",
      "Epoch 7/20\n",
      "4/4 [==============================] - 1s 269ms/step - loss: -16.2054 - val_loss: -16.1031\n",
      "Epoch 8/20\n",
      "4/4 [==============================] - 1s 271ms/step - loss: -16.2964 - val_loss: -16.1864\n",
      "Epoch 9/20\n",
      "4/4 [==============================] - 1s 284ms/step - loss: -16.3835 - val_loss: -16.2556\n",
      "Epoch 10/20\n",
      "4/4 [==============================] - 1s 281ms/step - loss: -16.4467 - val_loss: -16.3082\n",
      "Epoch 11/20\n",
      "4/4 [==============================] - 1s 281ms/step - loss: -16.4921 - val_loss: -16.3575\n",
      "Epoch 12/20\n",
      "4/4 [==============================] - 1s 276ms/step - loss: -16.5511 - val_loss: -16.4049\n",
      "Epoch 13/20\n",
      "4/4 [==============================] - 1s 274ms/step - loss: -16.5981 - val_loss: -16.4372\n",
      "Epoch 14/20\n",
      "4/4 [==============================] - 1s 276ms/step - loss: -16.6450 - val_loss: -16.4693\n",
      "Epoch 15/20\n",
      "4/4 [==============================] - 1s 272ms/step - loss: -16.6953 - val_loss: -16.4947\n",
      "Epoch 16/20\n",
      "4/4 [==============================] - 1s 271ms/step - loss: -16.7466 - val_loss: -16.5245\n",
      "Epoch 17/20\n",
      "4/4 [==============================] - 1s 271ms/step - loss: -16.7945 - val_loss: -16.5503\n",
      "Epoch 18/20\n",
      "4/4 [==============================] - 1s 278ms/step - loss: -16.8322 - val_loss: -16.5560\n",
      "Epoch 19/20\n",
      "4/4 [==============================] - 1s 280ms/step - loss: -16.8886 - val_loss: -16.5615\n",
      "Epoch 20/20\n",
      "4/4 [==============================] - 1s 314ms/step - loss: -16.9316 - val_loss: -16.5831\n",
      "FM =  [4044.5   161.68  161.68 4112.53]\n",
      "Fractional bias =  [0.06 0.15]\n"
     ]
    }
   ],
   "source": [
    "model = tf.keras.Sequential(\n",
    "    [\n",
    "        ExtraDimLayer(tf.keras.layers.Conv2D(8, (3,3), padding='same', activation = \"relu\", input_shape=(res, res, 2))),\n",
    "        ExtraDimLayer(tf.keras.layers.MaxPooling2D((2, 2), strides = 2)),\n",
    "        ExtraDimLayer(tf.keras.layers.Flatten()),\n",
    "        tf.keras.layers.Dense(12, activation=\"relu\"),\n",
    "        tf.keras.layers.Dense(2)\n",
    "    ]\n",
    ")\n",
    "\n",
    "pi_weighted_imnn_layer = IMNNLayer(model, verbose = 1, epochs = 20, data_splits = [0.4, 0.2, 0.4], \\\n",
    "                            callbacks = [tf.keras.callbacks.EarlyStopping(patience = 3)])\n",
    "fisher = pi_weighted_imnn_layer.computeFisher(all_vecs, circle_pipeline.delta_theta)\n",
    "show_fm_and_bias(fisher)"
   ]
  },
  {
   "cell_type": "code",
   "execution_count": 68,
   "id": "a443c196-0064-40ee-b523-219f3c682c33",
   "metadata": {},
   "outputs": [
    {
     "data": {
      "image/png": "[encoded data removed]",
      "text/plain": [
       "<Figure size 500x300 with 2 Axes>"
      ]
     },
     "metadata": {},
     "output_type": "display_data"
    },
    {
     "data": {
      "image/png": "[encoded data removed]",
      "text/plain": [
       "<Figure size 1000x300 with 4 Axes>"
      ]
     },
     "metadata": {},
     "output_type": "display_data"
    }
   ],
   "source": [
    "plotSummaryDerivativeHists(fisher)"
   ]
  },
  {
   "cell_type": "code",
   "execution_count": 83,
   "id": "a0b1c8ed-ae53-4063-98f0-2f3089173b2c",
   "metadata": {},
   "outputs": [
    {
     "data": {
      "image/png": "[encoded data removed]",
      "text/plain": [
       "<Figure size 800x300 with 4 Axes>"
      ]
     },
     "metadata": {},
     "output_type": "display_data"
    }
   ],
   "source": [
    "\n",
    "from mpl_toolkits.axes_grid1 import make_axes_locatable\n",
    "ncols = 2\n",
    "fig, axes = plt.subplots(nrows=1, ncols= ncols, \\\n",
    "                         figsize=(3 * ncols + 2 , 3))\n",
    "pers_image = all_vecs[0, 2]\n",
    "for idx in range(ncols):\n",
    "    ax = axes[idx]\n",
    "    im = ax.imshow(np.flip(pers_image[:, :, idx], axis = 0))\n",
    "    ax.title.set_text(\"PI for hom_dim = \" + str(idx))\n",
    "    divider = make_axes_locatable(ax)\n",
    "    cax = divider.append_axes('right', size='5%', pad=0.05)\n",
    "    fig.colorbar(im, cax=cax, orientation='vertical')\n",
    "plt.tight_layout()\n",
    "plt.show()"
   ]
  },
  {
   "cell_type": "code",
   "execution_count": 88,
   "id": "81123d72-382b-4547-bdbb-36f8ed211908",
   "metadata": {},
   "outputs": [
    {
     "data": {
      "text/plain": [
       "(6.256615736918437, 0.1247093466686507)"
      ]
     },
     "execution_count": 88,
     "metadata": {},
     "output_type": "execute_result"
    }
   ],
   "source": [
    "ind = 3\n",
    "np.max(all_vecs[0, ind, :, :, 1]), np.mean(all_vecs[0, ind, :, :, 1])"
   ]
  },
  {
   "cell_type": "code",
   "execution_count": 85,
   "id": "49e42965-3143-4fe6-858d-98c8dfa9e88d",
   "metadata": {},
   "outputs": [
    {
     "data": {
      "text/plain": [
       "PersistenceImage(bandwidth=0.05,\n",
       "                 im_range=array([1.03501081e+00, 3.21200657e+00, 2.38418579e-07, 7.95339227e-01]),\n",
       "                 resolution=[24, 24],\n",
       "                 weight=<function <lambda> at 0x7f9b08332040>)"
      ]
     },
     "execution_count": 85,
     "metadata": {},
     "output_type": "execute_result"
    }
   ],
   "source": [
    "vectorizations[1]"
   ]
  },
  {
   "cell_type": "markdown",
   "id": "b097b3eb-e0ce-45f1-8478-c56ccc20e7e6",
   "metadata": {
    "jp-MarkdownHeadingCollapsed": true,
    "tags": []
   },
   "source": [
    "## Concatenating"
   ]
  },
  {
   "cell_type": "code",
   "execution_count": 3,
   "id": "c9e52f04-0ca2-40b5-ae8a-233edd6c5d62",
   "metadata": {},
   "outputs": [
    {
     "name": "stderr",
     "output_type": "stream",
     "text": [
      "100%|██████████| 10000/10000 [01:25<00:00, 117.06it/s]\n",
      "100%|██████████| 10000/10000 [01:26<00:00, 115.07it/s]\n",
      "100%|██████████| 10000/10000 [01:24<00:00, 118.36it/s]\n",
      "100%|██████████| 10000/10000 [01:23<00:00, 119.10it/s]\n",
      "100%|██████████| 10000/10000 [01:21<00:00, 122.32it/s]\n"
     ]
    }
   ],
   "source": [
    "vectorizations = [TOPK(bdp_type = \"bd\", is_binned = True, topk = 219, num_bins = 25), TOPK(bdp_type = \"bd\", is_binned = True, topk = 29, num_bins = 5)]\n",
    "\n",
    "vecLayer = VectorizationLayers(vectorizations = vectorizations)\n",
    "fisherLayer = MopedLayer()\n",
    "circle_pipeline = CirclePipeline(ncirc= 200, nback = 20, bgmAvg = 1., n_s = 10000, n_d = 10000, \\\n",
    "                                 theta_fid = tf.constant([1., 0.2]), delta_theta = tf.constant([0.1, 0.02]),\\\n",
    "                                 filtLayer = AlphaDTMLayer(m = 0.9, max_hom_dim = 2, hom_dim_list = [0, 1], show_tqdm = True),\n",
    "                                 vecLayer = vecLayer, fisherLayer = fisherLayer, find_derivative = [True, True])\n",
    "circle_pipeline.run_pipeline()"
   ]
  },
  {
   "cell_type": "code",
   "execution_count": 4,
   "id": "9ad73ae9-3ee4-4130-a967-db7af5bf860d",
   "metadata": {},
   "outputs": [
    {
     "name": "stdout",
     "output_type": "stream",
     "text": [
      "FM =  [3814.2   562.56  562.56 4900.19]\n",
      "Fractional bias =  [0.   0.02]\n"
     ]
    }
   ],
   "source": [
    "show_fm_and_bias(circle_pipeline.fisher)"
   ]
  },
  {
   "cell_type": "code",
   "execution_count": 51,
   "id": "64e12678-359a-4694-8d49-cba4b07ed8e8",
   "metadata": {},
   "outputs": [
    {
     "data": {
      "text/plain": [
       "<tf.Tensor: shape=(2, 2), dtype=float64, numpy=\n",
       "array([[9.14883209e+00, 4.22685132e-02],\n",
       "       [4.22685132e-02, 1.09236699e+02]])>"
      ]
     },
     "execution_count": 51,
     "metadata": {},
     "output_type": "execute_result"
    }
   ],
   "source": [
    "circle_pipeline.fisher.err"
   ]
  },
  {
   "cell_type": "code",
   "execution_count": null,
   "id": "a7319a9c-5031-45a7-8bcc-eff5c1e222e0",
   "metadata": {},
   "outputs": [],
   "source": [
    "res = 24\n",
    "pi_vec_layer = PersistenceImages(resolutions = [[res, res], [res, res]], bandwidths = [3e-2, 5e-2])\n",
    "all_vecs = []\n",
    "for pds in circle_pipeline.all_persistence_diagrams:\n",
    "    vecs = pi_vec_layer.vectorize_persistence_diagrams(pds)\n",
    "    all_vecs.append(vecs)\n",
    "\n",
    "all_vecs = tf.stack(all_vecs)"
   ]
  },
  {
   "cell_type": "code",
   "execution_count": 22,
   "id": "1b5f5a13-823a-4817-a581-057fa2b662a5",
   "metadata": {},
   "outputs": [],
   "source": [
    "model = tf.keras.Sequential(\n",
    "    [\n",
    "        ExtraDimLayer(tf.keras.layers.Conv2D(8, (3,3), padding='same', activation = \"relu\", input_shape=(res, res, 2))),\n",
    "        ExtraDimLayer(tf.keras.layers.MaxPooling2D((2, 2), strides=2)),\n",
    "        ExtraDimLayer(tf.keras.layers.Flatten()),\n",
    "        tf.keras.layers.Dense(12, activation=\"relu\"),\n",
    "        tf.keras.layers.Dense(2)\n",
    "    ]\n",
    ")"
   ]
  },
  {
   "cell_type": "code",
   "execution_count": 23,
   "id": "f8acdc7d-cfe1-47b3-ac72-6653fd790507",
   "metadata": {},
   "outputs": [
    {
     "name": "stdout",
     "output_type": "stream",
     "text": [
      "Epoch 1/8\n",
      "8/8 [==============================] - 6s 468ms/step - loss: -11.7281 - bias0: 242.3454 - bias1: 251.4175 - val_loss: -14.3558 - val_bias0: 0.1013 - val_bias1: 0.6046\n",
      "Epoch 2/8\n",
      "8/8 [==============================] - 3s 319ms/step - loss: -14.7581 - bias0: 0.0971 - bias1: 0.4029 - val_loss: -14.8999 - val_bias0: 0.0747 - val_bias1: 0.2986\n",
      "Epoch 3/8\n",
      "8/8 [==============================] - 3s 332ms/step - loss: -15.2081 - bias0: 0.0783 - bias1: 0.2430 - val_loss: -15.2353 - val_bias0: 0.0656 - val_bias1: 0.2261\n",
      "Epoch 4/8\n",
      "8/8 [==============================] - 3s 348ms/step - loss: -15.5186 - bias0: 0.0688 - bias1: 0.1896 - val_loss: -15.5417 - val_bias0: 0.0593 - val_bias1: 0.1818\n",
      "Epoch 5/8\n",
      "8/8 [==============================] - 3s 330ms/step - loss: -15.7901 - bias0: 0.0633 - bias1: 0.1552 - val_loss: -15.7942 - val_bias0: 0.0556 - val_bias1: 0.1515\n",
      "Epoch 6/8\n",
      "8/8 [==============================] - 3s 330ms/step - loss: -16.0303 - bias0: 0.0603 - bias1: 0.1333 - val_loss: -16.0092 - val_bias0: 0.0539 - val_bias1: 0.1309\n",
      "Epoch 7/8\n",
      "8/8 [==============================] - 3s 323ms/step - loss: -16.2293 - bias0: 0.0589 - bias1: 0.1207 - val_loss: -16.1790 - val_bias0: 0.0533 - val_bias1: 0.1188\n",
      "Epoch 8/8\n",
      "8/8 [==============================] - 2s 312ms/step - loss: -16.3897 - bias0: 0.0589 - bias1: 0.1141 - val_loss: -16.3035 - val_bias0: 0.0537 - val_bias1: 0.1135\n"
     ]
    }
   ],
   "source": [
    "pi_imnn_layer = IMNNLayer(model, verbose = 1, epochs = 8, data_splits = [0.4, 0.2, 0.4], \\\n",
    "                            callbacks = [tf.keras.callbacks.EarlyStopping(patience = 3)], show_bias = True)\n",
    "fisher = pi_imnn_layer.computeFisher(all_vecs, circle_pipeline.delta_theta)"
   ]
  },
  {
   "cell_type": "code",
   "execution_count": 24,
   "id": "826e5210-7430-4948-aa11-abf77165c068",
   "metadata": {},
   "outputs": [
    {
     "name": "stdout",
     "output_type": "stream",
     "text": [
      "FM =  [3385.78  -21.36  -21.36 3574.07]\n",
      "Fractional bias =  [0.06 0.12]\n"
     ]
    }
   ],
   "source": [
    "show_fm_and_bias(fisher)"
   ]
  },
  {
   "cell_type": "code",
   "execution_count": 25,
   "id": "cb1e9365-b628-4e12-a52a-4caf38039397",
   "metadata": {},
   "outputs": [],
   "source": [
    "pi_vecs = fisher.summaries"
   ]
  },
  {
   "cell_type": "code",
   "execution_count": 26,
   "id": "5d9e2e7a-a29e-46a3-a90c-5e5f1f91cf38",
   "metadata": {},
   "outputs": [
    {
     "data": {
      "text/plain": [
       "TensorShape([5, 4000, 2])"
      ]
     },
     "execution_count": 26,
     "metadata": {},
     "output_type": "execute_result"
    }
   ],
   "source": [
    "pi_vecs.shape"
   ]
  },
  {
   "cell_type": "code",
   "execution_count": 29,
   "id": "5ec7babc-e8ca-4b1e-bc3a-c0f8dcabcf99",
   "metadata": {},
   "outputs": [],
   "source": [
    "moped_vecs = tf.stack(circle_pipeline.fisher.summaries)"
   ]
  },
  {
   "cell_type": "code",
   "execution_count": 35,
   "id": "5bdc37c2-bd0b-4696-a9b0-31d88c214121",
   "metadata": {},
   "outputs": [
    {
     "data": {
      "text/plain": [
       "TensorShape([5, 4000, 2])"
      ]
     },
     "execution_count": 35,
     "metadata": {},
     "output_type": "execute_result"
    }
   ],
   "source": [
    "moped_vecs[:, -4000:, :].shape"
   ]
  },
  {
   "cell_type": "code",
   "execution_count": 36,
   "id": "9ef7d47a-c1a4-4175-9746-687ebdccfc4f",
   "metadata": {},
   "outputs": [],
   "source": [
    "concat_vecs = np.concatenate([moped_vecs[:, -4000:, :], pi_vecs], axis = -1)"
   ]
  },
  {
   "cell_type": "code",
   "execution_count": 42,
   "id": "b9f9aad4-4b99-4eb6-a6d9-d1fcf03a8b72",
   "metadata": {},
   "outputs": [],
   "source": [
    "import topofisher\n",
    "fisher = topofisher.fisher.Fisher.fisherFromVecs(concat_vecs, circle_pipeline.delta_theta)"
   ]
  },
  {
   "cell_type": "code",
   "execution_count": 43,
   "id": "c36a722d-2a78-43ae-a195-0dc9f3db95a0",
   "metadata": {},
   "outputs": [
    {
     "name": "stdout",
     "output_type": "stream",
     "text": [
      "FM =  [3923.19  505.57  505.57 5117.17]\n",
      "Fractional bias =  [0.16 0.29]\n"
     ]
    }
   ],
   "source": [
    "show_fm_and_bias(fisher)"
   ]
  },
  {
   "cell_type": "code",
   "execution_count": 48,
   "id": "1008e815-46ab-4fe2-b554-c60174ada9be",
   "metadata": {},
   "outputs": [
    {
     "data": {
      "text/plain": [
       "array([9.11796629e-01, 2.29350066e+00, 5.72204590e-06, 9.49870586e-01])"
      ]
     },
     "execution_count": 48,
     "metadata": {},
     "output_type": "execute_result"
    }
   ],
   "source": [
    "pi_vec_layer.vectorizations[0].im_range_fixed_"
   ]
  },
  {
   "cell_type": "code",
   "execution_count": 49,
   "id": "f10c3d5e-b790-4c6a-9884-c10ad380135c",
   "metadata": {},
   "outputs": [
    {
     "data": {
      "text/plain": [
       "array([9.89345193e-01, 3.25344276e+00, 1.19209290e-07, 8.49098444e-01])"
      ]
     },
     "execution_count": 49,
     "metadata": {},
     "output_type": "execute_result"
    }
   ],
   "source": [
    "pi_vec_layer.vectorizations[1].im_range_fixed_"
   ]
  },
  {
   "cell_type": "code",
   "execution_count": null,
   "id": "12978231-cd1f-4bdb-8e80-4820e6e9195f",
   "metadata": {},
   "outputs": [],
   "source": []
  }
 ],
 "metadata": {
  "kernelspec": {
   "display_name": "newEnvbkup",
   "language": "python",
   "name": "newenvbkup"
  },
  "language_info": {
   "codemirror_mode": {
    "name": "ipython",
    "version": 3
   },
   "file_extension": ".py",
   "mimetype": "text/x-python",
   "name": "python",
   "nbconvert_exporter": "python",
   "pygments_lexer": "ipython3",
   "version": "3.8.0"
  }
 },
 "nbformat": 4,
 "nbformat_minor": 5
}
