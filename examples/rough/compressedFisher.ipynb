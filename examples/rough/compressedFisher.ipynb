{
 "cells": [
  {
   "cell_type": "code",
   "execution_count": 1,
   "id": "14251dc6-734c-4f73-9775-55d75187a4e6",
   "metadata": {},
   "outputs": [
    {
     "name": "stderr",
     "output_type": "stream",
     "text": [
      "2023-11-03 20:09:02.293382: I tensorflow/core/platform/cpu_feature_guard.cc:193] This TensorFlow binary is optimized with oneAPI Deep Neural Network Library (oneDNN) to use the following CPU instructions in performance-critical operations:  SSE4.1 SSE4.2 AVX AVX2 FMA\n",
      "To enable them in other operations, rebuild TensorFlow with the appropriate compiler flags.\n",
      "2023-11-03 20:09:09.642062: I tensorflow/core/platform/cpu_feature_guard.cc:193] This TensorFlow binary is optimized with oneAPI Deep Neural Network Library (oneDNN) to use the following CPU instructions in performance-critical operations:  SSE4.1 SSE4.2 AVX AVX2 FMA\n",
      "To enable them in other operations, rebuild TensorFlow with the appropriate compiler flags.\n"
     ]
    }
   ],
   "source": [
    "import tensorflow as tf\n",
    "import numpy as np\n",
    "import matplotlib.pyplot as plt\n",
    "import tqdm\n",
    "from tqdm import tqdm\n",
    "import matplotlib.colors as mcolors\n",
    "from copy import deepcopy\n",
    "from gudhi.representations import Landscape, PersistenceImage\n",
    "\n",
    "from topofisher.input_simulators.noisy_ring import CircleSimulator\n",
    "\n",
    "from topofisher.filtrations.numpy.alphaDTML import AlphaDTMLayer\n",
    "\n",
    "from topofisher.vectorizations.numpy.custom_vectorizations import TOPK\n",
    "from topofisher.vectorizations.numpy.vectorization_layer import VectorizationLayers\n",
    "from topofisher.vectorizations.numpy.shorthand_layers import PersistenceImages, PersistenceLandscapes\n",
    "\n",
    "from topofisher.fisher.Fisher import show_fm_and_bias, fisherFromVecs, fisherMOPED\n",
    "from topofisher.fisher.imnn import IMNNLayer, MopedLayer, ExtraDimLayer, FisherLayer\n",
    "from topofisher.fisher.plot_fisher_stats import plotContours2D, plotSummaryDerivativeHists, plot_derivative_convergence\n",
    "\n",
    "\n",
    "from topofisher.pipelines.circle import CirclePipeline\n",
    "from topofisher.pipelines.convergence_checks import fisher_estimates_wrt_step_size\n",
    "from topofisher.pipelines.utils import readFromFile, writeToFile\n",
    "\n",
    "import CompressedFisher"
   ]
  },
  {
   "cell_type": "markdown",
   "id": "6c8cfad6-572a-497f-b79b-a81c65ddf61f",
   "metadata": {
    "jp-MarkdownHeadingCollapsed": true,
    "tags": []
   },
   "source": [
    "## Importlib"
   ]
  },
  {
   "cell_type": "code",
   "execution_count": 10,
   "id": "57d76f7a-fc54-490f-895f-f0c77ea403d9",
   "metadata": {},
   "outputs": [],
   "source": [
    "import importlib\n",
    "import topofisher\n",
    "importlib.reload(topofisher.fisher.Fisher)\n",
    "importlib.reload(topofisher.fisher.imnn)\n",
    "\n",
    "importlib.reload(topofisher.filtrations.numpy.filtration_layers)\n",
    "importlib.reload(topofisher.filtrations.numpy.alphaDTML)\n",
    "importlib.reload(topofisher.input_simulators.noisy_ring)\n",
    "importlib.reload(topofisher.pipelines.pipeline)\n",
    "importlib.reload(topofisher.pipelines.circle)\n",
    "\n",
    "from topofisher.input_simulators.noisy_ring import CircleSimulator\n",
    "\n",
    "from topofisher.filtrations.numpy.alphaDTML import AlphaDTMLayer\n",
    "\n",
    "from topofisher.vectorizations.numpy.custom_vectorizations import TOPK\n",
    "from topofisher.vectorizations.numpy.vectorization_layer import VectorizationLayers\n",
    "from topofisher.vectorizations.numpy.shorthand_layers import PersistenceImages, PersistenceLandscapes\n",
    "importlib.reload(topofisher.fisher.Fisher)\n",
    "from topofisher.fisher.Fisher import show_fm_and_bias, fisherFromVecs, fisherMOPED\n",
    "importlib.reload(topofisher.fisher.imnn)\n",
    "from topofisher.fisher.imnn import IMNNLayer, FisherLayer, MopedLayer, ExtraDimLayer\n",
    "from topofisher.fisher.plot_fisher_stats import plotContours2D, plotSummaryDerivativeHists, plot_derivative_convergence\n",
    "\n",
    "\n",
    "from topofisher.pipelines.circle import CirclePipeline"
   ]
  },
  {
   "cell_type": "markdown",
   "id": "5a1f7349-db4c-4593-a6a1-56b03488c29e",
   "metadata": {
    "jp-MarkdownHeadingCollapsed": true,
    "tags": []
   },
   "source": [
    "## Starters"
   ]
  },
  {
   "cell_type": "code",
   "execution_count": 3,
   "id": "4f661cf2-5045-480c-b394-3801cf88cbbe",
   "metadata": {},
   "outputs": [
    {
     "name": "stdout",
     "output_type": "stream",
     "text": [
      "log FI =  16.77\n",
      "FM =  [3830.37  539.6   539.6  5088.21]\n",
      "Fractional bias =  [0.   0.03]\n",
      "Constraints =  [0.01627976 0.01412493]\n"
     ]
    }
   ],
   "source": [
    "circle_pipeline = readFromFile(\"/Users/karthikviswanathan/Downloads/circle_pipelines/pipeline_m_p9_ns_4K.pkl\")\n",
    "fisher = circle_pipeline.fisher\n",
    "show_fm_and_bias(fisher)"
   ]
  },
  {
   "cell_type": "code",
   "execution_count": 4,
   "id": "f29d0047-dabd-4e05-88cf-8a5d6350b1f9",
   "metadata": {},
   "outputs": [
    {
     "name": "stdout",
     "output_type": "stream",
     "text": [
      "log FI =  16.76\n",
      "FM =  [3836.88  502.35  502.35 5025.35]\n",
      "Fractional bias =  [0. 0.]\n",
      "Constraints =  [0.01625069 0.01419965]\n"
     ]
    }
   ],
   "source": [
    "fish = fisherFromVecs(circle_pipeline.all_vecs, circle_pipeline.delta_theta)\n",
    "show_fm_and_bias(fish)"
   ]
  },
  {
   "cell_type": "code",
   "execution_count": 5,
   "id": "a6d0521c-f2df-4c42-a75d-0a15ff2c47a2",
   "metadata": {},
   "outputs": [
    {
     "name": "stdout",
     "output_type": "stream",
     "text": [
      "log FI =  16.77\n",
      "FM =  [3824.63  538.79  538.79 5080.57]\n",
      "Fractional bias =  [0. 0.]\n",
      "Constraints =  [0.01629199 0.01413554]\n"
     ]
    }
   ],
   "source": [
    "fish = fisherMOPED(circle_pipeline.all_vecs, circle_pipeline.delta_theta)\n",
    "show_fm_and_bias(fish)"
   ]
  },
  {
   "cell_type": "code",
   "execution_count": null,
   "id": "63f56518-d861-4e59-b552-5417fd983385",
   "metadata": {},
   "outputs": [],
   "source": []
  },
  {
   "cell_type": "code",
   "execution_count": 6,
   "id": "a9be5c84-9991-47c3-a7ac-1da7f46b14f6",
   "metadata": {},
   "outputs": [
    {
     "data": {
      "text/plain": [
       "(array([[ 2.62099900e-04, -2.49779319e-05],\n",
       "        [-2.51109281e-05,  2.04798006e-04]]),\n",
       " <tf.Tensor: shape=(2, 2), dtype=float64, numpy=\n",
       " array([[3897.59887272,  406.58479541],\n",
       "        [ 406.58479541, 4805.21502824]])>)"
      ]
     },
     "execution_count": 6,
     "metadata": {},
     "output_type": "execute_result"
    }
   ],
   "source": [
    "np.linalg.inv(fish.ders), fish.C"
   ]
  },
  {
   "cell_type": "code",
   "execution_count": 7,
   "id": "8c93ce92-ae86-4fcc-a148-8cd88c49dc2c",
   "metadata": {},
   "outputs": [
    {
     "name": "stdout",
     "output_type": "stream",
     "text": [
      "log FI =  14.88\n",
      "FM =  [2383.8    11.1    11.1  1220.21]\n",
      "Fractional bias =  [0.   0.07]\n",
      "Constraints =  [0.0204821  0.02862803]\n"
     ]
    }
   ],
   "source": [
    "vectorizations = [TOPK(bdp_type = \"bdp\", is_binned = False, topk = 219), TOPK(bdp_type = \"bdp\", is_binned = False, topk = 29)]\n",
    "\n",
    "vecLayer = VectorizationLayers(vectorizations = vectorizations[1:], pds_idx_list = [1])\n",
    "fisherLayer = FisherLayer()\n",
    "fish = circle_pipeline.vectorize_and_fisher(vecLayer, fisherLayer)\n",
    "show_fm_and_bias(fish)"
   ]
  },
  {
   "cell_type": "code",
   "execution_count": 8,
   "id": "1c7f60b1-0c40-4cc1-acdb-e7b0d85156ea",
   "metadata": {},
   "outputs": [
    {
     "data": {
      "text/plain": [
       "array([[-7.90464316e-01,  1.43296403e+03],\n",
       "       [ 1.43296403e+03, -4.69190358e+00]])"
      ]
     },
     "execution_count": 8,
     "metadata": {},
     "output_type": "execute_result"
    }
   ],
   "source": [
    "circle_pipeline.collect_benchmarks()\n",
    "TFM = circle_pipeline.benchmarks['TFM']\n",
    "FM = fish.FM\n",
    "(np.linalg.inv(TFM) - np.linalg.inv(FM))/np.linalg.inv(TFM)"
   ]
  },
  {
   "cell_type": "markdown",
   "id": "9b36e66f-2b4c-4e04-86bb-4797b000b39b",
   "metadata": {},
   "source": [
    "## Comparing VK and compressed fisher "
   ]
  },
  {
   "cell_type": "code",
   "execution_count": 2,
   "id": "71792ed4-9f40-4a06-9e78-254c3730a8a5",
   "metadata": {},
   "outputs": [
    {
     "name": "stderr",
     "output_type": "stream",
     "text": [
      "100%|██████████| 4000/4000 [00:30<00:00, 131.65it/s]\n",
      "100%|██████████| 4000/4000 [00:30<00:00, 130.91it/s]\n",
      "100%|██████████| 4000/4000 [00:30<00:00, 131.71it/s]\n",
      "100%|██████████| 4000/4000 [00:34<00:00, 117.12it/s]\n",
      "100%|██████████| 4000/4000 [00:32<00:00, 121.90it/s]\n"
     ]
    }
   ],
   "source": [
    "vectorizations = [TOPK(bdp_type = \"bd\", is_binned = True, topk = 219, num_bins = 25), TOPK(bdp_type = \"bd\", is_binned = True, topk = 29, num_bins = 5)]\n",
    "\n",
    "vecLayer = VectorizationLayers(vectorizations = vectorizations)\n",
    "fisherLayer = MopedLayer()\n",
    "circle_pipeline = CirclePipeline(ncirc= 200, nback = 20, bgmAvg = 1., n_s = 4000, n_d = 4000, \\\n",
    "                                 theta_fid = tf.constant([1., 0.2]), delta_theta = tf.constant([0.1, 0.02]),\\\n",
    "                                 filtLayer = AlphaDTMLayer(m = 0.9, max_hom_dim = 2, hom_dim_list = [0, 1], show_tqdm = True),\n",
    "                                 vecLayer = vecLayer, fisherLayer = fisherLayer, find_derivative = [True, True])\n",
    "circle_pipeline.run_pipeline()"
   ]
  },
  {
   "cell_type": "markdown",
   "id": "6689782a-eb30-4d77-bcf9-b8104558bcfa",
   "metadata": {
    "tags": []
   },
   "source": [
    "## Unbinned"
   ]
  },
  {
   "cell_type": "code",
   "execution_count": 3,
   "id": "faa8a40b-da00-4bce-96db-f1befe273ad9",
   "metadata": {},
   "outputs": [
    {
     "name": "stdout",
     "output_type": "stream",
     "text": [
      "log FI =  16.88\n",
      "FM =  [4019.86  382.68  382.68 5380.56]\n",
      "Fractional bias =  [0.01 0.08]\n",
      "Constraints =  [0.01582595 0.01367923]\n"
     ]
    }
   ],
   "source": [
    "vectorizations = [TOPK(bdp_type = \"bp\", is_binned = False, topk = 219), \\\n",
    "                  TOPK(bdp_type = \"bp\", is_binned = False, topk = 29)\n",
    "                 ]\n",
    "\n",
    "vecLayer = VectorizationLayers(vectorizations = vectorizations, pds_idx_list = [0, 1])\n",
    "fisherLayer = FisherLayer()\n",
    "fish = circle_pipeline.vectorize_and_fisher(vecLayer, fisherLayer)\n",
    "show_fm_and_bias(fish)\n",
    "summaries = fish.summaries"
   ]
  },
  {
   "cell_type": "code",
   "execution_count": 14,
   "id": "f2c6fb2c-ef7c-4e1b-bf2d-77d7d113cd7f",
   "metadata": {},
   "outputs": [
    {
     "data": {
      "text/plain": [
       "TensorShape([4000, 496])"
      ]
     },
     "execution_count": 14,
     "metadata": {},
     "output_type": "execute_result"
    }
   ],
   "source": [
    "summaries[0].shape"
   ]
  },
  {
   "cell_type": "code",
   "execution_count": 33,
   "id": "d52e8b4a-7f91-47cc-a257-0cfd7e42bef9",
   "metadata": {},
   "outputs": [
    {
     "data": {
      "text/plain": [
       "<module 'CompressedFisher' from '/Users/karthikviswanathan/opt/anaconda3/envs/newEnvbkup/lib/python3.8/site-packages/CompressedFisher/__init__.py'>"
      ]
     },
     "execution_count": 33,
     "metadata": {},
     "output_type": "execute_result"
    }
   ],
   "source": [
    "import importlib\n",
    "importlib.reload(CompressedFisher)"
   ]
  },
  {
   "cell_type": "markdown",
   "id": "190f944e-17da-45ce-8a10-87fa98bbdfdb",
   "metadata": {
    "tags": []
   },
   "source": [
    "### Standard forecast"
   ]
  },
  {
   "cell_type": "code",
   "execution_count": null,
   "id": "b9b0db44-0f49-4771-bd15-bd31334fbe5e",
   "metadata": {},
   "outputs": [],
   "source": [
    "fid_arr = summaries[0].numpy()\n",
    "der_arr = summaries[1:]\n",
    "params_fid = np.array(circle_pipeline.theta_fid)\n",
    "delta_params =  0.5*np.array(circle_pipeline.delta_theta) \n",
    "parameter_names = [\"radius\", \"sigma \"]\n",
    "\n",
    "dict_param_steps = {parameter_names[i]:delta_params[i] for i in range(len(params_fid))}\n",
    "dict_deriv_sims = {parameter_names[i]:np.array(der_arr[2*i: 2*i + 2]) for i in range(len(params_fid))}\n",
    "nSimsCovMat = fid_arr.shape[0]\n",
    "nSims_deriv = der_arr[0].shape[0]\n",
    "cFisher = CompressedFisher.gaussianFisher(parameter_names, nSims_deriv, \\\n",
    "                                          include_covmat_param_depedence=False,\n",
    "                                      deriv_finite_dif_accuracy=2)\n",
    "compress_frac_split_ders = 0.\n",
    "compress_frac_split_cov = 0.\n",
    "covmat_sims = fid_arr\n",
    "cFisher.initailize_covmat(covmat_sims, True)\n",
    "cFisher.initailize_mean(covmat_sims)\n",
    "cFisher.initailize_deriv_sims(dic_deriv_sims=dict_deriv_sims, dict_param_steps=dict_param_steps)\n",
    "cFisher.generate_deriv_sim_splits(compress_fraction=compress_frac_split_ders)\n",
    "stnd_constraint    = cFisher.compute_fisher_forecast(parameter_names)\n",
    "stnd_constraint_bias = cFisher.est_fisher_forecast_bias(parameter_names)\n",
    "# print(cFisher._compute_fisher_matrix(parameter_names))\n",
    "print(f'Parameter  \\t standard Fisher \\t Est. Fractional bias ')\n",
    "for i,name in enumerate(parameter_names):\n",
    "    print(f'{name}  \\t\\t  {stnd_constraint[i,i]**.5:.3f} \\t\\t     {(stnd_constraint_bias/stnd_constraint)[i,i]:.3f} ')\n",
    "\n",
    "cFisher._compute_fisher_matrix(parameter_names)"
   ]
  },
  {
   "cell_type": "code",
   "execution_count": 7,
   "id": "873ce9ca-19b1-4cd3-b6cf-7542d6410a06",
   "metadata": {},
   "outputs": [
    {
     "data": {
      "text/plain": [
       "array([[3923.63959811,  462.75388314],\n",
       "       [ 462.75388314, 5574.52774248]])"
      ]
     },
     "execution_count": 7,
     "metadata": {},
     "output_type": "execute_result"
    }
   ],
   "source": [
    "fisherFromVecs(summaries, circle_pipeline.delta_theta).FM.numpy()"
   ]
  },
  {
   "cell_type": "markdown",
   "id": "75e89c67-cf60-4e49-8da0-91ad7541ae0e",
   "metadata": {},
   "source": [
    "### Compressed Forecast"
   ]
  },
  {
   "cell_type": "code",
   "execution_count": 23,
   "id": "78559619-926a-473e-8e20-7e3496d5c4ac",
   "metadata": {},
   "outputs": [],
   "source": [
    "import importlib,topofisher\n",
    "importlib.reload(CompressedFisher.fisher)\n",
    "importlib.reload(CompressedFisher)\n",
    "import CompressedFisher\n",
    "from CompressedFisher import gaussianFisher\n",
    "importlib.reload(topofisher.fisher.Fisher)\n",
    "from topofisher.fisher.Fisher import show_fm_and_bias, fisherFromVecs, fisherMOPED\n",
    "from topofisher.fisher.imnn import IMNNLayer, MopedLayer, ExtraDimLayer, FisherLayer\n",
    "\n"
   ]
  },
  {
   "cell_type": "code",
   "execution_count": 156,
   "id": "602246c7-252e-4572-8558-e5eb6049c29a",
   "metadata": {},
   "outputs": [],
   "source": [
    "fid_arr = summaries[0].numpy()\n",
    "der_arr = summaries[1:]\n",
    "params_fid = np.array(circle_pipeline.theta_fid)\n",
    "delta_params =  0.5*np.array(circle_pipeline.delta_theta) \n",
    "parameter_names = [\"radius\", \"sigma \"]\n",
    "\n",
    "dict_param_steps = {parameter_names[i]:delta_params[i] for i in range(len(params_fid))}\n",
    "dict_deriv_sims = {parameter_names[i]:der_arr[2*i: 2*i + 2].numpy() for i in range(len(params_fid))}\n",
    "nSimsCovMat = fid_arr.shape[0]\n",
    "nSims_deriv = der_arr.shape[1]\n",
    "cFisher = CompressedFisher.gaussianFisher(parameter_names, nSims_deriv, \\\n",
    "                                          include_covmat_param_depedence=False,\n",
    "                                      deriv_finite_dif_accuracy=2)\n",
    "compress_frac_split_ders = 0.5\n",
    "compress_frac_split_cov = 0.5\n",
    "\n",
    "covmat_sims = fid_arr\n",
    "cFisher.initailize_covmat(covmat_sims, True)\n",
    "cFisher.params_names = parameter_names\n",
    "def find_fm_cf(): \n",
    "    #cFisher.generate_covmat_sim_splits(compress_fraction = compress_frac_split_cov)\n",
    "    \n",
    "    cFisher.generate_covmat_sim_splits(ids_comp = list(range(0, nSimsCovMat//2)), \\\n",
    "                                       ids_fish = list(range(nSimsCovMat//2, nSimsCovMat)))\n",
    "\n",
    "    # print(cFisher.covmat_comp)\n",
    "    cFisher.initailize_mean(covmat_sims)\n",
    "    cFisher.initailize_deriv_sims(dic_deriv_sims=dict_deriv_sims, dict_param_steps=dict_param_steps)\n",
    "    cFisher.generate_deriv_sim_splits(ids_comp = list(range(0, nSims_deriv//2)), \\\n",
    "              ids_fish = list(range(nSims_deriv//2, nSims_deriv)))\n",
    "\n",
    "    # cFisher.generate_deriv_sim_splits(compress_fraction = compress_frac_split_ders)\n",
    "\n",
    "    return cFisher\n",
    "    # return "
   ]
  },
  {
   "cell_type": "code",
   "execution_count": 183,
   "id": "8e085478-d5d8-4393-bec9-4b87d8847444",
   "metadata": {},
   "outputs": [],
   "source": [
    "import tensorflow_probability as tfp\n",
    "class fisherMOPED(fisherFromVecs):\n",
    "    \"\"\"\n",
    "    Fisher analysis after compression using MOPED given the summaries \n",
    "    calculated at \n",
    "    [theta_fid, ..., (theta_fid - delta_theta/2)_i, \\\n",
    "     (theta_fid + delta_theta/2)_i, ...]. One half of the simulations is used \n",
    "    to estimate the MOPED compression matrix and the other half is used to \n",
    "    carry out the Fisher analysis of the compressed summaries. \n",
    "    \"\"\"\n",
    "    def __init__(self, summaries, delta_theta, name = \"MOPED\", \\\n",
    "                 clean_data = True):\n",
    "        \"\"\"\n",
    "        Initialize a MOPED Fisher class.\n",
    "        \n",
    "        Parameters\n",
    "        ----------\n",
    "        summaries : tf.Tensor\n",
    "            Summaries for constructing the compression matrix (training) and\n",
    "            for the Fisher analysis (testing).\n",
    "        delta_theta : tf.Tensor\n",
    "            The step size that is used to calculate the derivatives.\n",
    "        name : str, optional\n",
    "            Name for the Fisher class. The default is None.\n",
    "        clean_data : bool, optional\n",
    "            Flag to clean data. If True, removes columns with zero variance.\n",
    "            The default is True.\n",
    "        \"\"\"\n",
    "        n_s = summaries[0].shape[0]\n",
    "        n_d = summaries[1].shape[0]\n",
    "        \n",
    "        self.delta_theta = delta_theta\n",
    "        self._n_params = (len(summaries) - 1)//2 # Subtracting 1 for fiducial\n",
    "        \n",
    "        # shuffled_summaries = self.shuffle_data_vectors(summaries)\n",
    "        shuffled_summaries = summaries\n",
    "        vecs_cov = shuffled_summaries[0][ :n_s//2]\n",
    "        der_vecs = [item[ :n_d//2] for item in shuffled_summaries[1:]]\n",
    "        \n",
    "        self.moped_compmat = self.compute_compression_matrix(vecs_cov, der_vecs)\n",
    "        print(self.moped_compmat.shape)\n",
    "        \n",
    "        fisher_vecs = [shuffled_summaries[0][n_s//2: ]]\n",
    "        fisher_vecs.extend([item[n_d//2: ] for item in shuffled_summaries[1:]])\n",
    "\n",
    "        compressed_vecs = [tf.matmul(item, self.moped_compmat) \\\n",
    "                           for item in fisher_vecs] \n",
    "        super().__init__(compressed_vecs, delta_theta, name, clean_data)\n",
    "    \n",
    "    def shuffle_data_vectors(self, summaries):\n",
    "        seeds = np.random.randint(1e6, size = 1 + self._n_params)\n",
    "        shuffled_summaries = []\n",
    "        for idx in range(1 + 2*self._n_params):\n",
    "            arr = shuffle_with_seed(summaries[idx], seeds[(1 + idx)//2])\n",
    "            shuffled_summaries.append(arr)\n",
    "        return shuffled_summaries\n",
    "    \n",
    "    def compute_compression_matrix(self, vecs_cov, der_vecs):\n",
    "        derivatives = computeDerivatives(tf.stack(der_vecs), self.delta_theta)    \n",
    "        ders = tf.math.reduce_mean(derivatives, axis = 1)\n",
    "        moped_covariance = computeCovariance(vecs_cov)\n",
    "        self.moped_covariance = moped_covariance\n",
    "        moped_compmat = \\\n",
    "            tf.linalg.solve(moped_covariance, tf.transpose(ders))\n",
    "        return moped_compmat\n",
    "    \n",
    "def shuffle_with_seed(arr, seed):\n",
    "    # print(seed)\n",
    "    np.random.seed(seed)\n",
    "    indices = np.random.permutation(arr.shape[0])\n",
    "    return tf.gather(arr, indices)\n",
    "\n",
    "def computeCovariance(vecs_cov):\n",
    "    cov = tfp.stats.covariance(vecs_cov)\n",
    "    n_sims_covmat, dim = tf.cast(tf.shape(vecs_cov)[0], cov.dtype), \\\n",
    "        tf.cast(tf.shape(vecs_cov)[1], cov.dtype)\n",
    "    hartlap_fisher = tf.cast((n_sims_covmat - dim - 2.)/(n_sims_covmat - 1),\\\n",
    "                             dtype = cov.dtype)\n",
    "    return cov/hartlap_fisher   \n",
    "\n",
    "\n",
    "def computeDerivatives(der_vecs, delta_theta):\n",
    "    delta_theta_cast = tf.cast(delta_theta[:, tf.newaxis, tf.newaxis], \\\n",
    "                               der_vecs.dtype)\n",
    "    return (der_vecs[1::2] - der_vecs[::2])/delta_theta_cast "
   ]
  },
  {
   "cell_type": "code",
   "execution_count": 184,
   "id": "9d770644-dc7d-4a53-b9c2-96d62888dffa",
   "metadata": {},
   "outputs": [
    {
     "name": "stdout",
     "output_type": "stream",
     "text": [
      "(496, 2)\n"
     ]
    }
   ],
   "source": [
    "cFisher = find_fm_cf()\n",
    "moped_fish = fisherMOPED(summaries, circle_pipeline.delta_theta)"
   ]
  },
  {
   "cell_type": "code",
   "execution_count": 189,
   "id": "e0db2901-be0f-40c3-b0ff-f7a9a5741e73",
   "metadata": {},
   "outputs": [
    {
     "data": {
      "text/plain": [
       "<tf.Tensor: shape=(496, 496), dtype=float64, numpy=\n",
       "array([[-0.77216001, -0.77216001, -0.77216001, ..., -0.77216001,\n",
       "        -0.77216001, -0.77216001],\n",
       "       [-0.77216001, -0.77216001, -0.77216001, ..., -0.77216001,\n",
       "        -0.77216001, -0.77216001],\n",
       "       [-0.77216001, -0.77216001, -0.77216001, ..., -0.77216001,\n",
       "        -0.77216001, -0.77216001],\n",
       "       ...,\n",
       "       [-0.77216001, -0.77216001, -0.77216001, ..., -0.77216001,\n",
       "        -0.77216001, -0.77216001],\n",
       "       [-0.77216001, -0.77216001, -0.77216001, ..., -0.77216001,\n",
       "        -0.77216001, -0.77216001],\n",
       "       [-0.77216001, -0.77216001, -0.77216001, ..., -0.77216001,\n",
       "        -0.77216001, -0.77216001]])>"
      ]
     },
     "execution_count": 189,
     "metadata": {},
     "output_type": "execute_result"
    }
   ],
   "source": [
    "n_sims_covmat, dim = 2000, 496\n",
    "hartlap_fisher = tf.cast((n_sims_covmat - dim - 2.)/(n_sims_covmat ),\\\n",
    "                         dtype = tf.float64)\n",
    "(cFisher.covmat_comp - moped_fish.moped_covariance/hartlap_fisher) / cFisher.covmat_comp"
   ]
  },
  {
   "cell_type": "code",
   "execution_count": 182,
   "id": "d5640691-f638-4c82-bbff-654b7882e15b",
   "metadata": {},
   "outputs": [
    {
     "name": "stdout",
     "output_type": "stream",
     "text": [
      "[[ 0.72091415 -0.12957238 -0.19769256 -0.15267807]\n",
      " [-0.12957238  0.94657723  0.27625766 -0.42589785]\n",
      " [-0.19769256  0.27625766  0.63120559  0.043043  ]\n",
      " [-0.15267807 -0.42589785  0.043043    0.59661893]]\n",
      "tf.Tensor(\n",
      "[[ 0.72091415 -0.12957238 -0.19769256 -0.15267807]\n",
      " [-0.12957238  0.94657723  0.27625766 -0.42589785]\n",
      " [-0.19769256  0.27625766  0.63120559  0.043043  ]\n",
      " [-0.15267807 -0.42589785  0.043043    0.59661893]], shape=(4, 4), dtype=float64)\n"
     ]
    }
   ],
   "source": [
    "h = np.random.normal(size=[10,4]) \n",
    "print(np.cov(h.T, ddof=0)) \n",
    "print(tfp.stats.covariance(h))"
   ]
  },
  {
   "cell_type": "code",
   "execution_count": null,
   "id": "c36b6ed3-5c5c-4af6-b7ca-efa6e588d983",
   "metadata": {},
   "outputs": [],
   "source": [
    "(cFisher._compress_mean_only(np.identity(fid_arr.shape[1])) - moped_fish.moped_compmat.numpy())/moped_fish.moped_compmat"
   ]
  },
  {
   "cell_type": "code",
   "execution_count": 187,
   "id": "f4daed5e-a924-4b66-a40a-633ba66990da",
   "metadata": {},
   "outputs": [
    {
     "data": {
      "text/plain": [
       "array([[2992.11181141,  183.15600152],\n",
       "       [ 183.15600152, 3162.99024476]])"
      ]
     },
     "execution_count": 187,
     "metadata": {},
     "output_type": "execute_result"
    }
   ],
   "source": [
    "cFisher._compute_compressed_fisher_matrix()"
   ]
  },
  {
   "cell_type": "code",
   "execution_count": 188,
   "id": "32fc020b-33b5-4356-b2c8-aaa638d4701d",
   "metadata": {},
   "outputs": [
    {
     "data": {
      "text/plain": [
       "<tf.Tensor: shape=(2, 2), dtype=float64, numpy=\n",
       "array([[2991.36003751,  183.10998322],\n",
       "       [ 183.10998322, 3162.19553733]])>"
      ]
     },
     "execution_count": 188,
     "metadata": {},
     "output_type": "execute_result"
    }
   ],
   "source": [
    "moped_fish.FM"
   ]
  },
  {
   "cell_type": "code",
   "execution_count": null,
   "id": "d4885daa-9d87-4de7-bc4e-741f0170851c",
   "metadata": {},
   "outputs": [],
   "source": [
    "lis = []\n",
    "for _ in tqdm(range(100)):\n",
    "    moped_fish = fisherMOPED(summaries, circle_pipeline.delta_theta)\n",
    "    fm = moped_fish.FM.numpy().flatten()\n",
    "    lis.append(fm)\n",
    "lis = np.array(lis)\n",
    "\n",
    "lis_cf = []\n",
    "for _ in tqdm(range(100)):\n",
    "    fm = find_fm_cf()\n",
    "    lis_cf.append(fm.flatten())\n",
    "lis_cf = np.array(lis_cf)\n",
    "\n",
    "\n",
    "    \n",
    "    \n",
    "    "
   ]
  },
  {
   "cell_type": "code",
   "execution_count": null,
   "id": "9f8aa421-9154-43e5-b4ca-618f53143b60",
   "metadata": {},
   "outputs": [],
   "source": []
  },
  {
   "cell_type": "code",
   "execution_count": null,
   "id": "12845542-cb0f-4475-a9c7-ef2b5a948278",
   "metadata": {},
   "outputs": [],
   "source": [
    "plt.hist(lis[:, num])"
   ]
  },
  {
   "cell_type": "code",
   "execution_count": 143,
   "id": "d29b5a3c-a9db-44bc-b72e-2063c27419d4",
   "metadata": {},
   "outputs": [
    {
     "data": {
      "image/png": "[encoded data removed]",
      "text/plain": [
       "<Figure size 1100x300 with 3 Axes>"
      ]
     },
     "metadata": {},
     "output_type": "display_data"
    }
   ],
   "source": [
    "ncols = 3\n",
    "fig, axes = plt.subplots(nrows=1, ncols= ncols, figsize=(3 * ncols + 2 , 3))\n",
    "for idx, num in enumerate([0, 1, 3]):\n",
    "    val, bins, _ = axes[idx].hist(lis[:, num], alpha = 0.7)\n",
    "    axes[idx].hist(lis_cf[:, num], alpha = 0.7, bins = bins)"
   ]
  },
  {
   "cell_type": "code",
   "execution_count": 121,
   "id": "2d32f1b0-0ffb-477a-9146-dbd42472772a",
   "metadata": {},
   "outputs": [
    {
     "data": {
      "text/plain": [
       "<tf.Tensor: shape=(2, 2), dtype=float64, numpy=\n",
       "array([[2978.80339249,  251.3917492 ],\n",
       "       [ 251.3917492 , 2813.41747229]])>"
      ]
     },
     "execution_count": 121,
     "metadata": {},
     "output_type": "execute_result"
    }
   ],
   "source": [
    "moped_fish = fisherMOPED(summaries, circle_pipeline.delta_theta)\n",
    "moped_fish.FM"
   ]
  },
  {
   "cell_type": "code",
   "execution_count": 118,
   "id": "5c46f5f5-5a53-4231-840f-05764c1c1ff9",
   "metadata": {},
   "outputs": [
    {
     "data": {
      "text/plain": [
       "<tf.Tensor: shape=(2, 2), dtype=float64, numpy=\n",
       "array([[2863.13100583,  260.67257319],\n",
       "       [ 260.67257319, 3173.33061725]])>"
      ]
     },
     "execution_count": 118,
     "metadata": {},
     "output_type": "execute_result"
    }
   ],
   "source": [
    "\n"
   ]
  },
  {
   "cell_type": "code",
   "execution_count": 28,
   "id": "5f41b806-3db2-4636-83d9-4288c7f09292",
   "metadata": {},
   "outputs": [
    {
     "data": {
      "text/plain": [
       "array([[3132.67719025,  302.17611   ],\n",
       "       [ 302.17611   , 3037.80188827]])"
      ]
     },
     "execution_count": 28,
     "metadata": {},
     "output_type": "execute_result"
    }
   ],
   "source": []
  },
  {
   "cell_type": "code",
   "execution_count": 30,
   "id": "73e9fa9f-53a8-487e-bb31-eaf9d50756c2",
   "metadata": {},
   "outputs": [
    {
     "data": {
      "text/plain": [
       "<tf.Tensor: shape=(2, 2), dtype=float64, numpy=\n",
       "array([[3073.18317089,  448.40871146],\n",
       "       [ 448.40871146, 2794.75638564]])>"
      ]
     },
     "execution_count": 30,
     "metadata": {},
     "output_type": "execute_result"
    }
   ],
   "source": []
  },
  {
   "cell_type": "markdown",
   "id": "96916702-6a86-461e-9286-0e4599eb5237",
   "metadata": {},
   "source": [
    "## Binned"
   ]
  },
  {
   "cell_type": "code",
   "execution_count": 3,
   "id": "a3022ecf-95b0-4a53-a6d2-13a8194c5a53",
   "metadata": {},
   "outputs": [
    {
     "name": "stdout",
     "output_type": "stream",
     "text": [
      "log FI =  16.85\n",
      "FM =  [3678.88  486.72  486.72 5710.1 ]\n",
      "Fractional bias =  [0.01 0.15]\n",
      "Constraints =  [0.01658078 0.01330886]\n"
     ]
    }
   ],
   "source": [
    "vectorizations = [TOPK(bdp_type = \"bp\", is_binned = True, num_bins = 108, topk = 219), \\\n",
    "                  TOPK(bdp_type = \"bp\", is_binned = False, topk = 29)\n",
    "                 ]\n",
    "\n",
    "vecLayer = VectorizationLayers(vectorizations = vectorizations, pds_idx_list = [0, 1])\n",
    "fisherLayer = FisherLayer()\n",
    "fish = circle_pipeline.vectorize_and_fisher(vecLayer, fisherLayer)\n",
    "show_fm_and_bias(fish)"
   ]
  },
  {
   "cell_type": "code",
   "execution_count": 12,
   "id": "2ac633cf-1e6f-4d8d-b92d-ba9f1dd42842",
   "metadata": {},
   "outputs": [
    {
     "name": "stdout",
     "output_type": "stream",
     "text": [
      "log FI =  16.2\n",
      "FM =  [3092.69  538.44  538.44 3596.12]\n",
      "Fractional bias =  [0.   0.01]\n",
      "Constraints =  [0.01822079 0.01689735]\n"
     ]
    }
   ],
   "source": [
    "vectorizations = [TOPK(bdp_type = \"bp\", is_binned = True, num_bins = 25, topk = 219), \\\n",
    "                  TOPK(bdp_type = \"bp\", is_binned = True, num_bins = 5, topk = 29)\n",
    "                 ]\n",
    "\n",
    "vecLayer = VectorizationLayers(vectorizations = vectorizations, pds_idx_list = [0, 1])\n",
    "fisherLayer = MopedLayer()\n",
    "fish = circle_pipeline.vectorize_and_fisher(vecLayer, fisherLayer)\n",
    "show_fm_and_bias(fish)"
   ]
  },
  {
   "cell_type": "code",
   "execution_count": null,
   "id": "ae28a5ec-689c-435d-b711-1a2c7c6cbf4c",
   "metadata": {},
   "outputs": [],
   "source": [
    "fid_arr = fish.summaries[0].numpy()\n",
    "der_arr = fish.summaries[1:]\n",
    "params_fid = np.array(circle_pipeline.theta_fid)\n",
    "delta_params =  0.5*np.array(circle_pipeline.delta_theta) \n",
    "parameter_names = [\"radius\", \"sigma \"]\n",
    "\n",
    "dict_param_steps = {parameter_names[i]:delta_params[i] for i in range(len(params_fid))}\n",
    "dict_deriv_sims = {parameter_names[i]:der_arr[2*i: 2*i + 2].numpy() for i in range(len(params_fid))}\n",
    "nSimsCovMat = fid_arr.shape[0]\n",
    "nSims_deriv = der_arr.shape[1]\n",
    "cFisher = CompressedFisher.gaussianFisher(parameter_names, nSims_deriv, \\\n",
    "                                          include_covmat_param_depedence=False,\n",
    "                                      deriv_finite_dif_accuracy=2)\n",
    "compress_frac_split_ders = 0.\n",
    "compress_frac_split_cov = 0.\n",
    "covmat_sims = fid_arr\n",
    "cFisher.initailize_covmat(covmat_sims, True)\n",
    "cFisher.initailize_mean(covmat_sims)\n",
    "cFisher.initailize_deriv_sims(dic_deriv_sims=dict_deriv_sims, dict_param_steps=dict_param_steps)\n",
    "cFisher.generate_deriv_sim_splits(compress_fraction=compress_frac_split_ders)\n",
    "stnd_constraint    = cFisher.compute_fisher_forecast(parameter_names)\n",
    "stnd_constraint_bias = cFisher.est_fisher_forecast_bias(parameter_names)\n",
    "# print(cFisher._compute_fisher_matrix(parameter_names))\n",
    "print(f'Parameter  \\t standard Fisher \\t Est. Fractional bias ')\n",
    "for i,name in enumerate(parameter_names):\n",
    "    print(f'{name}  \\t\\t  {stnd_constraint[i,i]**.5:.3f} \\t\\t     {(stnd_constraint_bias/stnd_constraint)[i,i]:.3f} ')\n",
    "\n",
    "cFisher._compute_fisher_matrix(parameter_names)"
   ]
  },
  {
   "cell_type": "code",
   "execution_count": null,
   "id": "003b5f9c-1c6b-4373-b565-ad8600381672",
   "metadata": {},
   "outputs": [],
   "source": []
  },
  {
   "cell_type": "code",
   "execution_count": null,
   "id": "59f17e0f-9808-4d83-ad66-ed2aa7f3d169",
   "metadata": {},
   "outputs": [],
   "source": [
    "cFisher._compute_fisher_matrix(parameter_names)"
   ]
  },
  {
   "cell_type": "code",
   "execution_count": null,
   "id": "e47f0ba1-acab-4299-90c4-96fb460c96bb",
   "metadata": {},
   "outputs": [],
   "source": [
    "cFisher._compute_combined_fisher_matrix(parameter_names)"
   ]
  },
  {
   "cell_type": "code",
   "execution_count": null,
   "id": "b52dc03d-5950-433d-af74-6f7b9c13fbeb",
   "metadata": {},
   "outputs": [],
   "source": [
    "cFisher._compute_compressed_fisher_matrix(parameter_names)"
   ]
  },
  {
   "cell_type": "markdown",
   "id": "2b9c56e8-af08-463e-b0dd-f705815776ea",
   "metadata": {},
   "source": [
    "### Rough"
   ]
  },
  {
   "cell_type": "code",
   "execution_count": null,
   "id": "d2df4356-6a5e-4908-9b87-f9978bc43090",
   "metadata": {},
   "outputs": [],
   "source": [
    "moped_fish.err,  cFisher._compute_compressed_fisher_matrix_error([\"radius\", \"sigma \"])"
   ]
  },
  {
   "cell_type": "code",
   "execution_count": null,
   "id": "dbe454e4-352e-42e4-b8d1-9af89daabb90",
   "metadata": {},
   "outputs": [],
   "source": [
    "cFisher._compute_fisher_matrix_error([\"radius\", \"sigma \"])"
   ]
  },
  {
   "cell_type": "code",
   "execution_count": null,
   "id": "73d98367-d5f7-40e3-87f3-15b1d65f7074",
   "metadata": {},
   "outputs": [],
   "source": [
    "params_names = parameter_names\n",
    "dim_fisher = len(params_names)\n",
    "compressed_derivs = np.zeros([dim_fisher,cFisher._n_params])\n",
    "\n",
    "for i,n in enumerate(params_names):\n",
    "    compressed_derivs[i]=cFisher.compress_vector(cFisher.deriv_mean_fisher[n],with_mean=False)\n",
    "\n",
    "compressed_covmat = cFisher.compress_vector(cFisher.covmat_fisher,with_mean=False)\n",
    "compressed_covmat = cFisher.compress_vector(compressed_covmat.T,with_mean=False)/cFisher._hartlap_comp # One factor cancels here as we have C^{-1}C C^{-1} \n"
   ]
  },
  {
   "cell_type": "code",
   "execution_count": null,
   "id": "25597782-9e69-4c3d-9c18-04eafea0b98d",
   "metadata": {},
   "outputs": [],
   "source": [
    "cFisher._covmat_comp"
   ]
  },
  {
   "cell_type": "code",
   "execution_count": null,
   "id": "1e0fca7f-bea4-4133-8440-74ff75c1a7ad",
   "metadata": {},
   "outputs": [],
   "source": [
    "cFisher._hartlap_comp"
   ]
  },
  {
   "cell_type": "code",
   "execution_count": null,
   "id": "47b01735-9364-4d56-950b-ea3628199589",
   "metadata": {},
   "outputs": [],
   "source": [
    "cFisher._hartlap_fisher"
   ]
  },
  {
   "cell_type": "code",
   "execution_count": null,
   "id": "5802779d-a35a-413b-915c-222eb45b8b1a",
   "metadata": {},
   "outputs": [],
   "source": [
    "np.cov(cFisher.compress_vector(cFisher._covmat_sims).T)/compressed_covmat"
   ]
  },
  {
   "cell_type": "code",
   "execution_count": null,
   "id": "82d32dc5-c5a9-4602-94dc-cb178a649b09",
   "metadata": {},
   "outputs": [],
   "source": [
    "moped_fish.C"
   ]
  },
  {
   "cell_type": "code",
   "execution_count": null,
   "id": "b712326d-f430-4711-aaff-8d341f5e5c4b",
   "metadata": {},
   "outputs": [],
   "source": [
    "compressed_covmat/moped_fish.C"
   ]
  },
  {
   "cell_type": "code",
   "execution_count": null,
   "id": "01fd7e2c-fc03-4b87-9d14-cd5594de0cb3",
   "metadata": {},
   "outputs": [],
   "source": [
    "np.array([compressed_derivs[0], compressed_derivs[1]])/moped_fish.ders"
   ]
  },
  {
   "cell_type": "code",
   "execution_count": null,
   "id": "36e6a3a1-136b-474d-88ce-9ca9b7d9068b",
   "metadata": {},
   "outputs": [],
   "source": [
    "cFisher._compute_compressed_fisher_matrix(parameter_names)"
   ]
  },
  {
   "cell_type": "code",
   "execution_count": null,
   "id": "6666d965-99f4-42cb-a178-815795026337",
   "metadata": {},
   "outputs": [],
   "source": []
  },
  {
   "cell_type": "code",
   "execution_count": null,
   "id": "dc14c1f9-1f5f-4de8-bbd5-d703c691e7c4",
   "metadata": {},
   "outputs": [],
   "source": [
    "moped_fish = fisherMOPED(fish.summaries, fish.delta_theta)\n",
    "moped_fish.FM/cFisher._compute_compressed_fisher_matrix(parameter_names)"
   ]
  },
  {
   "cell_type": "code",
   "execution_count": null,
   "id": "4139a43a-aeea-4b6e-9f77-06458f1a285a",
   "metadata": {},
   "outputs": [],
   "source": [
    "moped_fish.err"
   ]
  },
  {
   "cell_type": "code",
   "execution_count": null,
   "id": "59cccbe4-5ae9-46fc-9dc3-ac2f1c00c219",
   "metadata": {},
   "outputs": [],
   "source": [
    "import topofisher\n",
    "moped_fish_old = fisherMOPEDOld(fish.summaries, fish.delta_theta)\n",
    "moped_fish_old.FM"
   ]
  },
  {
   "cell_type": "code",
   "execution_count": null,
   "id": "28700cf7-f19e-43ce-b0da-1b1748240ec6",
   "metadata": {},
   "outputs": [],
   "source": [
    "np.max(np.abs((fish.C - cFisher.covmat_fisher/cFisher._hartlap_fisher)/fish.C))"
   ]
  },
  {
   "cell_type": "code",
   "execution_count": null,
   "id": "4d64e7b4-0287-411a-ac16-ab594f689a7b",
   "metadata": {},
   "outputs": [],
   "source": [
    "cFisher._deriv_sim_ids"
   ]
  },
  {
   "cell_type": "code",
   "execution_count": null,
   "id": "7b01b90b-4faa-4396-8e08-83e729a67fb0",
   "metadata": {},
   "outputs": [],
   "source": [
    "cFisher._hartlap_fisher"
   ]
  },
  {
   "cell_type": "code",
   "execution_count": null,
   "id": "b4fbcac6-77c2-4e38-983e-6382119bea8f",
   "metadata": {},
   "outputs": [],
   "source": [
    "cFisher.ders@np.linalg.solve(fish.C, cFisher.ders.T)"
   ]
  },
  {
   "cell_type": "code",
   "execution_count": null,
   "id": "382c09e6-5c43-4c4c-a0f1-29fe6b0ec8b4",
   "metadata": {},
   "outputs": [],
   "source": [
    "cFisher.ders@np.linalg.solve(cFisher.covmat_fisher, cFisher.ders.T)"
   ]
  },
  {
   "cell_type": "code",
   "execution_count": null,
   "id": "e8f499e5-07ce-4dfc-a346-c66a74d648a7",
   "metadata": {},
   "outputs": [],
   "source": [
    "cFisher.ders@fish.invC@ cFisher.ders.T*cFisher._hartlap_fisher"
   ]
  },
  {
   "cell_type": "code",
   "execution_count": null,
   "id": "875586ff-15ea-486e-b53a-5451b3a747d1",
   "metadata": {},
   "outputs": [],
   "source": [
    "cFisher.ders = np.stack([cFisher.deriv_mean_fisher['radius'], cFisher.deriv_mean_fisher['sigma ']]) "
   ]
  },
  {
   "cell_type": "code",
   "execution_count": null,
   "id": "8b18544b-451a-43fd-a4db-390e58ccb416",
   "metadata": {},
   "outputs": [],
   "source": [
    "np.argmax(np.abs((fish.ders - cFisher.ders)/cFisher.ders)[0])"
   ]
  },
  {
   "cell_type": "code",
   "execution_count": null,
   "id": "6eeba098-8b80-497b-a86e-3ee8e433d3f6",
   "metadata": {},
   "outputs": [],
   "source": [
    "fish.ders[0, 221]"
   ]
  },
  {
   "cell_type": "code",
   "execution_count": null,
   "id": "a0d449f0-bd93-4a69-bd2a-bd165466c087",
   "metadata": {},
   "outputs": [],
   "source": [
    "fish.ders[0, 221].numpy(), cFisher.ders[0, 221]"
   ]
  },
  {
   "cell_type": "code",
   "execution_count": null,
   "id": "64d33a58-bbb2-4f99-af6c-42c7e94fdf46",
   "metadata": {},
   "outputs": [],
   "source": [
    "list(range(1, 20))"
   ]
  },
  {
   "cell_type": "code",
   "execution_count": null,
   "id": "a624eb64-f03f-47f8-812c-eee1cd051d4c",
   "metadata": {},
   "outputs": [],
   "source": [
    "compress_frac_split = 0.5\n",
    "fid_arr = fish.summaries[0].numpy()\n",
    "der_arr = fish.summaries[1:]\n",
    "params_fid = np.array(circle_pipeline.theta_fid)\n",
    "delta_params =  0.5*np.array(circle_pipeline.delta_theta) \n",
    "parameter_names = [\"radius\", \"sigma \"]\n",
    "\n",
    "dict_param_steps = {parameter_names[i]:delta_params[i] for i in range(len(params_fid))}\n",
    "dict_deriv_sims = {parameter_names[i]:der_arr[2*i: 2*i + 2].numpy() for i in range(len(params_fid))}\n",
    "nSimsCovMat = fid_arr.shape[0]\n",
    "nSims_deriv = der_arr.shape[1]\n",
    "cFisher = CompressedFisher.gaussianFisher(parameter_names, nSims_deriv, \\\n",
    "                                          include_covmat_param_depedence=False,\n",
    "                                      deriv_finite_dif_accuracy=2)\n",
    "covmat_sims = fid_arr\n",
    "cFisher.initailize_covmat(covmat_sims)\n",
    "cFisher.initailize_mean(covmat_sims)\n",
    "cFisher.initailize_deriv_sims(dic_deriv_sims=dict_deriv_sims, dict_param_steps=dict_param_steps)\n",
    "cFisher.generate_deriv_sim_splits(ids_fish = list(range(2000, 4000)) , ids_comp = list(range(2000)))\n",
    "stnd_constraint    = cFisher.compute_fisher_forecast(parameter_names)\n",
    "stnd_constraint_bias = cFisher.est_fisher_forecast_bias(parameter_names)\n",
    "print(cFisher._compute_fisher_matrix(parameter_names))\n",
    "print(f'Parameter  \\t standard Fisher \\t Est. Fractional bias ')\n",
    "for i,name in enumerate(parameter_names):\n",
    "    print(f'{name}  \\t\\t  {stnd_constraint[i,i]**.5:.3f} \\t\\t     {(stnd_constraint_bias/stnd_constraint)[i,i]:.3f} ')\n",
    "\n",
    "compressed_constraint = cFisher.compute_compressed_fisher_forecast(parameter_names)\n",
    "compressed_constraint_bias = cFisher.est_compressed_fisher_forecast_bias(parameter_names)\n",
    "\n",
    "print(f'Parameter \\t Compressed Fisher \\t Est. Fractional bias ')\n",
    "for i,name in enumerate(parameter_names):\n",
    "    print(f'{name}   \\t\\t  {compressed_constraint[i,i]**.5:.3f} \\t\\t   \\\n",
    "    {(compressed_constraint_bias/compressed_constraint)[i,i]:.3f} ')\n",
    "\n",
    "\n",
    "combined_constraint = cFisher.compute_combined_fisher_forecast(parameter_names)\n",
    "# print(f'Parameter  standard Fisher  Bias compressed comp Bias combined ')\n",
    "print(f'Parameter \\t Combined Fisher  ')\n",
    "for i,name in enumerate(parameter_names):\n",
    "    print(f'{name}   \\t\\t  {combined_constraint[i,i]**.5:.3f}')\n"
   ]
  },
  {
   "cell_type": "code",
   "execution_count": null,
   "id": "91bf04f0-519b-4fda-a0c2-cbcd3f9b0e04",
   "metadata": {},
   "outputs": [],
   "source": [
    "cFisher._compute_compressed_fisher_matrix(parameter_names)"
   ]
  },
  {
   "cell_type": "code",
   "execution_count": null,
   "id": "282a1438-d8ac-42ba-b72f-e2b852981054",
   "metadata": {},
   "outputs": [],
   "source": []
  },
  {
   "cell_type": "code",
   "execution_count": null,
   "id": "7a4fa32c-eb14-4be4-b46d-76630fafd3c7",
   "metadata": {},
   "outputs": [],
   "source": [
    "def compute_compressed_fisher_matrix_mean_only_error(params_names):\n",
    "    \"\"\"\n",
    "    The function to compute the bias to the compressed Fisher matrix for the case of a parameter independent covariance matrix.\n",
    "    This is computed with Eq. 11 in Coulton and Wandelt.\n",
    "\n",
    "    Args:\n",
    "        params_names ([list]): The list of parameters to include in the forecast. If none all parameters will be used (default: `None`)\n",
    "\n",
    "    Returns:\n",
    "        [n_parameter x n_parameter matrix]: The bias to the Fisher information.\n",
    "    \"\"\"\n",
    "    n_params = len(params_names)\n",
    "\n",
    "\n",
    "    derivs_covMat = cFisher._compute_deriv_mu_covmat(params_names)\n",
    "\n",
    "    compressed_covmat = cFisher.compress_vector(cFisher.covmat_fisher,with_mean=False)\n",
    "    compressed_covmat = cFisher.compress_vector(compressed_covmat.T,with_mean=False)\n",
    "    \n",
    "    return derivs_covMat\n",
    "    mix_matrix =  np.zeros([n_params,n_params,cFisher._n_params,cFisher._n_params])\n",
    "    for i in range(n_params):\n",
    "        for j in range(i+1):\n",
    "            tmp_mat = cFisher.compress_vector(derivs_covMat[i,j],with_mean=False)\n",
    "            mix_matrix[i,j] = mix_matrix[j,i] = cFisher.compress_vector(tmp_mat.T,with_mean=False)\n",
    "    fisher_err = np.zeros([n_params,n_params])\n",
    "    for i in range(n_params):\n",
    "        for j in range(i+1):\n",
    "            fisher_err[i,j] = fisher_err[j,i] = np.trace(np.linalg.solve(compressed_covmat,mix_matrix[i,j]))\n",
    "    return fisher_err\n",
    "\n",
    "compute_compressed_fisher_matrix_mean_only_error(cFisher.param_names)"
   ]
  },
  {
   "cell_type": "code",
   "execution_count": null,
   "id": "41ac48f3-32bb-45a3-8f07-e3108d52d37e",
   "metadata": {},
   "outputs": [],
   "source": [
    "moped_fish = fisherMOPED(fish.summaries, fish.delta_theta)"
   ]
  },
  {
   "cell_type": "code",
   "execution_count": null,
   "id": "133e956d-c73d-4306-b4fa-51616ec497fc",
   "metadata": {},
   "outputs": [],
   "source": [
    "moped_fish.FM.numpy()"
   ]
  },
  {
   "cell_type": "code",
   "execution_count": null,
   "id": "21f3ca63-afdc-4009-b5e0-35ff86d463f7",
   "metadata": {},
   "outputs": [],
   "source": [
    "moped_fish.C.numpy(), moped_fish.ders.numpy()"
   ]
  },
  {
   "cell_type": "code",
   "execution_count": null,
   "id": "13cb6f4a-9399-4802-a4e8-77fca3eba37d",
   "metadata": {},
   "outputs": [],
   "source": [
    "moped_fish.fractional_bias"
   ]
  },
  {
   "cell_type": "code",
   "execution_count": null,
   "id": "9928ac36-a8c9-4f92-9dfd-0110562f7afe",
   "metadata": {},
   "outputs": [],
   "source": [
    "ind = np.random.randint(496)\n",
    "plt.hist(fid_arr[:, ind], bins = 60)\n",
    "plt.title(str(ind))\n",
    "plt.show()"
   ]
  },
  {
   "cell_type": "code",
   "execution_count": null,
   "id": "9eca87d7-48c4-4b2a-851c-253e4f4dfb44",
   "metadata": {},
   "outputs": [],
   "source": [
    "fid_arr = fish.summaries[0].numpy()\n",
    "der_arr = fish.summaries[1:]\n",
    "params_fid = np.array(circle_pipeline.theta_fid)\n",
    "delta_params =  0.5*np.array(circle_pipeline.delta_theta) \n",
    "parameter_names = [\"radius\", \"sigma \"]\n",
    "\n",
    "dict_param_steps = {parameter_names[i]:delta_params[i] for i in range(len(params_fid))}\n",
    "dict_deriv_sims = {parameter_names[i]:der_arr[2*i: 2*i + 2].numpy() for i in range(len(params_fid))}\n",
    "nSimsCovMat = fid_arr.shape[0]\n",
    "nSims_deriv = der_arr.shape[1]\n",
    "cFisher = CompressedFisher.gaussianFisher(parameter_names, nSims_deriv, \\\n",
    "                                          include_covmat_param_depedence=False,\n",
    "                                      deriv_finite_dif_accuracy=2)\n",
    "compress_frac_split_ders = 0.5\n",
    "compress_frac_split_cov = 0.5\n",
    "covmat_sims = fid_arr\n",
    "cFisher.initailize_covmat(covmat_sims, True)\n",
    "cFisher.initailize_mean(covmat_sims)\n",
    "cFisher.initailize_deriv_sims(dic_deriv_sims=dict_deriv_sims, dict_param_steps=dict_param_steps)\n",
    "cFisher.generate_deriv_sim_splits(compress_fraction=compress_frac_split_ders)\n",
    "cFisher.generate_covmat_sim_splits(compress_fraction=compress_frac_split_cov)\n",
    "stnd_constraint    = cFisher.compute_fisher_forecast(parameter_names)\n",
    "stnd_constraint_bias = cFisher.est_fisher_forecast_bias(parameter_names)\n",
    "# print(cFisher._compute_fisher_matrix(parameter_names))\n",
    "print(f'Parameter  \\t standard Fisher \\t Est. Fractional bias ')\n",
    "for i,name in enumerate(parameter_names):\n",
    "    print(f'{name}  \\t\\t  {stnd_constraint[i,i]**.5:.3f} \\t\\t     {(stnd_constraint_bias/stnd_constraint)[i,i]:.3f} ')\n",
    "\n",
    "compressed_constraint = cFisher.compute_compressed_fisher_forecast(parameter_names)\n",
    "compressed_constraint_bias = cFisher.est_compressed_fisher_forecast_bias(parameter_names)\n",
    "\n",
    "print(f'Parameter \\t Compressed Fisher \\t Est. Fractional bias ')\n",
    "for i,name in enumerate(parameter_names):\n",
    "    print(f'{name}   \\t\\t  {compressed_constraint[i,i]**.5:.3f} \\t\\t   \\\n",
    "    {(compressed_constraint_bias/compressed_constraint)[i,i]:.3f} ')\n",
    "\n",
    "\n",
    "combined_constraint = cFisher.compute_combined_fisher_forecast(parameter_names)\n",
    "# print(f'Parameter  standard Fisher  Bias compressed comp Bias combined ')\n",
    "print(f'Parameter \\t Combined Fisher  ')\n",
    "for i,name in enumerate(parameter_names):\n",
    "    print(f'{name}   \\t\\t  {combined_constraint[i,i]**.5:.3f}')\n"
   ]
  },
  {
   "cell_type": "code",
   "execution_count": null,
   "id": "858a7994-c1a3-4eec-b9ef-e389e9ab03a6",
   "metadata": {},
   "outputs": [],
   "source": [
    "fid_arr = fish.summaries[0].numpy()\n",
    "der_arr = fish.summaries[1:]\n",
    "params_fid = np.array(circle_pipeline.theta_fid)\n",
    "delta_params =  0.5*np.array(circle_pipeline.delta_theta) \n",
    "parameter_names = [\"radius\", \"sigma \"]\n",
    "\n",
    "dict_param_steps = {parameter_names[i]:delta_params[i] for i in range(len(params_fid))}\n",
    "dict_deriv_sims = {parameter_names[i]:der_arr[2*i: 2*i + 2].numpy() for i in range(len(params_fid))}\n",
    "nSimsCovMat = fid_arr.shape[0]\n",
    "nSims_deriv = der_arr.shape[1]\n",
    "cFisher = CompressedFisher.gaussianFisher(parameter_names, nSims_deriv, \\\n",
    "                                          include_covmat_param_depedence=False,\n",
    "                                      deriv_finite_dif_accuracy=2)\n",
    "compress_frac_split_ders = 0.\n",
    "compress_frac_split_cov = 0.\n",
    "covmat_sims = fid_arr\n",
    "cFisher.initailize_covmat(covmat_sims, True)\n",
    "cFisher.initailize_mean(covmat_sims)\n",
    "cFisher.initailize_deriv_sims(dic_deriv_sims=dict_deriv_sims, dict_param_steps=dict_param_steps)\n",
    "cFisher.generate_deriv_sim_splits(compress_fraction=compress_frac_split_ders)\n",
    "stnd_constraint    = cFisher.compute_fisher_forecast(parameter_names)\n",
    "stnd_constraint_bias = cFisher.est_fisher_forecast_bias(parameter_names)\n",
    "# print(cFisher._compute_fisher_matrix(parameter_names))\n",
    "print(f'Parameter  \\t standard Fisher \\t Est. Fractional bias ')\n",
    "for i,name in enumerate(parameter_names):\n",
    "    print(f'{name}  \\t\\t  {stnd_constraint[i,i]**.5:.3f} \\t\\t     {(stnd_constraint_bias/stnd_constraint)[i,i]:.3f} ')\n",
    "\n",
    "cFisher._compute_fisher_matrix(parameter_names)"
   ]
  }
 ],
 "metadata": {
  "kernelspec": {
   "display_name": "newEnvbkup",
   "language": "python",
   "name": "newenvbkup"
  },
  "language_info": {
   "codemirror_mode": {
    "name": "ipython",
    "version": 3
   },
   "file_extension": ".py",
   "mimetype": "text/x-python",
   "name": "python",
   "nbconvert_exporter": "python",
   "pygments_lexer": "ipython3",
   "version": "3.8.0"
  }
 },
 "nbformat": 4,
 "nbformat_minor": 5
}
