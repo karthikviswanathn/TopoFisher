{
 "cells": [
  {
   "cell_type": "code",
   "execution_count": 1,
   "id": "0783b9e6-5489-4f3b-8c7f-1074d5816e06",
   "metadata": {},
   "outputs": [
    {
     "name": "stderr",
     "output_type": "stream",
     "text": [
      "2023-09-23 19:13:09.284905: I tensorflow/core/platform/cpu_feature_guard.cc:193] This TensorFlow binary is optimized with oneAPI Deep Neural Network Library (oneDNN) to use the following CPU instructions in performance-critical operations:  SSE4.1 SSE4.2 AVX AVX2 FMA\n",
      "To enable them in other operations, rebuild TensorFlow with the appropriate compiler flags.\n",
      "2023-09-23 19:13:13.374887: I tensorflow/core/platform/cpu_feature_guard.cc:193] This TensorFlow binary is optimized with oneAPI Deep Neural Network Library (oneDNN) to use the following CPU instructions in performance-critical operations:  SSE4.1 SSE4.2 AVX AVX2 FMA\n",
      "To enable them in other operations, rebuild TensorFlow with the appropriate compiler flags.\n"
     ]
    }
   ],
   "source": [
    "import tensorflow as tf\n",
    "import numpy as np\n",
    "import matplotlib.pyplot as plt\n",
    "import tqdm\n",
    "from tqdm import tqdm\n",
    "import matplotlib.colors as mcolors\n",
    "from copy import deepcopy\n",
    "from gudhi.representations import Landscape, PersistenceImage\n",
    "\n",
    "from topofisher.input_simulators.noisy_ring import CircleSimulator\n",
    "\n",
    "from topofisher.filtrations.numpy.alphaDTML import AlphaDTMLayer\n",
    "\n",
    "from topofisher.vectorizations.numpy.custom_vectorizations import TOPK\n",
    "from topofisher.vectorizations.numpy.vectorization_layer import VectorizationLayers\n",
    "from topofisher.vectorizations.numpy.shorthand_layers import PersistenceImages, PersistenceLandscapes\n",
    "\n",
    "from topofisher.fisher.Fisher import show_fm_and_bias\n",
    "from topofisher.fisher.imnn import IMNNLayer, MopedLayer, ExtraDimLayer\n",
    "from topofisher.fisher.plot_fisher_stats import plotContours2D, plotSummaryDerivativeHists, plot_derivative_convergence\n",
    "\n",
    "\n",
    "from topofisher.pipelines.circle import CirclePipeline\n",
    "from topofisher.pipelines.convergence_checks import fisher_estimates_wrt_step_size\n",
    "from topofisher.pipelines.utils import readFromFile, writeToFile\n",
    "\n",
    "import gudhi.representations as gdr\n",
    "import gudhi.tensorflow.perslay as prsl"
   ]
  },
  {
   "cell_type": "markdown",
   "id": "daf774ae-092e-4010-af8d-34ec81c0a981",
   "metadata": {
    "tags": []
   },
   "source": [
    "### Importlib"
   ]
  },
  {
   "cell_type": "code",
   "execution_count": 264,
   "id": "016c7848-2e2c-4c2b-b662-67c528e1d28c",
   "metadata": {},
   "outputs": [],
   "source": [
    "import importlib\n",
    "import topofisher\n",
    "importlib.reload(topofisher.fisher.Fisher)\n",
    "importlib.reload(topofisher.fisher.imnn)\n",
    "\n",
    "importlib.reload(topofisher.filtrations.numpy.filtration_layers)\n",
    "importlib.reload(topofisher.filtrations.numpy.alphaDTML)\n",
    "\n",
    "importlib.reload(topofisher.vectorizations.numpy.vectorization_layer)\n",
    "importlib.reload(topofisher.vectorizations.numpy.shorthand_layers)\n",
    "importlib.reload(topofisher.input_simulators.noisy_ring)\n",
    "importlib.reload(topofisher.pipelines.pipeline)\n",
    "importlib.reload(topofisher.pipelines.circle)\n",
    "\n",
    "from topofisher.input_simulators.noisy_ring import CircleSimulator\n",
    "\n",
    "from topofisher.filtrations.numpy.alphaDTML import AlphaDTMLayer\n",
    "\n",
    "from topofisher.vectorizations.numpy.custom_vectorizations import TOPK\n",
    "from topofisher.vectorizations.numpy.vectorization_layer import VectorizationLayers\n",
    "from topofisher.vectorizations.numpy.shorthand_layers import PersistenceImages, PersistenceLandscapes\n",
    "\n",
    "importlib.reload(topofisher.fisher.imnn)\n",
    "from topofisher.fisher.imnn import IMNNLayer, FisherLayer, MopedLayer, ExtraDimLayer\n",
    "from topofisher.fisher.plot_fisher_stats import plotContours2D, plotSummaryDerivativeHists, plot_derivative_convergence\n",
    "\n",
    "\n",
    "from topofisher.pipelines.circle import CirclePipeline"
   ]
  },
  {
   "cell_type": "markdown",
   "id": "3048cbac-2552-477c-859d-4bf332a933ba",
   "metadata": {
    "jp-MarkdownHeadingCollapsed": true,
    "tags": []
   },
   "source": [
    "### Initalizing"
   ]
  },
  {
   "cell_type": "code",
   "execution_count": 3,
   "id": "a97e9648-cf02-45ed-8b31-a6f8f8761b83",
   "metadata": {},
   "outputs": [],
   "source": [
    "circle_pipeline = readFromFile(\"pipeline_m_p9_ns_4K.pkl\")"
   ]
  },
  {
   "cell_type": "code",
   "execution_count": 4,
   "id": "ae6627f9-b7a8-463f-8083-715811be8cb3",
   "metadata": {},
   "outputs": [],
   "source": [
    "diagrams = [tf.constant(item, dtype=tf.float32) for item in circle_pipeline.all_persistence_diagrams[0][1]]\n",
    "def stack_ragged(tensors):\n",
    "    values = tf.concat(tensors, axis=0)\n",
    "    lens = tf.stack([tf.shape(t, out_type=tf.int64)[0] for t in tensors])\n",
    "    return tf.RaggedTensor.from_row_lengths(values, lens)\n",
    "diagrams = stack_ragged(diagrams)"
   ]
  },
  {
   "cell_type": "code",
   "execution_count": 193,
   "id": "b2a5e3a6-bc6b-457a-a104-6bb7f344b619",
   "metadata": {},
   "outputs": [],
   "source": [
    "res = 24\n",
    "extent = [[1.03501081e+00, 3.21200657e+00], [2.38418579e-07, 7.95339227e-01]]\n",
    "rho = tf.identity\n",
    "phi = prsl.GaussianPerslayPhi((res, res), extent, 5e-2)\n",
    "weight = prsl.PowerPerslayWeight(1. , 2.)\n",
    "perm_op = tf.math.reduce_sum\n",
    "perslay = prsl.Perslay(phi=phi, weight=weight, perm_op=perm_op, rho=rho)"
   ]
  },
  {
   "cell_type": "markdown",
   "id": "56d67853-151e-4d4d-a215-8611219bc6e1",
   "metadata": {},
   "source": [
    "### Checking out landscapes"
   ]
  },
  {
   "cell_type": "code",
   "execution_count": 231,
   "id": "af504236-f1fe-4331-b7cc-c8bc8aa1602d",
   "metadata": {},
   "outputs": [
    {
     "data": {
      "text/plain": [
       "<module 'gudhi.tensorflow.perslay' from '/Users/karthikviswanathan/opt/anaconda3/envs/newEnvbkup/lib/python3.8/site-packages/gudhi/tensorflow/perslay.py'>"
      ]
     },
     "execution_count": 231,
     "metadata": {},
     "output_type": "execute_result"
    }
   ],
   "source": [
    "\n",
    "importlib.reload(prsl)"
   ]
  },
  {
   "cell_type": "code",
   "execution_count": 220,
   "id": "66fbe160-93a9-4ca0-9a8b-ce61d774e152",
   "metadata": {},
   "outputs": [],
   "source": [
    "landscape_layer = PersistenceLandscapes(num_landscapes = [50, 20], resolutions = [30, 30])\n",
    "all_landscapes = []\n",
    "for pds in circle_pipeline.all_persistence_diagrams:\n",
    "    vecs = landscape_layer.vectorize_persistence_diagrams(pds)\n",
    "    all_landscapes.append(vecs)"
   ]
  },
  {
   "cell_type": "code",
   "execution_count": 244,
   "id": "cef47e5b-1bcc-4af0-a79c-52a84acd87aa",
   "metadata": {},
   "outputs": [],
   "source": [
    "weight = prsl.PowerPerslayWeight(1. , 0)\n",
    "\n",
    "phis = [prsl.TentPerslayPhi(item.grid_) for item in landscape_layer.vectorizations]\n",
    "\n",
    "perslays = [prsl.Perslay(phi=phis[0], weight=weight, perm_op='top50', rho=rho),\\\n",
    "            prsl.Perslay(phi=phis[1], weight=weight, perm_op='top20', rho=rho)]"
   ]
  },
  {
   "cell_type": "code",
   "execution_count": 245,
   "id": "aef376da-95a3-439b-aec8-b3c8a919f652",
   "metadata": {},
   "outputs": [],
   "source": [
    "t2 = list_to_ragged_tensor(all_dgms, 5, 2)\n",
    "model = tf.keras.Sequential(\n",
    "    [   ExtraDimLayer(PerslayLayer(perslays)),\n",
    "        tf.keras.layers.Dense(12, activation=\"relu\"),\n",
    "        tf.keras.layers.Dense(2)\n",
    "    ]\n",
    ")\n"
   ]
  },
  {
   "cell_type": "code",
   "execution_count": null,
   "id": "e4fe9803-e607-4b94-b157-8e8486ce02db",
   "metadata": {},
   "outputs": [],
   "source": []
  },
  {
   "cell_type": "code",
   "execution_count": null,
   "id": "94135d6c-c85c-4638-95c3-a2a041436ea5",
   "metadata": {},
   "outputs": [],
   "source": [
    "perslay_vec_layer = IMNNLayer(model, verbose = 1, epochs = 20, data_splits = [0.4, 0.2, 0.4], \\\n",
    "                            callbacks = [tf.keras.callbacks.EarlyStopping(patience = 3)], transpose = False)\n",
    "perslay_vec_layer.computeFisher(t2, circle_pipeline.delta_theta)"
   ]
  },
  {
   "cell_type": "markdown",
   "id": "23e0ed39-3383-4c9a-919a-71cba786f21a",
   "metadata": {
    "tags": []
   },
   "source": [
    "### Cheking if perslay matches the PI from gudhi"
   ]
  },
  {
   "cell_type": "code",
   "execution_count": 211,
   "id": "b6b71a2f-e4b5-437f-8ce3-ac97956e9b7d",
   "metadata": {},
   "outputs": [
    {
     "name": "stdout",
     "output_type": "stream",
     "text": [
      "7.35 s ± 0 ns per loop (mean ± std. dev. of 1 run, 1 loop each)\n"
     ]
    }
   ],
   "source": [
    "%timeit -n 1 -r 1 vectors = perslay(diagrams[:4000])"
   ]
  },
  {
   "cell_type": "code",
   "execution_count": null,
   "id": "279249ea-b9c8-40d4-820b-4fb8765d1df6",
   "metadata": {},
   "outputs": [],
   "source": []
  },
  {
   "cell_type": "code",
   "execution_count": 6,
   "id": "46d4a86e-5fad-400a-80f2-7f10b7b07f46",
   "metadata": {},
   "outputs": [
    {
     "name": "stdout",
     "output_type": "stream",
     "text": [
      "5.4796157 0.11540476\n",
      "5.479616301749681 0.1154047302944399\n"
     ]
    },
    {
     "data": {
      "image/png": "[encoded data removed]",
      "text/plain": [
       "<Figure size 640x480 with 2 Axes>"
      ]
     },
     "metadata": {},
     "output_type": "display_data"
    }
   ],
   "source": [
    "vectors = perslay(diagrams[:10])\n",
    "\n",
    "res = 24\n",
    "pi_vec_layer = PersistenceImages(resolutions = [[res, res], [res, res]], bandwidths = [3e-2, 5e-2])\n",
    "all_vecs = []\n",
    "for pds in circle_pipeline.all_persistence_diagrams[:][:][:10]:\n",
    "    vecs = pi_vec_layer.vectorize_persistence_diagrams(pds)\n",
    "    all_vecs.append(vecs)\n",
    "all_vecs = tf.stack(all_vecs)\n",
    "\n",
    "ind = 7\n",
    "\n",
    "print(np.max(vectors[ind,:,:,0].numpy()), np.mean(vectors[ind,:,:,0].numpy()))\n",
    "print(np.max(all_vecs[0, ind, :, :, 1]), np.mean(all_vecs[0, ind, :, :, 1]))\n",
    "\n",
    "plt.figure()\n",
    "plt.imshow(np.flip(vectors[ind,:,:,0] - all_vecs[0, ind, :, :, 1].numpy(),0))\n",
    "cb = plt.colorbar()\n",
    "plt.show()"
   ]
  },
  {
   "cell_type": "markdown",
   "id": "0ba807da-b2d8-4f41-b08c-36dc2a5d4df5",
   "metadata": {
    "tags": []
   },
   "source": [
    "### Learning a good vectorization"
   ]
  },
  {
   "cell_type": "code",
   "execution_count": 151,
   "id": "b54a0c6f-de64-4cec-a059-a9d4411712fe",
   "metadata": {},
   "outputs": [],
   "source": [
    "def stack_ragged(tensors):\n",
    "    values = tf.concat(tensors, axis = 0)\n",
    "    lens = tf.stack([tf.shape(t, out_type=tf.int64)[0] for t in tensors])\n",
    "    return tf.RaggedTensor.from_row_lengths(values, lens)\n",
    "\n",
    "class PerslayLayer(tf.keras.layers.Layer):\n",
    "    def __init__(self, perslays, **kwargs):\n",
    "        super(PerslayLayer, self).__init__(**kwargs)\n",
    "        self.perslays = perslays\n",
    "    def call(self, inputs):\n",
    "        lis = []\n",
    "        for idx, perslay in enumerate(self.perslays):\n",
    "            diagrams = inputs[:, idx]\n",
    "            # print(diagrams.shape)\n",
    "            lis.append(perslay(diagrams))\n",
    "        return tf.concat(lis, axis = -1)\n",
    "res = 24\n",
    "extents = [item.im_range_fixed_.reshape((2,2)) for item in pi_vec_layer.vectorizations]\n",
    "rho = tf.identity\n",
    "phis = [prsl.GaussianPerslayPhi((res, res), extents[0], 3e-2), prsl.GaussianPerslayPhi((res, res), extents[1], 5e-2)]\n",
    "weights = [prsl.PowerPerslayWeight(1.,2.), prsl.PowerPerslayWeight(1.,2.)]\n",
    "perm_op = tf.math.reduce_sum\n",
    "perslays = [prsl.Perslay(phi=phis[0], weight=weights[0], perm_op=perm_op, rho=rho),\\\n",
    "            prsl.Perslay(phi=phis[1], weight=weights[1], perm_op=perm_op, rho=rho)]\n"
   ]
  },
  {
   "cell_type": "code",
   "execution_count": 62,
   "id": "e0a3da2d-3284-4885-925c-6c6090f9fabe",
   "metadata": {},
   "outputs": [
    {
     "name": "stdout",
     "output_type": "stream",
     "text": [
      "tf.Tensor([219 219 219 219 219 219 219 219 219 219], shape=(10,), dtype=int64)\n",
      "tf.Tensor([58 59 45 50 53 47 42 47 42 43], shape=(10,), dtype=int64)\n",
      "tf.Tensor([219 219 219 219 219 219 219 219 219 219], shape=(10,), dtype=int64)\n",
      "tf.Tensor([49 48 46 52 39 47 48 55 53 49], shape=(10,), dtype=int64)\n",
      "tf.Tensor([219 219 219 219 219 219 219 219 219 219], shape=(10,), dtype=int64)\n",
      "tf.Tensor([44 52 43 48 39 48 50 52 50 55], shape=(10,), dtype=int64)\n",
      "tf.Tensor([219 219 219 219 219 219 219 219 219 219], shape=(10,), dtype=int64)\n",
      "tf.Tensor([42 45 47 40 48 59 44 55 49 44], shape=(10,), dtype=int64)\n",
      "tf.Tensor([219 219 219 219 219 219 219 219 219 219], shape=(10,), dtype=int64)\n",
      "tf.Tensor([43 53 50 46 54 61 45 54 49 48], shape=(10,), dtype=int64)\n"
     ]
    }
   ],
   "source": [
    "all_dgms = [[item[:10] for item in pds] \\\n",
    "        for pds in circle_pipeline.all_persistence_diagrams]\n",
    "all_dgms = [[stack_ragged([tf.convert_to_tensor(item) for item in pds]) for pds in dgms] for dgms in all_dgms]"
   ]
  },
  {
   "cell_type": "code",
   "execution_count": 67,
   "id": "aa48f595-9d91-4bc2-a02c-099e23114d9e",
   "metadata": {},
   "outputs": [],
   "source": [
    "all_dgms = [[item[:10] for item in pds] \\\n",
    "        for pds in circle_pipeline.all_persistence_diagrams] # 4, hom_dims, num_sims, None, 2"
   ]
  },
  {
   "cell_type": "code",
   "execution_count": 68,
   "id": "9ebca476-0e4d-4093-8998-42ecb6e228e9",
   "metadata": {},
   "outputs": [],
   "source": []
  },
  {
   "cell_type": "code",
   "execution_count": 52,
   "id": "33e91d0f-d345-4825-b488-73601c1db798",
   "metadata": {},
   "outputs": [
    {
     "data": {
      "text/plain": [
       "TensorShape([20, None, 2])"
      ]
     },
     "execution_count": 52,
     "metadata": {},
     "output_type": "execute_result"
    }
   ],
   "source": [
    "tf.concat(all_dgms[0], axis = 0).shape"
   ]
  },
  {
   "cell_type": "code",
   "execution_count": null,
   "id": "66274702-f7d0-4553-bacb-08470489906d",
   "metadata": {},
   "outputs": [],
   "source": [
    "model = tf.keras.Sequential(\n",
    "    [   ExtraDimLayer(PerslayLayer(perslays)),\n",
    "        ExtraDimLayer(tf.keras.layers.Conv2D(8, (3,3), padding='same', activation = \"relu\", input_shape=(res, res, 2))),\n",
    "        ExtraDimLayer(tf.keras.layers.MaxPooling2D((2, 2), strides = 2)),\n",
    "        ExtraDimLayer(tf.keras.layers.Flatten()),\n",
    "        tf.keras.layers.Dense(12, activation=\"relu\"),\n",
    "        tf.keras.layers.Dense(2)\n",
    "    ]\n",
    ")\n",
    "op = model(dgms)"
   ]
  },
  {
   "cell_type": "code",
   "execution_count": null,
   "id": "e3aef564-38e2-4cc5-a65a-6b902d2b2727",
   "metadata": {},
   "outputs": [],
   "source": [
    "op.shape"
   ]
  },
  {
   "cell_type": "code",
   "execution_count": 22,
   "id": "39eea556-be6e-446d-9283-22b1e40f1885",
   "metadata": {},
   "outputs": [
    {
     "name": "stdout",
     "output_type": "stream",
     "text": [
      "(10, None, 2)\n",
      "(10, None, 2)\n"
     ]
    }
   ],
   "source": [
    "plays = PerslayLayer(perslays)\n",
    "vectors = plays(dgms[:10])"
   ]
  },
  {
   "cell_type": "code",
   "execution_count": 23,
   "id": "ef4615c3-56d6-4702-b0ad-e9a0dbdb168e",
   "metadata": {},
   "outputs": [
    {
     "data": {
      "text/plain": [
       "TensorShape([10, 24, 24, 2])"
      ]
     },
     "execution_count": 23,
     "metadata": {},
     "output_type": "execute_result"
    }
   ],
   "source": [
    "vectors.shape"
   ]
  },
  {
   "cell_type": "code",
   "execution_count": null,
   "id": "418f0f1d-e007-47d7-aea0-821203a68bac",
   "metadata": {},
   "outputs": [],
   "source": [
    "\n",
    "class PerslayIMNNLayer():\n",
    "    def __init__(self, perslay_comp, \n",
    "                 data_splits = [0.5, 0.25, 0.25], \\\n",
    "                 optimizer = tf.keras.optimizers.Adam(learning_rate= 1e-3), \\\n",
    "                 epochs = 100, batch_size = 512, verbose = 0, \\\n",
    "                 callbacks = None, \\\n",
    "                 name = \"Compression Layer\"):\n",
    "        \"\"\"\n",
    "        Initialize an IMNNLayer.\n",
    "        \n",
    "        Parameters\n",
    "        ----------\n",
    "        comp : tf.keras.Model\n",
    "            Compression model to extract information from the persistent \n",
    "            summaries.\n",
    "        data_splits : list, optional\n",
    "            Data split percentages for training, validation, and testing.\n",
    "            The default is [0.5, 0.25, 0.25].\n",
    "        optimizer : tf.keras.optimizers.Optimizer, optional\n",
    "            Optimizer for training. The default is Adam with learning rate 1e-3.\n",
    "        epochs : int, optional\n",
    "            Number of training epochs. The default is 100.\n",
    "        batch_size : int, optional\n",
    "            Batch size for training. The default is 512.\n",
    "        verbose : int, optional\n",
    "            Verbosity level for training. The default is 0.\n",
    "        callbacks : list, optional\n",
    "            List of callbacks for training. The default is None.\n",
    "        name : str, optional\n",
    "            Name for the IMNNLayer. The default is \"Compression Layer\".\n",
    "        \"\"\"\n",
    "        self.perslay_comp = perslay_comp\n",
    "        self.comp = comp\n",
    "        self.data_splits = data_splits\n",
    "        self.optimizer = optimizer\n",
    "        self.epochs = epochs\n",
    "        self.batch_size = batch_size\n",
    "        self.verbose = verbose\n",
    "        self.callbacks = callbacks\n",
    "        self.is_trained = False\n",
    "        super().__init__(name)\n",
    "    \n",
    "    def split_data(self, all_pds):\n",
    "        \"\"\"\n",
    "        Split input vectors into training, validation, and test sets.\n",
    "        \n",
    "        Parameters\n",
    "        ----------\n",
    "        all_pds : tf.Tensor\n",
    "            Input vectors.\n",
    "        \n",
    "        Returns\n",
    "        -------\n",
    "        train_vecs : tf.Tensor\n",
    "            Training vectors.\n",
    "        valid_vecs : tf.Tensor\n",
    "            Validation vectors.\n",
    "        test_vecs : tf.Tensor\n",
    "            Test vectors.\n",
    "        \"\"\"\n",
    "        # Transposing the first and the second index\n",
    "        # Old first index - indexing covariance and derivative simulations.\n",
    "        # Old second index - indexing simulation number.\n",
    "        inp_vecs = tf.einsum(\"ij...->ji...\", tf.stack(all_pds))\n",
    "        div = (np.array(self.data_splits) * inp_vecs.shape[0]).astype(int)\n",
    "        div = np.cumsum(div)\n",
    "        train_vecs, valid_vecs, test_vecs = \\\n",
    "            inp_vecs[:div[0]], inp_vecs[div[0]:div[1]], inp_vecs[div[1]:div[2]]\n",
    "        return train_vecs, valid_vecs, test_vecs\n",
    "    \n",
    "    def train_imnn(self, train_vecs, valid_vecs, delta_theta):\n",
    "        \"\"\"\n",
    "        Train and validate the IMNN model.\n",
    "\n",
    "        Parameters\n",
    "        ----------\n",
    "        train_vecs : tf.Tensor\n",
    "            Training vectors.\n",
    "        valid_vecs : tf.Tensor\n",
    "            Validation vectors.\n",
    "        delta_theta : tf.Tensor\n",
    "            The step sizes for Fisher Analysis.\n",
    "        \"\"\"\n",
    "        custom_loss = self.fisher_loss(delta_theta)\n",
    "        model = self.comp\n",
    "        model.compile(optimizer = self.optimizer, loss = custom_loss)\n",
    "        # Creating \"fake\" training data since this optimization is unsupervized.\n",
    "        train_y = tf.zeros(shape = (train_vecs.shape[0], 1))\n",
    "        validation_data = (valid_vecs, \\\n",
    "                           tf.zeros(shape = (valid_vecs.shape[0], 1)))\n",
    "        # Fitting the model\n",
    "        self.history = model.fit(train_vecs, train_y,\\\n",
    "                                 epochs = self.epochs, \\\n",
    "                                  batch_size = self.batch_size, \\\n",
    "                                     validation_data = validation_data, \\\n",
    "                                         verbose = self.verbose, \\\n",
    "                                             callbacks = self.callbacks)\n",
    "        self.is_trained = True\n",
    "    \n",
    "    def computeFisher(self, all_pds, delta_theta):\n",
    "        \"\"\"\n",
    "        Train and compute Fisher information using the trained IMNN model.\n",
    "\n",
    "        Parameters\n",
    "        ----------\n",
    "        all_pds : tf.Tensor\n",
    "            Input vectors.\n",
    "        delta_theta : tf.Tensor\n",
    "           Step sizes for Fisher analysis.\n",
    "\n",
    "        Returns\n",
    "        -------\n",
    "        Fisher.fisherFromVecs\n",
    "            Fisher information object.\n",
    "        \"\"\"\n",
    "        if(not self.is_trained) :\n",
    "            train_vecs, valid_vecs, test_vecs = self.split_data(all_pds)\n",
    "            self.train_imnn(train_vecs, valid_vecs, delta_theta)\n",
    "            # Transposing data so that it is compatible for the Fisher \n",
    "            # analysis. The input format is given by the fisherFromVecs() init\n",
    "            # function.\n",
    "            test_vecs = tf.einsum(\"ij...->ji...\", test_vecs)\n",
    "        else : test_vecs = all_pds\n",
    "        fisher = Fisher.fisherFromVecs(self.comp(test_vecs), delta_theta)\n",
    "        return fisher\n",
    "      \n",
    "    def fisher_loss(self, delta_theta):\n",
    "        \"\"\"\n",
    "        Defines the Fisher Information based loss function.\n",
    "        \n",
    "        Parameters\n",
    "        ----------\n",
    "        delta_theta : tf.Tensor\n",
    "            The step sizes for Fisher analysis.\n",
    "        \n",
    "        Returns\n",
    "        -------\n",
    "        loss_fn\n",
    "            The negative log determinant of the Fisher matrix.\n",
    "        \"\"\"\n",
    "        @tf.function\n",
    "        def loss_fn(y_true, y_pred):\n",
    "            # Transposing data so that it is compatible for the Fisher \n",
    "            # analysis. The input format is given by the fisherFromVecs() init\n",
    "            # function.\n",
    "            y_t = tf.einsum(\"ij...->ji...\", y_pred)\n",
    "            fish = Fisher.fisherFromVecs(y_t, delta_theta, clean_data = False) \n",
    "            loss = -fish.lnDetF\n",
    "            return loss\n",
    "        return loss_fn"
   ]
  },
  {
   "cell_type": "markdown",
   "id": "e164d483-b1aa-4056-9291-feee61d0e377",
   "metadata": {},
   "source": [
    "### Stacking retaining the shape"
   ]
  },
  {
   "cell_type": "code",
   "execution_count": 167,
   "id": "78db326c-6b06-4ec8-a962-7a10beb39997",
   "metadata": {},
   "outputs": [],
   "source": [
    "num_sims = 100\n",
    "all_dgms = [[item[:num_sims] for item in pds] \\\n",
    "        for pds in circle_pipeline.all_persistence_diagrams] # 4, hom_dims, num_sims, None, 2"
   ]
  },
  {
   "cell_type": "code",
   "execution_count": 168,
   "id": "aa1b4551-4e5c-4d3c-bcee-8ccdf3fb9c21",
   "metadata": {},
   "outputs": [
    {
     "name": "stdout",
     "output_type": "stream",
     "text": [
      "(100, 5, 24, 24, 2)\n",
      "(100, 5, 24, 24, 8)\n",
      "(100, 5, 12, 12, 8)\n",
      "(100, 5, 1152)\n"
     ]
    }
   ],
   "source": [
    "def stack_ragged(tensors):\n",
    "    tensors = [tf.constant(item) for item in tensors]\n",
    "    values = tf.concat(tensors, axis = 0)\n",
    "    lens = tf.stack([tf.shape(t, out_type=tf.int64)[0] for t in tensors])\n",
    "    return tf.RaggedTensor.from_row_lengths(values, lens)\n",
    "\n",
    "def transpose(all_dgms):\n",
    "    dgms_transpose = [list(map(list, zip(*dgms))) for dgms in all_dgms]\n",
    "    return list(map(list, zip(*dgms_transpose)))\n",
    "    \n",
    "\n",
    "def list_to_ragged_tensor(input_dgms, num_theta, num_hom_dim):\n",
    "    all_pds = transpose(input_dgms)\n",
    "    all_pds_list = []\n",
    "    for pds in all_pds:\n",
    "        pds_list = []\n",
    "        for dgms in pds: # Iterating over hom_dim\n",
    "            ragged_dgm = stack_ragged(dgms)\n",
    "            all_pds_list.append(ragged_dgm)\n",
    "    stacked = tf.concat(all_pds_list, axis = 0)\n",
    "    t1 = tf.RaggedTensor.from_uniform_row_length(stacked, num_hom_dim)\n",
    "    t2 = tf.RaggedTensor.from_uniform_row_length(t1, num_theta)\n",
    "    return t2\n",
    "t2 = list_to_ragged_tensor(all_dgms, 5, 2)\n",
    "model = tf.keras.Sequential(\n",
    "    [   ExtraDimLayer(PerslayLayer(perslays)),\n",
    "        ExtraDimLayer(tf.keras.layers.Conv2D(8, (3,3), padding='same', activation = \"relu\", input_shape=(res, res, 2))),\n",
    "        ExtraDimLayer(tf.keras.layers.MaxPooling2D((2, 2), strides = 2)),\n",
    "        ExtraDimLayer(tf.keras.layers.Flatten()),\n",
    "        tf.keras.layers.Dense(12, activation=\"relu\"),\n",
    "        tf.keras.layers.Dense(2)\n",
    "    ]\n",
    ")\n",
    "# op = model(t2)"
   ]
  },
  {
   "cell_type": "code",
   "execution_count": 169,
   "id": "4e8b2d7b-8de2-419e-ac8b-5c1800e2a325",
   "metadata": {},
   "outputs": [
    {
     "name": "stdout",
     "output_type": "stream",
     "text": [
      "1.29 s ± 0 ns per loop (mean ± std. dev. of 1 run, 1 loop each)\n"
     ]
    }
   ],
   "source": [
    "%timeit -n 1 -r 1 t2 = list_to_ragged_tensor(all_dgms, 5, 2)"
   ]
  },
  {
   "cell_type": "code",
   "execution_count": 172,
   "id": "5b76e637-985d-45bb-bbf3-ef2b8e432d1f",
   "metadata": {},
   "outputs": [
    {
     "name": "stdout",
     "output_type": "stream",
     "text": [
      "(100, 5, 24, 24, 2)\n",
      "60 s ± 0 ns per loop (mean ± std. dev. of 1 run, 1 loop each)\n"
     ]
    }
   ],
   "source": [
    "model = tf.keras.Sequential(\n",
    "    [   ExtraDimLayer(PerslayLayer(perslays))\n",
    "    ]\n",
    ")\n",
    "\n",
    "%timeit -n 1 -r 1 op = model(t2)"
   ]
  },
  {
   "cell_type": "code",
   "execution_count": 135,
   "id": "e1883c9c-5706-437d-bd2f-4f0be15257d2",
   "metadata": {},
   "outputs": [
    {
     "data": {
      "text/plain": [
       "(0.0, 0.0)"
      ]
     },
     "execution_count": 135,
     "metadata": {},
     "output_type": "execute_result"
    }
   ],
   "source": [
    "ind = np.random.randint(num_sims); hom_dim = np.random.randint(2); sim_idx = np.random.randint(5);\n",
    "diff = t2[ind][sim_idx][hom_dim] - all_dgms[sim_idx][hom_dim][ind]\n",
    "np.max(diff), np.min(diff)"
   ]
  }
 ],
 "metadata": {
  "kernelspec": {
   "display_name": "newEnvbkup",
   "language": "python",
   "name": "newenvbkup"
  },
  "language_info": {
   "codemirror_mode": {
    "name": "ipython",
    "version": 3
   },
   "file_extension": ".py",
   "mimetype": "text/x-python",
   "name": "python",
   "nbconvert_exporter": "python",
   "pygments_lexer": "ipython3",
   "version": "3.8.0"
  }
 },
 "nbformat": 4,
 "nbformat_minor": 5
}
