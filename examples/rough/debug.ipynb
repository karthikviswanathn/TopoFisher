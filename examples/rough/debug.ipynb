{
 "cells": [
  {
   "cell_type": "code",
   "execution_count": 1,
   "id": "ac2ebecc-eb13-415c-b958-870f53754955",
   "metadata": {},
   "outputs": [
    {
     "name": "stderr",
     "output_type": "stream",
     "text": [
      "2023-09-27 18:49:16.155205: I tensorflow/core/platform/cpu_feature_guard.cc:193] This TensorFlow binary is optimized with oneAPI Deep Neural Network Library (oneDNN) to use the following CPU instructions in performance-critical operations:  SSE4.1 SSE4.2 AVX AVX2 FMA\n",
      "To enable them in other operations, rebuild TensorFlow with the appropriate compiler flags.\n",
      "2023-09-27 18:49:22.492830: I tensorflow/core/platform/cpu_feature_guard.cc:193] This TensorFlow binary is optimized with oneAPI Deep Neural Network Library (oneDNN) to use the following CPU instructions in performance-critical operations:  SSE4.1 SSE4.2 AVX AVX2 FMA\n",
      "To enable them in other operations, rebuild TensorFlow with the appropriate compiler flags.\n"
     ]
    }
   ],
   "source": [
    "import tensorflow as tf\n",
    "import numpy as np\n",
    "import matplotlib.pyplot as plt\n",
    "import tqdm\n",
    "from tqdm import tqdm\n",
    "import matplotlib.colors as mcolors\n",
    "from copy import deepcopy\n",
    "from gudhi.representations import Landscape, PersistenceImage\n",
    "\n",
    "from topofisher.input_simulators.noisy_ring import CircleSimulator\n",
    "\n",
    "from topofisher.filtrations.numpy.alphaDTML import AlphaDTMLayer\n",
    "\n",
    "from topofisher.vectorizations.numpy.custom_vectorizations import TOPK\n",
    "from topofisher.vectorizations.numpy.vectorization_layer import VectorizationLayers\n",
    "from topofisher.vectorizations.numpy.shorthand_layers import PersistenceImages, PersistenceLandscapes\n",
    "\n",
    "from topofisher.fisher.Fisher import show_fm_and_bias\n",
    "from topofisher.fisher.imnn import IMNNLayer, MopedLayer, ExtraDimLayer\n",
    "from topofisher.fisher.plot_fisher_stats import plotContours2D, plotSummaryDerivativeHists, plot_derivative_convergence\n",
    "\n",
    "\n",
    "from topofisher.pipelines.circle import CirclePipeline\n",
    "from topofisher.pipelines.convergence_checks import fisher_estimates_wrt_step_size\n",
    "from topofisher.pipelines.utils import readFromFile, writeToFile\n",
    "\n",
    "import gudhi.representations as gdr\n",
    "import gudhi.tensorflow.perslay as prsl\n",
    "from gudhi.point_cloud.knn import KNearestNeighbors\n",
    "from topofisher.input_simulators.noisy_ring import CircleSimulator\n",
    "import gudhi"
   ]
  },
  {
   "cell_type": "code",
   "execution_count": 60,
   "id": "0897d9e9-820d-4fdd-94b9-c4556f48ce82",
   "metadata": {},
   "outputs": [],
   "source": [
    "class MixDTMAndL:\n",
    "    def __init__(self, p):\n",
    "        self.p = p\n",
    "        self.name = \"Mix DTML\"\n",
    "    \n",
    "    def ef_tf(self, pts, vf, inds):\n",
    "        p = self.p\n",
    "        fmax = tf.math.maximum(tf.gather(vf, inds[:,0]), \\\n",
    "                               tf.gather(vf, inds[:,1]))\n",
    "         \n",
    "        edge_coords = tf.gather(pts, inds)\n",
    "        start, end = edge_coords[:, 0, :], edge_coords[:, 1, :] \n",
    "        d = tf.linalg.norm(start - end, axis = -1)\n",
    "        return (d**p + fmax**p)**(1/p)\n",
    "    \n",
    "    # TODO : Note that the input signatures are different with the \"tf\" version.\n",
    "    def ef_np(self, pts, filt, inds):\n",
    "        p = self.p\n",
    "        pc = p.numpy() if(tf.is_tensor(p)) else p \n",
    "        inda, indb = inds[:,0], inds[:,1]    \n",
    "        d = np.linalg.norm(pts[inda] - pts[indb], axis = -1)\n",
    "        fx, fy = filt[inda], filt[indb] \n",
    "        fmax = np.maximum(fx, fy)\n",
    "        return (d**pc+fmax**pc)**(1/pc)\n",
    "\n",
    "class DTMFiltLayer(tf.keras.layers.Layer):\n",
    "    def __init__(self, max_hom_dim, complex_args, num_nn, efilt, perslays, autodiff = True, tqdm = False, **kwargs):\n",
    "        tf.keras.layers.Layer.__init__(self, **kwargs)\n",
    "        self.max_hom_dim = max_hom_dim\n",
    "        self.complex_args = complex_args\n",
    "        self.num_nn = num_nn\n",
    "        self.autodiff = autodiff\n",
    "        self.tqdm = tqdm\n",
    "        self.efilt = efilt\n",
    "        self.perslays = perslays\n",
    "        \n",
    "    def find_knn_matrices(self, inputs):\n",
    "        all_dists = [] \n",
    "        for pc in inputs:\n",
    "            knn = KNearestNeighbors(k = self.num_nn, return_index = False, return_distance = True, \\\n",
    "                                    enable_autodiff = self.autodiff)\n",
    "            dists = knn.fit_transform(pc)\n",
    "            \n",
    "            all_dists.append(dists)\n",
    "        return tf.stack(all_dists)\n",
    "        \n",
    "    def vFilt(self, knn_matrices):\n",
    "        return tf.math.sqrt(tf.math.reduce_mean(knn_matrices ** 2, axis = -1))\n",
    "\n",
    "    def computePP(self, allPts, allFilts):\n",
    "        pp = []        \n",
    "        iter_obs = tqdm(zip(allPts, allFilts), total = len(allPts)) if self.tqdm \\\n",
    "            else zip(allPts, allFilts)\n",
    "        for pts, vfilt in iter_obs:\n",
    "            st = self.createSimplexTree(pts, vfilt)\n",
    "            pp.append(st.flag_persistence_generators())     \n",
    "        return pp\n",
    "    \n",
    "    def createSimplexTree(self, pts, vfilt):\n",
    "        st =  self.getSimplexTree(pts)\n",
    "        vert = np.array([s[0] for s in st.get_skeleton(0)])\n",
    "        edges = np.array([s[0] for s in st.get_skeleton(1)\\\n",
    "                          if len(s[0]) == 2])\n",
    "        \n",
    "        efilt = self.efilt.ef_np(pts, vfilt, edges)\n",
    "        st = gudhi.SimplexTree()\n",
    "        st.insert_batch(vert.T, vfilt.reshape(-1))\n",
    "        st.insert_batch(edges.T, efilt)\n",
    "        st.expansion(self.max_hom_dim)\n",
    "        st.make_filtration_non_decreasing()\n",
    "        st.persistence()\n",
    "        return st;\n",
    "    \n",
    "    def getSimplexTree(self, pts, default = False):\n",
    "        complex_args = self.complex_args\n",
    "        complex_type = complex_args['complex_type']\n",
    "        \n",
    "        if(complex_type  == \"alpha\") :\n",
    "            alpha = gudhi.AlphaComplex(points = pts)\n",
    "            st = alpha.create_simplex_tree(default_filtration_value = not default)\n",
    "            \n",
    "        if(complex_type  == \"rips\") :\n",
    "            max_edge = complex_args['max_edge'] if 'max_edge' in complex_args.keys() \\\n",
    "                                                else np.inf\n",
    "            sparse = complex_args['sparse'] if 'sparse' in complex_args.keys() \\\n",
    "                                            else None\n",
    "            rips = gudhi.RipsComplex(points = pts, max_edge_length = max_edge, \\\n",
    "                                     sparse = sparse)\n",
    "            st = rips.create_simplex_tree(max_dimension = 2)\n",
    "        \n",
    "        return st\n",
    "\n",
    "    def getPDFromPairs(self, pts, pers_pairs, vFilts):                     \n",
    "        efilt = self.efilt\n",
    "        pd0, pd1 = [], []\n",
    "        vecs = []\n",
    "        for pt, pers, vf  in zip(pts, pers_pairs, vFilts) :\n",
    "            ind0, ind1 = pers[0], pers[1][0]\n",
    "            # print(len(ind0), len(ind1))\n",
    "            # print(len(pers[1][0]))\n",
    "            b0 = tf.gather(vf, ind0[:,0])\n",
    "            pt, vf = pt.numpy(), vf.numpy()\n",
    "            d0 = efilt.ef_np(pt, vf, ind0[:, 1:])\n",
    "            b1 = efilt.ef_np(pt, vf, ind1[:, :2])\n",
    "            d1 = efilt.ef_np(pt, vf, ind1[:, 2:])\n",
    "            \"\"\"\n",
    "            d0 = tf.gather_nd(dx, ind0[:, 1:]) \n",
    "            b1 = tf.gather_nd(dx, ind1[:, :2])\n",
    "            d1 = tf.gather_nd(dx, ind1[:, 2:])\n",
    "            \"\"\"\n",
    "            diag0, diag1 = tf.stack([b0, d0], axis = -1), tf.stack([b1, d1], axis = -1)\n",
    "            pd0.append(diag0)\n",
    "            pd1.append(diag1)\n",
    "            play0, play1 = self.perslays\n",
    "            # vec0  = play0(tf.expand_dims(diag0, 0))[0]\n",
    "            # vec1  = play1(tf.expand_dims(diag1, 0))[0]\n",
    "            # vecs.append(tf.concat([vec0, vec1], axis = -1))\n",
    "        return pd0, pd1\n",
    "        # return tf.stack(vecs)\n",
    "    \n",
    "    def stack_ragged(self, tensors):\n",
    "        values = tf.concat(tensors, axis = 0)\n",
    "        lens = tf.stack([tf.shape(t, out_type=tf.int64)[0] for t in tensors])\n",
    "        return tf.RaggedTensor.from_row_lengths(values, lens)\n",
    "\n",
    "    def call(self, inputs):\n",
    "        knn_matrices = self.find_knn_matrices(inputs)\n",
    "        vFilts = self.vFilt(knn_matrices)\n",
    "        pps = self.computePP(inputs.numpy(), vFilts.numpy())\n",
    "        \n",
    "        return self.getPDFromPairs(inputs, pps, vFilts)"
   ]
  },
  {
   "cell_type": "code",
   "execution_count": 61,
   "id": "79e9079d-6200-485c-a6cb-d19d10fc393c",
   "metadata": {},
   "outputs": [],
   "source": [
    "circle_pipeline = readFromFile(\"pipeline_m_p9_ns_4K_dtheta_p01.pkl\")"
   ]
  },
  {
   "cell_type": "code",
   "execution_count": 62,
   "id": "1cab6f54-9577-4591-bc93-07b8b65a2265",
   "metadata": {},
   "outputs": [],
   "source": [
    "num_sims = 1\n",
    "theta_fid = tf.constant([1., 0.2])\n",
    "noisy_ring =  CircleSimulator(200, 20, 1.)\n",
    "all_pts = noisy_ring.generateInstances(theta_fid, num_sims, seed = circle_pipeline.seed_cov)\n",
    "filtLayer_new = DTMFiltLayer(max_hom_dim = 2, efilt = MixDTMAndL(p = 1), perslays = [[],[]], \\\n",
    "                             complex_args = {'complex_type':\"alpha\"}, num_nn = 198)"
   ]
  },
  {
   "cell_type": "code",
   "execution_count": null,
   "id": "c2cfcde9-f315-44c5-bbe9-6531b90b94e4",
   "metadata": {},
   "outputs": [],
   "source": [
    "pd0"
   ]
  },
  {
   "cell_type": "code",
   "execution_count": 14,
   "id": "6809525d-fe88-49d1-87dc-37dfa7869ec1",
   "metadata": {},
   "outputs": [],
   "source": [
    "filtLayer = AlphaDTMLayer(m = 0.9, max_hom_dim = 2, hom_dim_list = [0, 1], show_tqdm = False)"
   ]
  },
  {
   "cell_type": "code",
   "execution_count": null,
   "id": "534ce27c-2d3a-4279-8b6b-b57b1263c4ae",
   "metadata": {},
   "outputs": [],
   "source": [
    "st = filtLayer.get_st(all_pts[ind].numpy())\n",
    "fpg = st.flag_persistence_generators()\n",
    "fpg[0] - filtLayer_new(all_pts)[ind][0]"
   ]
  },
  {
   "cell_type": "code",
   "execution_count": 12,
   "id": "4349116d-03c4-4ff3-ad61-97e6161c3a47",
   "metadata": {},
   "outputs": [
    {
     "data": {
      "text/plain": [
       "53"
      ]
     },
     "execution_count": 12,
     "metadata": {},
     "output_type": "execute_result"
    }
   ],
   "source": [
    "ind = 0\n",
    "len(filtLayer_new(all_pts)[ind][1][0])"
   ]
  },
  {
   "cell_type": "code",
   "execution_count": 50,
   "id": "149af56a-fd0a-479d-8c49-d3b1a9814c1b",
   "metadata": {},
   "outputs": [],
   "source": [
    "A = filtLayer_new(all_pts)[ind][0];\n",
    "B = fpg[0]\n",
    "for item in B:\n",
    "    if item not in A:\n",
    "        print(B)"
   ]
  },
  {
   "cell_type": "code",
   "execution_count": null,
   "id": "75c4297c-efb4-41be-9c76-12a98eae8085",
   "metadata": {},
   "outputs": [],
   "source": [
    "setA - setB"
   ]
  },
  {
   "cell_type": "code",
   "execution_count": null,
   "id": "5487e0b4-6563-4c72-9b4c-dcbadeb3720f",
   "metadata": {},
   "outputs": [],
   "source": [
    "A = filtLayer_new(all_pts)[ind][0];\n",
    "B = fpg[0]\n",
    "setA = {tuple(row) for row in A}\n",
    "setB = {tuple(row) for row in B}\n",
    "setA - setB, setB - setA"
   ]
  },
  {
   "cell_type": "code",
   "execution_count": 62,
   "id": "efbbd7cb-24a4-4f37-9e0f-ce3b80576fbe",
   "metadata": {},
   "outputs": [],
   "source": [
    "A = filtLayer_new(all_pts)[ind][1][0];\n",
    "B = fpg[1][0]\n",
    "for item in A:\n",
    "    if item not in B:\n",
    "        print(item)"
   ]
  },
  {
   "cell_type": "code",
   "execution_count": 64,
   "id": "a853621d-ec6f-43d0-bdbc-9f0afa4e1461",
   "metadata": {},
   "outputs": [
    {
     "name": "stdout",
     "output_type": "stream",
     "text": [
      "53 54\n"
     ]
    }
   ],
   "source": [
    "for item in B:\n",
    "    if item not in A:\n",
    "        print(item)\n",
    "print(len(A), len(B))"
   ]
  },
  {
   "cell_type": "code",
   "execution_count": null,
   "id": "6fc3e841-44d0-48fa-91a2-6efd36881e92",
   "metadata": {},
   "outputs": [],
   "source": [
    "hom_dim = 1; ind = 0;\n",
    "pds[hom_dim][ind]"
   ]
  },
  {
   "cell_type": "code",
   "execution_count": null,
   "id": "aba97e28-18c7-4601-9400-d04e6efc9b61",
   "metadata": {},
   "outputs": [],
   "source": [
    "st = filtLayer.get_st(all_pts[ind].numpy())\n",
    "st.flag_persistence_generators() - filtLayer_new(all_pts)[ind]"
   ]
  },
  {
   "cell_type": "markdown",
   "id": "7fb90fe1-0698-43e0-994c-f946d1a6e9f2",
   "metadata": {},
   "source": [
    "### Plotting PD1"
   ]
  },
  {
   "cell_type": "code",
   "execution_count": null,
   "id": "0e89bf38-6133-4638-894b-0d3cb0e7b926",
   "metadata": {},
   "outputs": [],
   "source": [
    "pd1p"
   ]
  },
  {
   "cell_type": "code",
   "execution_count": 64,
   "id": "5e75dc7a-a278-49db-b427-891ec18a3bfa",
   "metadata": {},
   "outputs": [
    {
     "data": {
      "text/plain": [
       "<AxesSubplot: title={'center': 'Persistence diagram'}, xlabel='Birth', ylabel='Death'>"
      ]
     },
     "execution_count": 64,
     "metadata": {},
     "output_type": "execute_result"
    },
    {
     "data": {
      "image/png": "[encoded data removed]",
      "text/plain": [
       "<Figure size 800x300 with 2 Axes>"
      ]
     },
     "metadata": {},
     "output_type": "display_data"
    }
   ],
   "source": [
    "ncols = 2\n",
    "fig, axes = plt.subplots(nrows=1, ncols= ncols, \\\n",
    "                         figsize=(3 * ncols + 2 , 3))\n",
    "pd1 = filtLayer.find_persistence_diagrams(all_pts)[1][ind]\n",
    "pd0 = filtLayer.find_persistence_diagrams(all_pts)[0][ind]\n",
    "pd1p = filtLayer_new(all_pts)[1][ind]\n",
    "pd0p = filtLayer_new(all_pts)[0][ind]\n",
    "gudhi.plot_persistence_diagram(pd1, axes = axes[1])\n",
    "gudhi.plot_persistence_diagram(pd1p.numpy(), axes = axes[1], colormap = 'blue')\n",
    "\n",
    "\n",
    "gudhi.plot_persistence_diagram(pd0, axes = axes[0])\n",
    "gudhi.plot_persistence_diagram(pd0p.numpy(), axes = axes[0], colormap = 'blue')"
   ]
  },
  {
   "cell_type": "code",
   "execution_count": 24,
   "id": "bbc441b5-5a40-4411-85fd-c608b95d559f",
   "metadata": {},
   "outputs": [
    {
     "data": {
      "text/plain": [
       "array([[1.36257839, 1.36629891],\n",
       "       [1.36066675, 1.38279712],\n",
       "       [1.42618132, 1.43135655],\n",
       "       [1.42190826, 1.43518114],\n",
       "       [1.4413985 , 1.45078492],\n",
       "       [1.43002534, 1.47194958],\n",
       "       [1.47576714, 1.49296856],\n",
       "       [1.49114013, 1.49349916],\n",
       "       [1.33434105, 1.49613178],\n",
       "       [1.50350356, 1.51254749],\n",
       "       [1.49737251, 1.52341366],\n",
       "       [1.52591467, 1.54173017],\n",
       "       [1.51919353, 1.54468203],\n",
       "       [1.53178871, 1.55070901],\n",
       "       [1.5065397 , 1.5662818 ],\n",
       "       [1.56175971, 1.56707549],\n",
       "       [1.4643482 , 1.56993556],\n",
       "       [1.5507071 , 1.56997418],\n",
       "       [1.4850992 , 1.57775569],\n",
       "       [1.55120242, 1.58292782],\n",
       "       [1.53605366, 1.59169126],\n",
       "       [1.56556964, 1.60440505],\n",
       "       [1.54664779, 1.60815692],\n",
       "       [1.43156731, 1.6110574 ],\n",
       "       [1.60877633, 1.61204541],\n",
       "       [1.61572325, 1.61927307],\n",
       "       [1.62150276, 1.62343216],\n",
       "       [1.62031841, 1.63800526],\n",
       "       [1.62763894, 1.64882672],\n",
       "       [1.64910066, 1.65020001],\n",
       "       [1.57787156, 1.65571845],\n",
       "       [1.55034184, 1.66021013],\n",
       "       [1.6350956 , 1.68117905],\n",
       "       [1.65314281, 1.68122864],\n",
       "       [1.66226959, 1.68692398],\n",
       "       [1.64103389, 1.69338012],\n",
       "       [1.69821107, 1.70178151],\n",
       "       [1.63833296, 1.72263563],\n",
       "       [1.71116376, 1.73237634],\n",
       "       [1.565135  , 1.76566327],\n",
       "       [1.7579056 , 1.76916409],\n",
       "       [1.60191047, 1.77573276],\n",
       "       [1.5433563 , 1.79452527],\n",
       "       [1.66497207, 1.80315733],\n",
       "       [1.77596545, 1.8062396 ],\n",
       "       [1.81057954, 1.81946564],\n",
       "       [1.80206978, 1.82749987],\n",
       "       [1.7879355 , 1.85883188],\n",
       "       [1.86659348, 1.86758137],\n",
       "       [1.8541199 , 1.87366033],\n",
       "       [1.86151266, 1.89886904],\n",
       "       [1.91974056, 1.98404551],\n",
       "       [2.32280397, 2.34186649],\n",
       "       [2.27213264, 2.3488462 ]])"
      ]
     },
     "execution_count": 24,
     "metadata": {},
     "output_type": "execute_result"
    }
   ],
   "source": [
    "filtLayer.find_persistence_diagrams(all_pts)[1][ind]"
   ]
  },
  {
   "cell_type": "code",
   "execution_count": null,
   "id": "8c34bb84-8919-4a2b-b941-1f14c74a4968",
   "metadata": {},
   "outputs": [],
   "source": []
  }
 ],
 "metadata": {
  "kernelspec": {
   "display_name": "newEnvbkup",
   "language": "python",
   "name": "newenvbkup"
  },
  "language_info": {
   "codemirror_mode": {
    "name": "ipython",
    "version": 3
   },
   "file_extension": ".py",
   "mimetype": "text/x-python",
   "name": "python",
   "nbconvert_exporter": "python",
   "pygments_lexer": "ipython3",
   "version": "3.8.0"
  }
 },
 "nbformat": 4,
 "nbformat_minor": 5
}
