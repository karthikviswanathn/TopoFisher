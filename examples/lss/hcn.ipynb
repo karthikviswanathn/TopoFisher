{
 "cells": [
  {
   "cell_type": "code",
   "execution_count": 1,
   "id": "73061680-b452-4546-8b20-e9838d2bfdbf",
   "metadata": {},
   "outputs": [
    {
     "name": "stderr",
     "output_type": "stream",
     "text": [
      "2023-11-15 20:14:12.487076: I tensorflow/core/platform/cpu_feature_guard.cc:193] This TensorFlow binary is optimized with oneAPI Deep Neural Network Library (oneDNN) to use the following CPU instructions in performance-critical operations:  SSE4.1 SSE4.2 AVX AVX2 AVX512F AVX512_VNNI FMA\n",
      "To enable them in other operations, rebuild TensorFlow with the appropriate compiler flags.\n",
      "2023-11-15 20:14:24.708875: I tensorflow/core/platform/cpu_feature_guard.cc:193] This TensorFlow binary is optimized with oneAPI Deep Neural Network Library (oneDNN) to use the following CPU instructions in performance-critical operations:  SSE4.1 SSE4.2 AVX AVX2 AVX512F AVX512_VNNI FMA\n",
      "To enable them in other operations, rebuild TensorFlow with the appropriate compiler flags.\n"
     ]
    },
    {
     "ename": "ImportError",
     "evalue": "cannot import name 'show_fm_and_bias' from 'topofisher.fisher.Fisher' (/Users/karthikviswanathan/Desktop/TDA/codes/fisherPH/versions/TopoFisher/topofisher/fisher/Fisher.py)",
     "output_type": "error",
     "traceback": [
      "\u001b[0;31m---------------------------------------------------------------------------\u001b[0m",
      "\u001b[0;31mImportError\u001b[0m                               Traceback (most recent call last)",
      "Cell \u001b[0;32mIn[1], line 10\u001b[0m\n\u001b[1;32m      8\u001b[0m \u001b[38;5;28;01mfrom\u001b[39;00m \u001b[38;5;21;01mtopofisher\u001b[39;00m\u001b[38;5;21;01m.\u001b[39;00m\u001b[38;5;21;01mvectorizations\u001b[39;00m\u001b[38;5;21;01m.\u001b[39;00m\u001b[38;5;21;01mnumpy\u001b[39;00m\u001b[38;5;21;01m.\u001b[39;00m\u001b[38;5;21;01mvectorization_layer\u001b[39;00m \u001b[38;5;28;01mimport\u001b[39;00m VectorizationLayers\n\u001b[1;32m      9\u001b[0m \u001b[38;5;28;01mimport\u001b[39;00m \u001b[38;5;21;01mmatplotlib\u001b[39;00m\u001b[38;5;21;01m.\u001b[39;00m\u001b[38;5;21;01mpyplot\u001b[39;00m \u001b[38;5;28;01mas\u001b[39;00m \u001b[38;5;21;01mplt\u001b[39;00m\n\u001b[0;32m---> 10\u001b[0m \u001b[38;5;28;01mfrom\u001b[39;00m \u001b[38;5;21;01mtopofisher\u001b[39;00m\u001b[38;5;21;01m.\u001b[39;00m\u001b[38;5;21;01mfisher\u001b[39;00m\u001b[38;5;21;01m.\u001b[39;00m\u001b[38;5;21;01mFisher\u001b[39;00m \u001b[38;5;28;01mimport\u001b[39;00m show_fm_and_bias, fisherMOPED, fisherFromVecs\n\u001b[1;32m     11\u001b[0m \u001b[38;5;28;01mimport\u001b[39;00m \u001b[38;5;21;01mtensorflow\u001b[39;00m \u001b[38;5;28;01mas\u001b[39;00m \u001b[38;5;21;01mtf\u001b[39;00m\n\u001b[1;32m     12\u001b[0m \u001b[38;5;28;01mimport\u001b[39;00m \u001b[38;5;21;01mimportlib\u001b[39;00m\n",
      "\u001b[0;31mImportError\u001b[0m: cannot import name 'show_fm_and_bias' from 'topofisher.fisher.Fisher' (/Users/karthikviswanathan/Desktop/TDA/codes/fisherPH/versions/TopoFisher/topofisher/fisher/Fisher.py)"
     ]
    }
   ],
   "source": [
    "import numpy as np\n",
    "import os\n",
    "import glob\n",
    "import topofisher\n",
    "from topofisher.filtrations.numpy.alphaDTML import AlphaDTMLayer\n",
    "from topofisher.filtrations.numpy.default_filtrations import AlphaFiltration\n",
    "from topofisher.vectorizations.numpy.custom_vectorizations import TOPK\n",
    "from topofisher.vectorizations.numpy.vectorization_layer import VectorizationLayers\n",
    "import matplotlib.pyplot as plt\n",
    "from topofisher.fisher.Fisher import show_fm_and_bias, fisherMOPED, fisherFromVecs\n",
    "import tensorflow as tf\n",
    "import importlib\n",
    "importlib.reload(topofisher.fisher.imnn)\n",
    "from topofisher.fisher.imnn import IMNNLayer, MopedLayer, ExtraDimLayer\n",
    "import pickle, glob\n",
    "import numpy as np \n",
    "import CompressedFisher"
   ]
  },
  {
   "cell_type": "code",
   "execution_count": null,
   "id": "883ccaec-bfd0-4f62-b76e-51c4544cd234",
   "metadata": {},
   "outputs": [],
   "source": []
  },
  {
   "cell_type": "code",
   "execution_count": 14,
   "id": "5dd7b297-6cad-4066-a9da-321dfec6fabf",
   "metadata": {},
   "outputs": [
    {
     "name": "stdout",
     "output_type": "stream",
     "text": [
      "Parameter  \t standard Fisher \t Est. Fractional bias \n",
      "Om  \t\t  0.006 \t\t     0.057 \n",
      "Ob2  \t\t  0.007 \t\t     0.595 \n",
      "h  \t\t  0.055 \t\t     0.473 \n",
      "ns  \t\t  0.031 \t\t     0.295 \n",
      "s8  \t\t  0.005 \t\t     0.116 \n",
      "Parameter \t Compressed Fisher \t Est. Fractional bias \n",
      "Om   \t\t  0.007 \t\t       0.003 \n",
      "Ob2   \t\t  0.021 \t\t       0.042 \n",
      "h   \t\t  0.124 \t\t       0.036 \n",
      "ns   \t\t  0.048 \t\t       0.015 \n",
      "s8   \t\t  0.006 \t\t       0.004 \n",
      "Parameter \t Combined Fisher  \n",
      "Om   \t\t  0.006\n",
      "Ob2   \t\t  0.012\n",
      "h   \t\t  0.080\n",
      "ns   \t\t  0.038\n",
      "s8   \t\t  0.006\n"
     ]
    }
   ],
   "source": [
    "fid_arr = np.load('/Users/karthikviswanathan/Downloads/fid_dv.npy')[0]\n",
    "der_arr = np.load('/Users/karthikviswanathan/Downloads/cosmo_dv.npy')\n",
    "params_fid = np.array([0.9624 ,  0.049, 0.3175 , 0.834, 0.6711])\n",
    "delta_params =  0.5*np.array([0.04, 0.004, 0.02, 0.03, 0.04])  \n",
    "parameter_names = [\"ns\", \"Ob2\",  \"Om\", \"s8\", \"h\"]\n",
    "compress_frac_split = 0.5\n",
    "dict_param_steps = {parameter_names[i]:delta_params[i] for i in range(len(params_fid))}\n",
    "dict_deriv_sims = {parameter_names[i]:der_arr[2*i: 2*i + 2] for i in range(len(params_fid))}\n",
    "nSimsCovMat = fid_arr.shape[0]\n",
    "nSims_deriv = der_arr.shape[1]\n",
    "cFisher = CompressedFisher.gaussianFisher(parameter_names, nSims_deriv, \\\n",
    "                                          include_covmat_param_depedence=False,\n",
    "                                      deriv_finite_dif_accuracy=2)\n",
    "covmat_sims = fid_arr\n",
    "cFisher.initailize_covmat(covmat_sims, True)\n",
    "cFisher.initailize_mean(covmat_sims)\n",
    "cFisher.initailize_deriv_sims(dic_deriv_sims=dict_deriv_sims, dict_param_steps=dict_param_steps)\n",
    "# cFisher.generate_deriv_sim_splits(ids_fish = list(range(3750, 7500)) , ids_comp = list(range(3750)))\n",
    "cFisher.generate_deriv_sim_splits(compress_fraction=compress_frac_split)\n",
    "cFisher.generate_covmat_sim_splits(compress_fraction=compress_frac_split)\n",
    "\n",
    "parameter_names_new = [\"Om\", \"Ob2\", \"h\", \"ns\", \"s8\"]\n",
    "stnd_constraint    = cFisher.compute_fisher_forecast(parameter_names_new)\n",
    "stnd_constraint_bias = cFisher.est_fisher_forecast_bias(parameter_names_new)\n",
    "\n",
    "print(f'Parameter  \\t standard Fisher \\t Est. Fractional bias ')\n",
    "for i,name in enumerate(parameter_names_new):\n",
    "    print(f'{name}  \\t\\t  {stnd_constraint[i,i]**.5:.3f} \\t\\t     {(stnd_constraint_bias/stnd_constraint)[i,i]:.3f} ')\n",
    "\n",
    "compressed_constraint = cFisher.compute_compressed_fisher_forecast(parameter_names_new)\n",
    "compressed_constraint_bias = cFisher.est_compressed_fisher_forecast_bias(parameter_names_new)\n",
    "\n",
    "print(f'Parameter \\t Compressed Fisher \\t Est. Fractional bias ')\n",
    "for i,name in enumerate(parameter_names_new):\n",
    "    print(f'{name}   \\t\\t  {compressed_constraint[i,i]**.5:.3f} \\t\\t   \\\n",
    "    {(compressed_constraint_bias/compressed_constraint)[i,i]:.3f} ')\n",
    "\n",
    "\n",
    "combined_constraint = cFisher.compute_combined_fisher_forecast(parameter_names_new)\n",
    "# print(f'Parameter  standard Fisher  Bias compressed comp Bias combined ')\n",
    "print(f'Parameter \\t Combined Fisher  ')\n",
    "for i,name in enumerate(parameter_names_new):\n",
    "    print(f'{name}   \\t\\t  {combined_constraint[i,i]**.5:.3f}')\n"
   ]
  },
  {
   "cell_type": "code",
   "execution_count": null,
   "id": "56aeef2a-f0f8-41c9-9249-6b5c645462d1",
   "metadata": {},
   "outputs": [],
   "source": []
  },
  {
   "cell_type": "code",
   "execution_count": 5,
   "id": "0c00a9d3-f5a0-4a00-9ad3-734749725f7c",
   "metadata": {},
   "outputs": [
    {
     "name": "stdout",
     "output_type": "stream",
     "text": [
      "log FI =  45.27\n",
      "FM =  [  550948.   -1202073.4   1174839.     924513.75   334065.25 -1202073.4\n",
      "  2634362.   -2559456.5  -1993179.    -730852.9   1174839.1  -2559456.5\n",
      "  2553982.    2018435.4    711335.25   924513.8  -1993179.2   2018435.2\n",
      "  1651560.8    556418.44   334065.25  -730852.8    711335.2    556418.5\n",
      "   202909.44]\n",
      "Fractional bias =  [0.3  0.46 0.23 0.18 0.44]\n",
      "Constraints =  [0.08368098 0.06853569 0.00978153 0.00841495 0.3533728 ]\n"
     ]
    }
   ],
   "source": [
    "delta_theta_all = np.array([0.04, 0.004, 0.02, 0.03, 0.04])  \n",
    "mopred_fish = fisherMOPED([fid_arr, *der_arr], delta_theta_all)\n",
    "show_fm_and_bias(fish)"
   ]
  },
  {
   "cell_type": "code",
   "execution_count": null,
   "id": "bee32470-ab9e-4208-a338-da5588a00fc9",
   "metadata": {},
   "outputs": [],
   "source": [
    "\n",
    "Fractional bias =  [0.19 0.46 0.03 0.07 0.36]\n",
    "Constraints =  [0.03305993 0.00901079 0.00604934 0.00517515 0.06221631]\n",
    "\n",
    "Fractional bias =  [0.3  0.46 0.23 0.18 0.44]\n",
    "Constraints =  [0.08367601 0.06852406 0.00977711 0.00841043 0.35334623]"
   ]
  }
 ],
 "metadata": {
  "kernelspec": {
   "display_name": "newEnvbkup",
   "language": "python",
   "name": "newenvbkup"
  },
  "language_info": {
   "codemirror_mode": {
    "name": "ipython",
    "version": 3
   },
   "file_extension": ".py",
   "mimetype": "text/x-python",
   "name": "python",
   "nbconvert_exporter": "python",
   "pygments_lexer": "ipython3",
   "version": "3.8.0"
  }
 },
 "nbformat": 4,
 "nbformat_minor": 5
}
