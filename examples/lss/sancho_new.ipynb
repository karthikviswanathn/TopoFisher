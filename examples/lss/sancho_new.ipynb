{
 "cells": [
  {
   "cell_type": "code",
   "execution_count": 6,
   "id": "f802e593-c812-460b-8396-ab41c12d786f",
   "metadata": {},
   "outputs": [],
   "source": [
    "import numpy as np\n",
    "import os\n",
    "import glob\n",
    "import topofisher\n",
    "from topofisher.filtrations.numpy.alphaDTML import AlphaDTMLayer\n",
    "from topofisher.filtrations.numpy.default_filtrations import AlphaFiltration\n",
    "from topofisher.vectorizations.numpy.custom_vectorizations import TOPK\n",
    "from topofisher.vectorizations.numpy.vectorization_layer import VectorizationLayers\n",
    "import matplotlib.pyplot as plt\n",
    "from topofisher.fisher.Fisher import show_fm_and_bias, fisherMOPED, fisherFromVecs\n",
    "import tensorflow as tf\n",
    "import importlib\n",
    "importlib.reload(topofisher.fisher.imnn)\n",
    "from topofisher.fisher.imnn import IMNNLayer, MopedLayer, ExtraDimLayer\n",
    "import pickle\n",
    "import glob\n",
    "import tqdm\n",
    "from tqdm import tqdm"
   ]
  },
  {
   "cell_type": "markdown",
   "id": "308988c7-f1c8-421c-9734-3fa07ece14e2",
   "metadata": {},
   "source": [
    "# Functions, benchmarks and familiarizing with data"
   ]
  },
  {
   "cell_type": "markdown",
   "id": "32655f5c-a656-4a14-b118-2c0f08830e0d",
   "metadata": {
    "tags": []
   },
   "source": [
    "## Some functions"
   ]
  },
  {
   "cell_type": "code",
   "execution_count": 7,
   "id": "2bd105d0-96d5-4226-b244-10e6b4aa679f",
   "metadata": {},
   "outputs": [],
   "source": [
    "def shuffle_along_axis(arr, seed = None):\n",
    "    if seed is None: seed = np.random.randint(1e4)\n",
    "    # Create a random number generator with the specified seed\n",
    "    rng = np.random.RandomState(seed)\n",
    "\n",
    "    # Use the random number generator to shuffle the array along the first axis\n",
    "    shuffled_arr = arr[rng.permutation(arr.shape[0])]\n",
    "    return shuffled_arr\n",
    "\n",
    "def get_vecs(directory_path):\n",
    "    # Find all pickle files in the directory\n",
    "    pickle_files = glob.glob(os.path.join(directory_path, '*.pkl'))\n",
    "    fid_vecs = []\n",
    "    der_vecs = {}\n",
    "    param_list = [\"Om_m\", \"Om_p\", \"s8_m\", \"s8_p\"]\n",
    "    for item in param_list : der_vecs[item] = []\n",
    "    for file_path in pickle_files:\n",
    "        with open(file_path, 'rb') as file:\n",
    "            data = pickle.load(file)\n",
    "            fid_vecs.append(data[0]['fiducial'])\n",
    "            # print(data[0].keys())\n",
    "            for item in param_list : der_vecs[item].append(data[1][item])\n",
    "\n",
    "    fid_arr = np.array(np.concatenate(fid_vecs, axis = 0), dtype = np.float64)\n",
    "    # der_arr = np.array([ for item in param_list], dtype = np.float64)\n",
    "    der_arr = {}\n",
    "    for item in param_list: der_arr[item] = np.array(np.concatenate(der_vecs[item], axis = 0), dtype = np.float64)\n",
    "    return [fid_arr, der_arr['Om_m'], der_arr['Om_p'], der_arr['s8_m'], der_arr['s8_p']]\n",
    "\n",
    "\n",
    "def fisherAnalysisMOPED(directory_path):\n",
    "    # Find all pickle files in the directory\n",
    "    arrs = get_vecs(directory_path)\n",
    "    seeds = [np.random.randint(100) for _ in range(3)]\n",
    "    fid_arr = shuffle_along_axis(arrs[0], seed = seeds[0])\n",
    "    der_arr = [shuffle_along_axis(arrs[idx + 1], seeds[idx//2 + 1]) for idx in range(4)]\n",
    "    fish = fisherMOPED([fid_arr, *der_arr], np.array([0.02, 0.03]))\n",
    "    show_fm_and_bias(fish)\n",
    "    return fish\n",
    "\n",
    "def fisherAnalysis(directory_path):\n",
    "    # Find all pickle files in the directory\n",
    "    arrs = get_vecs(directory_path)\n",
    "    seeds = [np.random.randint(100) for _ in range(3)]\n",
    "    # fid_arr, der_arr = arrs[0], arrs[1:]\n",
    "    fid_arr = shuffle_along_axis(arrs[0], seed = seeds[0])\n",
    "    der_arr = [shuffle_along_axis(arrs[idx + 1], seeds[idx//2 + 1]) for idx in range(4)]\n",
    "    fish = fisherFromVecs([fid_arr, *der_arr], np.array([0.02, 0.03]))\n",
    "    show_fm_and_bias(fish)\n",
    "    return fish\n",
    "\n",
    "def plotLearningGraphs(history):\n",
    "    ncols = 4\n",
    "    fig, axes = plt.subplots(nrows=1, ncols= ncols, figsize=(3 * ncols + 2 , 3))\n",
    "    lis = ['loss', 'lnfi', 'bias0', 'bias1']\n",
    "    for idx in range(4) :\n",
    "        axes[idx].plot(history[lis[idx]][1:], label = \"Training\")\n",
    "        axes[idx].plot(history['val_' + lis[idx]][1:], label = \"Validation\")\n",
    "        if \"bias\" in lis[idx]: axes[idx].axhline(0.2, linestyle = 'dotted', c = 'black')\n",
    "        axes[idx].set_title(lis[idx])\n",
    "    fig.legend(labels=['Training', 'Validation']) \n",
    "\n",
    "def run_imnn(vecs):\n",
    "    fid_arr, der_arr = vecs[0], vecs[1:]\n",
    "    all_vecs = np.stack([fid_arr[:7500], *der_arr])\n",
    "    delta_theta = np.array([0.02, 0.03])\n",
    "    comp = tf.keras.Sequential([\n",
    "        tf.keras.layers.Dense(10, activation= tf.keras.layers.LeakyReLU(alpha=0.01)),\n",
    "        tf.keras.layers.Dense(2)])\n",
    "\n",
    "\n",
    "    imnn_layer = IMNNLayer(comp, verbose = 0, epochs = 400, reg = tf.constant([0., 0.]),\\\n",
    "                           callbacks = [tf.keras.callbacks.EarlyStopping(\n",
    "                                    patience = 3, restore_best_weights = True)],\\\n",
    "                           optimizer = tf.keras.optimizers.Adam(learning_rate= 1e-3),\n",
    "                           data_splits = [0.4, 0.2, 0.4], show_bias = True, show_fi = True)\n",
    "    fish = imnn_layer.computeFisher(all_vecs, delta_theta)\n",
    "\n",
    "    return [fish.lnDetF.numpy(), np.round(fish.fractional_bias.numpy().flatten(), 2), fish]"
   ]
  },
  {
   "cell_type": "markdown",
   "id": "c1e3d5e4-eac3-4599-9e56-d11c90038f31",
   "metadata": {
    "tags": []
   },
   "source": [
    "## Benchmark from Jacky"
   ]
  },
  {
   "cell_type": "code",
   "execution_count": 8,
   "id": "b6b74c32-7c27-448e-83eb-dfc451aba602",
   "metadata": {},
   "outputs": [
    {
     "name": "stdout",
     "output_type": "stream",
     "text": [
      "log FI =  25.118087792615572\n",
      "FM =  [637509.62 175715.25 175715.25 175536.26]\n",
      "Constraints =  [0.00147184 0.00280492]\n"
     ]
    }
   ],
   "source": [
    "mat = [[637509.6239556,  175715.25139639], [175715.25139638, 175536.25526324]]\n",
    "print (\"log FI = \", np.log(np.linalg.det(mat)))\n",
    "print (\"FM = \", np.round(np.array(mat).flatten(), 2))\n",
    "print(\"Constraints = \", np.sqrt(np.diag(np.linalg.inv(mat))))"
   ]
  },
  {
   "cell_type": "markdown",
   "id": "ef305f34-d63f-4870-9703-23b58c93d52c",
   "metadata": {
    "tags": []
   },
   "source": [
    "# Histogram"
   ]
  },
  {
   "cell_type": "markdown",
   "id": "57f8f23b-6efd-4048-b209-b06f80a9fa0f",
   "metadata": {
    "tags": []
   },
   "source": [
    "## 15"
   ]
  },
  {
   "cell_type": "code",
   "execution_count": 9,
   "id": "ee19b1ae-43f1-4e34-966b-727a262df7cc",
   "metadata": {},
   "outputs": [
    {
     "name": "stdout",
     "output_type": "stream",
     "text": [
      "Before compression\n",
      "log FI =  21.97\n",
      "FM =  [157957.65  68116.18  68116.18  51378.42]\n",
      "Fractional bias =  [0. 0.]\n",
      "Constraints =  [0.0038447  0.00674129]\n",
      "\n",
      "After MOPED\n",
      "log FI =  21.96\n",
      "FM =  [158717.68  68439.46  68439.46  51166.07]\n",
      "Fractional bias =  [0. 0.]\n",
      "Constraints =  [0.00385835 0.00679552]\n"
     ]
    }
   ],
   "source": [
    "directory_path = '/Users/karthikviswanathan/Downloads/imph/histogram_15_10'\n",
    "print(\"Before compression\")\n",
    "fish = fisherAnalysis(directory_path)\n",
    "print(\"\\nAfter MOPED\")\n",
    "fish = fisherAnalysisMOPED(directory_path)"
   ]
  },
  {
   "cell_type": "markdown",
   "id": "d0d7da4e-e05d-4439-84eb-a12c4aa979b1",
   "metadata": {
    "tags": []
   },
   "source": [
    "### IMNN"
   ]
  },
  {
   "cell_type": "code",
   "execution_count": null,
   "id": "32a7c496-d914-49fd-9c7b-ad59035edfad",
   "metadata": {},
   "outputs": [],
   "source": [
    "vecs = get_vecs(directory_path)\n",
    "fid_arr, der_arr = vecs[0], vecs[1:]\n",
    "all_vecs = np.stack([fid_arr[:7500], *der_arr])\n",
    "delta_theta = np.array([0.02, 0.03])\n",
    "comp = tf.keras.Sequential([\n",
    "    tf.keras.layers.Dense(8, activation='relu'),\n",
    "    tf.keras.layers.Dense(2)])\n",
    "imnn_layer = IMNNLayer(comp, verbose = 0, epochs = 200, reg = tf.constant([1., 1.5]),\\\n",
    "                       callbacks = [tf.keras.callbacks.EarlyStopping(\n",
    "                                patience = 3, restore_best_weights = True)],\\\n",
    "                       data_splits = [0.4, 0.2, 0.4], show_bias = True, show_fi = True)\n",
    "fish = imnn_layer.computeFisher(all_vecs, delta_theta)\n",
    "show_fm_and_bias(fish)\n",
    "plotLearningGraphs(comp.history.history)\n",
    " "
   ]
  },
  {
   "cell_type": "markdown",
   "id": "cc064a5d-21b8-429f-b4d4-016b3ec45d60",
   "metadata": {
    "tags": []
   },
   "source": [
    "## 100"
   ]
  },
  {
   "cell_type": "code",
   "execution_count": 11,
   "id": "af14338c-a1bd-4245-ba41-eafb80079a7f",
   "metadata": {},
   "outputs": [
    {
     "name": "stdout",
     "output_type": "stream",
     "text": [
      "Before compression\n",
      "log FI =  19.84\n",
      "FM =  [83626.01 22501.68 22501.68 11011.78]\n",
      "Fractional bias =  [0. 0.]\n",
      "Constraints =  [0.00515398 0.01420315]\n",
      "\n",
      "After MOPED\n",
      "log FI =  19.83\n",
      "FM =  [84107.71 22628.   22628.   10970.96]\n",
      "Fractional bias =  [0. 0.]\n",
      "Constraints =  [0.00516835 0.01431025]\n"
     ]
    }
   ],
   "source": [
    "directory_path = '/Users/karthikviswanathan/Downloads/imph/histogram_100_10'\n",
    "print(\"Before compression\")\n",
    "fish = fisherAnalysis(directory_path)\n",
    "print(\"\\nAfter MOPED\")\n",
    "fish = fisherAnalysisMOPED(directory_path)"
   ]
  },
  {
   "cell_type": "markdown",
   "id": "d50a7082-4dad-40bf-ba39-6f8d7333c62c",
   "metadata": {
    "tags": []
   },
   "source": [
    "### IMNN"
   ]
  },
  {
   "cell_type": "code",
   "execution_count": null,
   "id": "45f3885d-3822-41bd-8f70-1279e2f62e28",
   "metadata": {},
   "outputs": [],
   "source": [
    "vecs = get_vecs(directory_path)\n",
    "fid_arr, der_arr = vecs[0], vecs[1:]\n",
    "all_vecs = np.stack([fid_arr[:7500], *der_arr])\n",
    "delta_theta = np.array([0.02, 0.03])\n",
    "comp = tf.keras.Sequential([\n",
    "    tf.keras.layers.Dense(6, activation=leaky_relu),\n",
    "    tf.keras.layers.Dense(2)])\n",
    "imnn_layer = IMNNLayer(comp, verbose = 0, epochs = 200, reg = tf.constant([1., 1.5]),\\\n",
    "                       callbacks = [tf.keras.callbacks.EarlyStopping(\n",
    "                                patience = 3, restore_best_weights = True)],\\\n",
    "                       data_splits = [0.4, 0.2, 0.4], show_bias = True, show_fi = True)\n",
    "fish = imnn_layer.computeFisher(all_vecs, delta_theta)\n",
    "show_fm_and_bias(fish)\n",
    "plotLearningGraphs(comp.history.history)"
   ]
  },
  {
   "cell_type": "code",
   "execution_count": null,
   "id": "70e475a7-42d9-479f-8726-76fb01e764b2",
   "metadata": {},
   "outputs": [],
   "source": [
    "loss_list = []\n",
    "for _ in tqdm(range(10)):\n",
    "    try : loss_list.append(run_imnn(vecs))\n",
    "    except Exception as e: print(\"An error occured: \", e)"
   ]
  },
  {
   "cell_type": "code",
   "execution_count": null,
   "id": "fa692461-00bf-4cfa-822c-7096ecf50e97",
   "metadata": {},
   "outputs": [],
   "source": [
    "print([item[0] for item in loss_list])"
   ]
  },
  {
   "cell_type": "code",
   "execution_count": null,
   "id": "db8893ab-b305-489e-b75d-4692f4cfa58c",
   "metadata": {},
   "outputs": [],
   "source": []
  },
  {
   "cell_type": "markdown",
   "id": "d6c158d0-620b-497c-923b-6a752dca4e6c",
   "metadata": {
    "tags": []
   },
   "source": [
    "## 15 + 100"
   ]
  },
  {
   "cell_type": "markdown",
   "id": "246a7280-68ff-465d-b93b-9f3ad803d33d",
   "metadata": {
    "tags": []
   },
   "source": [
    "### Check if we are concatenating data vectors of the same simulation"
   ]
  },
  {
   "cell_type": "code",
   "execution_count": null,
   "id": "b59efdbe-be48-4be5-a725-7374a79156f4",
   "metadata": {},
   "outputs": [],
   "source": [
    "def get_files(directory_path):\n",
    "    pickle_files = glob.glob(os.path.join(directory_path, '*.pkl'))\n",
    "    file_names = [os.path.basename(file) for file in pickle_files]\n",
    "    return file_names\n",
    "\n",
    "directory_paths = ['/Users/karthikviswanathan/Downloads/imph/histogram_15_10', \\\n",
    "                   '/Users/karthikviswanathan/Downloads/imph/histogram_100_10']\n",
    "pickle_files = [get_files(item) for item in directory_paths]\n",
    "for a,b in zip(pickle_files[0], pickle_files[1]): \n",
    "    if a != b : print(a, b)\n"
   ]
  },
  {
   "cell_type": "markdown",
   "id": "afe96b39-f543-44a1-8046-3152a5d836f3",
   "metadata": {},
   "source": [
    "### Concatenating data vectors"
   ]
  },
  {
   "cell_type": "code",
   "execution_count": 14,
   "id": "939ae58b-5a3c-4b14-b1cc-8a2bf3ba3183",
   "metadata": {},
   "outputs": [],
   "source": [
    "v1, v2 = get_vecs('/Users/karthikviswanathan/Downloads/imph/histogram_15_10'), \\\n",
    "            get_vecs('/Users/karthikviswanathan/Downloads/imph/histogram_100_10')"
   ]
  },
  {
   "cell_type": "code",
   "execution_count": 15,
   "id": "eb2dfa0b-5cc7-4b63-99d1-95868a505a09",
   "metadata": {},
   "outputs": [
    {
     "name": "stdout",
     "output_type": "stream",
     "text": [
      "log FI =  22.06\n",
      "FM =  [165175.67  70890.33  70890.33  53529.9 ]\n",
      "Fractional bias =  [0. 0.]\n",
      "Constraints =  [0.00374517 0.00657879]\n",
      "\n",
      "After compressing\n",
      "log FI =  21.97\n",
      "FM =  [159311.6   68380.83  68380.83  51249.83]\n",
      "Fractional bias =  [0. 0.]\n",
      "Constraints =  [0.00383275 0.00675754]\n"
     ]
    }
   ],
   "source": [
    "seed = np.random.randint(1000)\n",
    "vecs = [np.concatenate([shuffle_along_axis(va, seed = seed), \\\n",
    "                        shuffle_along_axis(vb, seed = seed)], axis = -1) for va, vb in zip(v1, v2)]\n",
    "\n",
    "fish = fisherFromVecs(vecs, np.array([0.02, 0.03]))\n",
    "show_fm_and_bias(fish)\n",
    "\n",
    "print(\"\\nAfter compressing\")\n",
    "fish = fisherMOPED(vecs, np.array([0.02, 0.03]))\n",
    "show_fm_and_bias(fish)"
   ]
  },
  {
   "cell_type": "markdown",
   "id": "94437335-30d0-438e-95da-af67a09fdc24",
   "metadata": {
    "tags": []
   },
   "source": [
    "### IMNN"
   ]
  },
  {
   "cell_type": "code",
   "execution_count": null,
   "id": "bda901b8-22c1-4248-a2f6-5693f2196680",
   "metadata": {},
   "outputs": [],
   "source": [
    "leaky_relu = tf.keras.layers.LeakyReLU(alpha=0.01)\n",
    "fid_arr, der_arr = vecs[0], vecs[1:]\n",
    "all_vecs = np.stack([fid_arr[:7500], *der_arr])\n",
    "delta_theta = np.array([0.02, 0.03])\n",
    "comp = tf.keras.Sequential([\n",
    "    tf.keras.layers.Dense(10, activation = leaky_relu),\n",
    "    tf.keras.layers.Dense(2)])\n",
    "imnn_layer = IMNNLayer(comp, verbose = 0, epochs = 100, reg = tf.constant([0., 0.]),\\\n",
    "                       callbacks = [tf.keras.callbacks.EarlyStopping(\n",
    "                                patience = 3, restore_best_weights = True)],\n",
    "                       data_splits = [0.4, 0.2, 0.4], show_bias = True, show_fi = True)\n",
    "fish = imnn_layer.computeFisher(all_vecs, delta_theta)\n",
    "show_fm_and_bias(fish)\n",
    "plotLearningGraphs(comp.history.history)"
   ]
  },
  {
   "cell_type": "code",
   "execution_count": null,
   "id": "b14716c7-100b-4cf9-a26c-6f43721c8aa5",
   "metadata": {},
   "outputs": [],
   "source": [
    "for item in fish.summaries :\n",
    "    print(np.cov(np.array(item).T).flatten())"
   ]
  },
  {
   "cell_type": "markdown",
   "id": "60ce533c-b051-443a-b61f-29e8aa991c99",
   "metadata": {
    "tags": []
   },
   "source": [
    "### Additional checks"
   ]
  },
  {
   "cell_type": "code",
   "execution_count": null,
   "id": "8d0b1498-bd3d-4ebf-9763-f74a5dcae23c",
   "metadata": {},
   "outputs": [],
   "source": [
    "loss_list = []\n",
    "for _ in tqdm(range(10)):\n",
    "    try : loss_list.append(run_imnn(vecs))\n",
    "    except Exception as e: print(\"An error occured: \", e)\n",
    "print([item[0] for item in loss_list if max(item[1]) < 0.2])"
   ]
  },
  {
   "cell_type": "code",
   "execution_count": null,
   "id": "a7791c0b-6828-47b9-a2b9-986cfdd2afac",
   "metadata": {},
   "outputs": [],
   "source": [
    "summaries = loss_list[1][-1].summaries\n",
    "for item in summaries :\n",
    "    print(np.cov(np.array(item).T).flatten())"
   ]
  },
  {
   "cell_type": "code",
   "execution_count": null,
   "id": "0161b33a-fa13-4c6a-8518-4c8b48bb28e8",
   "metadata": {},
   "outputs": [],
   "source": [
    "summaries = loss_list[-2][-1].summaries\n",
    "for item in summaries :\n",
    "    print(np.cov(np.array(item).T).flatten())"
   ]
  },
  {
   "cell_type": "markdown",
   "id": "076cf3fd-6379-44f7-ba6b-426297625583",
   "metadata": {
    "tags": []
   },
   "source": [
    "# TopK"
   ]
  },
  {
   "cell_type": "markdown",
   "id": "45b0b661-b0e3-42bf-89ca-3499a76a7fe8",
   "metadata": {
    "jp-MarkdownHeadingCollapsed": true,
    "tags": []
   },
   "source": [
    "## 15"
   ]
  },
  {
   "cell_type": "code",
   "execution_count": 12,
   "id": "08f9e872-4bfb-474f-921e-0edf15448f75",
   "metadata": {},
   "outputs": [
    {
     "name": "stdout",
     "output_type": "stream",
     "text": [
      "Before compression\n",
      "log FI =  22.0\n",
      "FM =  [150252.16  56263.13  56263.13  44979.73]\n",
      "Fractional bias =  [0.01 0.01]\n",
      "Constraints =  [0.0035383 0.0064669]\n",
      "\n",
      "After MOPED\n",
      "log FI =  21.68\n",
      "FM =  [130155.3   48560.5   48560.5   38105.43]\n",
      "Fractional bias =  [0. 0.]\n",
      "Constraints =  [0.0038272  0.00707325]\n"
     ]
    }
   ],
   "source": [
    "directory_path = '/Users/karthikviswanathan/Downloads/imph/topk_15_100'\n",
    "print(\"Before compression\")\n",
    "fish = fisherAnalysis(directory_path)\n",
    "print(\"\\nAfter MOPED\")\n",
    "fish = fisherAnalysisMOPED(directory_path)"
   ]
  },
  {
   "cell_type": "markdown",
   "id": "c7102557-6724-4235-bf61-7d2e727e2657",
   "metadata": {
    "tags": []
   },
   "source": [
    "### IMNN"
   ]
  },
  {
   "cell_type": "code",
   "execution_count": null,
   "id": "80bded98-abb9-4908-be21-287ed73d9bbb",
   "metadata": {},
   "outputs": [],
   "source": [
    "vecs = get_vecs(directory_path)\n",
    "fid_arr, der_arr = vecs[0], vecs[1:]\n",
    "all_vecs = np.stack([fid_arr[:7500], *der_arr])\n",
    "delta_theta = np.array([0.02, 0.03])\n",
    "comp = tf.keras.Sequential([\n",
    "    tf.keras.layers.Dense(8, activation='relu'),\n",
    "    tf.keras.layers.Dense(2)])\n",
    "imnn_layer = IMNNLayer(comp, verbose = 0, epochs = 200, reg = tf.constant([1., 1.5]),\\\n",
    "                       callbacks = [tf.keras.callbacks.EarlyStopping(\n",
    "                                patience = 3, restore_best_weights = True)],\\\n",
    "                       data_splits = [0.4, 0.2, 0.4], show_bias = True, show_fi = True)\n",
    "fish = imnn_layer.computeFisher(all_vecs, delta_theta)\n",
    "show_fm_and_bias(fish)\n",
    "plotLearningGraphs(comp.history.history)\n",
    " "
   ]
  },
  {
   "cell_type": "markdown",
   "id": "103c5ca2-aded-46fa-8376-b40b4233e7e5",
   "metadata": {
    "tags": []
   },
   "source": [
    "## 100"
   ]
  },
  {
   "cell_type": "code",
   "execution_count": 13,
   "id": "29cfc492-7503-47c7-bf22-e4f0c35f491a",
   "metadata": {},
   "outputs": [
    {
     "name": "stdout",
     "output_type": "stream",
     "text": [
      "Before compression\n",
      "log FI =  19.84\n",
      "FM =  [83626.01 22501.68 22501.68 11011.78]\n",
      "Fractional bias =  [0. 0.]\n",
      "Constraints =  [0.00515398 0.01420315]\n",
      "\n",
      "After MOPED\n",
      "log FI =  19.79\n",
      "FM =  [81053.73 22084.   22084.   10860.74]\n",
      "Fractional bias =  [0. 0.]\n",
      "Constraints =  [0.00525962 0.01436849]\n"
     ]
    }
   ],
   "source": [
    "directory_path = '/Users/karthikviswanathan/Downloads/imph/histogram_100_10'\n",
    "print(\"Before compression\")\n",
    "fish = fisherAnalysis(directory_path)\n",
    "print(\"\\nAfter MOPED\")\n",
    "fish = fisherAnalysisMOPED(directory_path)"
   ]
  },
  {
   "cell_type": "markdown",
   "id": "3b330ec1-3583-4f83-a025-d9b70ed51850",
   "metadata": {
    "tags": []
   },
   "source": [
    "### IMNN"
   ]
  },
  {
   "cell_type": "code",
   "execution_count": null,
   "id": "a3b33ed1-1466-4d9f-a040-224d91163f33",
   "metadata": {},
   "outputs": [],
   "source": [
    "vecs = get_vecs(directory_path)\n",
    "fid_arr, der_arr = vecs[0], vecs[1:]\n",
    "all_vecs = np.stack([fid_arr[:7500], *der_arr])\n",
    "delta_theta = np.array([0.02, 0.03])\n",
    "comp = tf.keras.Sequential([\n",
    "    tf.keras.layers.Dense(6, activation='relu'),\n",
    "    tf.keras.layers.Dense(2)])\n",
    "imnn_layer = IMNNLayer(comp, verbose = 0, epochs = 200, reg = tf.constant([1., 1.5]),\\\n",
    "                       callbacks = [tf.keras.callbacks.EarlyStopping(\n",
    "                                patience = 3, restore_best_weights = True)],\\\n",
    "                       data_splits = [0.4, 0.2, 0.4], show_bias = True, show_fi = True)\n",
    "fish = imnn_layer.computeFisher(all_vecs, delta_theta)\n",
    "show_fm_and_bias(fish)\n",
    "plotLearningGraphs(comp.history.history)"
   ]
  },
  {
   "cell_type": "markdown",
   "id": "9d8dacc9-9431-4908-aa6e-c662cc04369a",
   "metadata": {
    "tags": []
   },
   "source": [
    "## 15 + 100"
   ]
  },
  {
   "cell_type": "markdown",
   "id": "de3d8203-caf0-4740-b513-9618bdcc4402",
   "metadata": {
    "tags": []
   },
   "source": [
    "### Check if we are concatenating data vectors of the same simulation"
   ]
  },
  {
   "cell_type": "code",
   "execution_count": null,
   "id": "a6c28296-e87e-4578-94ab-f511dec6105b",
   "metadata": {},
   "outputs": [],
   "source": [
    "def get_files(directory_path):\n",
    "    pickle_files = glob.glob(os.path.join(directory_path, '*.pkl'))\n",
    "    file_names = [os.path.basename(file) for file in pickle_files]\n",
    "    return file_names\n",
    "\n",
    "directory_paths = ['/Users/karthikviswanathan/Downloads/imph/topk_15_200', \\\n",
    "                   '/Users/karthikviswanathan/Downloads/imph/topk_100_200']\n",
    "pickle_files = [get_files(item) for item in directory_paths]\n",
    "for a,b in zip(pickle_files[0], pickle_files[1]): \n",
    "    if a != b : print(a, b)\n"
   ]
  },
  {
   "cell_type": "code",
   "execution_count": 16,
   "id": "72176b50-f668-4901-a5d2-290dca0a7b20",
   "metadata": {},
   "outputs": [],
   "source": [
    "v1, v2 = get_vecs('/Users/karthikviswanathan/Downloads/imph/topk_15_200'), \\\n",
    "            get_vecs('/Users/karthikviswanathan/Downloads/imph/topk_100_200')"
   ]
  },
  {
   "cell_type": "code",
   "execution_count": 18,
   "id": "bdf157f5-7460-4946-81b8-97cea619348d",
   "metadata": {},
   "outputs": [
    {
     "name": "stdout",
     "output_type": "stream",
     "text": [
      "log FI =  22.35\n",
      "FM =  [179985.    64893.47  64893.47  51679.99]\n",
      "Fractional bias =  [0.03 0.03]\n",
      "Constraints =  [0.00318627 0.0059462 ]\n",
      "\n",
      "After compressing\n",
      "log FI =  20.93\n",
      "FM =  [92787.61 34336.58 34336.58 25897.04]\n",
      "Fractional bias =  [0. 0.]\n",
      "Constraints =  [0.00459989 0.00870699]\n"
     ]
    }
   ],
   "source": [
    "seed = np.random.randint(1000)\n",
    "vecs = [np.concatenate([shuffle_along_axis(va, seed = seed), \\\n",
    "                        shuffle_along_axis(vb, seed = seed)], axis = -1) for va, vb in zip(v1, v2)]\n",
    "\n",
    "fish = fisherFromVecs(vecs, np.array([0.02, 0.03]))\n",
    "show_fm_and_bias(fish)\n",
    "\n",
    "print(\"\\nAfter compressing\")\n",
    "fish = fisherMOPED(vecs, np.array([0.02, 0.03]))\n",
    "show_fm_and_bias(fish)"
   ]
  },
  {
   "cell_type": "markdown",
   "id": "adafabd9-a6d1-44c8-a1dd-3103da287b23",
   "metadata": {
    "tags": []
   },
   "source": [
    "### IMNN"
   ]
  },
  {
   "cell_type": "code",
   "execution_count": null,
   "id": "8ec5ef5e-92af-4ced-8511-59c8b9bab867",
   "metadata": {},
   "outputs": [],
   "source": [
    "fid_arr, der_arr = vecs[0], vecs[1:]\n",
    "all_vecs = np.stack([fid_arr[:7500], *der_arr])\n",
    "delta_theta = np.array([0.02, 0.03])\n",
    "comp = tf.keras.Sequential([\n",
    "    tf.keras.layers.Dense(10, activation= 'relu'),\n",
    "    tf.keras.layers.Dense(2)])\n",
    "\n",
    "\n",
    "imnn_layer = IMNNLayer(comp, verbose = 0, epochs = 400, reg = tf.constant([0., 0.]),\\\n",
    "                       callbacks = [tf.keras.callbacks.EarlyStopping(\n",
    "                                patience = 3, restore_best_weights = True)],\\\n",
    "                       optimizer = tf.keras.optimizers.Adam(learning_rate= 1e-3),\n",
    "                       data_splits = [0.4, 0.2, 0.4], show_bias = True, show_fi = True)\n",
    "fish = imnn_layer.computeFisher(all_vecs, delta_theta)\n",
    "\n",
    "\n",
    "show_fm_and_bias(fish)\n",
    "plotLearningGraphs(comp.history.history)"
   ]
  },
  {
   "cell_type": "code",
   "execution_count": null,
   "id": "32a1bb6f-2d8c-464b-a566-c39c18f8f6ea",
   "metadata": {},
   "outputs": [],
   "source": [
    "loss_list = []\n",
    "for _ in tqdm(range(10)):\n",
    "    try : loss_list.append(run_imnn(vecs))\n",
    "    except Exception as e: print(\"An error occured: \", e)\n",
    "print([item[0] for item in loss_list if max(item[1]) < 0.2])"
   ]
  },
  {
   "cell_type": "code",
   "execution_count": null,
   "id": "ef425f5a-abf3-4701-9d9b-4b8a93dc2e54",
   "metadata": {},
   "outputs": [],
   "source": []
  },
  {
   "cell_type": "code",
   "execution_count": null,
   "id": "11410081-69b0-4b52-85cd-f628eeb691f1",
   "metadata": {},
   "outputs": [],
   "source": []
  }
 ],
 "metadata": {
  "kernelspec": {
   "display_name": "newEnvbkup",
   "language": "python",
   "name": "newenvbkup"
  },
  "language_info": {
   "codemirror_mode": {
    "name": "ipython",
    "version": 3
   },
   "file_extension": ".py",
   "mimetype": "text/x-python",
   "name": "python",
   "nbconvert_exporter": "python",
   "pygments_lexer": "ipython3",
   "version": "3.8.0"
  }
 },
 "nbformat": 4,
 "nbformat_minor": 5
}
