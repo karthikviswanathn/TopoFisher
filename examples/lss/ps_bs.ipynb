{
 "cells": [
  {
   "cell_type": "code",
   "execution_count": 1,
   "id": "73061680-b452-4546-8b20-e9838d2bfdbf",
   "metadata": {},
   "outputs": [
    {
     "name": "stderr",
     "output_type": "stream",
     "text": [
      "2023-10-30 21:37:56.765645: I tensorflow/core/platform/cpu_feature_guard.cc:193] This TensorFlow binary is optimized with oneAPI Deep Neural Network Library (oneDNN) to use the following CPU instructions in performance-critical operations:  SSE4.1 SSE4.2 AVX AVX2 AVX512F AVX512_VNNI FMA\n",
      "To enable them in other operations, rebuild TensorFlow with the appropriate compiler flags.\n",
      "2023-10-30 21:38:03.882733: I tensorflow/core/platform/cpu_feature_guard.cc:193] This TensorFlow binary is optimized with oneAPI Deep Neural Network Library (oneDNN) to use the following CPU instructions in performance-critical operations:  SSE4.1 SSE4.2 AVX AVX2 AVX512F AVX512_VNNI FMA\n",
      "To enable them in other operations, rebuild TensorFlow with the appropriate compiler flags.\n"
     ]
    }
   ],
   "source": [
    "import numpy as np\n",
    "import os\n",
    "import glob\n",
    "import topofisher\n",
    "from topofisher.filtrations.numpy.alphaDTML import AlphaDTMLayer\n",
    "from topofisher.filtrations.numpy.default_filtrations import AlphaFiltration\n",
    "from topofisher.vectorizations.numpy.custom_vectorizations import TOPK\n",
    "from topofisher.vectorizations.numpy.vectorization_layer import VectorizationLayers\n",
    "import matplotlib.pyplot as plt\n",
    "from topofisher.fisher.Fisher import show_fm_and_bias, fisherMOPED, fisherFromVecs\n",
    "import tensorflow as tf\n",
    "import importlib\n",
    "importlib.reload(topofisher.fisher.imnn)\n",
    "from topofisher.fisher.imnn import IMNNLayer, MopedLayer, ExtraDimLayer\n",
    "import pickle, glob\n",
    "import numpy as np \n",
    "import CompressedFisher"
   ]
  },
  {
   "cell_type": "markdown",
   "id": "ef5ef366-8c1f-440d-81af-da9875abe149",
   "metadata": {},
   "source": [
    "## For power spectrum "
   ]
  },
  {
   "cell_type": "code",
   "execution_count": 10,
   "id": "433dfd88-5b8a-42d7-a6e5-6484b8940e67",
   "metadata": {},
   "outputs": [],
   "source": [
    "fid_arr = np.load('/Users/karthikviswanathan/Downloads/galaxies_Pk_combined_P0kP2kB0k/fiducial_P0kP2kB0k.npy')\n",
    "parameter_names = ['alpha_m', 'sigma_logM_m', 'logM0_m', 'logM1_m', 'logMmin_m', 'ns_m', \\\n",
    "                      'Ob2_m', 'Om_m', 's8_m', 'h_m', 'OR_LSS_m', 'LC_m', 'EQ_m']\n",
    "params_fid =  [1.1, 0.2, 14, 14, 13.65, 0.9624, 0.049, 0.3175, 0.834, 0.6711, 0., 0., 0.]\n",
    "der_arr = []\n",
    "for item in parameter_names:\n",
    "    filename = '/Users/karthikviswanathan/Downloads/galaxies_Pk_deriv_P0kP2kB0k/' + item + '_P0kP2kB0k_deriv.npy'\n",
    "    arr = np.load(filename)\n",
    "    # print(arr.shape)\n",
    "    der_arr.append(arr)\n"
   ]
  },
  {
   "cell_type": "code",
   "execution_count": 3,
   "id": "623c652d-b776-4d86-a75d-cc131db5b841",
   "metadata": {},
   "outputs": [
    {
     "name": "stdout",
     "output_type": "stream",
     "text": [
      "Parameter  \t standard Fisher \t Est. Fractional bias \n",
      "alpha_m  \t\t  0.373 \t\t     0.329 \n",
      "sigma_logM_m  \t\t  0.146 \t\t     0.731 \n",
      "logM0_m  \t\t  0.600 \t\t     0.358 \n",
      "logM1_m  \t\t  0.171 \t\t     0.211 \n",
      "logMmin_m  \t\t  0.231 \t\t     0.369 \n",
      "ns_m  \t\t  0.043 \t\t     0.306 \n",
      "Ob2_m  \t\t  0.004 \t\t     0.275 \n",
      "Om_m  \t\t  0.012 \t\t     0.163 \n",
      "s8_m  \t\t  0.015 \t\t     0.194 \n",
      "h_m  \t\t  0.044 \t\t     0.352 \n",
      "OR_LSS_m  \t\t  91.283 \t\t     0.119 \n",
      "LC_m  \t\t  59.364 \t\t     0.041 \n",
      "EQ_m  \t\t  229.629 \t\t     0.243 \n"
     ]
    }
   ],
   "source": [
    "compress_frac_split = 0.5\n",
    "# dict_param_steps = {parameter_names[i]:delta_params[i] for i in range(len(params_fid))}\n",
    "dict_deriv_sims = {parameter_names[i]:der_arr[i] for i in range(len(params_fid))}\n",
    "nSimsCovMat = 10000\n",
    "nSims_deriv = 7500\n",
    "cFisher = CompressedFisher.gaussianFisher(parameter_names, nSims_deriv, \\\n",
    "                                          include_covmat_param_depedence=False)\n",
    "covmat_sims = fid_arr\n",
    "cFisher.initailize_covmat(covmat_sims)\n",
    "cFisher.initailize_mean(covmat_sims)\n",
    "cFisher.initailize_deriv_sims(dic_deriv_sims=dict_deriv_sims)\n",
    "cFisher.generate_deriv_sim_splits(compress_frac_split)\n",
    "\n",
    "stnd_constraint    = cFisher.compute_fisher_forecast(parameter_names)\n",
    "stnd_constraint_bias = cFisher.est_fisher_forecast_bias(parameter_names)\n",
    "\n",
    "print(f'Parameter  \\t standard Fisher \\t Est. Fractional bias ')\n",
    "for i,name in enumerate(parameter_names):\n",
    "    print(f'{name}  \\t\\t  {stnd_constraint[i,i]**.5:.3f} \\t\\t     {(stnd_constraint_bias/stnd_constraint)[i,i]:.3f} ')\n",
    "\n"
   ]
  },
  {
   "cell_type": "code",
   "execution_count": 4,
   "id": "c15effc7-5ad4-40b4-854a-acfe71daef3c",
   "metadata": {},
   "outputs": [
    {
     "name": "stdout",
     "output_type": "stream",
     "text": [
      "Parameter \t Compressed Fisher \t Est. Fractional bias \n",
      "alpha_m   \t\t  0.555 \t\t       0.010 \n",
      "sigma_logM_m   \t\t  0.468 \t\t       0.086 \n",
      "logM0_m   \t\t  0.915 \t\t       0.010 \n",
      "logM1_m   \t\t  0.225 \t\t       0.007 \n",
      "logMmin_m   \t\t  0.464 \t\t       0.060 \n",
      "ns_m   \t\t  0.064 \t\t       0.009 \n",
      "Ob2_m   \t\t  0.006 \t\t       0.009 \n",
      "Om_m   \t\t  0.015 \t\t       0.006 \n",
      "s8_m   \t\t  0.019 \t\t       0.007 \n",
      "h_m   \t\t  0.068 \t\t       0.012 \n",
      "OR_LSS_m   \t\t  107.073 \t\t       0.005 \n",
      "LC_m   \t\t  62.470 \t\t       0.002 \n",
      "EQ_m   \t\t  305.421 \t\t       0.006 \n",
      "Parameter \t Combined Fisher  \n",
      "alpha_m   \t\t  0.452 \n",
      "sigma_logM_m   \t\t  0.261 \n",
      "logM0_m   \t\t  0.739 \n",
      "logM1_m   \t\t  0.195 \n",
      "logMmin_m   \t\t  0.312 \n",
      "ns_m   \t\t  0.053 \n",
      "Ob2_m   \t\t  0.005 \n",
      "Om_m   \t\t  0.013 \n",
      "s8_m   \t\t  0.016 \n",
      "h_m   \t\t  0.054 \n",
      "OR_LSS_m   \t\t  98.032 \n",
      "LC_m   \t\t  60.752 \n",
      "EQ_m   \t\t  263.696 \n"
     ]
    }
   ],
   "source": [
    "compressed_constraint = cFisher.compute_compressed_fisher_forecast(parameter_names)\n",
    "compressed_constraint_bias = cFisher.est_compressed_fisher_forecast_bias(parameter_names)\n",
    "\n",
    "print(f'Parameter \\t Compressed Fisher \\t Est. Fractional bias ')\n",
    "for i,name in enumerate(parameter_names):\n",
    "    print(f'{name}   \\t\\t  {compressed_constraint[i,i]**.5:.3f} \\t\\t   \\\n",
    "    {(compressed_constraint_bias/compressed_constraint)[i,i]:.3f} ')\n",
    "\n",
    "\n",
    "combined_constraint = cFisher.compute_combined_fisher_forecast(parameter_names)\n",
    "# print(f'Parameter  standard Fisher  Bias compressed comp Bias combined ')\n",
    "print(f'Parameter \\t Combined Fisher  ')\n",
    "for i,name in enumerate(parameter_names):\n",
    "    print(f'{name}   \\t\\t  {combined_constraint[i,i]**.5:.3f} ')"
   ]
  },
  {
   "cell_type": "code",
   "execution_count": 8,
   "id": "c2bffd6c-6b43-463f-a132-16aa8d06f5fa",
   "metadata": {},
   "outputs": [
    {
     "name": "stdout",
     "output_type": "stream",
     "text": [
      "alpha_m   \t\t  0.5546 \t\t       0.0098 \n",
      "sigma_logM_m   \t\t  0.4684 \t\t       0.0861 \n",
      "logM0_m   \t\t  0.9147 \t\t       0.0102 \n",
      "logM1_m   \t\t  0.2253 \t\t       0.0069 \n",
      "logMmin_m   \t\t  0.4642 \t\t       0.0605 \n",
      "ns_m   \t\t  0.0642 \t\t       0.0091 \n",
      "Ob2_m   \t\t  0.0060 \t\t       0.0093 \n",
      "Om_m   \t\t  0.0149 \t\t       0.0060 \n",
      "s8_m   \t\t  0.0188 \t\t       0.0071 \n",
      "h_m   \t\t  0.0675 \t\t       0.0115 \n",
      "OR_LSS_m   \t\t  107.0725 \t\t       0.0047 \n",
      "LC_m   \t\t  62.4705 \t\t       0.0015 \n",
      "EQ_m   \t\t  305.4215 \t\t       0.0062 \n"
     ]
    }
   ],
   "source": [
    "for i,name in enumerate(parameter_names):\n",
    "    print(f'{name}   \\t\\t  {compressed_constraint[i,i]**.5:.4f} \\t\\t   \\\n",
    "    {(compressed_constraint_bias/compressed_constraint)[i,i]:.4f} ')\n",
    "\n",
    " "
   ]
  },
  {
   "cell_type": "code",
   "execution_count": 9,
   "id": "b233205b-2b43-41d7-8353-93873ba86dbd",
   "metadata": {},
   "outputs": [
    {
     "name": "stdout",
     "output_type": "stream",
     "text": [
      "Parameter  \t standard Fisher \t Est. Fractional bias \n",
      "alpha_m  \t\t  0.3728 \t\t     0.329 \n",
      "sigma_logM_m  \t\t  0.1458 \t\t     0.731 \n",
      "logM0_m  \t\t  0.6002 \t\t     0.358 \n",
      "logM1_m  \t\t  0.1715 \t\t     0.211 \n",
      "logMmin_m  \t\t  0.2312 \t\t     0.369 \n",
      "ns_m  \t\t  0.0435 \t\t     0.306 \n",
      "Ob2_m  \t\t  0.0043 \t\t     0.275 \n",
      "Om_m  \t\t  0.0118 \t\t     0.163 \n",
      "s8_m  \t\t  0.0146 \t\t     0.194 \n",
      "h_m  \t\t  0.0440 \t\t     0.352 \n",
      "OR_LSS_m  \t\t  91.2828 \t\t     0.119 \n",
      "LC_m  \t\t  59.3640 \t\t     0.041 \n",
      "EQ_m  \t\t  229.6291 \t\t     0.243 \n"
     ]
    }
   ],
   "source": [
    "print(f'Parameter  \\t standard Fisher \\t Est. Fractional bias ')\n",
    "for i,name in enumerate(parameter_names):\n",
    "    print(f'{name}  \\t\\t  {stnd_constraint[i,i]**.5:.4f} \\t\\t     {(stnd_constraint_bias/stnd_constraint)[i,i]:.3f} ')\n"
   ]
  },
  {
   "cell_type": "code",
   "execution_count": null,
   "id": "9113d058-b068-4122-934c-f812f77357b1",
   "metadata": {},
   "outputs": [],
   "source": [
    "Om    0.013\n",
    "Ob2    0.005 \n",
    "h      0.054\n",
    "ns     0.053 \n",
    "s8     0.016 "
   ]
  }
 ],
 "metadata": {
  "kernelspec": {
   "display_name": "newEnvbkup",
   "language": "python",
   "name": "newenvbkup"
  },
  "language_info": {
   "codemirror_mode": {
    "name": "ipython",
    "version": 3
   },
   "file_extension": ".py",
   "mimetype": "text/x-python",
   "name": "python",
   "nbconvert_exporter": "python",
   "pygments_lexer": "ipython3",
   "version": "3.8.0"
  }
 },
 "nbformat": 4,
 "nbformat_minor": 5
}
