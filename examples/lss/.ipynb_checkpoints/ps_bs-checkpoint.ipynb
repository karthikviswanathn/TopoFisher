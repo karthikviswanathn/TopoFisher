{
 "cells": [
  {
   "cell_type": "code",
   "execution_count": 1,
   "id": "73061680-b452-4546-8b20-e9838d2bfdbf",
   "metadata": {},
   "outputs": [
    {
     "name": "stderr",
     "output_type": "stream",
     "text": [
      "2023-10-30 20:11:15.930928: I tensorflow/core/platform/cpu_feature_guard.cc:193] This TensorFlow binary is optimized with oneAPI Deep Neural Network Library (oneDNN) to use the following CPU instructions in performance-critical operations:  SSE4.1 SSE4.2 AVX AVX2 AVX512F AVX512_VNNI FMA\n",
      "To enable them in other operations, rebuild TensorFlow with the appropriate compiler flags.\n",
      "2023-10-30 20:11:23.979199: I tensorflow/core/platform/cpu_feature_guard.cc:193] This TensorFlow binary is optimized with oneAPI Deep Neural Network Library (oneDNN) to use the following CPU instructions in performance-critical operations:  SSE4.1 SSE4.2 AVX AVX2 AVX512F AVX512_VNNI FMA\n",
      "To enable them in other operations, rebuild TensorFlow with the appropriate compiler flags.\n"
     ]
    }
   ],
   "source": [
    "import numpy as np\n",
    "import os\n",
    "import glob\n",
    "import topofisher\n",
    "from topofisher.filtrations.numpy.alphaDTML import AlphaDTMLayer\n",
    "from topofisher.filtrations.numpy.default_filtrations import AlphaFiltration\n",
    "from topofisher.vectorizations.numpy.custom_vectorizations import TOPK\n",
    "from topofisher.vectorizations.numpy.vectorization_layer import VectorizationLayers\n",
    "import matplotlib.pyplot as plt\n",
    "from topofisher.fisher.Fisher import show_fm_and_bias, fisherMOPED, fisherFromVecs\n",
    "import tensorflow as tf\n",
    "import importlib\n",
    "importlib.reload(topofisher.fisher.imnn)\n",
    "from topofisher.fisher.imnn import IMNNLayer, MopedLayer, ExtraDimLayer\n",
    "import pickle, glob\n",
    "import numpy as np \n",
    "import CompressedFisher"
   ]
  },
  {
   "cell_type": "code",
   "execution_count": null,
   "id": "f94f05b2-60b6-40c8-b6d7-41e14a1a786f",
   "metadata": {},
   "outputs": [],
   "source": [
    "# For t\n"
   ]
  },
  {
   "cell_type": "code",
   "execution_count": 4,
   "id": "5dd7b297-6cad-4066-a9da-321dfec6fabf",
   "metadata": {},
   "outputs": [
    {
     "name": "stdout",
     "output_type": "stream",
     "text": [
      "ns   \t\t 0.031  \t 0.293  \t 0.046  \t 0.037         \t 0.010\n",
      "Ob2   \t\t 0.008  \t 0.627  \t 0.017  \t 0.011         \t 0.030\n",
      "Om   \t\t 0.006  \t 0.040  \t 0.006  \t 0.006         \t 0.001\n",
      "s8   \t\t 0.005  \t 0.098  \t 0.006  \t 0.005         \t 0.003\n",
      "h   \t\t 0.055  \t 0.496  \t 0.107  \t 0.076         \t 0.025\n"
     ]
    }
   ],
   "source": [
    "fid_arr = np.load('/Users/karthikviswanathan/Downloads/fid_dv.npy')[0]\n",
    "der_arr = np.load('/Users/karthikviswanathan/Downloads/cosmo_dv.npy')\n",
    "params_fid = np.array([0.9624 ,  0.049, 0.3175 , 0.834, 0.6711])\n",
    "delta_params =  0.5*np.array([0.04, 0.004, 0.02, 0.03, 0.04])  \n",
    "parameter_names = [\"ns\", \"Ob2\",  \"Om\", \"s8\", \"h\"]\n",
    "\n",
    "def doFisherAnalysis(fid_arr, der_arr, params_fid, delta_params, parameter_names, compress_frac_split = 0.5):\n",
    "    dict_param_steps = {parameter_names[i]:delta_params[i] for i in range(len(params_fid))}\n",
    "    dict_deriv_sims = {parameter_names[i]:der_arr[2*i: 2*i + 2] for i in range(len(params_fid))}\n",
    "    nSimsCovMat = fid_arr.shape[0]\n",
    "    nSims_deriv = der_arr.shape[1]\n",
    "    cFisher = CompressedFisher.gaussianFisher(parameter_names, nSims_deriv, \\\n",
    "                                              include_covmat_param_depedence=False,\n",
    "                                          deriv_finite_dif_accuracy=2)\n",
    "    covmat_sims = fid_arr\n",
    "    cFisher.initailize_covmat(covmat_sims)\n",
    "    cFisher.initailize_mean(covmat_sims)\n",
    "    cFisher.initailize_deriv_sims(dic_deriv_sims=dict_deriv_sims, dict_param_steps=dict_param_steps)\n",
    "    cFisher.generate_deriv_sim_splits(compress_frac_split)\n",
    "    stnd_constraint    = cFisher.compute_fisher_forecast(parameter_names)\n",
    "    stnd_constraint_bias = cFisher.est_fisher_forecast_bias(parameter_names)\n",
    "    compressed_constraint = cFisher.compute_compressed_fisher_forecast(parameter_names)\n",
    "    compressed_constraint_bias = cFisher.est_compressed_fisher_forecast_bias(parameter_names)\n",
    "    combined_constraint = cFisher.compute_combined_fisher_forecast(parameter_names)\n",
    "    # print(f'Parameter  standard Fisher  Bias compressed comp Bias combined ')\n",
    "    for i,name in enumerate(parameter_names):\n",
    "        print(f'{name}   \\t\\t {stnd_constraint[i,i]**.5:.3f}  \\t {(stnd_constraint_bias/stnd_constraint)[i,i]:.3f}  \\t {compressed_constraint[i,i]**.5:.3f}  \\t {combined_constraint[i,i]**.5:.3f} \\\n",
    "        \\t {(compressed_constraint_bias/compressed_constraint)[i,i]:.3f}')\n",
    "doFisherAnalysis(fid_arr, der_arr, params_fid, delta_params,  parameter_names) "
   ]
  },
  {
   "cell_type": "markdown",
   "id": "ef5ef366-8c1f-440d-81af-da9875abe149",
   "metadata": {},
   "source": [
    "## For power spectrum "
   ]
  },
  {
   "cell_type": "code",
   "execution_count": 8,
   "id": "433dfd88-5b8a-42d7-a6e5-6484b8940e67",
   "metadata": {},
   "outputs": [],
   "source": [
    "fid_arr = np.load('/Users/karthikviswanathan/Downloads/galaxies_Pk_combined_P0kP2kB0k/fiducial_P0kP2kB0k.npy')\n",
    "parameter_names = ['alpha_m', 'sigma_logM_m', 'logM0_m', 'logM1_m', 'logMmin_m', 'ns_m', \\\n",
    "                      'Ob2_m', 'Om_m', 's8_m', 'h_m', 'OR_LSS_m', 'LC_m', 'EQ_m']\n",
    "params_fid =  [1.1, 0.2, 14, 14, 13.65, 0.9624, 0.049, 0.3175, 0.834, 0.6711, 0., 0., 0.]\n",
    "delta_params =  0.5 * np.array([0.4, 0.04, 0.4, 0.4, 0.2, 0.04, 0.004, 0.02, 0.03, 0.04, 0.1, 200, 200, 200])\n",
    "der_arr = []\n",
    "for item in parameter_names:\n",
    "    filename = '/Users/karthikviswanathan/Downloads/galaxies_Pk_deriv_P0kP2kB0k/' + item + '_P0kP2kB0k_deriv.npy'\n",
    "    arr = np.load(filename)\n",
    "    # print(arr.shape)\n",
    "    der_arr.append(arr)\n"
   ]
  },
  {
   "cell_type": "code",
   "execution_count": 10,
   "id": "38b3b1b8-7400-4cd8-b468-006d58f2dc63",
   "metadata": {},
   "outputs": [
    {
     "data": {
      "text/plain": [
       "(13, 13)"
      ]
     },
     "execution_count": 10,
     "metadata": {},
     "output_type": "execute_result"
    }
   ],
   "source": [
    "len(der_arr), len(params_fid)"
   ]
  },
  {
   "cell_type": "code",
   "execution_count": 3,
   "id": "f152270f-51ce-4cff-b6c7-d6fafbd7d7b6",
   "metadata": {},
   "outputs": [
    {
     "data": {
      "text/plain": [
       "(10000, 1726)"
      ]
     },
     "execution_count": 3,
     "metadata": {},
     "output_type": "execute_result"
    }
   ],
   "source": [
    "fid_arr.shape"
   ]
  },
  {
   "cell_type": "code",
   "execution_count": 13,
   "id": "623c652d-b776-4d86-a75d-cc131db5b841",
   "metadata": {},
   "outputs": [
    {
     "ename": "KeyboardInterrupt",
     "evalue": "",
     "output_type": "error",
     "traceback": [
      "\u001b[0;31m---------------------------------------------------------------------------\u001b[0m",
      "\u001b[0;31mKeyboardInterrupt\u001b[0m                         Traceback (most recent call last)",
      "Cell \u001b[0;32mIn[13], line 22\u001b[0m\n\u001b[1;32m     13\u001b[0m \u001b[38;5;124;03m\"\"\"\u001b[39;00m\n\u001b[1;32m     14\u001b[0m \u001b[38;5;124;03mstnd_constraint    = cFisher.compute_fisher_forecast(parameter_names)\u001b[39;00m\n\u001b[1;32m     15\u001b[0m \u001b[38;5;124;03mstnd_constraint_bias = cFisher.est_fisher_forecast_bias(parameter_names)\u001b[39;00m\n\u001b[0;32m   (...)\u001b[0m\n\u001b[1;32m     19\u001b[0m \u001b[38;5;124;03m    print(f'{name}  \\t\\t  {stnd_constraint[i,i]**.5:.3f} \\t\\t     {(stnd_constraint_bias/stnd_constraint)[i,i]:.3f} ')\u001b[39;00m\n\u001b[1;32m     20\u001b[0m \u001b[38;5;124;03m\"\"\"\u001b[39;00m\n\u001b[1;32m     21\u001b[0m compressed_constraint \u001b[38;5;241m=\u001b[39m cFisher\u001b[38;5;241m.\u001b[39mcompute_compressed_fisher_forecast(parameter_names)\n\u001b[0;32m---> 22\u001b[0m compressed_constraint_bias \u001b[38;5;241m=\u001b[39m \u001b[43mcFisher\u001b[49m\u001b[38;5;241;43m.\u001b[39;49m\u001b[43mest_compressed_fisher_forecast_bias\u001b[49m\u001b[43m(\u001b[49m\u001b[43mparameter_names\u001b[49m\u001b[43m)\u001b[49m\n\u001b[1;32m     24\u001b[0m \u001b[38;5;28mprint\u001b[39m(\u001b[38;5;124mf\u001b[39m\u001b[38;5;124m'\u001b[39m\u001b[38;5;124mParameter \u001b[39m\u001b[38;5;130;01m\\t\u001b[39;00m\u001b[38;5;124m Compressed Fisher \u001b[39m\u001b[38;5;130;01m\\t\u001b[39;00m\u001b[38;5;124m Est. Fractional bias \u001b[39m\u001b[38;5;124m'\u001b[39m)\n\u001b[1;32m     25\u001b[0m \u001b[38;5;28;01mfor\u001b[39;00m i,name \u001b[38;5;129;01min\u001b[39;00m \u001b[38;5;28menumerate\u001b[39m(parameter_names):\n",
      "File \u001b[0;32m~/opt/anaconda3/envs/newEnvbkup/lib/python3.8/site-packages/CompressedFisher/fisher.py:205\u001b[0m, in \u001b[0;36mbaseFisher.est_compressed_fisher_forecast_bias\u001b[0;34m(self, params_names)\u001b[0m\n\u001b[1;32m    192\u001b[0m \u001b[38;5;250m\u001b[39m\u001b[38;5;124;03m\"\"\"\u001b[39;00m\n\u001b[1;32m    193\u001b[0m \u001b[38;5;124;03mEstimate the bias to the compressed fisher forecast parameter variances. \u001b[39;00m\n\u001b[1;32m    194\u001b[0m \u001b[38;5;124;03mThe ratio of this to the compressed fisher parameter *variances* gives a measure of whether there \u001b[39;00m\n\u001b[0;32m   (...)\u001b[0m\n\u001b[1;32m    202\u001b[0m \u001b[38;5;124;03m    [matrix]: The bias terms to each element in the fisher forecast. \u001b[39;00m\n\u001b[1;32m    203\u001b[0m \u001b[38;5;124;03m\"\"\"\u001b[39;00m\n\u001b[1;32m    204\u001b[0m fish \u001b[38;5;241m=\u001b[39m \u001b[38;5;28mself\u001b[39m\u001b[38;5;241m.\u001b[39m_compute_compressed_fisher_matrix(params_names)\n\u001b[0;32m--> 205\u001b[0m fish_err \u001b[38;5;241m=\u001b[39m \u001b[38;5;28;43mself\u001b[39;49m\u001b[38;5;241;43m.\u001b[39;49m\u001b[43m_compute_compressed_fisher_matrix_error\u001b[49m\u001b[43m(\u001b[49m\u001b[43mparams_names\u001b[49m\u001b[43m)\u001b[49m\n\u001b[1;32m    206\u001b[0m \u001b[38;5;28;01mreturn\u001b[39;00m np\u001b[38;5;241m.\u001b[39mlinalg\u001b[38;5;241m.\u001b[39msolve(fish,np\u001b[38;5;241m.\u001b[39mlinalg\u001b[38;5;241m.\u001b[39msolve(fish,fish_err)\u001b[38;5;241m.\u001b[39mT)\n",
      "File \u001b[0;32m~/opt/anaconda3/envs/newEnvbkup/lib/python3.8/site-packages/CompressedFisher/distributions/gaussian.py:777\u001b[0m, in \u001b[0;36mgaussianFisher._compute_compressed_fisher_matrix_error\u001b[0;34m(self, params_names)\u001b[0m\n\u001b[1;32m    775\u001b[0m     \u001b[38;5;28;01mreturn\u001b[39;00m \u001b[38;5;28mself\u001b[39m\u001b[38;5;241m.\u001b[39m_compute_compressed_fisher_matrix_mean_and_covmat_error(params_names)\n\u001b[1;32m    776\u001b[0m \u001b[38;5;28;01melse\u001b[39;00m:\n\u001b[0;32m--> 777\u001b[0m     \u001b[38;5;28;01mreturn\u001b[39;00m \u001b[38;5;28;43mself\u001b[39;49m\u001b[38;5;241;43m.\u001b[39;49m\u001b[43m_compute_compressed_fisher_matrix_mean_only_error\u001b[49m\u001b[43m(\u001b[49m\u001b[43mparams_names\u001b[49m\u001b[43m)\u001b[49m\n",
      "File \u001b[0;32m~/opt/anaconda3/envs/newEnvbkup/lib/python3.8/site-packages/CompressedFisher/distributions/gaussian.py:793\u001b[0m, in \u001b[0;36mgaussianFisher._compute_compressed_fisher_matrix_mean_only_error\u001b[0;34m(self, params_names)\u001b[0m\n\u001b[1;32m    780\u001b[0m \u001b[38;5;250m\u001b[39m\u001b[38;5;124;03m\"\"\"\u001b[39;00m\n\u001b[1;32m    781\u001b[0m \u001b[38;5;124;03mThe function to compute the bias to the compressed Fisher matrix for the case of a parameter independent covariance matrix.\u001b[39;00m\n\u001b[1;32m    782\u001b[0m \u001b[38;5;124;03mThis is computed with Eq. 11 in Coulton and Wandelt.\u001b[39;00m\n\u001b[0;32m   (...)\u001b[0m\n\u001b[1;32m    788\u001b[0m \u001b[38;5;124;03m    [n_parameter x n_parameter matrix]: The bias to the Fisher information.\u001b[39;00m\n\u001b[1;32m    789\u001b[0m \u001b[38;5;124;03m\"\"\"\u001b[39;00m\n\u001b[1;32m    790\u001b[0m n_params \u001b[38;5;241m=\u001b[39m \u001b[38;5;28mlen\u001b[39m(params_names)\n\u001b[0;32m--> 793\u001b[0m derivs_covMat \u001b[38;5;241m=\u001b[39m \u001b[38;5;28;43mself\u001b[39;49m\u001b[38;5;241;43m.\u001b[39;49m\u001b[43m_compute_deriv_mu_covmat\u001b[49m\u001b[43m(\u001b[49m\u001b[43mparams_names\u001b[49m\u001b[43m)\u001b[49m\n\u001b[1;32m    795\u001b[0m compressed_covmat \u001b[38;5;241m=\u001b[39m \u001b[38;5;28mself\u001b[39m\u001b[38;5;241m.\u001b[39mcompress_vector(\u001b[38;5;28mself\u001b[39m\u001b[38;5;241m.\u001b[39mcovmat_fisher,with_mean\u001b[38;5;241m=\u001b[39m\u001b[38;5;28;01mFalse\u001b[39;00m)\n\u001b[1;32m    796\u001b[0m compressed_covmat \u001b[38;5;241m=\u001b[39m \u001b[38;5;28mself\u001b[39m\u001b[38;5;241m.\u001b[39mcompress_vector(compressed_covmat\u001b[38;5;241m.\u001b[39mT,with_mean\u001b[38;5;241m=\u001b[39m\u001b[38;5;28;01mFalse\u001b[39;00m)\n",
      "File \u001b[0;32m~/opt/anaconda3/envs/newEnvbkup/lib/python3.8/site-packages/CompressedFisher/distributions/gaussian.py:530\u001b[0m, in \u001b[0;36mgaussianFisher._compute_deriv_mu_covmat\u001b[0;34m(self, params_names, input_ids)\u001b[0m\n\u001b[1;32m    528\u001b[0m         derivs2_ens \u001b[38;5;241m=\u001b[39m \u001b[38;5;28mself\u001b[39m\u001b[38;5;241m.\u001b[39m_get_deriv_mean_sims(n2,input_ids)\n\u001b[1;32m    529\u001b[0m         derivs2_mn \u001b[38;5;241m=\u001b[39m np\u001b[38;5;241m.\u001b[39mmean(derivs2_ens,axis\u001b[38;5;241m=\u001b[39m\u001b[38;5;241m0\u001b[39m)\n\u001b[0;32m--> 530\u001b[0m         deriv_covmat[i,j] \u001b[38;5;241m=\u001b[39m deriv_covmat[j,i]\u001b[38;5;241m=\u001b[39m \u001b[38;5;241m1\u001b[39m\u001b[38;5;241m/\u001b[39m(nSims\u001b[38;5;241m-\u001b[39m\u001b[38;5;241m1\u001b[39m)\u001b[38;5;241m*\u001b[39m\u001b[43mnp\u001b[49m\u001b[38;5;241;43m.\u001b[39;49m\u001b[43meinsum\u001b[49m\u001b[43m(\u001b[49m\u001b[38;5;124;43m'\u001b[39;49m\u001b[38;5;124;43mij,ik->jk\u001b[39;49m\u001b[38;5;124;43m'\u001b[39;49m\u001b[43m,\u001b[49m\u001b[43m(\u001b[49m\u001b[43mderivs1_ens\u001b[49m\u001b[38;5;241;43m-\u001b[39;49m\u001b[43mderivs1_mn\u001b[49m\u001b[43m)\u001b[49m\u001b[43m,\u001b[49m\u001b[43m(\u001b[49m\u001b[43mderivs2_ens\u001b[49m\u001b[38;5;241;43m-\u001b[39;49m\u001b[43mderivs2_mn\u001b[49m\u001b[43m)\u001b[49m\u001b[43m \u001b[49m\u001b[43m)\u001b[49m\n\u001b[1;32m    531\u001b[0m \u001b[38;5;28;01mreturn\u001b[39;00m deriv_covmat\u001b[38;5;241m/\u001b[39mnSims\n",
      "File \u001b[0;32m<__array_function__ internals>:200\u001b[0m, in \u001b[0;36meinsum\u001b[0;34m(*args, **kwargs)\u001b[0m\n",
      "File \u001b[0;32m~/opt/anaconda3/envs/newEnvbkup/lib/python3.8/site-packages/numpy/core/einsumfunc.py:1371\u001b[0m, in \u001b[0;36meinsum\u001b[0;34m(out, optimize, *operands, **kwargs)\u001b[0m\n\u001b[1;32m   1369\u001b[0m     \u001b[38;5;28;01mif\u001b[39;00m specified_out:\n\u001b[1;32m   1370\u001b[0m         kwargs[\u001b[38;5;124m'\u001b[39m\u001b[38;5;124mout\u001b[39m\u001b[38;5;124m'\u001b[39m] \u001b[38;5;241m=\u001b[39m out\n\u001b[0;32m-> 1371\u001b[0m     \u001b[38;5;28;01mreturn\u001b[39;00m \u001b[43mc_einsum\u001b[49m\u001b[43m(\u001b[49m\u001b[38;5;241;43m*\u001b[39;49m\u001b[43moperands\u001b[49m\u001b[43m,\u001b[49m\u001b[43m \u001b[49m\u001b[38;5;241;43m*\u001b[39;49m\u001b[38;5;241;43m*\u001b[39;49m\u001b[43mkwargs\u001b[49m\u001b[43m)\u001b[49m\n\u001b[1;32m   1373\u001b[0m \u001b[38;5;66;03m# Check the kwargs to avoid a more cryptic error later, without having to\u001b[39;00m\n\u001b[1;32m   1374\u001b[0m \u001b[38;5;66;03m# repeat default values here\u001b[39;00m\n\u001b[1;32m   1375\u001b[0m valid_einsum_kwargs \u001b[38;5;241m=\u001b[39m [\u001b[38;5;124m'\u001b[39m\u001b[38;5;124mdtype\u001b[39m\u001b[38;5;124m'\u001b[39m, \u001b[38;5;124m'\u001b[39m\u001b[38;5;124morder\u001b[39m\u001b[38;5;124m'\u001b[39m, \u001b[38;5;124m'\u001b[39m\u001b[38;5;124mcasting\u001b[39m\u001b[38;5;124m'\u001b[39m]\n",
      "\u001b[0;31mKeyboardInterrupt\u001b[0m: "
     ]
    }
   ],
   "source": [
    "compress_frac_split = 0.5\n",
    "# dict_param_steps = {parameter_names[i]:delta_params[i] for i in range(len(params_fid))}\n",
    "dict_deriv_sims = {parameter_names[i]:der_arr[i] for i in range(len(params_fid))}\n",
    "nSimsCovMat = 10000\n",
    "nSims_deriv = 7500\n",
    "cFisher = CompressedFisher.gaussianFisher(parameter_names, nSims_deriv, \\\n",
    "                                          include_covmat_param_depedence=False)\n",
    "covmat_sims = fid_arr\n",
    "cFisher.initailize_covmat(covmat_sims)\n",
    "cFisher.initailize_mean(covmat_sims)\n",
    "cFisher.initailize_deriv_sims(dic_deriv_sims=dict_deriv_sims)\n",
    "cFisher.generate_deriv_sim_splits(compress_frac_split)\n",
    "\n",
    "stnd_constraint    = cFisher.compute_fisher_forecast(parameter_names)\n",
    "stnd_constraint_bias = cFisher.est_fisher_forecast_bias(parameter_names)\n",
    "\n",
    "print(f'Parameter  \\t standard Fisher \\t Est. Fractional bias ')\n",
    "for i,name in enumerate(parameter_names):\n",
    "    print(f'{name}  \\t\\t  {stnd_constraint[i,i]**.5:.3f} \\t\\t     {(stnd_constraint_bias/stnd_constraint)[i,i]:.3f} ')\n",
    "\n",
    "compressed_constraint = cFisher.compute_compressed_fisher_forecast(parameter_names)\n",
    "compressed_constraint_bias = cFisher.est_compressed_fisher_forecast_bias(parameter_names)\n",
    "\n",
    "print(f'Parameter \\t Compressed Fisher \\t Est. Fractional bias ')\n",
    "for i,name in enumerate(parameter_names):\n",
    "    print(f'{name}   \\t\\t  {compressed_constraint[i,i]**.5:.3f} \\t\\t   \\\n",
    "    {(compressed_constraint_bias/compressed_constraint)[i,i]:.3f} ')\n",
    "\n",
    "\n",
    "combined_constraint = cFisher.compute_combined_fisher_forecast(parameter_names)\n",
    "# print(f'Parameter  standard Fisher  Bias compressed comp Bias combined ')\n",
    "print(f'Parameter \\t Combined Fisher  ')\n",
    "for i,name in enumerate(parameter_names):\n",
    "    print(f'{name}   \\t\\t  {combined_constraint[i,i]**.5:.3f} ')"
   ]
  },
  {
   "cell_type": "code",
   "execution_count": 7,
   "id": "4bd4d71a-087c-466d-8b86-3a1b6d584cdf",
   "metadata": {},
   "outputs": [],
   "source": []
  },
  {
   "cell_type": "code",
   "execution_count": 8,
   "id": "5bb7b495-4c6d-4e16-a16e-7a6a890816e9",
   "metadata": {},
   "outputs": [],
   "source": [
    "covmat_sims = fid_arr[0]\n",
    "cFisher.initailize_covmat(covmat_sims)\n",
    "cFisher.initailize_mean(covmat_sims)\n",
    "cFisher.initailize_deriv_sims(dic_deriv_sims=dict_deriv_sims, dict_param_steps=dict_param_steps)"
   ]
  },
  {
   "cell_type": "code",
   "execution_count": 9,
   "id": "911d4bf3-0f3f-41d9-a8a8-bf6cef9bc833",
   "metadata": {},
   "outputs": [],
   "source": [
    "cFisher.generate_deriv_sim_splits(compress_frac_split)"
   ]
  },
  {
   "cell_type": "markdown",
   "id": "fc365cfd-ed4f-4772-a58b-f4b9403da378",
   "metadata": {},
   "source": [
    "### standard fisher"
   ]
  },
  {
   "cell_type": "code",
   "execution_count": 10,
   "id": "49785452",
   "metadata": {},
   "outputs": [],
   "source": [
    "\n",
    "\n",
    "stnd_constraint    = cFisher.compute_fisher_forecast(parameter_names)\n",
    "stnd_constraint_bias = cFisher.est_fisher_forecast_bias(parameter_names)\n"
   ]
  },
  {
   "cell_type": "code",
   "execution_count": 11,
   "id": "a61a2832",
   "metadata": {},
   "outputs": [
    {
     "data": {
      "text/plain": [
       "array([0.06200355, 0.01551024, 0.01226693, 0.01040323, 0.10881611])"
      ]
     },
     "execution_count": 11,
     "metadata": {},
     "output_type": "execute_result"
    }
   ],
   "source": [
    "np.diag(stnd_constraint)**.5"
   ]
  },
  {
   "cell_type": "code",
   "execution_count": 12,
   "id": "fa1a3e75",
   "metadata": {},
   "outputs": [
    {
     "name": "stdout",
     "output_type": "stream",
     "text": [
      "Parameter  \t standard Fisher \t Est. Fractional bias \n",
      "ns  \t\t  0.062 \t\t     0.291 \n",
      "Ob2  \t\t  0.016 \t\t     0.639 \n",
      "Om  \t\t  0.012 \t\t     0.055 \n",
      "s8  \t\t  0.010 \t\t     0.121 \n",
      "h  \t\t  0.109 \t\t     0.477 \n"
     ]
    }
   ],
   "source": [
    "print(f'Parameter  \\t standard Fisher \\t Est. Fractional bias ')\n",
    "for i,name in enumerate(parameter_names):\n",
    "    print(f'{name}  \\t\\t  {stnd_constraint[i,i]**.5:.3f} \\t\\t     {(stnd_constraint_bias/stnd_constraint)[i,i]:.3f} ')\n",
    "    "
   ]
  },
  {
   "cell_type": "markdown",
   "id": "5c649853-e46f-465d-91a0-dbaa42c237b5",
   "metadata": {},
   "source": [
    "The estimated fractional bias can be used to assess if the forecast is converged (and so valid).\n",
    "Note that it is the ratio of the bias to the variance (not the constraint that is important).\n",
    "This should be $\\lesssim .2$."
   ]
  },
  {
   "cell_type": "code",
   "execution_count": null,
   "id": "7d184491",
   "metadata": {},
   "outputs": [],
   "source": []
  },
  {
   "cell_type": "markdown",
   "id": "bad2f039-3f16-458c-a4c4-5e70739beff9",
   "metadata": {},
   "source": [
    "### Compressed Fisher\n"
   ]
  },
  {
   "cell_type": "code",
   "execution_count": 13,
   "id": "67f486b4",
   "metadata": {},
   "outputs": [],
   "source": [
    "\n",
    "compressed_constraint = cFisher.compute_compressed_fisher_forecast(parameter_names)\n",
    "compressed_constraint_bias = cFisher.est_compressed_fisher_forecast_bias(parameter_names)\n"
   ]
  },
  {
   "cell_type": "code",
   "execution_count": 14,
   "id": "9590e1b0",
   "metadata": {},
   "outputs": [
    {
     "name": "stdout",
     "output_type": "stream",
     "text": [
      "Parameter \t Compressed Fisher \t Est. Fractional bias \n",
      "ns   \t\t  0.090 \t\t     0.012 \n",
      "Ob2   \t\t  0.039 \t\t     0.039 \n",
      "Om   \t\t  0.013 \t\t     0.003 \n",
      "s8   \t\t  0.012 \t\t     0.004 \n",
      "h   \t\t  0.227 \t\t     0.033 \n"
     ]
    }
   ],
   "source": [
    "print(f'Parameter \\t Compressed Fisher \\t Est. Fractional bias ')\n",
    "for i,name in enumerate(parameter_names):\n",
    "    print(f'{name}   \\t\\t  {compressed_constraint[i,i]**.5:.3f} \\t\\t   \\\n",
    "    {(compressed_constraint_bias/compressed_constraint)[i,i]:.3f} ')\n",
    "    "
   ]
  },
  {
   "cell_type": "markdown",
   "id": "fa589771-b453-437c-a688-48c0502986c4",
   "metadata": {},
   "source": [
    "As above the est. bias can be used to assess when the compressed forecast is reliable. \n",
    "When the compressed forecast is valid, so too is the combined estimator below"
   ]
  },
  {
   "cell_type": "markdown",
   "id": "065afd7e-d292-4f0e-9526-47ece99c757c",
   "metadata": {},
   "source": [
    "### Combined Fisher"
   ]
  },
  {
   "cell_type": "code",
   "execution_count": 15,
   "id": "882267c8",
   "metadata": {},
   "outputs": [],
   "source": [
    "\n",
    "combined_constraint = cFisher.compute_combined_fisher_forecast(parameter_names)\n",
    "        "
   ]
  },
  {
   "cell_type": "code",
   "execution_count": 17,
   "id": "34bdc272",
   "metadata": {},
   "outputs": [
    {
     "name": "stdout",
     "output_type": "stream",
     "text": [
      "Parameter \t Combined Fisher  \n",
      "ns   \t\t  0.074 \n",
      "Ob2   \t\t  0.025 \n",
      "Om   \t\t  0.013 \n",
      "s8   \t\t  0.011 \n",
      "h   \t\t  0.153 \n"
     ]
    }
   ],
   "source": [
    "print(f'Parameter \\t Combined Fisher  ')\n",
    "for i,name in enumerate(parameter_names):\n",
    "    print(f'{name}   \\t\\t  {combined_constraint[i,i]**.5:.3f} ')\n",
    "    "
   ]
  },
  {
   "cell_type": "code",
   "execution_count": null,
   "id": "c6b96844",
   "metadata": {},
   "outputs": [],
   "source": []
  }
 ],
 "metadata": {
  "kernelspec": {
   "display_name": "newEnvbkup",
   "language": "python",
   "name": "newenvbkup"
  },
  "language_info": {
   "codemirror_mode": {
    "name": "ipython",
    "version": 3
   },
   "file_extension": ".py",
   "mimetype": "text/x-python",
   "name": "python",
   "nbconvert_exporter": "python",
   "pygments_lexer": "ipython3",
   "version": "3.8.0"
  }
 },
 "nbformat": 4,
 "nbformat_minor": 5
}
