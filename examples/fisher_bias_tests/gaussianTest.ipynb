{
 "cells": [
  {
   "cell_type": "code",
   "execution_count": 20,
   "id": "4125b40c-dd31-4e99-ad27-5759d6b8a98a",
   "metadata": {},
   "outputs": [],
   "source": [
    "import tensorflow as tf\n",
    "import numpy as np\n",
    "import matplotlib.pyplot as plt\n",
    "import tqdm\n",
    "from tqdm import tqdm\n",
    "import matplotlib.colors as mcolors\n",
    "from copy import deepcopy\n",
    "from gudhi.representations import Landscape, PersistenceImage\n",
    "\n",
    "from topofisher.input_simulators.noisy_ring import CircleSimulator\n",
    "\n",
    "from topofisher.filtrations.numpy.alphaDTML import AlphaDTMLayer\n",
    "\n",
    "from topofisher.vectorizations.numpy.custom_vectorizations import TOPK\n",
    "from topofisher.vectorizations.numpy.vectorization_layer import VectorizationLayers\n",
    "from topofisher.vectorizations.numpy.shorthand_layers import PersistenceImages, PersistenceLandscapes\n",
    "\n",
    "from topofisher.fisher.Fisher import show_fm_and_bias\n",
    "from topofisher.fisher.imnn import IMNNLayer, MopedLayer, ExtraDimLayer\n",
    "from topofisher.fisher.plot_fisher_stats import plotContours2D, plotSummaryDerivativeHists, plot_derivative_convergence\n",
    "\n",
    "\n",
    "from topofisher.pipelines.circle import CirclePipeline\n",
    "from topofisher.pipelines.convergence_checks import fisher_estimates_wrt_step_size\n",
    "from topofisher.pipelines.utils import readFromFile, writeToFile\n",
    "import tensorflow_probability as tfp\n",
    "import topofisher"
   ]
  },
  {
   "cell_type": "code",
   "execution_count": 61,
   "id": "426f6dcc-d9c0-4b89-906a-ad0c1bd8be24",
   "metadata": {},
   "outputs": [],
   "source": [
    "def test_run(theta_fid = tf.constant([1.]), K = 0., num_samples = 10):\n",
    "    sims = []\n",
    "    derivs = []\n",
    "    with tf.autodiff.ForwardAccumulator(theta_fid , tf.constant([1.])) as acc:\n",
    "        normal_distribution = tfp.distributions.Normal(loc = theta_fid, scale = 1. + K * theta_fid)\n",
    "        samples = normal_distribution.sample(num_samples)\n",
    "        op = samples\n",
    "    return op, tf.reshape(acc.jvp(op), [1, num_samples, 1])"
   ]
  },
  {
   "cell_type": "code",
   "execution_count": 47,
   "id": "d17c674b-c173-48a8-9521-fddc95513104",
   "metadata": {},
   "outputs": [
    {
     "data": {
      "text/plain": [
       "<tf.Tensor: shape=(10, 1), dtype=float32, numpy=\n",
       "array([[1.],\n",
       "       [1.],\n",
       "       [1.],\n",
       "       [1.],\n",
       "       [1.],\n",
       "       [1.],\n",
       "       [1.],\n",
       "       [1.],\n",
       "       [1.],\n",
       "       [1.]], dtype=float32)>"
      ]
     },
     "execution_count": 47,
     "metadata": {},
     "output_type": "execute_result"
    }
   ],
   "source": [
    "sims"
   ]
  },
  {
   "cell_type": "code",
   "execution_count": 90,
   "id": "03b42275-4f28-4f3d-9e2c-852aba4fbdf9",
   "metadata": {},
   "outputs": [
    {
     "name": "stdout",
     "output_type": "stream",
     "text": [
      "log FI =  -2.55\n",
      "FM =  [0.08]\n",
      "Fractional bias =  [0.09]\n",
      "Constraints =  [3.5776775]\n"
     ]
    },
    {
     "data": {
      "text/plain": [
       "(10.59775, 0.006944445893168449)"
      ]
     },
     "execution_count": 90,
     "metadata": {},
     "output_type": "execute_result"
    }
   ],
   "source": [
    "sims, derivs = test_run(theta_fid = tf.constant([10.]), K = 0.5, num_samples =  10)\n",
    "fish = topofisher.fisher.Fisher.baseFisher(sims, derivs)\n",
    "show_fm_and_bias(fish)\n",
    "fish.C.numpy()[0, 0], fish.err.numpy()[0, 0]"
   ]
  },
  {
   "cell_type": "code",
   "execution_count": 51,
   "id": "39ac0c64-1bdd-44f3-80f8-e6869898397a",
   "metadata": {},
   "outputs": [
    {
     "data": {
      "text/plain": [
       "<tf.Tensor: shape=(1, 10, 1), dtype=float32, numpy=\n",
       "array([[[1.],\n",
       "        [1.],\n",
       "        [1.],\n",
       "        [1.],\n",
       "        [1.],\n",
       "        [1.],\n",
       "        [1.],\n",
       "        [1.],\n",
       "        [1.],\n",
       "        [1.]]], dtype=float32)>"
      ]
     },
     "execution_count": 51,
     "metadata": {},
     "output_type": "execute_result"
    }
   ],
   "source": [
    "derivs"
   ]
  },
  {
   "cell_type": "code",
   "execution_count": null,
   "id": "5417807b-0754-490f-9120-3f408a978c9e",
   "metadata": {},
   "outputs": [],
   "source": []
  }
 ],
 "metadata": {
  "kernelspec": {
   "display_name": "newEnvbkup",
   "language": "python",
   "name": "newenvbkup"
  },
  "language_info": {
   "codemirror_mode": {
    "name": "ipython",
    "version": 3
   },
   "file_extension": ".py",
   "mimetype": "text/x-python",
   "name": "python",
   "nbconvert_exporter": "python",
   "pygments_lexer": "ipython3",
   "version": "3.8.0"
  }
 },
 "nbformat": 4,
 "nbformat_minor": 5
}
