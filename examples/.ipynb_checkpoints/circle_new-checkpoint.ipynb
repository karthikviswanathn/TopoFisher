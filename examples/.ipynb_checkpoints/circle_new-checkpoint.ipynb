{
 "cells": [
  {
   "cell_type": "code",
   "execution_count": 31,
   "id": "998032bf-b5b9-4305-9bb9-6593bf215d4f",
   "metadata": {},
   "outputs": [],
   "source": [
    "import tensorflow as tf\n",
    "import numpy as np\n",
    "import matplotlib.pyplot as plt\n",
    "import tqdm\n",
    "from tqdm import tqdm\n",
    "import matplotlib.colors as mcolors\n",
    "from copy import deepcopy\n",
    "\n",
    "from topofisher.input_simulators.noisy_ring import CircleSimulator\n",
    "\n",
    "from topofisher.filtrations.numpy.alphaDTML import AlphaDTMLayer\n",
    "\n",
    "from topofisher.vectorizations.numpy.custom_vectorizations import TOPK\n",
    "\n",
    "# from topofisher.fisher.plot_fisher_stats import plotContours, plotSummaryDerivativeHists, plotConvergence\n",
    "# from topofisher.fisher.imnn import IMNNLayer, MopedLayer, ExtraDimLayer\n",
    "\n",
    "from topofisher.pipelines.circle import CirclePipeline"
   ]
  },
  {
   "cell_type": "code",
   "execution_count": 28,
   "id": "d66bb009-9363-4963-9c37-bc64a007463d",
   "metadata": {},
   "outputs": [],
   "source": [
    "import importlib\n",
    "import topofisher\n",
    "\n",
    "importlib.reload(topofisher.pipelines.pipeline)\n",
    "importlib.reload(topofisher.pipelines.circle)\n",
    "from topofisher.pipelines.circle import CirclePipeline"
   ]
  },
  {
   "cell_type": "code",
   "execution_count": 44,
   "id": "64395aa7-8625-44b7-8103-2aa4c4544a37",
   "metadata": {},
   "outputs": [
    {
     "name": "stderr",
     "output_type": "stream",
     "text": [
      "100%|██████████| 100/100 [00:00<00:00, 180.27it/s]\n",
      "100%|██████████| 100/100 [00:00<00:00, 182.02it/s]\n",
      "100%|██████████| 100/100 [00:00<00:00, 179.97it/s]\n",
      "100%|██████████| 100/100 [00:00<00:00, 181.32it/s]\n",
      "100%|██████████| 100/100 [00:00<00:00, 181.88it/s]\n"
     ]
    }
   ],
   "source": [
    "circle_pipeline = CirclePipeline(ncirc= 200, nback = 20, bgmAvg = 1., n_s = 100, n_d = 100, \\\n",
    "                                 theta_fid = tf.constant([1., 0.2]), delta_theta = tf.constant([0.1, 0.02]),\\\n",
    "                                 filtLayer = AlphaDTMLayer(m = 0.9, show_tqdm = True),\n",
    "                                 vecLayer = vecLayer, fisherLayer = None, find_derivative = [True, True])\n",
    "circle_pipeline.run_pipeline()"
   ]
  },
  {
   "cell_type": "code",
   "execution_count": 42,
   "id": "c74ac249-30c0-4f95-8b34-ed575b8e94f1",
   "metadata": {},
   "outputs": [],
   "source": [
    "def getFinitePairs(diag):\n",
    "  return diag[diag[:,1] < np.inf]\n",
    "\n",
    "class VectorizationLayers:\n",
    "    def __init__(self, vectorizations, hom_dims, name = \"vecLayer\"):\n",
    "        if len(vectorizations) != len(hom_dims): \n",
    "            raise ValueError(\"Make sure that the vectorizations and the hom_dims are compatible.\")\n",
    "        self.vectorizations = vectorizations\n",
    "        self.hom_dims = hom_dims\n",
    "        self.num_hom_dim = len(hom_dims)\n",
    "        self.name = name\n",
    "        self.is_fitted = [False for idx in range(self.num_hom_dim)]\n",
    "        \n",
    "    def get_persistence_diagrams(self, sts, hom_dim):\n",
    "        pds = []\n",
    "        for st in sts :\n",
    "            pd = st.persistence_intervals_in_dimension(hom_dim)\n",
    "            pds.append(getFinitePairs(pd))\n",
    "        return pds\n",
    "    \n",
    "    def vectorize_simplex_trees(self, sts):\n",
    "        hom_dims = self.hom_dims\n",
    "        vecs = []\n",
    "        for idx in range(self.num_hom_dim):\n",
    "            hom_dim = hom_dims[idx]\n",
    "            veclayer = self.vectorizations[idx]\n",
    "            pds = self.get_persistence_diagrams(sts, hom_dim)\n",
    "            if(self.is_fitted[idx] == False) :\n",
    "                veclayer.fit(pds)\n",
    "                self.is_fitted[idx] = True\n",
    "            vecs.append(veclayer.transform(pds))\n",
    "        return self.post_process(np.concatenate(vecs, axis = -1))\n",
    "    \n",
    "    def post_process(self, vecs):\n",
    "        return vecs"
   ]
  },
  {
   "cell_type": "code",
   "execution_count": 43,
   "id": "9a0ac2a6-a5d0-421d-8798-8fec15313791",
   "metadata": {},
   "outputs": [],
   "source": [
    "vecLayer = VectorizationLayers(vectorizations = [TOPK(bdp_type = \"bd\", is_binned = False), TOPK(bdp_type = \"bd\", is_binned = False)],\\\n",
    "                    hom_dims = [0, 1])\n",
    "\n"
   ]
  },
  {
   "cell_type": "code",
   "execution_count": null,
   "id": "32852027-af12-4c8d-b6cd-4bd0a36b7bc3",
   "metadata": {},
   "outputs": [],
   "source": []
  }
 ],
 "metadata": {
  "kernelspec": {
   "display_name": "newEnvbkup",
   "language": "python",
   "name": "newenvbkup"
  },
  "language_info": {
   "codemirror_mode": {
    "name": "ipython",
    "version": 3
   },
   "file_extension": ".py",
   "mimetype": "text/x-python",
   "name": "python",
   "nbconvert_exporter": "python",
   "pygments_lexer": "ipython3",
   "version": "3.8.0"
  }
 },
 "nbformat": 4,
 "nbformat_minor": 5
}
