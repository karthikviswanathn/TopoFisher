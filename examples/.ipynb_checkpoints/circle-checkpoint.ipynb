{
 "cells": [
  {
   "cell_type": "code",
   "execution_count": 1,
   "id": "1e301671-f16d-49ab-93f9-82c5e15a1b2b",
   "metadata": {},
   "outputs": [
    {
     "name": "stderr",
     "output_type": "stream",
     "text": [
      "2023-11-14 13:42:35.466841: I tensorflow/core/platform/cpu_feature_guard.cc:193] This TensorFlow binary is optimized with oneAPI Deep Neural Network Library (oneDNN) to use the following CPU instructions in performance-critical operations:  SSE4.1 SSE4.2 AVX AVX2 FMA\n",
      "To enable them in other operations, rebuild TensorFlow with the appropriate compiler flags.\n",
      "2023-11-14 13:42:42.528154: I tensorflow/core/platform/cpu_feature_guard.cc:193] This TensorFlow binary is optimized with oneAPI Deep Neural Network Library (oneDNN) to use the following CPU instructions in performance-critical operations:  SSE4.1 SSE4.2 AVX AVX2 FMA\n",
      "To enable them in other operations, rebuild TensorFlow with the appropriate compiler flags.\n"
     ]
    }
   ],
   "source": [
    "import tensorflow as tf\n",
    "import numpy as np\n",
    "import matplotlib.pyplot as plt\n",
    "import tqdm\n",
    "from tqdm import tqdm\n",
    "import matplotlib.colors as mcolors\n",
    "from copy import deepcopy\n",
    "from gudhi.representations import Landscape, PersistenceImage\n",
    "\n",
    "from topofisher.input_simulators.noisy_ring import CircleSimulator\n",
    "\n",
    "from topofisher.filtrations.numpy.alphaDTML import AlphaDTMLayer\n",
    "from topofisher.filtrations.numpy.default_filtrations import RipsFiltration\n",
    "\n",
    "from topofisher.vectorizations.numpy.custom_vectorizations import TOPK\n",
    "from topofisher.vectorizations.numpy.order_statistics import OrderStatistics\n",
    "from topofisher.vectorizations.numpy.vectorization_layer import VectorizationLayers\n",
    "from topofisher.vectorizations.numpy.shorthand_layers import PersistenceImages, PersistenceLandscapes\n",
    "\n",
    "from topofisher.fisher.Fisher import show_fm_and_bias, show_and_test, fisherFromVecs, fisherMOPED\n",
    "from topofisher.fisher.imnn import FisherLayer, IMNNLayer, MopedLayer, ExtraDimLayer\n",
    "from topofisher.fisher.plot_fisher_stats import plotContours2D, plotSummaryDerivativeHists, plot_derivative_convergence\n",
    "\n",
    "from topofisher.pipelines.circle import CirclePipeline\n",
    "from topofisher.pipelines.convergence_checks import fisher_estimates_wrt_step_size\n",
    "from topofisher.pipelines.utils import readFromFile, writeToFile"
   ]
  },
  {
   "cell_type": "markdown",
   "id": "1bd86aab-26ed-47fd-a8bc-baf6b6017cfb",
   "metadata": {
    "tags": []
   },
   "source": [
    "## Importlib"
   ]
  },
  {
   "cell_type": "code",
   "execution_count": 13,
   "id": "57d76f7a-fc54-490f-895f-f0c77ea403d9",
   "metadata": {},
   "outputs": [],
   "source": [
    "import importlib\n",
    "import topofisher\n",
    "importlib.reload(topofisher.fisher.Fisher)\n",
    "importlib.reload(topofisher.fisher.imnn)\n",
    "# importlib.reload(topofisher.vectorizations.numpy.order_statistics)\n",
    "importlib.reload(topofisher.filtrations.numpy.filtration_layers)\n",
    "importlib.reload(topofisher.filtrations.numpy.alphaDTML)\n",
    "importlib.reload(topofisher.input_simulators.noisy_ring)\n",
    "importlib.reload(topofisher.pipelines.pipeline)\n",
    "importlib.reload(topofisher.pipelines.circle)\n",
    "\n",
    "from topofisher.input_simulators.noisy_ring import CircleSimulator\n",
    "\n",
    "from topofisher.filtrations.numpy.alphaDTML import AlphaDTMLayer\n",
    "from topofisher.filtrations.numpy.default_filtrations import RipsFiltration, AlphaFiltration\n",
    "\n",
    "# from topofisher.vectorizations.numpy.order_statistics import OrderStatistics\n",
    "from topofisher.vectorizations.numpy.custom_vectorizations import TOPK\n",
    "from topofisher.vectorizations.numpy.vectorization_layer import VectorizationLayers\n",
    "from topofisher.vectorizations.numpy.shorthand_layers import PersistenceImages, PersistenceLandscapes\n",
    "\n",
    "importlib.reload(topofisher.fisher.Fisher)\n",
    "importlib.reload(topofisher.fisher.imnn)\n",
    "from topofisher.fisher.imnn import IMNNLayer, FisherLayer, MopedLayer, ExtraDimLayer, plotLearningGraphs\n",
    "from topofisher.fisher.plot_fisher_stats import plotContours2D, plotSummaryDerivativeHists, plot_derivative_convergence\n",
    "\n",
    "\n",
    "from topofisher.pipelines.circle import CirclePipeline"
   ]
  },
  {
   "cell_type": "markdown",
   "id": "16b8ca77-b397-442e-9314-e2d7273352fa",
   "metadata": {
    "tags": []
   },
   "source": [
    "# AlphaDTM"
   ]
  },
  {
   "cell_type": "raw",
   "id": "463c1bc6-28c8-4261-96f8-5a6ae9f83989",
   "metadata": {},
   "source": [
    "We explore the following possibilities for filtration and vectorization\n",
    "Filtrations - \n",
    "    1. AlphaDTM - m = 0.9 to show the maximal information case wrt 'm'. However most of the information is in PD0.\n",
    "    2. AlphaDTM - m = 0.1 to show the case when the information is spread across PD0 and PD1. \n",
    "\n",
    "Vectorizations -\n",
    "    1. TOPK - A vectorization method that fits in well with the Fisher pipeline.\n",
    "    2. Persistence Images - Off the shelf differentiable vectorization.\n",
    "As you will see soon, both TOPK and Persistence Images give comparable information content for the m = 0.9 and 0.1 case. "
   ]
  },
  {
   "cell_type": "markdown",
   "id": "97238a6c-7893-4406-82f7-b55051f93281",
   "metadata": {
    "tags": []
   },
   "source": [
    "## m = 0.9"
   ]
  },
  {
   "cell_type": "code",
   "execution_count": 2,
   "id": "02af0c22-1424-4643-9e98-63984e1a987d",
   "metadata": {},
   "outputs": [
    {
     "name": "stderr",
     "output_type": "stream",
     "text": [
      "100%|██████████| 4000/4000 [00:35<00:00, 114.26it/s]\n",
      "100%|██████████| 4000/4000 [00:31<00:00, 126.46it/s]\n",
      "100%|██████████| 4000/4000 [00:31<00:00, 127.34it/s]\n",
      "100%|██████████| 4000/4000 [00:31<00:00, 126.20it/s]\n",
      "100%|██████████| 4000/4000 [00:31<00:00, 126.51it/s]\n"
     ]
    }
   ],
   "source": [
    "circle_pipeline_mp9 = CirclePipeline(ncirc= 200, nback = 20, bgmAvg = 1., n_s = 4000, n_d = 4000, \\\n",
    "                                 theta_fid = tf.constant([1., 0.2]), delta_theta = tf.constant([0.01, 0.002]),\\\n",
    "                                 filtLayer = AlphaDTMLayer(m = 0.9, max_hom_dim = 2, hom_dim_list = [0, 1], show_tqdm = True),\n",
    "                                 vecLayer = None, fisherLayer = None, find_derivative = [True, True])\n",
    "circle_pipeline_mp9.run_pipeline()"
   ]
  },
  {
   "cell_type": "code",
   "execution_count": 3,
   "id": "38aa3606-78bf-4be9-8a02-68a0032ede67",
   "metadata": {},
   "outputs": [
    {
     "name": "stdout",
     "output_type": "stream",
     "text": [
      "Theoretical bound for the Fisher matrix is  [ 4.26792e+03 -8.00000e-02 -8.00000e-02  6.94504e+03]\n"
     ]
    }
   ],
   "source": [
    "circle_pipeline_mp9.collect_benchmarks()\n",
    "print(\"Theoretical bound for the Fisher matrix is \", np.round(circle_pipeline_mp9.benchmarks['TFM'].flatten(), 2))\n"
   ]
  },
  {
   "cell_type": "markdown",
   "id": "a94e3f40-7e1a-41ba-921f-d79a7dbcd98d",
   "metadata": {},
   "source": [
    "### TOPK"
   ]
  },
  {
   "cell_type": "code",
   "execution_count": 14,
   "id": "17bec4ab-783f-4f58-ad3a-51ba8b0772b3",
   "metadata": {},
   "outputs": [
    {
     "name": "stdout",
     "output_type": "stream",
     "text": [
      "log FI =  16.71\n",
      "FM =  [3866.68  308.71  308.71 4697.94]\n",
      "Fractional bias =  [0. 0.]\n",
      "Constraints =  [0.01612401 0.01462813]\n",
      "The summaries satisfy the Gaussian Mean Only assumption.\n"
     ]
    }
   ],
   "source": [
    "vectorizations = [TOPK(bdp_type = \"bd\", is_binned = True, topk = 219, num_bins = 24), \\\n",
    "                  TOPK(bdp_type = \"bd\", is_binned = True, topk = 25, num_bins = 5)]\n",
    "\n",
    "vecLayer = VectorizationLayers(vectorizations = vectorizations)\n",
    "fisher = circle_pipeline_mp9.vectorize_and_fisher(vecLayer, MopedLayer())\n",
    "fisher.show_and_test()"
   ]
  },
  {
   "cell_type": "raw",
   "id": "d0e97966-2249-4d0b-8a81-e18133373946",
   "metadata": {},
   "source": [
    "We can see that the Fisher matrix is almost saturated on the radius with m = 0.9 and that there is some information loss on the variance."
   ]
  },
  {
   "cell_type": "markdown",
   "id": "fc71e3c0-e3a4-4272-9197-2492711cc95a",
   "metadata": {},
   "source": [
    "### Persistence Images"
   ]
  },
  {
   "cell_type": "code",
   "execution_count": 56,
   "id": "7aeda0ff-7e46-4b5a-91e9-377402abc388",
   "metadata": {},
   "outputs": [],
   "source": [
    "res = 24\n",
    "pi_vec_layer = PersistenceImages(resolutions = [[res, res], [res, res]], bandwidths = [3e-2, 5e-2])\n",
    "pi_vecs = circle_pipeline_mp9.vectorize(pi_vec_layer)"
   ]
  },
  {
   "cell_type": "code",
   "execution_count": 72,
   "id": "0ad11cb8-5b3c-45a7-8532-b02f08deb8d3",
   "metadata": {},
   "outputs": [],
   "source": [
    "model = tf.keras.Sequential(\n",
    "    [\n",
    "        ExtraDimLayer(tf.keras.layers.Conv2D(8, (3,3), padding='same', activation = \"relu\", input_shape=(res, res, 2))),\n",
    "        ExtraDimLayer(tf.keras.layers.MaxPooling2D((2, 2), strides=2)),\n",
    "        ExtraDimLayer(tf.keras.layers.Flatten()),\n",
    "        tf.keras.layers.Dense(8, activation=\"relu\"),\n",
    "        tf.keras.layers.Dense(2)\n",
    "    ]\n",
    ")\n",
    "pi_imnn_layer = IMNNLayer(model, verbose = 0, epochs = 50, data_splits = [0.4, 0.2, 0.4], \\\n",
    "                            callbacks = [tf.keras.callbacks.EarlyStopping(patience = 3, restore_best_weights = True)], \\\n",
    "                          show_bias = True)\n",
    "\n",
    "\n",
    "fisher = pi_imnn_layer.computeFisher(pi_vecs, circle_pipeline_mp9.delta_theta)"
   ]
  },
  {
   "cell_type": "code",
   "execution_count": 73,
   "id": "2b0e8ad5-4ff8-48b1-9252-c751d1ac05cb",
   "metadata": {},
   "outputs": [
    {
     "data": {
      "image/png": "[encoded data removed]",
      "text/plain": [
       "<Figure size 1100x300 with 3 Axes>"
      ]
     },
     "metadata": {},
     "output_type": "display_data"
    }
   ],
   "source": [
    "plotLearningGraphs(model.history.history, metric_list = ['loss', 'bias0', 'bias1'])"
   ]
  },
  {
   "cell_type": "code",
   "execution_count": 74,
   "id": "9027abe7-bb22-47e5-9f77-08c0dc6a06dc",
   "metadata": {},
   "outputs": [
    {
     "name": "stdout",
     "output_type": "stream",
     "text": [
      "log FI =  16.42\n",
      "FM =  [3182.56  178.84  178.84 4271.4 ]\n",
      "Fractional bias =  [0. 0.]\n",
      "Constraints =  [0.01774692 0.01531885]\n"
     ]
    }
   ],
   "source": [
    "show_fm_and_bias(fisher)"
   ]
  },
  {
   "cell_type": "code",
   "execution_count": 75,
   "id": "952f6295-b371-400b-be7f-22ca4070459a",
   "metadata": {},
   "outputs": [
    {
     "name": "stdout",
     "output_type": "stream",
     "text": [
      "Covariance at fid  =  [35.85720757 -1.56411174 -1.56411174 60.01135206]\n",
      "Covariance at r_m  =  [36.960865   -3.17132205 -3.17132205 57.58950731]\n",
      "Covariance at r_p  =  [37.26277754 -4.85458816 -4.85458816 56.17141661]\n",
      "Covariance at sigma_m  =  [36.45672461 -1.82533652 -1.82533652 60.45902579]\n",
      "Covariance at sigma_p  =  [36.54265226 -2.02309493 -2.02309493 60.85029733]\n"
     ]
    }
   ],
   "source": [
    "param_list = [\"fid\", \"r_m\", \"r_p\", \"sigma_m\", \"sigma_p\"] \n",
    "for param, item in zip(param_list, fisher.summaries):\n",
    "    print(\"Covariance at \" + param, \" = \", np.cov(item.numpy().T).flatten())"
   ]
  },
  {
   "cell_type": "markdown",
   "id": "6143a941-28f9-435c-9e4b-9914b6a8cd85",
   "metadata": {
    "tags": []
   },
   "source": [
    "## m = 0.1"
   ]
  },
  {
   "cell_type": "code",
   "execution_count": 76,
   "id": "4d97511f-ed08-4447-b8a3-4a757bcd84fe",
   "metadata": {},
   "outputs": [
    {
     "name": "stderr",
     "output_type": "stream",
     "text": [
      "100%|██████████| 4000/4000 [00:25<00:00, 159.72it/s]\n",
      "100%|██████████| 4000/4000 [00:24<00:00, 161.40it/s]\n",
      "100%|██████████| 4000/4000 [00:24<00:00, 164.82it/s]\n",
      "100%|██████████| 4000/4000 [00:25<00:00, 159.60it/s]\n",
      "100%|██████████| 4000/4000 [00:24<00:00, 162.71it/s]\n"
     ]
    }
   ],
   "source": [
    "circle_pipeline_mp1 = CirclePipeline(ncirc= 200, nback = 20, bgmAvg = 1., n_s = 4000, n_d = 4000, \\\n",
    "                                 theta_fid = tf.constant([1., 0.2]), delta_theta = tf.constant([0.01, 0.002]),\\\n",
    "                                 filtLayer = AlphaDTMLayer(m = 0.1, max_hom_dim = 2, hom_dim_list = [0, 1], show_tqdm = True),\n",
    "                                 vecLayer = None, fisherLayer = None, find_derivative = [True, True])\n",
    "circle_pipeline_mp1.run_pipeline()"
   ]
  },
  {
   "cell_type": "code",
   "execution_count": 77,
   "id": "9a8a92f9-e329-4a18-9546-9d04d953fea5",
   "metadata": {},
   "outputs": [
    {
     "name": "stdout",
     "output_type": "stream",
     "text": [
      "Theoretical bound for the Fisher matrix is  [ 4.26792e+03 -8.00000e-02 -8.00000e-02  6.94504e+03]\n"
     ]
    }
   ],
   "source": [
    "circle_pipeline_mp1.collect_benchmarks()\n",
    "print(\"Theoretical bound for the Fisher matrix is \", np.round(circle_pipeline_mp1.benchmarks['TFM'].flatten(), 2))"
   ]
  },
  {
   "cell_type": "markdown",
   "id": "9e704812-e843-4109-9044-9c8baa8574ed",
   "metadata": {},
   "source": [
    "### TOPK"
   ]
  },
  {
   "cell_type": "code",
   "execution_count": 78,
   "id": "45ee37a5-bd6d-41cb-9eb5-9cf3ff7934cb",
   "metadata": {},
   "outputs": [
    {
     "name": "stdout",
     "output_type": "stream",
     "text": [
      "log FI =  14.92\n",
      "FM =  [1240.18 1461.84 1461.84 4155.67]\n",
      "Fractional bias =  [0. 0.]\n",
      "Constraints =  [0.03711484 0.02027536]\n"
     ]
    }
   ],
   "source": [
    "vectorizations = [TOPK(bdp_type = \"bd\", is_binned = True, topk = 219, num_bins = 24), \\\n",
    "                  TOPK(bdp_type = \"bd\", is_binned = True, topk = 25, num_bins = 5)]\n",
    "\n",
    "vecLayer = VectorizationLayers(vectorizations = vectorizations)\n",
    "fisher = circle_pipeline_mp1.vectorize_and_fisher(vecLayer, MopedLayer())\n",
    "show_fm_and_bias(fisher)"
   ]
  },
  {
   "cell_type": "raw",
   "id": "47a68930-da94-416e-9682-aec3e89a876a",
   "metadata": {},
   "source": [
    "We can see that m = 0.1 leads to information loss in both radius and the sigma. "
   ]
  },
  {
   "cell_type": "code",
   "execution_count": 79,
   "id": "9973dc37-83e9-4064-9784-d9be5009a863",
   "metadata": {},
   "outputs": [
    {
     "name": "stdout",
     "output_type": "stream",
     "text": [
      "Covariance at fid  =  [1256.36326648 1257.23600951 1257.23600951 5059.67416332]\n",
      "Covariance at r_m  =  [1368.67593027 1558.82666244 1558.82666244 5207.6770497 ]\n",
      "Covariance at r_p  =  [1383.96794326 1555.48184139 1555.48184139 5247.37534678]\n",
      "Covariance at sigma_m  =  [1221.32392428 1328.42126035 1328.42126035 4973.19983518]\n",
      "Covariance at sigma_p  =  [1222.86230338 1336.68916104 1336.68916104 5004.32568425]\n"
     ]
    }
   ],
   "source": [
    "param_list = [\"fid\", \"r_m\", \"r_p\", \"sigma_m\", \"sigma_p\"] \n",
    "for param, item in zip(param_list, fisher.summaries):\n",
    "    print(\"Covariance at \" + param, \" = \", np.cov(item.numpy().T).flatten())"
   ]
  },
  {
   "cell_type": "raw",
   "id": "21a0ee22-a6df-492b-b2d2-9fec94ddd007",
   "metadata": {},
   "source": [
    "The covariance matrix is roughly constant with respect to variation in theta."
   ]
  },
  {
   "cell_type": "markdown",
   "id": "d6e4cfc5-af45-44e3-9d6d-30de0207228c",
   "metadata": {},
   "source": [
    "### Persistence Images"
   ]
  },
  {
   "cell_type": "code",
   "execution_count": 80,
   "id": "66c134ce-44bf-45e9-a1ff-beb76074dac5",
   "metadata": {},
   "outputs": [],
   "source": [
    "res = 24\n",
    "pi_vec_layer = PersistenceImages(resolutions = [[res, res], [res, res]], bandwidths = [3e-2, 5e-2])\n",
    "pi_vecs = circle_pipeline_mp1.vectorize(pi_vec_layer)"
   ]
  },
  {
   "cell_type": "code",
   "execution_count": 81,
   "id": "c9ee55d6-f669-420a-9dba-ce6158206f4d",
   "metadata": {},
   "outputs": [],
   "source": [
    "model = tf.keras.Sequential(\n",
    "    [\n",
    "        ExtraDimLayer(tf.keras.layers.Conv2D(8, (3,3), padding='same', activation = \"relu\", input_shape=(res, res, 2))),\n",
    "        ExtraDimLayer(tf.keras.layers.MaxPooling2D((2, 2), strides=2)),\n",
    "        ExtraDimLayer(tf.keras.layers.Flatten()),\n",
    "        tf.keras.layers.Dense(8, activation=\"relu\"),\n",
    "        tf.keras.layers.Dense(2)\n",
    "    ]\n",
    ")\n",
    "pi_imnn_layer = IMNNLayer(model, verbose = 0, epochs = 50, data_splits = [0.4, 0.2, 0.4], \\\n",
    "                            callbacks = [tf.keras.callbacks.EarlyStopping(patience = 3, restore_best_weights = True)], \\\n",
    "                          show_bias = True)\n",
    "\n",
    "\n",
    "fisher = pi_imnn_layer.computeFisher(pi_vecs, circle_pipeline_mp1.delta_theta)"
   ]
  },
  {
   "cell_type": "code",
   "execution_count": 83,
   "id": "8473db34-fb14-4720-b8be-1e014bf4338d",
   "metadata": {},
   "outputs": [
    {
     "name": "stdout",
     "output_type": "stream",
     "text": [
      "log FI =  15.02\n",
      "FM =  [1270.8  1236.77 1236.77 3821.63]\n",
      "Fractional bias =  [0. 0.]\n",
      "Constraints =  [0.03389238 0.01954412]\n"
     ]
    }
   ],
   "source": [
    "show_fm_and_bias(fisher)"
   ]
  },
  {
   "cell_type": "code",
   "execution_count": 84,
   "id": "178a28ca-c0ab-4386-b3b2-527b52eb32e6",
   "metadata": {},
   "outputs": [
    {
     "name": "stdout",
     "output_type": "stream",
     "text": [
      "Covariance at fid  =  [ 19.63660305 -22.81434368 -22.81434368  85.89550826]\n",
      "Covariance at r_m  =  [ 18.4494631  -21.90753506 -21.90753506  87.03157837]\n",
      "Covariance at r_p  =  [ 18.74777436 -22.5612648  -22.5612648   88.0351482 ]\n",
      "Covariance at sigma_m  =  [ 20.7620351  -23.20566191 -23.20566191  87.20808635]\n",
      "Covariance at sigma_p  =  [ 21.12760012 -23.51698688 -23.51698688  87.30526585]\n"
     ]
    }
   ],
   "source": [
    "param_list = [\"fid\", \"r_m\", \"r_p\", \"sigma_m\", \"sigma_p\"] \n",
    "for param, item in zip(param_list, fisher.summaries):\n",
    "    print(\"Covariance at \" + param, \" = \", np.cov(item.numpy().T).flatten())"
   ]
  },
  {
   "cell_type": "markdown",
   "id": "d040788f-d83d-404b-b427-545cb006483d",
   "metadata": {
    "tags": []
   },
   "source": [
    "#### From PI0"
   ]
  },
  {
   "cell_type": "code",
   "execution_count": 85,
   "id": "eda5b6b5-0074-4fc5-bfbf-cfd2b0212358",
   "metadata": {},
   "outputs": [],
   "source": [
    "pi0 = [item[:, :, :, 0:1] for item in pi_vecs]\n",
    "\n",
    "model = tf.keras.Sequential(\n",
    "    [\n",
    "        ExtraDimLayer(tf.keras.layers.Conv2D(8, (3,3), padding='same', activation = \"relu\", input_shape=(res, res, 1))),\n",
    "        ExtraDimLayer(tf.keras.layers.MaxPooling2D((2, 2), strides=2)),\n",
    "        ExtraDimLayer(tf.keras.layers.Flatten()),\n",
    "        tf.keras.layers.Dense(8, activation=\"relu\"),\n",
    "        tf.keras.layers.Dense(2)\n",
    "    ]\n",
    ")\n",
    "pi_imnn_layer = IMNNLayer(model, verbose = 0, epochs = 50, data_splits = [0.4, 0.2, 0.4], \\\n",
    "                            callbacks = [tf.keras.callbacks.EarlyStopping(patience = 3, restore_best_weights = True)], \\\n",
    "                          reg = tf.constant(0.), show_bias = True, show_fi = True)\n",
    "\n",
    "fisher = pi_imnn_layer.computeFisher(pi0, circle_pipeline_mp1.delta_theta)"
   ]
  },
  {
   "cell_type": "code",
   "execution_count": 86,
   "id": "c7b9ba6e-0401-4c27-ab1d-682650b8d722",
   "metadata": {},
   "outputs": [
    {
     "name": "stdout",
     "output_type": "stream",
     "text": [
      "log FI =  13.95\n",
      "FM =  [ 778.05 1309.9  1309.9  3678.5 ]\n",
      "Fractional bias =  [0. 0.]\n",
      "Constraints =  [0.05665004 0.02605367]\n",
      "Covariance at fid  =  [17.84306067 -4.17767068 -4.17767068 30.84908351]\n",
      "Covariance at r_m  =  [16.5468328  -4.52747503 -4.52747503 30.93909313]\n",
      "Covariance at r_p  =  [16.50502482 -3.8951666  -3.8951666  29.73102829]\n",
      "Covariance at sigma_m  =  [19.5001731  -4.49773024 -4.49773024 31.82879132]\n",
      "Covariance at sigma_p  =  [19.53666522 -4.36633561 -4.36633561 31.58396587]\n"
     ]
    }
   ],
   "source": [
    "show_fm_and_bias(fisher)\n",
    "\n",
    "param_list = [\"fid\", \"r_m\", \"r_p\", \"sigma_m\", \"sigma_p\"] \n",
    "for param, item in zip(param_list, fisher.summaries):\n",
    "    print(\"Covariance at \" + param, \" = \", np.cov(item.numpy().T).flatten())"
   ]
  },
  {
   "cell_type": "code",
   "execution_count": 98,
   "id": "25dc615c-f97c-499e-974e-da45daf70011",
   "metadata": {},
   "outputs": [
    {
     "name": "stdout",
     "output_type": "stream",
     "text": [
      "log FI =  13.16\n",
      "FM =  [ 673.33 1552.53 1552.53 4350.99]\n",
      "Fractional bias =  [0. 0.]\n",
      "Constraints =  [0.0915364  0.03600919]\n"
     ]
    }
   ],
   "source": [
    "vectorizations = [TOPK(bdp_type = \"bd\", is_binned = True, topk = 219, num_bins = 24), \\\n",
    "                  #TOPK(bdp_type = \"bd\", is_binned = True, topk = 25, num_bins = 5)\n",
    "                 ]\n",
    "\n",
    "vecLayer = VectorizationLayers(vectorizations = vectorizations, pds_idx_list = [0])\n",
    "show_fm_and_bias(circle_pipeline_mp1.vectorize_and_fisher(vecLayer, MopedLayer()))"
   ]
  },
  {
   "cell_type": "markdown",
   "id": "08d12006-78a7-4049-8f4f-664f62cc3d8d",
   "metadata": {
    "tags": []
   },
   "source": [
    "#### From PI1"
   ]
  },
  {
   "cell_type": "code",
   "execution_count": 128,
   "id": "89dbe2ee-b934-4b02-882b-725a93a206a2",
   "metadata": {},
   "outputs": [],
   "source": [
    "pi1 = [item[:, :, :, 1:2] for item in pi_vecs]\n",
    "\n",
    "model = tf.keras.Sequential(\n",
    "    [\n",
    "        ExtraDimLayer(tf.keras.layers.Conv2D(8, (3,3), padding='same', activation = \"relu\", input_shape=(res, res, 1))),\n",
    "        ExtraDimLayer(tf.keras.layers.MaxPooling2D((2, 2), strides=2)),\n",
    "        ExtraDimLayer(tf.keras.layers.Flatten()),\n",
    "        tf.keras.layers.Dense(12, activation=\"relu\"),\n",
    "        tf.keras.layers.Dense(2)\n",
    "    ]\n",
    ")\n",
    "pi_imnn_layer = IMNNLayer(model, verbose = 0, epochs = 50, data_splits = [0.4, 0.2, 0.4], \\\n",
    "                            callbacks = [tf.keras.callbacks.EarlyStopping(patience = 4, restore_best_weights = True)], \\\n",
    "                          reg = tf.constant(0.), show_bias = True, show_fi = True)\n",
    "\n",
    "fisher = pi_imnn_layer.computeFisher(pi1, circle_pipeline_mp1.delta_theta)"
   ]
  },
  {
   "cell_type": "code",
   "execution_count": 129,
   "id": "1ef3d006-6e75-467a-be00-ed028edf1721",
   "metadata": {},
   "outputs": [
    {
     "data": {
      "image/png": "[encoded data removed]",
      "text/plain": [
       "<Figure size 1100x300 with 3 Axes>"
      ]
     },
     "metadata": {},
     "output_type": "display_data"
    }
   ],
   "source": [
    "plotLearningGraphs(model.history.history, metric_list = ['loss', 'bias0', 'bias1'])"
   ]
  },
  {
   "cell_type": "code",
   "execution_count": 130,
   "id": "94003c9a-79c6-4e04-a140-53555c45210b",
   "metadata": {},
   "outputs": [
    {
     "name": "stdout",
     "output_type": "stream",
     "text": [
      "log FI =  13.4\n",
      "FM =  [ 478.42 -178.66 -178.66 1446.7 ]\n",
      "Fractional bias =  [0.   0.01]\n",
      "Constraints =  [0.04681099 0.02691927]\n",
      "Covariance at fid  =  [1.23975568 1.12935765 1.12935765 2.748211  ]\n",
      "Covariance at r_m  =  [1.22291103 1.02949475 1.02949475 2.58542251]\n",
      "Covariance at r_p  =  [1.20389235 1.03726245 1.03726245 2.56877872]\n",
      "Covariance at sigma_m  =  [1.21823826 1.05727967 1.05727967 2.80085965]\n",
      "Covariance at sigma_p  =  [1.24551152 1.08416122 1.08416122 2.81477008]\n"
     ]
    }
   ],
   "source": [
    "show_fm_and_bias(fisher)\n",
    "\n",
    "param_list = [\"fid\", \"r_m\", \"r_p\", \"sigma_m\", \"sigma_p\"] \n",
    "for param, item in zip(param_list, fisher.summaries):\n",
    "    print(\"Covariance at \" + param, \" = \", np.cov(item.numpy().T).flatten())"
   ]
  },
  {
   "cell_type": "code",
   "execution_count": 109,
   "id": "177f5d1d-5955-4be9-b236-dfd7f2f9b47c",
   "metadata": {},
   "outputs": [
    {
     "name": "stdout",
     "output_type": "stream",
     "text": [
      "log FI =  13.51\n",
      "FM =  [ 373.47  133.14  133.14 2017.85]\n",
      "Fractional bias =  [0.   0.01]\n",
      "Constraints =  [0.05236513 0.02252806]\n"
     ]
    }
   ],
   "source": [
    "vectorizations = [#TOPK(bdp_type = \"bd\", is_binned = True, topk = 219, num_bins = 24), \\\n",
    "                  TOPK(bdp_type = \"bd\", is_binned = True, topk = 25, num_bins = 5)]\n",
    "\n",
    "vecLayer = VectorizationLayers(vectorizations = vectorizations, pds_idx_list = [1])\n",
    "show_fm_and_bias(circle_pipeline_mp1.vectorize_and_fisher(vecLayer, MopedLayer()))"
   ]
  },
  {
   "cell_type": "code",
   "execution_count": 116,
   "id": "5099ce10-00e1-47fe-bc7d-8c5615db1c69",
   "metadata": {
    "tags": []
   },
   "outputs": [
    {
     "name": "stdout",
     "output_type": "stream",
     "text": [
      "log FI =  13.65\n",
      "FM =  [ 549.28 -183.6  -183.6  1597.31]\n",
      "Fractional bias =  [0. 0.]\n",
      "Constraints =  [0.04351194 0.02551595]\n"
     ]
    }
   ],
   "source": [
    "show_fm_and_bias(fisher)"
   ]
  },
  {
   "cell_type": "code",
   "execution_count": 110,
   "id": "5994b47b-7e99-4e8f-b09b-19c04713c531",
   "metadata": {},
   "outputs": [
    {
     "name": "stdout",
     "output_type": "stream",
     "text": [
      "log FI =  13.51\n",
      "FM =  [ 379.46  137.04  137.04 1996.11]\n",
      "Fractional bias =  [0. 0.]\n",
      "Constraints =  [0.05198373 0.02266519]\n"
     ]
    }
   ],
   "source": [
    "vectorizations = [#TOPK(bdp_type = \"bd\", is_binned = True, topk = 219, num_bins = 24), \\\n",
    "                  TOPK(bdp_type = \"bd\", is_binned = True, topk = 25, num_bins = 5)]\n",
    "\n",
    "vecLayer = VectorizationLayers(vectorizations = vectorizations, pds_idx_list = [1])\n",
    "show_fm_and_bias(circle_pipeline.vectorize_and_fisher(vecLayer, MopedLayer()))"
   ]
  },
  {
   "cell_type": "markdown",
   "id": "8a2df8fc-afae-4961-b54f-0714f7103d14",
   "metadata": {
    "jp-MarkdownHeadingCollapsed": true,
    "tags": []
   },
   "source": [
    "## m = 0.1"
   ]
  },
  {
   "cell_type": "code",
   "execution_count": 39,
   "id": "a4909eb7-f776-4300-8af2-ea96eb781637",
   "metadata": {},
   "outputs": [
    {
     "name": "stderr",
     "output_type": "stream",
     "text": [
      "100%|██████████| 4000/4000 [00:23<00:00, 171.69it/s]\n",
      "100%|██████████| 4000/4000 [00:22<00:00, 176.16it/s]\n",
      "100%|██████████| 4000/4000 [00:22<00:00, 176.96it/s]\n",
      "100%|██████████| 4000/4000 [00:23<00:00, 173.62it/s]\n",
      "100%|██████████| 4000/4000 [00:23<00:00, 173.72it/s]\n"
     ]
    }
   ],
   "source": [
    "vectorizations = [TOPK(bdp_type = \"bd\", is_binned = True, topk = 219, num_bins = 24), \\\n",
    "                  TOPK(bdp_type = \"bd\", is_binned = True, topk = 25, num_bins = 5)]\n",
    "\n",
    "vecLayer = VectorizationLayers(vectorizations = vectorizations)\n",
    "fisherLayer = MopedLayer()\n",
    "circle_pipeline_mp1 = CirclePipeline(ncirc= 200, nback = 20, bgmAvg = 1., n_s = 4000, n_d = 4000, \\\n",
    "                                 theta_fid = tf.constant([1., 0.2]), delta_theta = tf.constant([0.1, 0.02]),\\\n",
    "                                 filtLayer = AlphaDTMLayer(m = 0.1, max_hom_dim = 2, hom_dim_list = [0, 1], show_tqdm = True),\n",
    "                                 vecLayer = None, fisherLayer = None, find_derivative = [True, True])\n",
    "circle_pipeline_mp1.run_pipeline()"
   ]
  },
  {
   "cell_type": "code",
   "execution_count": 24,
   "id": "6bd8484a-79fd-44fa-9339-7e60accbee55",
   "metadata": {},
   "outputs": [
    {
     "name": "stdout",
     "output_type": "stream",
     "text": [
      "log FI =  15.01\n",
      "FM =  [1123.36 1187.22 1187.22 4188.85]\n",
      "Fractional bias =  [0. 0.]\n",
      "Constraints =  [0.03564902 0.01846117]\n"
     ]
    }
   ],
   "source": [
    "vectorizations = [TOPK(bdp_type = \"bd\", is_binned = True, topk = 219, num_bins = 24), \\\n",
    "                  TOPK(bdp_type = \"bd\", is_binned = True, topk = 25, num_bins = 5)]\n",
    "\n",
    "vecLayer = VectorizationLayers(vectorizations = vectorizations)\n",
    "\n",
    "show_fm_and_bias(circle_pipeline_mp1.vectorize_and_fisher(vecLayer, MopedLayer()))"
   ]
  },
  {
   "cell_type": "markdown",
   "id": "881f0800-9de7-401e-86a5-33ca589a6597",
   "metadata": {
    "tags": []
   },
   "source": [
    "## Persistence Images"
   ]
  },
  {
   "cell_type": "markdown",
   "id": "dd01a43b-73aa-40be-8f58-e19a5be239c6",
   "metadata": {
    "jp-MarkdownHeadingCollapsed": true,
    "tags": []
   },
   "source": [
    "### m = 0.9"
   ]
  },
  {
   "cell_type": "code",
   "execution_count": 65,
   "id": "ebd9da27-7ed7-4673-8fee-6d899887d9c0",
   "metadata": {},
   "outputs": [
    {
     "name": "stderr",
     "output_type": "stream",
     "text": [
      "100%|██████████| 10000/10000 [01:37<00:00, 102.31it/s]\n",
      "100%|██████████| 10000/10000 [01:19<00:00, 125.40it/s]\n",
      "100%|██████████| 10000/10000 [01:17<00:00, 129.15it/s]\n",
      "100%|██████████| 10000/10000 [01:18<00:00, 127.92it/s]\n",
      "100%|██████████| 10000/10000 [01:17<00:00, 128.86it/s]\n"
     ]
    }
   ],
   "source": [
    "res = 24\n",
    "pi_vec_layer = PersistenceImages(resolutions = [[res, res], [res, res]], bandwidths = [3e-2, 5e-2])\n",
    "circle_pipeline_pi = CirclePipeline(ncirc= 200, nback = 20, bgmAvg = 1., n_s = 10000, n_d = 10000, \\\n",
    "                                 theta_fid = tf.constant([1., 0.2]), delta_theta = tf.constant([0.01, 0.002]),\\\n",
    "                                 filtLayer = AlphaDTMLayer(m = 0.9, max_hom_dim = 2, hom_dim_list = [0, 1], show_tqdm = True),\n",
    "                                 vecLayer = pi_vec_layer, fisherLayer = None, find_derivative = [True, True])\n",
    "circle_pipeline_pi.run_pipeline()"
   ]
  },
  {
   "cell_type": "code",
   "execution_count": null,
   "id": "ad90089d-5dd6-48c3-b942-db37e324597b",
   "metadata": {},
   "outputs": [],
   "source": [
    "model = tf.keras.Sequential(\n",
    "    [\n",
    "        ExtraDimLayer(tf.keras.layers.Conv2D(8, (3,3), padding='same', activation = \"relu\", input_shape=(res, res, 2))),\n",
    "        ExtraDimLayer(tf.keras.layers.MaxPooling2D((2, 2), strides=2)),\n",
    "        ExtraDimLayer(tf.keras.layers.Flatten()),\n",
    "        tf.keras.layers.Dense(8, activation=\"relu\"),\n",
    "        tf.keras.layers.Dense(2)\n",
    "    ]\n",
    ")\n",
    "pi_imnn_layer = IMNNLayer(model, verbose = 1, epochs = 20, data_splits = [0.4, 0.2, 0.4], \\\n",
    "                            callbacks = [tf.keras.callbacks.EarlyStopping(patience = 3)], reg = tf.constant(0.),\\\n",
    "                          show_bias = True)\n",
    "\n",
    "fisher = pi_imnn_layer.computeFisher(circle_pipeline_pi.all_vecs, circle_pipeline_pi.delta_theta)"
   ]
  },
  {
   "cell_type": "code",
   "execution_count": 73,
   "id": "269d254e-13f8-4265-a554-9bbb522c99ac",
   "metadata": {},
   "outputs": [
    {
     "name": "stdout",
     "output_type": "stream",
     "text": [
      "log FI =  16.58\n",
      "FM =  [3545.95  242.1   242.1  4475.79]\n",
      "Fractional bias =  [0. 0.]\n",
      "Constraints =  [0.01682431 0.01497506]\n"
     ]
    }
   ],
   "source": [
    "show_fm_and_bias(fisher)"
   ]
  },
  {
   "cell_type": "markdown",
   "id": "8edbb514-6b78-4312-b374-a5b81a1cb6b3",
   "metadata": {
    "tags": []
   },
   "source": [
    "### m = 0.1"
   ]
  },
  {
   "cell_type": "code",
   "execution_count": 74,
   "id": "8c7fd094-1579-495f-8541-3bbb873b97d5",
   "metadata": {},
   "outputs": [
    {
     "name": "stderr",
     "output_type": "stream",
     "text": [
      "100%|██████████| 10000/10000 [01:03<00:00, 157.92it/s]\n",
      "100%|██████████| 10000/10000 [01:05<00:00, 153.27it/s]\n",
      "100%|██████████| 10000/10000 [01:04<00:00, 155.93it/s]\n",
      "100%|██████████| 10000/10000 [01:08<00:00, 145.07it/s]\n",
      "100%|██████████| 10000/10000 [01:19<00:00, 126.33it/s]\n"
     ]
    }
   ],
   "source": [
    "res = 24\n",
    "pi_vec_layer = PersistenceImages(resolutions = [[res, res], [res, res]], bandwidths = [3e-2, 5e-2])\n",
    "circle_pipeline_pi = CirclePipeline(ncirc= 200, nback = 20, bgmAvg = 1., n_s = 10000, n_d = 10000, \\\n",
    "                                 theta_fid = tf.constant([1., 0.2]), delta_theta = tf.constant([0.01, 0.002]),\\\n",
    "                                 filtLayer = AlphaDTMLayer(m = 0.1, max_hom_dim = 2, hom_dim_list = [0, 1], show_tqdm = True),\n",
    "                                 vecLayer = pi_vec_layer, fisherLayer = None, find_derivative = [True, True])\n",
    "circle_pipeline_pi.run_pipeline()"
   ]
  },
  {
   "cell_type": "code",
   "execution_count": null,
   "id": "bc8034c3-b1ed-45fa-b030-3a93d8beb467",
   "metadata": {},
   "outputs": [],
   "source": [
    "model = tf.keras.Sequential(\n",
    "    [\n",
    "        ExtraDimLayer(tf.keras.layers.Conv2D(8, (3,3), padding='same', activation = \"relu\", input_shape=(res, res, 2))),\n",
    "        ExtraDimLayer(tf.keras.layers.MaxPooling2D((2, 2), strides=2)),\n",
    "        ExtraDimLayer(tf.keras.layers.Flatten()),\n",
    "        tf.keras.layers.Dense(8, activation=\"relu\"),\n",
    "        tf.keras.layers.Dense(2)\n",
    "    ]\n",
    ")\n",
    "pi_imnn_layer = IMNNLayer(model, verbose = 1, epochs = 30, data_splits = [0.4, 0.2, 0.4], \\\n",
    "                            callbacks = [tf.keras.callbacks.EarlyStopping(patience = 3, restore_best_weights = True)], reg = tf.constant(0.),\\\n",
    "                          show_bias = True)\n",
    "\n",
    "fisher = pi_imnn_layer.computeFisher(circle_pipeline_pi.all_vecs, circle_pipeline_pi.delta_theta)"
   ]
  },
  {
   "cell_type": "code",
   "execution_count": 80,
   "id": "f5a67e8b-fd29-4f04-b847-13636105eeb6",
   "metadata": {},
   "outputs": [
    {
     "name": "stdout",
     "output_type": "stream",
     "text": [
      "log FI =  15.02\n",
      "FM =  [1345.02 1294.35 1294.35 3718.08]\n",
      "Fractional bias =  [0. 0.]\n",
      "Constraints =  [0.03343707 0.02011096]\n"
     ]
    }
   ],
   "source": [
    "show_fm_and_bias(fisher)\n"
   ]
  },
  {
   "cell_type": "code",
   "execution_count": 119,
   "id": "414ac451-029d-4a0e-af08-a67e64fb29e5",
   "metadata": {},
   "outputs": [
    {
     "name": "stdout",
     "output_type": "stream",
     "text": [
      "log FI =  15.13\n",
      "FM =  [1151.83 1213.21 1213.21 4498.12]\n",
      "Fractional bias =  [0. 0.]\n",
      "Constraints =  [0.03482369 0.01762194]\n"
     ]
    }
   ],
   "source": [
    "vectorizations = [TOPK(bdp_type = \"bd\", is_binned = True, topk = 219, num_bins = 24), \\\n",
    "                  TOPK(bdp_type = \"bd\", is_binned = True, topk = 25, num_bins = 5)\n",
    "                 ]\n",
    "\n",
    "vecLayer = VectorizationLayers(vectorizations = vectorizations, pds_idx_list = [0, 1])\n",
    "show_fm_and_bias(circle_pipeline.vectorize_and_fisher(vecLayer, MopedLayer()))"
   ]
  },
  {
   "cell_type": "code",
   "execution_count": 95,
   "id": "3df916f3-6426-4bde-acf4-766801857472",
   "metadata": {},
   "outputs": [
    {
     "data": {
      "image/png": "[encoded data removed]",
      "text/plain": [
       "<Figure size 1100x300 with 3 Axes>"
      ]
     },
     "metadata": {},
     "output_type": "display_data"
    }
   ],
   "source": [
    "plotLearningGraphs(model.history.history, metric_list = ['loss', 'bias0', 'bias1'])"
   ]
  },
  {
   "cell_type": "markdown",
   "id": "c03b0684-c416-4653-a60a-a00d039c21e6",
   "metadata": {
    "jp-MarkdownHeadingCollapsed": true,
    "tags": []
   },
   "source": [
    "#### From PI0"
   ]
  },
  {
   "cell_type": "code",
   "execution_count": 99,
   "id": "b07ca27a-5c97-412b-868e-56d5734fdad4",
   "metadata": {},
   "outputs": [],
   "source": [
    "pi0 = [item[:, :, :, 0:1] for item in circle_pipeline_pi.all_vecs]\n",
    "\n",
    "model = tf.keras.Sequential(\n",
    "    [\n",
    "        ExtraDimLayer(tf.keras.layers.Conv2D(8, (3,3), padding='same', activation = \"relu\", input_shape=(res, res, 1))),\n",
    "        ExtraDimLayer(tf.keras.layers.MaxPooling2D((2, 2), strides=2)),\n",
    "        ExtraDimLayer(tf.keras.layers.Flatten()),\n",
    "        tf.keras.layers.Dense(8, activation=\"relu\"),\n",
    "        tf.keras.layers.Dense(2)\n",
    "    ]\n",
    ")\n",
    "pi_imnn_layer = IMNNLayer(model, verbose = 0, epochs = 30, data_splits = [0.4, 0.2, 0.4], \\\n",
    "                            callbacks = [tf.keras.callbacks.EarlyStopping(patience = 3, restore_best_weights = True)], \\\n",
    "                          reg = tf.constant(0.), show_bias = True, show_fi = True)\n",
    "\n",
    "fisher = pi_imnn_layer.computeFisher(pi0, circle_pipeline_pi.delta_theta)"
   ]
  },
  {
   "cell_type": "code",
   "execution_count": 101,
   "id": "03a8a001-710e-42a5-a22f-1fa1310fa677",
   "metadata": {},
   "outputs": [
    {
     "data": {
      "image/png": "[encoded data removed]",
      "text/plain": [
       "<Figure size 1100x300 with 3 Axes>"
      ]
     },
     "metadata": {},
     "output_type": "display_data"
    }
   ],
   "source": [
    "plotLearningGraphs(model.history.history, metric_list = ['loss', 'bias0', 'bias1'])"
   ]
  },
  {
   "cell_type": "code",
   "execution_count": 102,
   "id": "607725c9-fe6b-4c45-a0b4-a89c6a23c674",
   "metadata": {},
   "outputs": [
    {
     "name": "stdout",
     "output_type": "stream",
     "text": [
      "log FI =  13.91\n",
      "FM =  [ 732.71 1271.53 1271.53 3707.06]\n",
      "Fractional bias =  [0. 0.]\n",
      "Constraints =  [0.05806728 0.02581568]\n"
     ]
    }
   ],
   "source": [
    "show_fm_and_bias(fisher)"
   ]
  },
  {
   "cell_type": "code",
   "execution_count": 118,
   "id": "384fb05f-8017-484c-a1e3-d6cdf2516557",
   "metadata": {},
   "outputs": [
    {
     "name": "stdout",
     "output_type": "stream",
     "text": [
      "log FI =  13.21\n",
      "FM =  [ 629.5  1477.99 1477.99 4340.92]\n",
      "Fractional bias =  [0. 0.]\n",
      "Constraints =  [0.08898897 0.0338879 ]\n"
     ]
    }
   ],
   "source": [
    "vectorizations = [TOPK(bdp_type = \"bd\", is_binned = True, topk = 219, num_bins = 24), \\\n",
    "                  #TOPK(bdp_type = \"bd\", is_binned = True, topk = 25, num_bins = 5)\n",
    "                 ]\n",
    "\n",
    "vecLayer = VectorizationLayers(vectorizations = vectorizations, pds_idx_list = [0])\n",
    "show_fm_and_bias(circle_pipeline.vectorize_and_fisher(vecLayer, MopedLayer()))"
   ]
  },
  {
   "cell_type": "markdown",
   "id": "f50e022b-abda-42a9-9a8c-1864a8331f2d",
   "metadata": {},
   "source": [
    "#### From PI1"
   ]
  },
  {
   "cell_type": "code",
   "execution_count": 113,
   "id": "c008b039-3412-422f-8a1c-7b1eed6db48b",
   "metadata": {},
   "outputs": [
    {
     "data": {
      "text/plain": [
       "(10000, 24, 24, 1)"
      ]
     },
     "execution_count": 113,
     "metadata": {},
     "output_type": "execute_result"
    }
   ],
   "source": [
    "pi1[0].shape"
   ]
  },
  {
   "cell_type": "code",
   "execution_count": 114,
   "id": "c257a808-4e7a-4a32-b451-d5681f5f5b16",
   "metadata": {},
   "outputs": [
    {
     "name": "stdout",
     "output_type": "stream",
     "text": [
      "Epoch 1/100\n",
      "8/8 [==============================] - 8s 512ms/step - loss: -11.3345 - lnfi: 11.3440 - bias0: 0.0188 - bias1: 0.0267 - val_loss: -11.8934 - val_lnfi: 11.8903 - val_bias0: 0.0081 - val_bias1: 0.0154\n",
      "Epoch 2/100\n",
      "8/8 [==============================] - 2s 307ms/step - loss: -12.2244 - lnfi: 12.2256 - bias0: 0.0041 - bias1: 0.0091 - val_loss: -12.4055 - val_lnfi: 12.4016 - val_bias0: 0.0048 - val_bias1: 0.0110\n",
      "Epoch 3/100\n",
      "8/8 [==============================] - 2s 307ms/step - loss: -12.7533 - lnfi: 12.7617 - bias0: 0.0029 - bias1: 0.0086 - val_loss: -12.8369 - val_lnfi: 12.8331 - val_bias0: 0.0050 - val_bias1: 0.0132\n",
      "Epoch 4/100\n",
      "8/8 [==============================] - 2s 310ms/step - loss: -13.2479 - lnfi: 13.2481 - bias0: 0.0043 - bias1: 0.0107 - val_loss: -13.1065 - val_lnfi: 13.0985 - val_bias0: 0.0048 - val_bias1: 0.0127\n",
      "Epoch 5/100\n",
      "8/8 [==============================] - 2s 304ms/step - loss: -13.5573 - lnfi: 13.5619 - bias0: 0.0040 - bias1: 0.0100 - val_loss: -13.2937 - val_lnfi: 13.2866 - val_bias0: 0.0046 - val_bias1: 0.0126\n",
      "Epoch 6/100\n",
      "8/8 [==============================] - 3s 338ms/step - loss: -13.7204 - lnfi: 13.7152 - bias0: 0.0034 - bias1: 0.0092 - val_loss: -13.4238 - val_lnfi: 13.4163 - val_bias0: 0.0044 - val_bias1: 0.0139\n",
      "Epoch 7/100\n",
      "8/8 [==============================] - 2s 313ms/step - loss: -13.8848 - lnfi: 13.8902 - bias0: 0.0038 - bias1: 0.0099 - val_loss: -13.4843 - val_lnfi: 13.4769 - val_bias0: 0.0051 - val_bias1: 0.0148\n",
      "Epoch 8/100\n",
      "8/8 [==============================] - 3s 346ms/step - loss: -13.9826 - lnfi: 13.9835 - bias0: 0.0037 - bias1: 0.0096 - val_loss: -13.5874 - val_lnfi: 13.5798 - val_bias0: 0.0046 - val_bias1: 0.0148\n",
      "Epoch 9/100\n",
      "8/8 [==============================] - 3s 333ms/step - loss: -14.0524 - lnfi: 14.0594 - bias0: 0.0037 - bias1: 0.0100 - val_loss: -13.6913 - val_lnfi: 13.6824 - val_bias0: 0.0043 - val_bias1: 0.0137\n",
      "Epoch 10/100\n",
      "8/8 [==============================] - 3s 324ms/step - loss: -14.1458 - lnfi: 14.1450 - bias0: 0.0041 - bias1: 0.0113 - val_loss: -13.6824 - val_lnfi: 13.6750 - val_bias0: 0.0051 - val_bias1: 0.0171\n",
      "Epoch 11/100\n",
      "8/8 [==============================] - 3s 345ms/step - loss: -14.2401 - lnfi: 14.2453 - bias0: 0.0041 - bias1: 0.0110 - val_loss: -13.7060 - val_lnfi: 13.6993 - val_bias0: 0.0052 - val_bias1: 0.0178\n",
      "Epoch 12/100\n",
      "8/8 [==============================] - 3s 374ms/step - loss: -14.2631 - lnfi: 14.2672 - bias0: 0.0041 - bias1: 0.0113 - val_loss: -13.7439 - val_lnfi: 13.7336 - val_bias0: 0.0050 - val_bias1: 0.0176\n",
      "Epoch 13/100\n",
      "8/8 [==============================] - 3s 379ms/step - loss: -14.3270 - lnfi: 14.3262 - bias0: 0.0043 - bias1: 0.0113 - val_loss: -13.7852 - val_lnfi: 13.7771 - val_bias0: 0.0050 - val_bias1: 0.0173\n",
      "Epoch 14/100\n",
      "8/8 [==============================] - 3s 337ms/step - loss: -14.3369 - lnfi: 14.3287 - bias0: 0.0047 - bias1: 0.0125 - val_loss: -13.7546 - val_lnfi: 13.7460 - val_bias0: 0.0044 - val_bias1: 0.0158\n",
      "Epoch 15/100\n",
      "8/8 [==============================] - 3s 328ms/step - loss: -14.3589 - lnfi: 14.3505 - bias0: 0.0043 - bias1: 0.0112 - val_loss: -13.7323 - val_lnfi: 13.7241 - val_bias0: 0.0053 - val_bias1: 0.0186\n",
      "Epoch 16/100\n",
      "8/8 [==============================] - 3s 338ms/step - loss: -14.4354 - lnfi: 14.4335 - bias0: 0.0044 - bias1: 0.0118 - val_loss: -13.7952 - val_lnfi: 13.7881 - val_bias0: 0.0052 - val_bias1: 0.0188\n",
      "Epoch 17/100\n",
      "8/8 [==============================] - 3s 337ms/step - loss: -14.5102 - lnfi: 14.5075 - bias0: 0.0045 - bias1: 0.0120 - val_loss: -13.8234 - val_lnfi: 13.8146 - val_bias0: 0.0057 - val_bias1: 0.0210\n",
      "Epoch 18/100\n",
      "8/8 [==============================] - 3s 329ms/step - loss: -14.5298 - lnfi: 14.5308 - bias0: 0.0050 - bias1: 0.0131 - val_loss: -13.7686 - val_lnfi: 13.7611 - val_bias0: 0.0061 - val_bias1: 0.0237\n",
      "Epoch 19/100\n",
      "8/8 [==============================] - 3s 326ms/step - loss: -14.5850 - lnfi: 14.5906 - bias0: 0.0053 - bias1: 0.0134 - val_loss: -13.7410 - val_lnfi: 13.7320 - val_bias0: 0.0063 - val_bias1: 0.0234\n",
      "Epoch 20/100\n",
      "8/8 [==============================] - 3s 345ms/step - loss: -14.5592 - lnfi: 14.5701 - bias0: 0.0053 - bias1: 0.0127 - val_loss: -13.6947 - val_lnfi: 13.6831 - val_bias0: 0.0073 - val_bias1: 0.0268\n"
     ]
    }
   ],
   "source": [
    "pi1 = [item[:, :, :, 1:2] for item in circle_pipeline_pi.all_vecs]\n",
    "model = tf.keras.Sequential(\n",
    "    [\n",
    "        ExtraDimLayer(tf.keras.layers.Conv2D(8, (3,3), padding='same', activation = \"relu\", input_shape=(res, res, 1))),\n",
    "        ExtraDimLayer(tf.keras.layers.MaxPooling2D((2, 2), strides=2)),\n",
    "        ExtraDimLayer(tf.keras.layers.Flatten()),\n",
    "        tf.keras.layers.Dense(8, activation=\"relu\"),\n",
    "        tf.keras.layers.Dense(2)\n",
    "    ]\n",
    ")\n",
    "pi_imnn_layer = IMNNLayer(model, verbose = 1, epochs = 100, data_splits = [0.4, 0.2, 0.4], \\\n",
    "                            callbacks = [tf.keras.callbacks.EarlyStopping(patience = 3, restore_best_weights = True)], \\\n",
    "                          reg = tf.constant(0.), show_bias = True, show_fi = True)\n",
    "\n",
    "fisher = pi_imnn_layer.computeFisher(pi1, circle_pipeline_pi.delta_theta)"
   ]
  },
  {
   "cell_type": "code",
   "execution_count": 115,
   "id": "8f64dcc1-ee77-45ff-8f51-67117bfb9b9e",
   "metadata": {},
   "outputs": [
    {
     "data": {
      "image/png": "[encoded data removed]",
      "text/plain": [
       "<Figure size 1100x300 with 3 Axes>"
      ]
     },
     "metadata": {},
     "output_type": "display_data"
    }
   ],
   "source": [
    "plotLearningGraphs(model.history.history, metric_list = ['loss', 'bias0', 'bias1'])\n"
   ]
  },
  {
   "cell_type": "code",
   "execution_count": 116,
   "id": "f48f5e15-72c5-40ff-9baa-83eaeeba5e4c",
   "metadata": {
    "tags": []
   },
   "outputs": [
    {
     "name": "stdout",
     "output_type": "stream",
     "text": [
      "log FI =  13.65\n",
      "FM =  [ 549.28 -183.6  -183.6  1597.31]\n",
      "Fractional bias =  [0. 0.]\n",
      "Constraints =  [0.04351194 0.02551595]\n"
     ]
    }
   ],
   "source": [
    "show_fm_and_bias(fisher)"
   ]
  },
  {
   "cell_type": "code",
   "execution_count": 110,
   "id": "713f31ab-c78a-48ea-b265-2d86f9335fe1",
   "metadata": {},
   "outputs": [
    {
     "name": "stdout",
     "output_type": "stream",
     "text": [
      "log FI =  13.51\n",
      "FM =  [ 379.46  137.04  137.04 1996.11]\n",
      "Fractional bias =  [0. 0.]\n",
      "Constraints =  [0.05198373 0.02266519]\n"
     ]
    }
   ],
   "source": [
    "vectorizations = [#TOPK(bdp_type = \"bd\", is_binned = True, topk = 219, num_bins = 24), \\\n",
    "                  TOPK(bdp_type = \"bd\", is_binned = True, topk = 25, num_bins = 5)]\n",
    "\n",
    "vecLayer = VectorizationLayers(vectorizations = vectorizations, pds_idx_list = [1])\n",
    "show_fm_and_bias(circle_pipeline.vectorize_and_fisher(vecLayer, MopedLayer()))"
   ]
  },
  {
   "cell_type": "code",
   "execution_count": null,
   "id": "6b974b85-cb10-4482-a002-667e96a878a5",
   "metadata": {},
   "outputs": [],
   "source": []
  }
 ],
 "metadata": {
  "kernelspec": {
   "display_name": "newEnvbkup",
   "language": "python",
   "name": "newenvbkup"
  },
  "language_info": {
   "codemirror_mode": {
    "name": "ipython",
    "version": 3
   },
   "file_extension": ".py",
   "mimetype": "text/x-python",
   "name": "python",
   "nbconvert_exporter": "python",
   "pygments_lexer": "ipython3",
   "version": "3.8.0"
  }
 },
 "nbformat": 4,
 "nbformat_minor": 5
}
