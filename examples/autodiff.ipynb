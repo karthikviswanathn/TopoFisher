{
 "cells": [
  {
   "cell_type": "code",
   "execution_count": 2,
   "id": "82922980-7f1a-4e7f-9bdc-ae5b5c14a138",
   "metadata": {},
   "outputs": [
    {
     "name": "stderr",
     "output_type": "stream",
     "text": [
      "2023-10-05 16:50:40.993256: I tensorflow/core/platform/cpu_feature_guard.cc:193] This TensorFlow binary is optimized with oneAPI Deep Neural Network Library (oneDNN) to use the following CPU instructions in performance-critical operations:  SSE4.1 SSE4.2 AVX AVX2 FMA\n",
      "To enable them in other operations, rebuild TensorFlow with the appropriate compiler flags.\n",
      "2023-10-05 16:50:49.243962: I tensorflow/core/platform/cpu_feature_guard.cc:193] This TensorFlow binary is optimized with oneAPI Deep Neural Network Library (oneDNN) to use the following CPU instructions in performance-critical operations:  SSE4.1 SSE4.2 AVX AVX2 FMA\n",
      "To enable them in other operations, rebuild TensorFlow with the appropriate compiler flags.\n"
     ]
    }
   ],
   "source": [
    "import tensorflow as tf\n",
    "import numpy as np\n",
    "import matplotlib.pyplot as plt\n",
    "import importlib\n",
    "import tqdm\n",
    "from tqdm import tqdm\n",
    "import matplotlib.colors as mcolors\n",
    "from copy import deepcopy\n",
    "from gudhi.representations import Landscape, PersistenceImage\n",
    "\n",
    "import topofisher \n",
    "from topofisher.input_simulators.noisy_ring import CircleSimulator\n",
    "\n",
    "from topofisher.filtrations.numpy.alphaDTML import AlphaDTMLayer\n",
    "from topofisher.filtrations.tensorflow.dtm_layer import DTMFiltLayer, NNFiltLayer\n",
    "from topofisher.filtrations.tensorflow.filt_utils import ExtraDimFiltLayer\n",
    "from topofisher.filtrations.visualization import visualizeFiltrations\n",
    "\n",
    "from topofisher.vectorizations.numpy.custom_vectorizations import TOPK\n",
    "from topofisher.vectorizations.numpy.vectorization_layer import VectorizationLayers\n",
    "from topofisher.vectorizations.numpy.shorthand_layers import PersistenceImages, PersistenceLandscapes\n",
    "\n",
    "from topofisher.vectorizations.tensorflow.custom_vectorizations import TOPK_TF\n",
    "from topofisher.vectorizations.tensorflow.vectorization_layer import VectorizationLayers_TF\n",
    "\n",
    "from topofisher.fisher.Fisher import show_fm_and_bias, fisherFromVecs\n",
    "from topofisher.fisher.imnn import IMNNLayer, MopedLayer, ExtraDimLayer, plot_loss\n",
    "from topofisher.fisher.plot_fisher_stats import plotContours2D, plotSummaryDerivativeHists, plot_derivative_convergence\n",
    "\n",
    "\n",
    "from topofisher.pipelines.circle import CirclePipeline\n",
    "from topofisher.pipelines.convergence_checks import fisher_estimates_wrt_step_size\n",
    "from topofisher.pipelines.utils import readFromFile, writeToFile\n",
    "\n",
    "import gudhi.representations as gdr\n",
    "import gudhi.tensorflow.perslay as prsl\n",
    "from gudhi.point_cloud.knn import KNearestNeighbors\n",
    "from topofisher.input_simulators.noisy_ring import CircleSimulator\n",
    "import gudhi"
   ]
  },
  {
   "cell_type": "markdown",
   "id": "46824c4f-6b22-41e9-806d-e4d967b2875f",
   "metadata": {
    "tags": []
   },
   "source": [
    "## Loading the data and comparing the full derivatives"
   ]
  },
  {
   "cell_type": "code",
   "execution_count": 4,
   "id": "8bfbe7b5-8c89-4a9c-a169-d3a82f88b260",
   "metadata": {},
   "outputs": [],
   "source": [
    "#pi_vec_layer = circle_pipeline.vecLayer\n",
    "\"\"\"\n",
    "\n",
    "all_vecs = []\n",
    "for pds in circle_pipeline.all_persistence_diagrams:\n",
    "    vecs = pi_vec_layer.vectorize_persistence_diagrams(pds)\n",
    "    all_vecs.append(vecs)\n",
    "\"\"\"\n",
    "res = 24\n",
    "circle_pipeline = readFromFile(\"pipeline_m_p9_ns_10K_dtheta_p01.pkl\")\n",
    "all_vecs = circle_pipeline.all_vecs\n",
    "pi_vec_layer = PersistenceImages(resolutions = [[res, res], [res, res]], bandwidths = [3e-2, 5e-2])\n",
    "for idx, vectorizations in enumerate(pi_vec_layer.vectorizations): \n",
    "    vectorizations.fit(circle_pipeline.all_persistence_diagrams[0][idx])\n"
   ]
  },
  {
   "cell_type": "markdown",
   "id": "aa1e3245-6716-49c7-aeaa-c605e86dbde2",
   "metadata": {
    "jp-MarkdownHeadingCollapsed": true,
    "tags": []
   },
   "source": [
    "### Perslay = PI?"
   ]
  },
  {
   "cell_type": "code",
   "execution_count": 5,
   "id": "eb3035a4-f165-4bd3-8296-68f24e64e4b6",
   "metadata": {},
   "outputs": [],
   "source": [
    "# Setting up perslay layer\n",
    "extents = [item.im_range_fixed_.reshape((2,2)) for item in pi_vec_layer.vectorizations]\n",
    "rho = tf.identity\n",
    "phis = [prsl.GaussianPerslayPhi((res, res), extents[0], 3e-2), \\\n",
    "        prsl.GaussianPerslayPhi((res, res), extents[1], 5e-2)]\n",
    "weights = [prsl.PowerPerslayWeight(1., 2), prsl.PowerPerslayWeight(1., 2)]\n",
    "perm_op = tf.math.reduce_sum\n",
    "perslays = [prsl.Perslay(phi=phis[0], weight=weights[0], perm_op=perm_op, rho=rho),\\\n",
    "            prsl.Perslay(phi=phis[1], weight=weights[1], perm_op=perm_op, rho=rho)]\n"
   ]
  },
  {
   "cell_type": "markdown",
   "id": "f23b6825-db18-4e96-a17a-b24afefba3a5",
   "metadata": {
    "jp-MarkdownHeadingCollapsed": true,
    "tags": []
   },
   "source": [
    "#### Test run"
   ]
  },
  {
   "cell_type": "code",
   "execution_count": 28,
   "id": "fc9188eb-7f24-482e-a0a1-6fbc4d2485a0",
   "metadata": {},
   "outputs": [],
   "source": [
    "filtLayer = DTMFiltLayer(max_hom_dim = 2, complex_args = {'complex_type':\"alpha\"}, is_ragged = True, num_nn = 198, \\\n",
    "                             data_format = 'hom_dim_first')\n",
    "theta_fid = tf.constant([1., 0.2])\n",
    "noisy_ring =  CircleSimulator(200, 20, 1.)\n",
    "all_pts = noisy_ring.generateInstances(theta_fid, num_sims, seed = circle_pipeline.seed_cov)\n",
    "y = filtLayer(all_pts)\n",
    "vecs = tf.concat([perslays[0](y[0]), perslays[1](y[1])], axis = -1)"
   ]
  },
  {
   "cell_type": "code",
   "execution_count": 38,
   "id": "7a57ea78-437d-473f-8d1e-26e84f5eacdc",
   "metadata": {},
   "outputs": [
    {
     "name": "stdout",
     "output_type": "stream",
     "text": [
      "Is Perslay = PI?\n",
      "5.7091856 0.15412219\n",
      "5.709185733176307 0.1541221082016259\n"
     ]
    }
   ],
   "source": [
    "print(\"Is Perslay = PI?\")\n",
    "ind = np.random.randint(10)\n",
    "print(np.max(vecs[ind,:,:,1].numpy()), np.mean(vecs[ind,:,:,1].numpy()))\n",
    "print(np.max(all_vecs[0][ind, :, :, 1]), np.mean(all_vecs[0][ ind, :, :, 1]))"
   ]
  },
  {
   "cell_type": "markdown",
   "id": "8aff221f-4f06-4f79-8790-4cecdb58de0e",
   "metadata": {
    "jp-MarkdownHeadingCollapsed": true,
    "tags": []
   },
   "source": [
    "### Plotting average derivative"
   ]
  },
  {
   "cell_type": "code",
   "execution_count": 71,
   "id": "d1a936eb-f20e-4700-8cce-93355bda6853",
   "metadata": {},
   "outputs": [],
   "source": [
    "def test_run(num_sims):\n",
    "    filtLayer = DTMFiltLayer(max_hom_dim = 2, complex_args = {'complex_type':\"alpha\"}, is_ragged = True, num_nn = 198, \\\n",
    "                             data_format = 'hom_dim_first')\n",
    "    theta_fid = tf.constant([1., 0.2])\n",
    "    A = tf.eye(2)\n",
    "    sims = []\n",
    "    derivs = []\n",
    "    for item in A:\n",
    "        with tf.autodiff.ForwardAccumulator(theta_fid , tf.constant(item)) as acc:\n",
    "            noisy_ring =  CircleSimulator(200, 20, 1.)\n",
    "            all_pts = noisy_ring.generateInstances(theta_fid, num_sims, seed = circle_pipeline.seed_cov)\n",
    "            y = filtLayer(all_pts)\n",
    "            vecs = [[],[]]\n",
    "            for hom_dim in [0,1]:\n",
    "                for diags in y[hom_dim]:\n",
    "                    \n",
    "                    op = perslays[hom_dim](tf.expand_dims(diags, 0))\n",
    "                    vecs[hom_dim].append(tf.squeeze(op, [0, -1]))\n",
    "            \n",
    "            \n",
    "        sims.append(vecs)\n",
    "        derivs.append(acc.jvp(vecs))\n",
    "    # return tf.stack(sims), tf.stack(derivs)\n",
    "    return tf.stack(sims), tf.stack(derivs)\n",
    "\n",
    "num_sims = 1000\n",
    "sims, derivs = test_run(num_sims)"
   ]
  },
  {
   "cell_type": "code",
   "execution_count": 72,
   "id": "e9cd50e2-7b38-4e71-b0e2-939b80188876",
   "metadata": {},
   "outputs": [
    {
     "data": {
      "text/plain": [
       "(TensorShape([2, 2, 1000, 24, 24]), TensorShape([2, 2, 1000, 24, 24]))"
      ]
     },
     "execution_count": 72,
     "metadata": {},
     "output_type": "execute_result"
    }
   ],
   "source": [
    "sims.shape, derivs.shape"
   ]
  },
  {
   "cell_type": "code",
   "execution_count": 73,
   "id": "c35b41ad-d206-4a22-8f88-ea2a7072ed27",
   "metadata": {},
   "outputs": [
    {
     "data": {
      "image/png": "[encoded data removed]",
      "text/plain": [
       "<Figure size 800x700 with 8 Axes>"
      ]
     },
     "metadata": {},
     "output_type": "display_data"
    }
   ],
   "source": [
    "ncols = 2; nrows = 2;\n",
    "ind = np.random.randint(num_sims)\n",
    "fig, axes = plt.subplots(nrows = 2, ncols= ncols, figsize=(3 * ncols + 2 , 3 * nrows + 1))\n",
    "vmax = [400, 50]\n",
    "\n",
    "for hom_dim in range(2):\n",
    "    for theta_dim in range(2):\n",
    "        ax = axes[hom_dim][theta_dim]\n",
    "        ax.set_title(\"$\\partial_\" + str(theta_dim) + \"V^\" + str(hom_dim) + \"$\")\n",
    "        arr = tf.math.reduce_mean(derivs[theta_dim, hom_dim, :, :, :], axis = 0)\n",
    "        vmax = np.max(np.abs(arr))\n",
    "        # im = ax.imshow(np.flip(arr.numpy(), 0),  cmap = 'bwr')\n",
    "        im = ax.imshow(np.flip(arr.numpy(), 0), vmax = vmax, vmin = -vmax, cmap = 'bwr')\n",
    "        cbar = ax.figure.colorbar(im, ax=ax)\n",
    "plt.tight_layout()\n",
    "plt.show()"
   ]
  },
  {
   "cell_type": "markdown",
   "id": "ab11547b-ab15-40bc-b8cd-d587abce88be",
   "metadata": {
    "jp-MarkdownHeadingCollapsed": true,
    "tags": []
   },
   "source": [
    "### Difference between numerical derivative and auto derivative"
   ]
  },
  {
   "cell_type": "code",
   "execution_count": 137,
   "id": "8db15f84-9906-4556-8949-a277952dd150",
   "metadata": {},
   "outputs": [],
   "source": [
    "def test_run(num_sims):\n",
    "    filtLayer = DTMFiltLayer(max_hom_dim = 2, complex_args = {'complex_type':\"alpha\"}, is_ragged = True, num_nn = 198, \\\n",
    "                             data_format = 'hom_dim_first')\n",
    "    theta_fid = tf.constant([1., 0.2])\n",
    "    A = tf.eye(2)\n",
    "    sims = []\n",
    "    derivs = []\n",
    "    for idx, item in enumerate(A):\n",
    "        with tf.autodiff.ForwardAccumulator(theta_fid , tf.constant(item)) as acc:\n",
    "            noisy_ring =  CircleSimulator(200, 20, 1.)\n",
    "            all_pts = noisy_ring.generateInstances(theta_fid, num_sims, seed = circle_pipeline.seed_ders[idx])\n",
    "            #plt.scatter(all_pts[0, :10, 0], all_pts[0, :10, 1])\n",
    "            # plt.scatter(circle_pipeline.all_pts[2*idx + 1][0, :10, 0], circle_pipeline.all_pts[2*idx + 1][0, :10, 1])\n",
    "            \n",
    "            #plt.scatter(circle_pipeline.all_pts[2*idx + 2][0, :10, 0], circle_pipeline.all_pts[2*idx + 2][0, :10, 1], alpha = 0.5)\n",
    "            #plt.show()\n",
    "            y = filtLayer(all_pts)\n",
    "            vecs = [[],[]]\n",
    "            for hom_dim in [0,1]:\n",
    "                for diags in y[hom_dim]:\n",
    "                    \n",
    "                    op = perslays[hom_dim](tf.expand_dims(diags, 0))\n",
    "                    vecs[hom_dim].append(tf.squeeze(op, [0, -1]))\n",
    "            \n",
    "            \n",
    "        sims.append(vecs)\n",
    "        derivs.append(acc.jvp(vecs))\n",
    "    # return tf.stack(sims), tf.stack(derivs)\n",
    "    return tf.stack(sims), tf.stack(derivs)\n",
    "\n",
    "num_sims = 100\n",
    "sims, derivs = test_run(num_sims)"
   ]
  },
  {
   "cell_type": "code",
   "execution_count": 138,
   "id": "b82ed05d-1e00-4f4a-8385-4b0f7a4f8b3a",
   "metadata": {},
   "outputs": [],
   "source": [
    "delta_theta = circle_pipeline.delta_theta\n",
    "der_vecs = tf.stack(all_vecs[1:])\n",
    "delta_theta_cast = tf.cast(delta_theta[:, tf.newaxis, tf.newaxis, tf.newaxis, tf.newaxis], \\\n",
    "                               der_vecs.dtype)\n",
    "numerical_derivatives = (der_vecs[1::2] - der_vecs[::2])/delta_theta_cast\n",
    "numerical_derivatives = tf.einsum(\"i...j->ij...\", numerical_derivatives)"
   ]
  },
  {
   "cell_type": "code",
   "execution_count": 139,
   "id": "c1e7e9aa-e1b9-497a-b6da-6f7c33b77c12",
   "metadata": {},
   "outputs": [
    {
     "data": {
      "image/png": "[encoded data removed]",
      "text/plain": [
       "<Figure size 800x700 with 8 Axes>"
      ]
     },
     "metadata": {},
     "output_type": "display_data"
    }
   ],
   "source": [
    "ncols = 2; nrows = 2;\n",
    "ind = np.random.randint(num_sims)\n",
    "fig, axes = plt.subplots(nrows = 2, ncols= ncols, figsize=(3 * ncols + 2 , 3 * nrows + 1))\n",
    "vmax = [400, 50]\n",
    "ind = np.random.randint(num_sims)\n",
    "for hom_dim in range(2):\n",
    "    for theta_dim in range(2):\n",
    "        ax = axes[hom_dim][theta_dim]\n",
    "        ax.set_title(\"$\\partial_\" + str(theta_dim) + \"V^\" + str(hom_dim) + \"$\")\n",
    "        arr = sims[theta_dim, hom_dim, ind, :, :] -  \\\n",
    "            tf.cast(all_vecs[theta_dim][ind, :, :, hom_dim], sims.dtype)\n",
    "        vmax = np.max(np.abs(arr))\n",
    "        # im = ax.imshow(np.flip(arr.numpy(), 0),  cmap = 'bwr')\n",
    "        im = ax.imshow(np.flip(arr.numpy(), 0), vmax = vmax, vmin = -vmax, cmap = 'bwr')\n",
    "        cbar = ax.figure.colorbar(im, ax=ax)\n",
    "\n",
    "fig.suptitle(\"Difference in ND and AD for ind = \" + str(ind))\n",
    "plt.tight_layout()\n",
    "plt.show()"
   ]
  },
  {
   "cell_type": "code",
   "execution_count": null,
   "id": "1f906b35-914d-4644-b671-1db60909950e",
   "metadata": {},
   "outputs": [],
   "source": [
    "ncols = 2; nrows = 2;\n",
    "ind = np.random.randint(num_sims)\n",
    "fig, axes = plt.subplots(nrows = 2, ncols= ncols, figsize=(3 * ncols + 2 , 3 * nrows + 1))\n",
    "vmax = [400, 50]\n",
    "\n",
    "for hom_dim in range(2):\n",
    "    for theta_dim in range(2):\n",
    "        ax = axes[hom_dim][theta_dim]\n",
    "        ax.set_title(\"$\\partial_\" + str(theta_dim) + \"V^\" + str(hom_dim) + \"$\")\n",
    "        arr = tf.math.reduce_mean(derivs[theta_dim, hom_dim, :, :, :], axis = 0) - \\\n",
    "                tf.cast(tf.math.reduce_mean(numerical_derivatives[theta_dim, hom_dim, :num_sims, :, :], axis = 0), derivs.dtype)\n",
    "        vmax = np.max(np.abs(arr))\n",
    "        # im = ax.imshow(np.flip(arr.numpy(), 0),  cmap = 'bwr')\n",
    "        im = ax.imshow(np.flip(arr.numpy(), 0), vmax = vmax, vmin = -vmax, cmap = 'bwr')\n",
    "        cbar = ax.figure.colorbar(im, ax=ax)\n",
    "fig.suptitle(\"Mean Difference in ND and AD for num_sims = \" + str(num_sims))\n",
    "plt.tight_layout()\n",
    "plt.show()"
   ]
  },
  {
   "cell_type": "markdown",
   "id": "906cc464-229b-4125-98a7-6529ef25e765",
   "metadata": {},
   "source": [
    "## Comparing compressed derivative - AD and ND"
   ]
  },
  {
   "cell_type": "markdown",
   "id": "c944839d-b103-4b20-85f6-ed46951c3972",
   "metadata": {
    "tags": []
   },
   "source": [
    "### Training IMNN"
   ]
  },
  {
   "cell_type": "code",
   "execution_count": 366,
   "id": "fbf3b125-60ed-4efb-9f7c-e8cc371e2146",
   "metadata": {},
   "outputs": [],
   "source": [
    "import topofisher\n",
    "importlib.reload(topofisher)\n",
    "importlib.reload(topofisher.fisher.Fisher)\n",
    "importlib.reload(topofisher.fisher.imnn)\n",
    "importlib.reload(topofisher.filtrations.tensorflow.flag_layer)\n",
    "importlib.reload(topofisher.filtrations.tensorflow.dtm_layer)\n",
    "from topofisher.filtrations.tensorflow.dtm_layer import DTMFiltLayer, NNFiltLayer\n",
    "from topofisher.fisher.Fisher import show_fm_and_bias, fisherMOPED, fisherFromVecs\n",
    "from topofisher.fisher.imnn import IMNNLayer, MopedLayer, ExtraDimLayer, plot_loss, FisherLayer\n",
    "from topofisher.fisher.plot_fisher_stats import plotContours2D, plotSummaryDerivativeHists, plot_derivative_convergence"
   ]
  },
  {
   "cell_type": "code",
   "execution_count": null,
   "id": "5a17735d-c6f4-4789-9987-0983a81abb20",
   "metadata": {},
   "outputs": [],
   "source": [
    "conv1 = tf.keras.layers.Conv2D(8, (3,3), padding='same', activation = \"relu\", input_shape=(res, res, 2))\n",
    "mp1 = tf.keras.layers.MaxPooling2D((2, 2), strides=2)\n",
    "dense1 = tf.keras.layers.Dense(12, activation=\"relu\")\n",
    "dense2 = tf.keras.layers.Dense(2)\n",
    "model = tf.keras.Sequential(\n",
    "    [\n",
    "        ExtraDimLayer(conv1),\n",
    "        ExtraDimLayer(mp1),\n",
    "        ExtraDimLayer(tf.keras.layers.Flatten()),\n",
    "        dense1,\n",
    "        dense2\n",
    "    ]\n",
    ")\n",
    "\n",
    "pi_imnn_layer = IMNNLayer(model, verbose = 1, epochs = 15, data_splits = [0.4, 0.2, 0.4], \\\n",
    "                           callbacks = [tf.keras.callbacks.EarlyStopping(patience = 3)], show_bias = True)\n",
    "\n",
    "fisher = pi_imnn_layer.computeFisher(all_vecs, circle_pipeline.delta_theta)"
   ]
  },
  {
   "cell_type": "code",
   "execution_count": 318,
   "id": "12a6111d-9293-404f-9e79-911a0669598b",
   "metadata": {},
   "outputs": [
    {
     "name": "stdout",
     "output_type": "stream",
     "text": [
      "FM =  [3585.43  177.9   177.9  4190.5 ]\n",
      "Fractional bias =  [0.19 0.26]\n"
     ]
    }
   ],
   "source": [
    "show_fm_and_bias(fisher)"
   ]
  },
  {
   "cell_type": "code",
   "execution_count": 386,
   "id": "c2f2d560-46bc-4c26-93f6-8e6ca47361aa",
   "metadata": {},
   "outputs": [
    {
     "name": "stderr",
     "output_type": "stream",
     "text": [
      "2023-10-09 00:08:26.693406: W tensorflow/core/grappler/optimizers/loop_optimizer.cc:907] Skipping loop optimization for Merge node with control input: StatefulPartitionedCall/RaggedGather_1/RowPartitionFromUniformRowLength_4/assert_equal_1/Assert/AssertGuard/branch_executed/_341\n",
      "2023-10-09 00:08:27.140351: W tensorflow/core/grappler/optimizers/loop_optimizer.cc:907] Skipping loop optimization for Merge node with control input: StatefulPartitionedCall/RaggedFromRowLengths/RowPartitionFromRowLengths/assert_non_negative/assert_less_equal/Assert/AssertGuard/branch_executed/_221\n",
      "2023-10-09 00:08:29.641389: W tensorflow/core/grappler/optimizers/loop_optimizer.cc:907] Skipping loop optimization for Merge node with control input: StatefulPartitionedCall/RaggedGather/RowPartitionFromRowSplits/assert_equal_1/Assert/AssertGuard/branch_executed/_250\n",
      "2023-10-09 00:08:30.068567: W tensorflow/core/grappler/optimizers/loop_optimizer.cc:907] Skipping loop optimization for Merge node with control input: StatefulPartitionedCall/RaggedGather/RowPartitionFromUniformRowLength_3/assert_equal_1/Assert/AssertGuard/branch_executed/_270\n"
     ]
    }
   ],
   "source": [
    "new_model = tf.keras.Sequential(\n",
    "    [\n",
    "        conv1,\n",
    "        mp1,\n",
    "        tf.keras.layers.Flatten(),\n",
    "        dense1,\n",
    "        dense2\n",
    "    ]\n",
    ")\n",
    "def test_run(num_sims):\n",
    "    filtLayer = DTMFiltLayer(max_hom_dim = 2, complex_args = {'complex_type':\"alpha\"}, is_ragged = False, num_nn = 198, \\\n",
    "                             data_format = 'hom_dim_first', batched_gather = True)\n",
    "    theta_fid = tf.constant([1., 0.2])\n",
    "    A = tf.eye(2)\n",
    "    sims = []\n",
    "    derivs = []\n",
    "    for idx, item in enumerate(A):\n",
    "        with tf.autodiff.ForwardAccumulator(theta_fid , tf.constant(item)) as acc:\n",
    "            noisy_ring =  CircleSimulator(200, 20, 1.)\n",
    "            all_pts = noisy_ring.generateInstances(theta_fid, num_sims, seed = circle_pipeline.seed_ders[idx])\n",
    "            #plt.scatter(all_pts[0, :10, 0], all_pts[0, :10, 1])\n",
    "            # plt.scatter(circle_pipeline.all_pts[2*idx + 1][0, :10, 0], circle_pipeline.all_pts[2*idx + 1][0, :10, 1])\n",
    "            \n",
    "            #plt.scatter(circle_pipeline.all_pts[2*idx + 2][0, :10, 0], circle_pipeline.all_pts[2*idx + 2][0, :10, 1], alpha = 0.5)\n",
    "            #plt.show()\n",
    "            y = filtLayer(all_pts)\n",
    "            op0 = perslays[0](y[0]); op1 = perslays[1](y[1])\n",
    "            op = [op0, op1]\n",
    "        sims.append(op)\n",
    "        derivs.append(acc.jvp(op))\n",
    "    return tf.stack(sims), derivs\n",
    "    # return tf.stack(sims)\n",
    "num_sims = 10\n",
    "sims, derivs = test_run(num_sims)"
   ]
  },
  {
   "cell_type": "code",
   "execution_count": 391,
   "id": "14fbc822-2658-4a30-b0ea-cc662faf7b68",
   "metadata": {},
   "outputs": [
    {
     "data": {
      "text/plain": [
       "(2190, 24, 24, 1)"
      ]
     },
     "execution_count": 391,
     "metadata": {},
     "output_type": "execute_result"
    }
   ],
   "source": [
    "derivs[0][0].values.numpy().shape"
   ]
  },
  {
   "cell_type": "markdown",
   "id": "fc31e074-43df-46ed-8ca2-1fe8613b3c6f",
   "metadata": {
    "tags": []
   },
   "source": [
    "### Getting the AD derivative"
   ]
  },
  {
   "cell_type": "code",
   "execution_count": 371,
   "id": "b0d561f9-a5f8-4610-8f33-b58cbfd31bda",
   "metadata": {},
   "outputs": [],
   "source": [
    "new_model = tf.keras.Sequential(\n",
    "    [\n",
    "        conv1,\n",
    "        mp1,\n",
    "        tf.keras.layers.Flatten(),\n",
    "        dense1,\n",
    "        dense2\n",
    "    ]\n",
    ")\n",
    "def test_run(num_sims):\n",
    "    filtLayer = DTMFiltLayer(max_hom_dim = 2, complex_args = {'complex_type':\"alpha\"}, is_ragged = True, num_nn = 198, \\\n",
    "                             data_format = 'hom_dim_first')\n",
    "    theta_fid = tf.constant([1., 0.2])\n",
    "    A = tf.eye(2)\n",
    "    sims = []\n",
    "    derivs = []\n",
    "    for idx, item in enumerate(A):\n",
    "        with tf.autodiff.ForwardAccumulator(theta_fid , tf.constant(item)) as acc:\n",
    "            noisy_ring =  CircleSimulator(200, 20, 1.)\n",
    "            all_pts = noisy_ring.generateInstances(theta_fid, num_sims, seed = circle_pipeline.seed_ders[idx])\n",
    "            #plt.scatter(all_pts[0, :10, 0], all_pts[0, :10, 1])\n",
    "            # plt.scatter(circle_pipeline.all_pts[2*idx + 1][0, :10, 0], circle_pipeline.all_pts[2*idx + 1][0, :10, 1])\n",
    "            \n",
    "            #plt.scatter(circle_pipeline.all_pts[2*idx + 2][0, :10, 0], circle_pipeline.all_pts[2*idx + 2][0, :10, 1], alpha = 0.5)\n",
    "            #plt.show()\n",
    "            y = filtLayer(all_pts)\n",
    "            # vecs = [perslays[idx](y[idx]) for idx in range(2)]\n",
    "            vecs = [[],[]]\n",
    "            for hom_dim in [0,1]:\n",
    "                for diags in y[hom_dim]:\n",
    "                    op = perslays[hom_dim](tf.expand_dims(diags, 0))\n",
    "                    vecs[hom_dim].append(tf.squeeze(op, [0, -1]))\n",
    "                vecs[hom_dim] = tf.stack(vecs[hom_dim])\n",
    "            # print([item.shape for item in vecs])\n",
    "            # vecs_stack = tf.concat(vecs, -1)\n",
    "            op = vecs\n",
    "            # op = new_model(vecs_stack)\n",
    "        sims.append(op)\n",
    "        derivs.append(acc.jvp(op))\n",
    "    return tf.stack(sims), tf.stack(derivs)\n",
    "    # return tf.stack(sims)"
   ]
  },
  {
   "cell_type": "code",
   "execution_count": 373,
   "id": "5c219fa6-49be-45c8-b4f7-99bfe701f2fc",
   "metadata": {},
   "outputs": [
    {
     "name": "stderr",
     "output_type": "stream",
     "text": [
      "2023-10-08 23:36:17.378467: W tensorflow/core/grappler/optimizers/loop_optimizer.cc:907] Skipping loop optimization for Merge node with control input: StatefulPartitionedCall/RaggedGather_1/RowPartitionFromRowSplits/assert_non_negative/assert_less_equal/Assert/AssertGuard/branch_executed/_409\n",
      "2023-10-08 23:36:19.563153: W tensorflow/core/grappler/optimizers/loop_optimizer.cc:907] Skipping loop optimization for Merge node with control input: StatefulPartitionedCall/RaggedGather_1/RowPartitionFromUniformRowLength_4/assert_equal_1/Assert/AssertGuard/branch_executed/_431\n",
      "2023-10-08 23:36:31.313019: W tensorflow/core/grappler/optimizers/loop_optimizer.cc:907] Skipping loop optimization for Merge node with control input: StatefulPartitionedCall/RaggedGather_1/RowPartitionFromRowSplits/assert_non_negative/assert_less_equal/Assert/AssertGuard/branch_executed/_409\n",
      "2023-10-08 23:36:33.673040: W tensorflow/core/grappler/optimizers/loop_optimizer.cc:907] Skipping loop optimization for Merge node with control input: StatefulPartitionedCall/RowPartitionFromRowLengths/assert_non_negative/assert_less_equal/Assert/AssertGuard/branch_executed/_450\n"
     ]
    },
    {
     "name": "stdout",
     "output_type": "stream",
     "text": [
      "29.8 s ± 0 ns per loop (mean ± std. dev. of 1 run, 1 loop each)\n"
     ]
    }
   ],
   "source": [
    "num_sims = 100\n",
    "%timeit -n 1 -r 1 sims, derivs = test_run(num_sims)"
   ]
  },
  {
   "cell_type": "code",
   "execution_count": 360,
   "id": "3e05eaa2-9ffd-495c-8263-001fe41b84bd",
   "metadata": {},
   "outputs": [
    {
     "data": {
      "text/plain": [
       "(<tf.Tensor: shape=(2, 2), dtype=float32, numpy=\n",
       " array([[-349.47964, -188.43465],\n",
       "        [ 275.04184,   77.96884]], dtype=float32)>,\n",
       " <tf.Tensor: shape=(2, 2), dtype=float32, numpy=\n",
       " array([[-394.04706 , -203.2938  ],\n",
       "        [ 255.56152 ,   53.211506]], dtype=float32)>)"
      ]
     },
     "execution_count": 360,
     "metadata": {},
     "output_type": "execute_result"
    }
   ],
   "source": [
    "derivs_mean, tf.transpose(jacobian)"
   ]
  },
  {
   "cell_type": "code",
   "execution_count": 354,
   "id": "d757ba50-8d60-4796-8aab-ad01e248f335",
   "metadata": {},
   "outputs": [
    {
     "name": "stderr",
     "output_type": "stream",
     "text": [
      "2023-10-08 17:41:31.617409: W tensorflow/core/grappler/optimizers/loop_optimizer.cc:907] Skipping loop optimization for Merge node with control input: StatefulPartitionedCall/RaggedGather/RowPartitionFromRowLengths/assert_non_negative/assert_less_equal/Assert/AssertGuard/branch_executed/_330\n",
      "2023-10-08 17:41:32.170747: W tensorflow/core/grappler/optimizers/loop_optimizer.cc:907] Skipping loop optimization for Merge node with control input: StatefulPartitionedCall/RaggedGather_1/RowPartitionFromUniformRowLength_4/assert_equal_1/Assert/AssertGuard/branch_executed/_431\n",
      "2023-10-08 17:41:43.985259: W tensorflow/core/grappler/optimizers/loop_optimizer.cc:907] Skipping loop optimization for Merge node with control input: StatefulPartitionedCall/RaggedGather_1/RowPartitionFromRowSplits/assert_equal_1/Assert/AssertGuard/branch_executed/_400\n",
      "2023-10-08 17:41:44.527995: W tensorflow/core/grappler/optimizers/loop_optimizer.cc:907] Skipping loop optimization for Merge node with control input: StatefulPartitionedCall/RowPartitionFromRowLengths/assert_non_negative/assert_less_equal/Assert/AssertGuard/branch_executed/_450\n"
     ]
    }
   ],
   "source": [
    "num_sims = 100\n",
    "sims, derivs = test_run(num_sims)\n",
    "derivs_mean = tf.math.reduce_mean(derivs, axis = 1)"
   ]
  },
  {
   "cell_type": "code",
   "execution_count": 128,
   "id": "6e59bd02-b6c6-4a29-a6fc-447134112954",
   "metadata": {},
   "outputs": [],
   "source": [
    "fisher_ad = topofisher.fisher.Fisher.baseFisher(tf.einsum(\"ij...->ji...\", compressed_vecs)[0][-4000:, :], \\\n",
    "                                                derivs[:, -4000:, :])"
   ]
  },
  {
   "cell_type": "code",
   "execution_count": 129,
   "id": "75ea8f39-e5d1-42a5-9164-dd3d2c5cd3cf",
   "metadata": {},
   "outputs": [
    {
     "name": "stdout",
     "output_type": "stream",
     "text": [
      "FM =  [3181.65   50.55   50.55 3886.95]\n",
      "Fractional bias =  [0.25 0.2 ]\n"
     ]
    }
   ],
   "source": [
    "show_fm_and_bias(fisher_ad)"
   ]
  },
  {
   "cell_type": "code",
   "execution_count": 108,
   "id": "fb92c937-7157-4371-b0d2-b28d1faa6a25",
   "metadata": {},
   "outputs": [],
   "source": [
    "all_vecs = tf.stack(all_vecs)"
   ]
  },
  {
   "cell_type": "code",
   "execution_count": 131,
   "id": "84d602dc-0fd3-45df-84d7-36066b74f978",
   "metadata": {},
   "outputs": [
    {
     "data": {
      "image/png": "[encoded data removed]",
      "text/plain": [
       "<Figure size 500x300 with 2 Axes>"
      ]
     },
     "metadata": {},
     "output_type": "display_data"
    },
    {
     "data": {
      "image/png": "[encoded data removed]",
      "text/plain": [
       "<Figure size 1000x300 with 4 Axes>"
      ]
     },
     "metadata": {},
     "output_type": "display_data"
    }
   ],
   "source": [
    "fisher_ad.summaries = [fisher_ad.vecs_cov]\n",
    "plotSummaryDerivativeHists(fisher_ad)"
   ]
  },
  {
   "cell_type": "code",
   "execution_count": 138,
   "id": "9c17c55e-6319-4703-ac09-c58e0432c2a3",
   "metadata": {},
   "outputs": [
    {
     "name": "stdout",
     "output_type": "stream",
     "text": [
      "FM =  [3180.84   58.31   58.31 3958.88]\n",
      "Fractional bias =  [0.22 0.21]\n"
     ]
    }
   ],
   "source": [
    "compressed_vecs = model(tf.einsum(\"ij...->ji...\", all_vecs))[-4000:]\n",
    "fisher_old = fisherFromVecs(tf.einsum(\"ij...->ji...\", compressed_vecs), circle_pipeline.delta_theta)\n",
    "show_fm_and_bias(fisher_old)"
   ]
  },
  {
   "cell_type": "code",
   "execution_count": 136,
   "id": "a55b64fd-4b38-4454-ba42-b4a3db281b0b",
   "metadata": {},
   "outputs": [
    {
     "data": {
      "text/plain": [
       "<tf.Tensor: shape=(2, 2), dtype=float32, numpy=\n",
       "array([[1.221967  , 0.06025622],\n",
       "       [0.09800047, 0.57254094]], dtype=float32)>"
      ]
     },
     "execution_count": 136,
     "metadata": {},
     "output_type": "execute_result"
    }
   ],
   "source": [
    "tf.math.reduce_mean(tf.math.abs((derivs - fisher_old.derivatives[:, :num_sims, :])/derivs), axis = 1)"
   ]
  },
  {
   "cell_type": "markdown",
   "id": "70e311c4-9482-413c-a5df-580282793037",
   "metadata": {
    "tags": []
   },
   "source": [
    "### Trying back propagation"
   ]
  },
  {
   "cell_type": "code",
   "execution_count": 347,
   "id": "7ad93b11-fc42-47c4-90a8-861317ed5c78",
   "metadata": {},
   "outputs": [
    {
     "name": "stderr",
     "output_type": "stream",
     "text": [
      "2023-10-08 17:29:06.790939: W tensorflow/core/grappler/optimizers/loop_optimizer.cc:907] Skipping loop optimization for Merge node with control input: RowPartitionFromRowLengths_1/assert_non_negative/assert_less_equal/Assert/AssertGuard/branch_executed/_156\n",
      "2023-10-08 17:29:13.283325: W tensorflow/core/grappler/optimizers/loop_optimizer.cc:907] Skipping loop optimization for Merge node with control input: RaggedGather_1/RowPartitionFromRowSplits/assert_non_negative/assert_less_equal/Assert/AssertGuard/branch_executed/_106\n"
     ]
    }
   ],
   "source": [
    "importlib.reload(topofisher.filtrations.tensorflow.flag_layer)\n",
    "importlib.reload(topofisher.filtrations.tensorflow.dtm_layer)\n",
    "from topofisher.filtrations.tensorflow.dtm_layer import DTMFiltLayer, NNFiltLayer\n",
    "def test_run_bp(num_sims):\n",
    "    filtLayer = DTMFiltLayer(max_hom_dim = 2, complex_args = {'complex_type':\"alpha\"}, is_ragged = True, num_nn = 198, \\\n",
    "                             data_format = 'hom_dim_first', batched_gather = True)\n",
    "    theta_fid = tf.constant([1., 0.2])\n",
    "    with tf.GradientTape(persistent=True, watch_accessed_variables = False) as tape:\n",
    "        tape.watch(theta_fid)\n",
    "        noisy_ring =  CircleSimulator(200, 20, 1.)\n",
    "        all_pts = noisy_ring.generateInstances(theta_fid, num_sims, seed = circle_pipeline.seed_cov)\n",
    "        y = filtLayer(all_pts)\n",
    "        vecs = tf.concat([perslays[0](y[0]), perslays[1](y[1])], axis = -1)\n",
    "        \"\"\"\n",
    "        vecs = [[],[]]\n",
    "        for hom_dim in [0,1]:\n",
    "            for diags in y[hom_dim]:\n",
    "                op = perslays[hom_dim](tf.expand_dims(diags, 0))\n",
    "                vecs[hom_dim].append(tf.squeeze(op, [0, -1]))\n",
    "            vecs[hom_dim] = tf.stack(vecs[hom_dim])\n",
    "        vecs_stack = tf.stack(vecs, -1)\n",
    "        \"\"\"\n",
    "        op = new_model(vecs)\n",
    "        summary_mean = tf.math.reduce_mean(op, axis = 0) \n",
    "\n",
    "    jacobian = tape.jacobian(summary_mean, theta_fid)\n",
    "    return op, jacobian\n",
    "num_sims = 1000\n",
    "op, jacobian = test_run_bp(num_sims)"
   ]
  },
  {
   "cell_type": "code",
   "execution_count": 345,
   "id": "9cf353f5-f857-4e35-8568-9d9a1ed3fe7c",
   "metadata": {},
   "outputs": [
    {
     "data": {
      "text/plain": [
       "<tf.Tensor: shape=(2, 2), dtype=float32, numpy=\n",
       "array([[-336.18396,  281.9486 ],\n",
       "       [-217.87569,  108.7436 ]], dtype=float32)>"
      ]
     },
     "execution_count": 345,
     "metadata": {},
     "output_type": "execute_result"
    }
   ],
   "source": [
    "jacobian"
   ]
  },
  {
   "cell_type": "code",
   "execution_count": 348,
   "id": "f452ddc9-88cb-461f-a1ec-81853de68d1d",
   "metadata": {},
   "outputs": [
    {
     "data": {
      "text/plain": [
       "<tf.Tensor: shape=(2, 2), dtype=float32, numpy=\n",
       "array([[-394.04706 ,  255.56152 ],\n",
       "       [-203.2938  ,   53.211506]], dtype=float32)>"
      ]
     },
     "execution_count": 348,
     "metadata": {},
     "output_type": "execute_result"
    }
   ],
   "source": [
    "jacobian"
   ]
  },
  {
   "cell_type": "code",
   "execution_count": 346,
   "id": "10662900-46bc-4584-9948-2414c7ce8385",
   "metadata": {},
   "outputs": [
    {
     "data": {
      "text/plain": [
       "<tf.Tensor: shape=(2, 2), dtype=float32, numpy=\n",
       "array([[-253.58311 ,  166.99115 ],\n",
       "       [ -73.077156, -198.84041 ]], dtype=float32)>"
      ]
     },
     "execution_count": 346,
     "metadata": {},
     "output_type": "execute_result"
    }
   ],
   "source": [
    "fisher.ders"
   ]
  },
  {
   "cell_type": "markdown",
   "id": "b960ec9f-6c4b-43cd-b4a1-d99782d8e46d",
   "metadata": {
    "tags": []
   },
   "source": [
    "## TOPK"
   ]
  },
  {
   "cell_type": "markdown",
   "id": "53c1328d-e00a-4325-94ff-82ceb159c835",
   "metadata": {
    "tags": []
   },
   "source": [
    "### Finding the MOPED matrix"
   ]
  },
  {
   "cell_type": "code",
   "execution_count": 11,
   "id": "57fcbdc1-985a-474d-b56a-96dfe73198cf",
   "metadata": {},
   "outputs": [],
   "source": [
    "class TOPK_TFL(tf.keras.layers.Layer):\n",
    "    \"\"\"\n",
    "    Calculate top-k vectors from persistence diagrams.\n",
    "    \"\"\"\n",
    "    def __init__(self, bdp_type, is_binned, topk=np.nan, reduce_frac=0.9, \n",
    "                  num_bins=np.nan, pad_value=0., **kwargs):\n",
    "        \"\"\"\n",
    "        Initialize the TOPK class.\n",
    "\n",
    "        Parameters:\n",
    "            bdp_type (str): Types of persistence values to include\n",
    "            (e.g., 'bdp' stands for birth, death and persistence).\n",
    "            is_binned (bool): Whether to bin the values.\n",
    "            topk (int, optional): The top-k value. Defaults to np.nan.\n",
    "            reduce_frac (float, optional): The reduction fraction for \n",
    "            calculating top-k. Defaults to 0.9.\n",
    "            num_bins (int, optional): The number of bins. Defaults to np.nan.\n",
    "            pad_value (float, optional): The value used for padding.\n",
    "                                         Defaults to 0.\n",
    "        \"\"\"\n",
    "        tf.keras.layers.Layer.__init__(self, **kwargs)\n",
    "        self.bdp_type = bdp_type\n",
    "        self.is_binned = is_binned\n",
    "        self.topk = topk\n",
    "        self.reduce_frac = reduce_frac\n",
    "        self.num_bins = num_bins\n",
    "        self.pad_value = pad_value\n",
    "        self._check_parameters()\n",
    "        \n",
    "    def _check_parameters(self):\n",
    "        if(self.bdp_type not in [\"b\", \"d\", \"p\", \"bd\", \"bp\", \"dp\", \"bdp\"]):\n",
    "            raise ValueError(\"Check bdp_tpye. Incorrect results are possible.\")\n",
    "        if(self.is_binned and self.num_bins == np.nan):\n",
    "            raise ValueError(\"How many bins? Check inputs.\")\n",
    "            \n",
    "    def _fit_topk_from_pds(self, inputs):\n",
    "        self.topk = int(self.reduce_frac * np.min([item.shape[0] \\\n",
    "                                                  for item in inputs.numpy()]))\n",
    "    def _choose_topk(self, ragged_tensor):\n",
    "        # tens = ragged_tensor.to_tensor(default_value = -np.inf)\n",
    "        tens = ragged_tensor\n",
    "        value, indices = tf.math.top_k(tens, self.topk)\n",
    "        return tf.gather(ragged_tensor, indices, batch_dims = -1)\n",
    "\n",
    "    def _bin_tensor(self, tensor):\n",
    "        binx = self.num_bins\n",
    "        div = self.topk // binx * binx\n",
    "        arr = tf.reshape(tensor[:, :div], (tensor.shape[0], binx, \\\n",
    "                                           self.topk // binx))\n",
    "        return tf.math.reduce_sum(arr, axis = -1)\n",
    "    \n",
    "    def call(self, inputs):\n",
    "        if(np.isnan(self.topk)) : self._fit_topk_from_pds(inputs)\n",
    "        birth, death = inputs[:, :, 0], inputs[:, :, 1]\n",
    "        pers = death - birth\n",
    "        topk_bdp = [self._choose_topk(item) for item in [birth, death, pers]]\n",
    "        \n",
    "        bdp_dic = {}\n",
    "        for typ, arr in zip([\"b\", \"d\", \"p\"], topk_bdp):\n",
    "            bdp_dic[typ] = arr\n",
    "            \n",
    "        topk_vecs = []\n",
    "        # Fetching some or all of \"bdp\" from the bdp_dic.  \n",
    "        for letter in self.bdp_type:\n",
    "            vec = bdp_dic[letter]\n",
    "            # Binning them if necessary.\n",
    "            if(self.is_binned) : \n",
    "                vec = self._bin_tensor(vec)\n",
    "            topk_vecs.append(vec)\n",
    "        return tf.concat(topk_vecs, axis = -1)"
   ]
  },
  {
   "cell_type": "code",
   "execution_count": 361,
   "id": "15ce6d2f-63cf-480b-af5d-1c242ad2969d",
   "metadata": {},
   "outputs": [
    {
     "name": "stdout",
     "output_type": "stream",
     "text": [
      "WARNING:tensorflow:5 out of the last 9 calls to <function DTMFiltLayer.constructVfiltFromKNN at 0x7fcfd4251310> triggered tf.function retracing. Tracing is expensive and the excessive number of tracings could be due to (1) creating @tf.function repeatedly in a loop, (2) passing tensors with different shapes, (3) passing Python objects instead of tensors. For (1), please define your @tf.function outside of the loop. For (2), @tf.function has reduce_retracing=True option that can avoid unnecessary retracing. For (3), please refer to https://www.tensorflow.org/guide/function#controlling_retracing and https://www.tensorflow.org/api_docs/python/tf/function for  more details.\n"
     ]
    },
    {
     "name": "stderr",
     "output_type": "stream",
     "text": [
      "2023-10-08 17:52:20.916273: W tensorflow/core/grappler/optimizers/loop_optimizer.cc:907] Skipping loop optimization for Merge node with control input: StatefulPartitionedCall/RaggedGather_1/RowPartitionFromRowSplits/assert_equal_1/Assert/AssertGuard/branch_executed/_400\n",
      "2023-10-08 17:52:21.488845: W tensorflow/core/grappler/optimizers/loop_optimizer.cc:907] Skipping loop optimization for Merge node with control input: StatefulPartitionedCall/RaggedGather_1/RowPartitionFromUniformRowLength_4/assert_equal_1/Assert/AssertGuard/branch_executed/_431\n",
      "2023-10-08 17:52:29.465373: W tensorflow/core/grappler/optimizers/loop_optimizer.cc:907] Skipping loop optimization for Merge node with control input: StatefulPartitionedCall/RaggedGather_1/RowPartitionFromRowSplits/assert_non_negative/assert_less_equal/Assert/AssertGuard/branch_executed/_409\n",
      "2023-10-08 17:52:30.053167: W tensorflow/core/grappler/optimizers/loop_optimizer.cc:907] Skipping loop optimization for Merge node with control input: StatefulPartitionedCall/RowPartitionFromRowLengths/assert_non_negative/assert_less_equal/Assert/AssertGuard/branch_executed/_450\n"
     ]
    },
    {
     "name": "stdout",
     "output_type": "stream",
     "text": [
      "17.2 s ± 0 ns per loop (mean ± std. dev. of 1 run, 1 loop each)\n"
     ]
    }
   ],
   "source": [
    "topks_vec = [TOPK_TFL(bdp_type = \"bd\", is_binned = True, topk = 219, num_bins = 25), \\\n",
    "                  TOPK_TFL(bdp_type = \"bd\", is_binned = True, topk = 29, num_bins = 5)]\n",
    "def test_run(num_sims):\n",
    "    filtLayer = DTMFiltLayer(max_hom_dim = 2, complex_args = {'complex_type':\"alpha\"}, is_ragged = False, num_nn = 198, \\\n",
    "                             data_format = 'hom_dim_first')\n",
    "    theta_fid = tf.constant([1., 0.2])\n",
    "    A = tf.eye(2)\n",
    "    sims = []\n",
    "    derivs = []\n",
    "    for idx, item in enumerate(A):\n",
    "        with tf.autodiff.ForwardAccumulator(theta_fid , tf.constant(item)) as acc:\n",
    "            noisy_ring =  CircleSimulator(200, 20, 1.)\n",
    "            all_pts = noisy_ring.generateInstances(theta_fid, num_sims, seed = circle_pipeline.seed_ders[idx])\n",
    "            y = filtLayer(all_pts)\n",
    "            vecs = [[],[]]\n",
    "            for hom_dim in [0,1]:\n",
    "                for diags in y[hom_dim]:\n",
    "                    op = topks_vec[hom_dim](tf.expand_dims(diags, 0))\n",
    "                    vecs[hom_dim].append(tf.squeeze(op, 0))\n",
    "            vecs = tf.concat(vecs, -1)   \n",
    "            \n",
    "        sims.append(vecs)\n",
    "        derivs.append(acc.jvp(vecs))\n",
    "    # return tf.stack(sims), tf.stack(derivs)\n",
    "    return tf.stack(sims), tf.stack(derivs)\n",
    "\n",
    "num_sims = 100\n",
    "%timeit -n 1 -r 1 sims, derivs = test_run(num_sims)"
   ]
  },
  {
   "cell_type": "code",
   "execution_count": 18,
   "id": "47adc99a-5f50-411e-b801-e0d26c4f7756",
   "metadata": {},
   "outputs": [
    {
     "data": {
      "text/plain": [
       "(TensorShape([2, 1000, 60]), TensorShape([2, 1000, 60]))"
      ]
     },
     "execution_count": 18,
     "metadata": {},
     "output_type": "execute_result"
    }
   ],
   "source": [
    "sims.shape, derivs.shape\n"
   ]
  },
  {
   "cell_type": "code",
   "execution_count": 25,
   "id": "2a1fd1f0-06d4-437b-99fc-967e3b649a2b",
   "metadata": {},
   "outputs": [],
   "source": [
    "derivs_mean = tf.transpose(tf.math.reduce_mean(derivs, axis = 1))"
   ]
  },
  {
   "cell_type": "code",
   "execution_count": 22,
   "id": "ce4c61dd-e221-4dac-85fa-50a5fd4e8994",
   "metadata": {},
   "outputs": [],
   "source": [
    "import tensorflow_probability as tfp\n",
    "inv_cov = tf.linalg.inv(tfp.stats.covariance(sims[0]))"
   ]
  },
  {
   "cell_type": "code",
   "execution_count": 26,
   "id": "b0081dc3-37b0-4706-87f3-4138b8bc51b3",
   "metadata": {},
   "outputs": [],
   "source": [
    "moped = tf.einsum(\"ij, jk -> ik\", inv_cov, derivs_mean)"
   ]
  },
  {
   "cell_type": "code",
   "execution_count": 27,
   "id": "25b80415-7bde-40c1-8d85-82a4751f77cb",
   "metadata": {},
   "outputs": [
    {
     "data": {
      "text/plain": [
       "TensorShape([60, 2])"
      ]
     },
     "execution_count": 27,
     "metadata": {},
     "output_type": "execute_result"
    }
   ],
   "source": [
    "moped.shape"
   ]
  },
  {
   "cell_type": "code",
   "execution_count": 122,
   "id": "c11b7850-0784-4bce-b78b-9f267b5ae757",
   "metadata": {},
   "outputs": [],
   "source": [
    "import tensorflow_probability as tfp\n",
    "num_sims = int(2e4)\n",
    "tfd = tfp.distributions \n",
    "sims = []\n",
    "derivs = []\n",
    "A = tf.eye(2)\n",
    "sims = []\n",
    "derivs = []\n",
    "theta_fid = tf.constant([1., 0.2])\n",
    "for idx, item in enumerate(A):\n",
    "    with tf.autodiff.ForwardAccumulator(theta_fid , tf.constant(item)) as acc:\n",
    "        tf.random.set_seed(42)\n",
    "        noisy_ring =  CircleSimulator(200, 20, 1.)\n",
    "        rad = noisy_ring.dist(theta_fid).sample(sample_shape = (num_sims, noisy_ring.ntot))\n",
    "        # all_pts = noisy_ring.generateInstances(theta_fid, num_sims, seed = seed_ders[0])\n",
    "        # all_pts = rad\n",
    "    sims.append(rad)\n",
    "    derivs.append(acc.jvp(rad))\n",
    "    # return tf.stack(sims), tf.stack(derivs)\n",
    "derivs = tf.stack(derivs)\n",
    "sims = tf.stack(sims)"
   ]
  },
  {
   "cell_type": "code",
   "execution_count": 123,
   "id": "a7d7957c-69b0-4f6b-b2cc-2b3e1ba8c2ac",
   "metadata": {},
   "outputs": [],
   "source": [
    "derivs_r = tf.transpose(derivs, (1, 2, 0))"
   ]
  },
  {
   "cell_type": "code",
   "execution_count": 125,
   "id": "33565f8b-eacc-4e5d-b1b8-6ae916149fc3",
   "metadata": {},
   "outputs": [
    {
     "data": {
      "text/plain": [
       "<tf.Tensor: shape=(20000, 220), dtype=float32, numpy=\n",
       "array([[1., 1., 0., ..., 1., 1., 1.],\n",
       "       [1., 1., 1., ..., 1., 1., 1.],\n",
       "       [1., 1., 1., ..., 1., 1., 0.],\n",
       "       ...,\n",
       "       [1., 1., 1., ..., 0., 1., 1.],\n",
       "       [1., 1., 1., ..., 0., 0., 1.],\n",
       "       [1., 1., 1., ..., 1., 0., 1.]], dtype=float32)>"
      ]
     },
     "execution_count": 125,
     "metadata": {},
     "output_type": "execute_result"
    }
   ],
   "source": [
    "derivs_r[:, :, 0]"
   ]
  },
  {
   "cell_type": "code",
   "execution_count": 119,
   "id": "aa738be4-b79d-4897-9f14-540c48a4ea1e",
   "metadata": {},
   "outputs": [],
   "source": [
    "ind = np.random.randint(num_sims)\n",
    "sizes = [tf.where(tf.math.abs(derivs_r[ind]) < 1e-9).shape[0]//2 for ind in range(num_sims)]"
   ]
  },
  {
   "cell_type": "code",
   "execution_count": 28,
   "id": "ad841393-386c-4c53-9eae-bb9cf28ed07e",
   "metadata": {},
   "outputs": [],
   "source": [
    "def test_run(num_sims):\n",
    "    topks_vec = [TOPK_TFL(bdp_type = \"bd\", is_binned = True, topk = 219, num_bins = 25), \\\n",
    "                  TOPK_TFL(bdp_type = \"bd\", is_binned = True, topk = 29, num_bins = 5)]\n",
    "    seed_ders = [42, 43]\n",
    "    filtLayer = DTMFiltLayer(max_hom_dim = 2, complex_args = {'complex_type':\"alpha\"}, is_ragged = False, num_nn = 198, \\\n",
    "                             data_format = 'hom_dim_first')\n",
    "    theta_fid = tf.constant([1., 0.2])\n",
    "    A = tf.eye(2)\n",
    "    sims = []\n",
    "    derivs = []\n",
    "    for idx, item in enumerate(A):\n",
    "        with tf.autodiff.ForwardAccumulator(theta_fid , tf.constant(item)) as acc:\n",
    "            noisy_ring =  CircleSimulator(200, 20, 1.)\n",
    "            all_pts = noisy_ring.generateInstances(theta_fid, num_sims, seed = seed_ders[idx])\n",
    "            y = filtLayer(all_pts)\n",
    "            vecs = [[],[]]\n",
    "            for hom_dim in [0,1]:\n",
    "                for diags in y[hom_dim]:\n",
    "                    op = topks_vec[hom_dim](tf.expand_dims(diags, 0))\n",
    "                    vecs[hom_dim].append(tf.squeeze(op, 0))\n",
    "            vecs = tf.concat(vecs, -1)   \n",
    "            vecs_moped = tf.einsum(\"ij,jk->ik\", vecs, moped)\n",
    "        sims.append(vecs_moped)\n",
    "        derivs.append(acc.jvp(vecs_moped))\n",
    "    # return tf.stack(sims), tf.stack(derivs)\n",
    "    return tf.stack(sims), tf.stack(derivs)\n",
    "\n",
    "num_sims = 1000\n",
    "sims, derivs = test_run(num_sims)"
   ]
  },
  {
   "cell_type": "code",
   "execution_count": 29,
   "id": "e2b3dccf-2ee5-4422-a10c-b2a2a720b495",
   "metadata": {},
   "outputs": [],
   "source": [
    "fisher_moped = topofisher.fisher.Fisher.baseFisher(sims[0], derivs)"
   ]
  },
  {
   "cell_type": "code",
   "execution_count": 30,
   "id": "a8356a8a-3d84-4028-b893-da0e2020f9f0",
   "metadata": {},
   "outputs": [
    {
     "name": "stdout",
     "output_type": "stream",
     "text": [
      "FM =  [3458.39  103.44  103.44 5517.61]\n",
      "Fractional bias =  [0.05 0.15]\n"
     ]
    }
   ],
   "source": [
    "show_fm_and_bias(fisher_moped)"
   ]
  }
 ],
 "metadata": {
  "kernelspec": {
   "display_name": "newEnvbkup",
   "language": "python",
   "name": "newenvbkup"
  },
  "language_info": {
   "codemirror_mode": {
    "name": "ipython",
    "version": 3
   },
   "file_extension": ".py",
   "mimetype": "text/x-python",
   "name": "python",
   "nbconvert_exporter": "python",
   "pygments_lexer": "ipython3",
   "version": "3.8.0"
  }
 },
 "nbformat": 4,
 "nbformat_minor": 5
}
